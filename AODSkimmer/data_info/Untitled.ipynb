{
 "cells": [
  {
   "cell_type": "code",
   "execution_count": 1,
   "id": "bdaefbe5-6d8c-48c7-af23-64c36dccde00",
   "metadata": {},
   "outputs": [],
   "source": [
    "import numpy as np\n",
    "import pandas as pd\n",
    "import os"
   ]
  },
  {
   "cell_type": "code",
   "execution_count": 2,
   "id": "3bd83df7-1923-4187-bdef-f60087646a30",
   "metadata": {},
   "outputs": [],
   "source": [
    "with open(\"datasets_UL16APV.txt\",\"r\") as f:\n",
    "    ul16apv = f.read().splitlines()\n",
    "with open(\"datasets_UL16.txt\",\"r\") as f:\n",
    "    ul16 = f.read().splitlines()\n",
    "with open(\"datasets_UL17.txt\",\"r\") as f:\n",
    "    ul17 = f.read().splitlines()\n",
    "with open(\"datasets_UL18.txt\",\"r\") as f:\n",
    "    ul18 = f.read().splitlines()\n",
    "lumi16 = pd.read_csv(\"Lumi_UL16.csv\",comment=\"#\")\n",
    "lumi16[['run','fill']] = lumi16['run:fill'].str.split(\":\",expand=True)\n",
    "lumi16 = lumi16.drop('run:fill',axis=1)\n",
    "\n",
    "lumi17 = pd.read_csv(\"Lumi_UL17.csv\",comment=\"#\")\n",
    "lumi17[['run','fill']] = lumi17['run:fill'].str.split(\":\",expand=True)\n",
    "lumi17 = lumi17.drop('run:fill',axis=1)\n",
    "\n",
    "lumi18 = pd.read_csv(\"Lumi_UL18.csv\",comment=\"#\")\n",
    "lumi18[['run','fill']] = lumi18['run:fill'].str.split(\":\",expand=True)\n",
    "lumi18 = lumi18.drop('run:fill',axis=1)"
   ]
  },
  {
   "cell_type": "code",
   "execution_count": 3,
   "id": "5cc64896-d60f-47e7-be04-453f7f5b70ae",
   "metadata": {},
   "outputs": [],
   "source": [
    "def get_lumis(datasets,lumi_df):\n",
    "    runs_dict = {}\n",
    "    lumis_dict = {}\n",
    "    for d in datasets:\n",
    "        runs = os.popen(f\"dasgoclient --query=\\\"run dataset={d}\\\"\").read().splitlines()\n",
    "        #runs = [int(r) for r in runs]\n",
    "        dsetname = d.split(\"/\")[2]\n",
    "        runs_dict[dsetname] = runs\n",
    "        lumis_dict[d] = lumi_df[lumi_df.run.isin(runs)]['recorded(/fb)'].sum()\n",
    "    return runs_dict, lumis_dict"
   ]
  },
  {
   "cell_type": "code",
   "execution_count": 4,
   "id": "619b0c15-46bf-4ee7-aee0-95cd321556b8",
   "metadata": {},
   "outputs": [],
   "source": [
    "ul16apv_runs, ul16apv_lumi = get_lumis(ul16apv,lumi16)\n",
    "ul16_runs, ul16_lumi = get_lumis(ul16,lumi16)\n",
    "ul17_runs, ul17_lumi = get_lumis(ul17,lumi17)\n",
    "ul18_runs, ul18_lumi = get_lumis(ul18,lumi18)"
   ]
  },
  {
   "cell_type": "code",
   "execution_count": 11,
   "id": "1dd7292a-d53b-4f54-9a73-723bd9ab3660",
   "metadata": {},
   "outputs": [
    {
     "data": {
      "text/plain": [
       "19.501601620000002"
      ]
     },
     "execution_count": 11,
     "metadata": {},
     "output_type": "execute_result"
    }
   ],
   "source": [
    "sum(ul16apv_lumi.values())"
   ]
  },
  {
   "cell_type": "code",
   "execution_count": 12,
   "id": "f1bf36ca-de61-43a8-a2c3-47d0c7f4152a",
   "metadata": {},
   "outputs": [
    {
     "data": {
      "text/plain": [
       "16.812151721"
      ]
     },
     "execution_count": 12,
     "metadata": {},
     "output_type": "execute_result"
    }
   ],
   "source": [
    "sum(ul16_lumi.values())"
   ]
  },
  {
   "cell_type": "code",
   "execution_count": 5,
   "id": "2f7cfe11-d463-43a0-89c9-2dac85f61c0a",
   "metadata": {},
   "outputs": [
    {
     "data": {
      "text/plain": [
       "36.313753341"
      ]
     },
     "execution_count": 5,
     "metadata": {},
     "output_type": "execute_result"
    }
   ],
   "source": [
    "sum(ul16apv_lumi.values()) + sum(ul16_lumi.values())"
   ]
  },
  {
   "cell_type": "code",
   "execution_count": 6,
   "id": "0d58bd31-0586-4f24-8b02-a9030b33e115",
   "metadata": {},
   "outputs": [
    {
     "data": {
      "text/plain": [
       "41.479680519999995"
      ]
     },
     "execution_count": 6,
     "metadata": {},
     "output_type": "execute_result"
    }
   ],
   "source": [
    "sum(ul17_lumi.values())"
   ]
  },
  {
   "cell_type": "code",
   "execution_count": 7,
   "id": "32506ec7-85fd-48d9-a797-b552209de1f2",
   "metadata": {},
   "outputs": [
    {
     "data": {
      "text/plain": [
       "59.832045324000006"
      ]
     },
     "execution_count": 7,
     "metadata": {},
     "output_type": "execute_result"
    }
   ],
   "source": [
    "sum(ul18_lumi.values())"
   ]
  },
  {
   "cell_type": "code",
   "execution_count": 10,
   "id": "f2fd4679-1508-41de-bfc2-48e53a904e20",
   "metadata": {},
   "outputs": [
    {
     "data": {
      "text/plain": [
       "137.62547918500002"
      ]
     },
     "execution_count": 10,
     "metadata": {},
     "output_type": "execute_result"
    }
   ],
   "source": [
    "sum(ul16apv_lumi.values()) + sum(ul16_lumi.values()) + sum(ul17_lumi.values()) + sum(ul18_lumi.values())"
   ]
  },
  {
   "cell_type": "code",
   "execution_count": 8,
   "id": "e70a5477-576f-4076-8e38-893584cee0dd",
   "metadata": {},
   "outputs": [
    {
     "name": "stdout",
     "output_type": "stream",
     "text": [
      "{\n",
      "    \"/MET/Run2016B-21Feb2020_ver1_UL2016_HIPM-v1/AOD\": 0.0,\n",
      "    \"/MET/Run2016B-21Feb2020_ver2_UL2016_HIPM-v1/AOD\": 5.8294277260000005,\n",
      "    \"/MET/Run2016C-21Feb2020_UL2016_HIPM-v1/AOD\": 2.6016780910000006,\n",
      "    \"/MET/Run2016D-21Feb2020_UL2016_HIPM-v1/AOD\": 4.286031797,\n",
      "    \"/MET/Run2016E-21Feb2020_UL2016_HIPM-v1/AOD\": 4.06597475,\n",
      "    \"/MET/Run2016F-21Feb2020_UL2016_HIPM-v1/AOD\": 2.7184892560000002\n",
      "}\n",
      "{\n",
      "    \"/MET/Run2016F-21Feb2020_UL2016-v1/AOD\": 0.418771191,\n",
      "    \"/MET/Run2016G-21Feb2020_UL2016-v1/AOD\": 7.653261226,\n",
      "    \"/MET/Run2016H-21Feb2020_UL2016-v2/AOD\": 8.740119304\n",
      "}\n",
      "{\n",
      "    \"/MET/Run2017B-09Aug2019_UL2017_rsb-v1/AOD\": 4.803371584,\n",
      "    \"/MET/Run2017C-09Aug2019_UL2017_rsb-v1/AOD\": 9.574029834,\n",
      "    \"/MET/Run2017D-09Aug2019_UL2017_rsb-v1/AOD\": 4.247792712999999,\n",
      "    \"/MET/Run2017E-09Aug2019_UL2017_rsb-v1/AOD\": 9.314581017999998,\n",
      "    \"/MET/Run2017F-09Aug2019_UL2017_rsb-v1/AOD\": 13.539905370999998\n",
      "}\n",
      "{\n",
      "    \"/MET/Run2018A-15Feb2022_UL2018-v1/AOD\": 14.027184262,\n",
      "    \"/MET/Run2018B-15Feb2022_UL2018-v1/AOD\": 7.066552173,\n",
      "    \"/MET/Run2018C-15Feb2022_UL2018-v1/AOD\": 6.898816879000001,\n",
      "    \"/MET/Run2018D-15Feb2022_UL2018-v1/AOD\": 31.83949201\n",
      "}\n"
     ]
    }
   ],
   "source": [
    "import json\n",
    "print(json.dumps(ul16apv_lumi,indent=4))\n",
    "print(json.dumps(ul16_lumi,indent=4))\n",
    "print(json.dumps(ul17_lumi,indent=4))\n",
    "print(json.dumps(ul18_lumi,indent=4))"
   ]
  },
  {
   "cell_type": "code",
   "execution_count": null,
   "id": "ed1db759-c5d5-4001-b533-feb8943677c9",
   "metadata": {},
   "outputs": [],
   "source": []
  }
 ],
 "metadata": {
  "kernelspec": {
   "display_name": "Python [conda env:coffea2]",
   "language": "python",
   "name": "conda-env-coffea2-py"
  },
  "language_info": {
   "codemirror_mode": {
    "name": "ipython",
    "version": 3
   },
   "file_extension": ".py",
   "mimetype": "text/x-python",
   "name": "python",
   "nbconvert_exporter": "python",
   "pygments_lexer": "ipython3",
   "version": "3.8.17"
  }
 },
 "nbformat": 4,
 "nbformat_minor": 5
}

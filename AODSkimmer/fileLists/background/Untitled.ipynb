{
 "cells": [
  {
   "cell_type": "code",
   "execution_count": 1,
   "id": "c67a31b2-4d3e-4d8a-8f61-7c43890239db",
   "metadata": {},
   "outputs": [],
   "source": [
    "import json\n",
    "import os\n",
    "from tqdm import tqdm"
   ]
  },
  {
   "cell_type": "code",
   "execution_count": 2,
   "id": "75f65304-7301-48db-bbe7-46b6cbf50379",
   "metadata": {},
   "outputs": [],
   "source": [
    "with open(\"bkg_2018.json\",\"r\") as fin:\n",
    "    bkg18 = json.load(fin)\n",
    "    \n",
    "with open(\"bkg_2017.json\",\"r\") as fin:\n",
    "    bkg17 = json.load(fin)\n",
    "    \n",
    "with open(\"bkg_2016.json\",\"r\") as fin:\n",
    "    bkg16 = json.load(fin)\n",
    "    \n",
    "with open(\"bkg_2016APV.json\",\"r\") as fin:\n",
    "    bkg16APV = json.load(fin)"
   ]
  },
  {
   "cell_type": "code",
   "execution_count": 3,
   "id": "8ad46de1-0d4b-40a5-83b3-663ec148aa1c",
   "metadata": {},
   "outputs": [
    {
     "name": "stderr",
     "output_type": "stream",
     "text": [
      "100%|█████████████████████████████████████████████████████████████████████████████████████████████████████████████████████████████████████████████████████████████████████████| 6/6 [01:23<00:00, 13.96s/it]\n"
     ]
    }
   ],
   "source": [
    "xrd_global = \"root://cms-xrd-global.cern.ch//\"\n",
    "for b in tqdm(bkg18.keys()):\n",
    "    for subsamp in bkg18[b].keys():\n",
    "        fileName = f\"fileLists/2018/{b}_{subsamp}.txt\"\n",
    "        dataset = bkg18[b][subsamp]\n",
    "        files = json.loads(os.popen(f\"dasgoclient --query=\\\"file dataset={dataset}\\\" -json\").read())\n",
    "        out_str = \"\"\n",
    "        for file in files:\n",
    "            f = file['file']\n",
    "            if len(f) > 1:\n",
    "                print(f\"something is fucked at {b} {subsamp}\")\n",
    "            f = f[0]\n",
    "            if f['is_file_valid']:\n",
    "                out_str += f\"{xrd_global}{f['name']} {f['nevents']}\\n\"\n",
    "        with open(fileName,'w') as fout:\n",
    "            fout.write(out_str)"
   ]
  },
  {
   "cell_type": "code",
   "execution_count": 3,
   "id": "c90f2e11-ae0d-402f-8768-f40a1be89548",
   "metadata": {},
   "outputs": [
    {
     "name": "stderr",
     "output_type": "stream",
     "text": [
      "100%|█████████████████████████████████████████████████████████████████████████████████████████████████████████████████████████████████████████████████████████████████████████| 6/6 [01:17<00:00, 12.89s/it]\n"
     ]
    }
   ],
   "source": [
    "xrd_global = \"root://cms-xrd-global.cern.ch//\"\n",
    "for b in tqdm(bkg17.keys()):\n",
    "    for subsamp in bkg17[b].keys():\n",
    "        fileName = f\"fileLists/2017/{b}_{subsamp}.txt\"\n",
    "        dataset = bkg17[b][subsamp]\n",
    "        files = json.loads(os.popen(f\"dasgoclient --query=\\\"file dataset={dataset}\\\" -json\").read())\n",
    "        out_str = \"\"\n",
    "        for file in files:\n",
    "            f = file['file']\n",
    "            if len(f) > 1:\n",
    "                print(f\"something is fucked at {b} {subsamp}\")\n",
    "            f = f[0]\n",
    "            if f['is_file_valid']:\n",
    "                out_str += f\"{xrd_global}{f['name']} {f['nevents']}\\n\"\n",
    "        with open(fileName,'w') as fout:\n",
    "            fout.write(out_str)"
   ]
  },
  {
   "cell_type": "code",
   "execution_count": 4,
   "id": "5c413a54-0247-4edc-b5ad-11df6ce2f173",
   "metadata": {},
   "outputs": [
    {
     "name": "stderr",
     "output_type": "stream",
     "text": [
      "100%|█████████████████████████████████████████████████████████████████████████████████████████████████████████████████████████████████████████████████████████████████████████| 6/6 [01:19<00:00, 13.22s/it]\n"
     ]
    }
   ],
   "source": [
    "xrd_global = \"root://cms-xrd-global.cern.ch//\"\n",
    "for b in tqdm(bkg16.keys()):\n",
    "    for subsamp in bkg16[b].keys():\n",
    "        fileName = f\"fileLists/2016/{b}_{subsamp}.txt\"\n",
    "        dataset = bkg16[b][subsamp]\n",
    "        files = json.loads(os.popen(f\"dasgoclient --query=\\\"file dataset={dataset}\\\" -json\").read())\n",
    "        out_str = \"\"\n",
    "        for file in files:\n",
    "            f = file['file']\n",
    "            if len(f) > 1:\n",
    "                print(f\"something is fucked at {b} {subsamp}\")\n",
    "            f = f[0]\n",
    "            if f['is_file_valid']:\n",
    "                out_str += f\"{xrd_global}{f['name']} {f['nevents']}\\n\"\n",
    "        with open(fileName,'w') as fout:\n",
    "            fout.write(out_str)"
   ]
  },
  {
   "cell_type": "code",
   "execution_count": 5,
   "id": "2d7e481b-f754-44a4-84c4-a6e54a0d6078",
   "metadata": {},
   "outputs": [
    {
     "name": "stderr",
     "output_type": "stream",
     "text": [
      "100%|█████████████████████████████████████████████████████████████████████████████████████████████████████████████████████████████████████████████████████████████████████████| 6/6 [01:16<00:00, 12.80s/it]\n"
     ]
    }
   ],
   "source": [
    "xrd_global = \"root://cms-xrd-global.cern.ch//\"\n",
    "for b in tqdm(bkg16APV.keys()):\n",
    "    for subsamp in bkg16APV[b].keys():\n",
    "        fileName = f\"fileLists/2016APV/{b}_{subsamp}.txt\"\n",
    "        dataset = bkg16APV[b][subsamp]\n",
    "        files = json.loads(os.popen(f\"dasgoclient --query=\\\"file dataset={dataset}\\\" -json\").read())\n",
    "        out_str = \"\"\n",
    "        for file in files:\n",
    "            f = file['file']\n",
    "            if len(f) > 1:\n",
    "                print(f\"something is fucked at {b} {subsamp}\")\n",
    "            f = f[0]\n",
    "            if f['is_file_valid']:\n",
    "                out_str += f\"{xrd_global}{f['name']} {f['nevents']}\\n\"\n",
    "        with open(fileName,'w') as fout:\n",
    "            fout.write(out_str)"
   ]
  },
  {
   "cell_type": "code",
   "execution_count": null,
   "id": "ee6cbe59-45b9-401c-be91-b7c4da90e5d8",
   "metadata": {},
   "outputs": [],
   "source": []
  }
 ],
 "metadata": {
  "kernelspec": {
   "display_name": "Python 3 (ipykernel)",
   "language": "python",
   "name": "python3"
  },
  "language_info": {
   "codemirror_mode": {
    "name": "ipython",
    "version": 3
   },
   "file_extension": ".py",
   "mimetype": "text/x-python",
   "name": "python",
   "nbconvert_exporter": "python",
   "pygments_lexer": "ipython3",
   "version": "3.9.10"
  }
 },
 "nbformat": 4,
 "nbformat_minor": 5
}

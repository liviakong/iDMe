{
 "cells": [
  {
   "cell_type": "code",
   "execution_count": 1,
   "id": "41e3774b-8f3f-4ed4-9892-c507102de3aa",
   "metadata": {},
   "outputs": [],
   "source": [
    "import json"
   ]
  },
  {
   "cell_type": "code",
   "execution_count": 10,
   "id": "dd2753c3-f273-4d96-b458-af634c277dbb",
   "metadata": {},
   "outputs": [],
   "source": [
    "with open(\"../../background/MINIAOD/bkg_2017.json\",\"r\") as f:\n",
    "    a = json.load(f)\n",
    "for k in a.keys():\n",
    "    with open(f\"{k}_UL17.txt\",\"r\") as f:\n",
    "        dsets = f.read().splitlines()\n",
    "    names = [d.split(\"/\")[1] for d in dsets]\n",
    "    for subk in a[k].keys():\n",
    "        name = a[k][subk].split(\"/\")[1]\n",
    "        dsetname = dsets[names.index(name)]\n",
    "        a[k][subk] = dsetname\n",
    "with open(\"bkg_2017.json\",\"w\") as fout:\n",
    "    json.dump(a,fout,indent=4)"
   ]
  },
  {
   "cell_type": "code",
   "execution_count": 11,
   "id": "2fe4f330-79e5-4b29-bd49-e7d8229c6814",
   "metadata": {},
   "outputs": [],
   "source": [
    "with open(\"../../background/MINIAOD/bkg_2016.json\",\"r\") as f:\n",
    "    a = json.load(f)\n",
    "for k in a.keys():\n",
    "    with open(f\"{k}_UL16.txt\",\"r\") as f:\n",
    "        dsets = f.read().splitlines()\n",
    "    names = [d.split(\"/\")[1] for d in dsets]\n",
    "    for subk in a[k].keys():\n",
    "        name = a[k][subk].split(\"/\")[1]\n",
    "        dsetname = dsets[names.index(name)]\n",
    "        a[k][subk] = dsetname\n",
    "with open(\"bkg_2016.json\",\"w\") as fout:\n",
    "    json.dump(a,fout,indent=4)"
   ]
  },
  {
   "cell_type": "code",
   "execution_count": 12,
   "id": "f5f244a8-61d7-4db6-b78c-100aeec4c544",
   "metadata": {},
   "outputs": [],
   "source": [
    "with open(\"../../background/MINIAOD/bkg_2016APV.json\",\"r\") as f:\n",
    "    a = json.load(f)\n",
    "for k in a.keys():\n",
    "    with open(f\"{k}_UL16APV.txt\",\"r\") as f:\n",
    "        dsets = f.read().splitlines()\n",
    "    names = [d.split(\"/\")[1] for d in dsets]\n",
    "    for subk in a[k].keys():\n",
    "        name = a[k][subk].split(\"/\")[1]\n",
    "        dsetname = dsets[names.index(name)]\n",
    "        a[k][subk] = dsetname\n",
    "with open(\"bkg_2016APV.json\",\"w\") as fout:\n",
    "    json.dump(a,fout,indent=4)"
   ]
  },
  {
   "cell_type": "code",
   "execution_count": null,
   "id": "755bfacf-1a11-4021-960f-7e913de50ae8",
   "metadata": {},
   "outputs": [],
   "source": []
  }
 ],
 "metadata": {
  "kernelspec": {
   "display_name": "Python 3 (ipykernel)",
   "language": "python",
   "name": "python3"
  },
  "language_info": {
   "codemirror_mode": {
    "name": "ipython",
    "version": 3
   },
   "file_extension": ".py",
   "mimetype": "text/x-python",
   "name": "python",
   "nbconvert_exporter": "python",
   "pygments_lexer": "ipython3",
   "version": "3.9.19"
  }
 },
 "nbformat": 4,
 "nbformat_minor": 5
}

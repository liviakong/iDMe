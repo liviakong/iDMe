{
 "cells": [
  {
   "cell_type": "code",
   "execution_count": 1,
   "id": "6216c9e8-eb66-4c3b-bfb9-18a34e36af28",
   "metadata": {},
   "outputs": [],
   "source": [
    "import json\n",
    "import pandas as pd"
   ]
  },
  {
   "cell_type": "code",
   "execution_count": 2,
   "id": "60249401-41d5-48b0-84fb-0722f45212e6",
   "metadata": {},
   "outputs": [],
   "source": [
    "with open('datasets_all.txt','r') as f:\n",
    "    datasets = list(set([l.split(\"/\")[1] for l in f.read().splitlines()]))"
   ]
  },
  {
   "cell_type": "code",
   "execution_count": 3,
   "id": "503d216d-8dc2-44a6-8c67-3e492ea8702b",
   "metadata": {},
   "outputs": [],
   "source": [
    "output = \"\"\n",
    "for d in datasets:\n",
    "    output += f\"\\\"{d}\\\"\"\n",
    "    if d != datasets[-1]:\n",
    "        output+=\",\\n\"\n",
    "with open(\"datasets_unique.txt\",'w') as f:\n",
    "    f.write(output)"
   ]
  },
  {
   "cell_type": "markdown",
   "id": "4c468e92-a2c2-457d-847a-acc3b754ffe3",
   "metadata": {},
   "source": [
    "## read xsdb json"
   ]
  },
  {
   "cell_type": "code",
   "execution_count": 4,
   "id": "3e2d202e-6216-49a8-b0c1-3229ddb8b9c4",
   "metadata": {},
   "outputs": [],
   "source": [
    "df = pd.read_json(\"xsdb_dump.json\")"
   ]
  },
  {
   "cell_type": "code",
   "execution_count": 5,
   "id": "7be6a2c3-ac30-45aa-b83c-c2221c314127",
   "metadata": {},
   "outputs": [
    {
     "data": {
      "text/plain": [
       "Index(['id', 'process_name', 'status', 'cross_section', 'total_uncertainty',\n",
       "       'accuracy', 'DAS', 'MCM', 'equivalent_lumi', 'fraction_negative_weight',\n",
       "       'shower', 'energy', 'comments', 'modifiedOn', 'createdOn', 'modifiedBy',\n",
       "       'createdBy', 'isValid', 'other_uncertainty', 'contact', 'reweighting',\n",
       "       'cuts', 'kFactor', 'matrix_generator', 'refs', 'discussion',\n",
       "       'approvedBy'],\n",
       "      dtype='object')"
      ]
     },
     "execution_count": 5,
     "metadata": {},
     "output_type": "execute_result"
    }
   ],
   "source": [
    "df.columns"
   ]
  },
  {
   "cell_type": "code",
   "execution_count": 6,
   "id": "5aa54b0a-d7a0-401b-a010-e91a29f7daad",
   "metadata": {},
   "outputs": [],
   "source": [
    "dataset_opts = {}\n",
    "for d in datasets:\n",
    "    dataset_opts[d] = [s for s in df[df.process_name == d].MCM.str.split(\"-\").str[1].to_list() if 'UL' in s]\n",
    "    if len(dataset_opts[d]) == 0:\n",
    "        print(\"bad:\",d)"
   ]
  },
  {
   "cell_type": "code",
   "execution_count": 7,
   "id": "afd4f69f-9464-4aa4-b811-a76a2361663c",
   "metadata": {},
   "outputs": [
    {
     "data": {
      "text/plain": [
       "['RunIISummer20UL17MiniAODv2', 'RunIISummer20UL16MiniAOD']"
      ]
     },
     "execution_count": 7,
     "metadata": {},
     "output_type": "execute_result"
    }
   ],
   "source": [
    "all_opts = []\n",
    "for key,val in dataset_opts.items():\n",
    "    all_opts.extend(val)\n",
    "list(set(all_opts))"
   ]
  },
  {
   "cell_type": "code",
   "execution_count": 8,
   "id": "2f30bb60-15f9-4494-ba4f-48c6acc4b6b2",
   "metadata": {},
   "outputs": [],
   "source": [
    "final_xsdb = {}\n",
    "for d,avail in dataset_opts.items():\n",
    "    xs_dict = {}\n",
    "    campaign = 'RunIISummer20UL17MiniAODv2' if 'RunIISummer20UL17MiniAODv2' in avail else 'RunIISummer20UL16MiniAOD'\n",
    "    dfsub = df[(df.process_name==d)&(df.MCM.str.split(\"-\").str[1] == campaign)]\n",
    "    if len(dfsub) > 1:\n",
    "        print(\"bad:\",d)\n",
    "    xs_dict['xs'] = dfsub['cross_section'].to_list()[0]\n",
    "    xs_dict['uncert'] = dfsub['total_uncertainty'].to_list()[0]\n",
    "    final_xsdb[d] = xs_dict"
   ]
  },
  {
   "cell_type": "code",
   "execution_count": 9,
   "id": "39026f9b-f3d2-4280-8ccd-2d886fe94af1",
   "metadata": {},
   "outputs": [],
   "source": [
    "with open('bkg_mc_xsecDB.json','w') as fout:\n",
    "    json.dump(final_xsdb,fout,indent=4)"
   ]
  },
  {
   "cell_type": "markdown",
   "id": "89278f27-66cd-4faf-882d-cd994dba9044",
   "metadata": {},
   "source": [
    "## make table for latex"
   ]
  },
  {
   "cell_type": "code",
   "execution_count": 28,
   "id": "5de9cff2-2f30-44dc-b632-5e8e54266eae",
   "metadata": {},
   "outputs": [],
   "source": [
    "import os\n",
    "def get_table(era):\n",
    "    pref=\"/uscms/home/sbrightt/nobackup/iDM/iDMe_analysis/CMSSW_10_6_26/src/iDMe/AODSkimmer/fileLists/getFileLists_DAS/\"\n",
    "    out = \"\"\n",
    "    files = sorted([f for f in os.listdir(\"..\") if f\"{era}.txt\" in f])\n",
    "    for f in files:\n",
    "        #out+=f+\"\\n\"\n",
    "        out+=\"----------------------------------------------------\\n\"\n",
    "        with open(f\"../{f}\",'r') as fin:\n",
    "            dsets = sorted([k.split(\"/\")[1] for k in fin.read().splitlines()])\n",
    "        for d in dsets:\n",
    "            a = d.replace(\"_\",\"\\\\_\")\n",
    "            out+= f\"& {a} & {final_xsdb[d]['xs']} \\\\\\\\\"+\"\\n\"\n",
    "    return out"
   ]
  },
  {
   "cell_type": "code",
   "execution_count": 34,
   "id": "63118e89-54b9-467a-8572-5ea5ac2b002a",
   "metadata": {},
   "outputs": [],
   "source": [
    "table16 = get_table(\"UL16\")\n",
    "table16APV = get_table(\"UL16APV\")\n",
    "table17 = get_table(\"UL17\")"
   ]
  },
  {
   "cell_type": "code",
   "execution_count": 35,
   "id": "29e07954-5dde-40a7-beea-c0cafd85f6d6",
   "metadata": {},
   "outputs": [
    {
     "name": "stdout",
     "output_type": "stream",
     "text": [
      "----------------------------------------------------\n",
      "& DYJetsToLL\\_M-50\\_TuneCP5\\_13TeV-madgraphMLM-pythia8 & 5379.0 \\\\\n",
      "----------------------------------------------------\n",
      "& WWW\\_4F\\_TuneCP5\\_13TeV-amcatnlo-pythia8 & 0.2158 \\\\\n",
      "& WWZ\\_4F\\_TuneCP5\\_13TeV-amcatnlo-pythia8 & 0.1707 \\\\\n",
      "& WW\\_TuneCP5\\_13TeV-pythia8 & 76.25 \\\\\n",
      "& WZZ\\_TuneCP5\\_13TeV-amcatnlo-pythia8 & 0.05709 \\\\\n",
      "& WZ\\_TuneCP5\\_13TeV-pythia8 & 27.55 \\\\\n",
      "& ZZZ\\_TuneCP5\\_13TeV-amcatnlo-pythia8 & 0.01476 \\\\\n",
      "& ZZ\\_TuneCP5\\_13TeV-pythia8 & 12.23 \\\\\n",
      "----------------------------------------------------\n",
      "& QCD\\_HT1000to1500\\_TuneCP5\\_13TeV-madgraphMLM-pythia8 & 1122.0 \\\\\n",
      "& QCD\\_HT100to200\\_TuneCP5\\_13TeV-madgraphMLM-pythia8 & 23500000.0 \\\\\n",
      "& QCD\\_HT1500to2000\\_TuneCP5\\_13TeV-madgraphMLM-pythia8 & 109.4 \\\\\n",
      "& QCD\\_HT2000toInf\\_TuneCP5\\_13TeV-madgraphMLM-pythia8 & 21.74 \\\\\n",
      "& QCD\\_HT200to300\\_TuneCP5\\_13TeV-madgraphMLM-pythia8 & 1552000.0 \\\\\n",
      "& QCD\\_HT300to500\\_TuneCP5\\_13TeV-madgraphMLM-pythia8 & 321100.0 \\\\\n",
      "& QCD\\_HT500to700\\_TuneCP5\\_13TeV-madgraphMLM-pythia8 & 30250.0 \\\\\n",
      "& QCD\\_HT50to100\\_TuneCP5\\_13TeV-madgraphMLM-pythia8 & 187700000.0 \\\\\n",
      "& QCD\\_HT700to1000\\_TuneCP5\\_13TeV-madgraphMLM-pythia8 & 6398.0 \\\\\n",
      "----------------------------------------------------\n",
      "& ST\\_s-channel\\_4f\\_leptonDecays\\_TuneCP5\\_13TeV-amcatnlo-pythia8 & 3.549 \\\\\n",
      "& ST\\_t-channel\\_antitop\\_5f\\_InclusiveDecays\\_TuneCP5\\_13TeV-powheg-pythia8 & 71.75 \\\\\n",
      "& ST\\_t-channel\\_top\\_5f\\_InclusiveDecays\\_TuneCP5\\_13TeV-powheg-pythia8 & 119.7 \\\\\n",
      "& ST\\_tW\\_antitop\\_5f\\_inclusiveDecays\\_TuneCP5\\_13TeV-powheg-pythia8 & 32.51 \\\\\n",
      "& ST\\_tW\\_top\\_5f\\_inclusiveDecays\\_TuneCP5\\_13TeV-powheg-pythia8 & 32.45 \\\\\n",
      "& TTJets\\_TuneCP5\\_13TeV-madgraphMLM-pythia8 & 471.7 \\\\\n",
      "----------------------------------------------------\n",
      "& WJetsToLNu\\_HT-100To200\\_TuneCP5\\_13TeV-madgraphMLM-pythia8 & 1244.0 \\\\\n",
      "& WJetsToLNu\\_HT-1200To2500\\_TuneCP5\\_13TeV-madgraphMLM-pythia8 & 1.152 \\\\\n",
      "& WJetsToLNu\\_HT-200To400\\_TuneCP5\\_13TeV-madgraphMLM-pythia8 & 337.8 \\\\\n",
      "& WJetsToLNu\\_HT-2500ToInf\\_TuneCP5\\_13TeV-madgraphMLM-pythia8 & 0.02646 \\\\\n",
      "& WJetsToLNu\\_HT-400To600\\_TuneCP5\\_13TeV-madgraphMLM-pythia8 & 44.93 \\\\\n",
      "& WJetsToLNu\\_HT-600To800\\_TuneCP5\\_13TeV-madgraphMLM-pythia8 & 11.19 \\\\\n",
      "& WJetsToLNu\\_HT-70To100\\_TuneCP5\\_13TeV-madgraphMLM-pythia8 & 1283.0 \\\\\n",
      "& WJetsToLNu\\_HT-800To1200\\_TuneCP5\\_13TeV-madgraphMLM-pythia8 & 4.926 \\\\\n",
      "----------------------------------------------------\n",
      "& ZJetsToNuNu\\_HT-100To200\\_TuneCP5\\_13TeV-madgraphMLM-pythia8 & 271.3 \\\\\n",
      "& ZJetsToNuNu\\_HT-1200To2500\\_TuneCP5\\_13TeV-madgraphMLM-pythia8 & 0.2474 \\\\\n",
      "& ZJetsToNuNu\\_HT-200To400\\_TuneCP5\\_13TeV-madgraphMLM-pythia8 & 72.69 \\\\\n",
      "& ZJetsToNuNu\\_HT-2500ToInf\\_TuneCP5\\_13TeV-madgraphMLM-pythia8 & 0.005609 \\\\\n",
      "& ZJetsToNuNu\\_HT-400To600\\_TuneCP5\\_13TeV-madgraphMLM-pythia8 & 9.961 \\\\\n",
      "& ZJetsToNuNu\\_HT-600To800\\_TuneCP5\\_13TeV-madgraphMLM-pythia8 & 2.425 \\\\\n",
      "& ZJetsToNuNu\\_HT-800To1200\\_TuneCP5\\_13TeV-madgraphMLM-pythia8 & 1.076 \\\\\n",
      "\n"
     ]
    }
   ],
   "source": [
    "print(table17)"
   ]
  },
  {
   "cell_type": "code",
   "execution_count": 31,
   "id": "de757d27-497a-4320-b51a-babbc9e37d9c",
   "metadata": {},
   "outputs": [
    {
     "name": "stdout",
     "output_type": "stream",
     "text": [
      "----------------------------------------------------\n",
      "& DYJetsToLL\\_M-50\\_TuneCP5\\_13TeV-madgraphMLM-pythia8 & 5379.0 \\\\\n",
      "----------------------------------------------------\n",
      "& WWW\\_4F\\_TuneCP5\\_13TeV-amcatnlo-pythia8 & 0.2158 \\\\\n",
      "& WWZ\\_4F\\_TuneCP5\\_13TeV-amcatnlo-pythia8 & 0.1707 \\\\\n",
      "& WW\\_TuneCP5\\_13TeV-pythia8 & 76.25 \\\\\n",
      "& WZZ\\_TuneCP5\\_13TeV-amcatnlo-pythia8 & 0.05709 \\\\\n",
      "& WZ\\_TuneCP5\\_13TeV-pythia8 & 27.55 \\\\\n",
      "& ZZZ\\_TuneCP5\\_13TeV-amcatnlo-pythia8 & 0.01476 \\\\\n",
      "& ZZ\\_TuneCP5\\_13TeV-pythia8 & 12.23 \\\\\n",
      "----------------------------------------------------\n",
      "& QCD\\_HT1000to1500\\_TuneCP5\\_PSWeights\\_13TeV-madgraphMLM-pythia8 & 1118.0 \\\\\n",
      "& QCD\\_HT100to200\\_TuneCP5\\_PSWeights\\_13TeV-madgraphMLM-pythia8 & 23630000.0 \\\\\n",
      "& QCD\\_HT1500to2000\\_TuneCP5\\_PSWeights\\_13TeV-madgraphMLM-pythia8 & 108.9 \\\\\n",
      "& QCD\\_HT2000toInf\\_TuneCP5\\_PSWeights\\_13TeV-madgraphMLM-pythia8 & 21.93 \\\\\n",
      "& QCD\\_HT200to300\\_TuneCP5\\_PSWeights\\_13TeV-madgraphMLM-pythia8 & 1554000.0 \\\\\n",
      "& QCD\\_HT300to500\\_TuneCP5\\_PSWeights\\_13TeV-madgraphMLM-pythia8 & 323800.0 \\\\\n",
      "& QCD\\_HT500to700\\_TuneCP5\\_PSWeights\\_13TeV-madgraphMLM-pythia8 & 30280.0 \\\\\n",
      "& QCD\\_HT50to100\\_TuneCP5\\_PSWeights\\_13TeV-madgraphMLM-pythia8 & 186100000.0 \\\\\n",
      "& QCD\\_HT700to1000\\_TuneCP5\\_PSWeights\\_13TeV-madgraphMLM-pythia8 & 6392.0 \\\\\n",
      "----------------------------------------------------\n",
      "& ST\\_s-channel\\_4f\\_leptonDecays\\_TuneCP5\\_13TeV-amcatnlo-pythia8 & 3.549 \\\\\n",
      "& ST\\_t-channel\\_antitop\\_5f\\_InclusiveDecays\\_TuneCP5\\_13TeV-powheg-pythia8 & 71.75 \\\\\n",
      "& ST\\_t-channel\\_top\\_5f\\_InclusiveDecays\\_TuneCP5\\_13TeV-powheg-pythia8 & 119.7 \\\\\n",
      "& ST\\_tW\\_antitop\\_5f\\_inclusiveDecays\\_TuneCP5\\_13TeV-powheg-pythia8 & 32.51 \\\\\n",
      "& ST\\_tW\\_top\\_5f\\_inclusiveDecays\\_TuneCP5\\_13TeV-powheg-pythia8 & 32.45 \\\\\n",
      "& TTJets\\_TuneCP5\\_13TeV-madgraphMLM-pythia8 & 471.7 \\\\\n",
      "----------------------------------------------------\n",
      "& WJetsToLNu\\_HT-100To200\\_TuneCP5\\_13TeV-madgraphMLM-pythia8 & 1244.0 \\\\\n",
      "& WJetsToLNu\\_HT-1200To2500\\_TuneCP5\\_13TeV-madgraphMLM-pythia8 & 1.152 \\\\\n",
      "& WJetsToLNu\\_HT-200To400\\_TuneCP5\\_13TeV-madgraphMLM-pythia8 & 337.8 \\\\\n",
      "& WJetsToLNu\\_HT-2500ToInf\\_TuneCP5\\_13TeV-madgraphMLM-pythia8 & 0.02646 \\\\\n",
      "& WJetsToLNu\\_HT-400To600\\_TuneCP5\\_13TeV-madgraphMLM-pythia8 & 44.93 \\\\\n",
      "& WJetsToLNu\\_HT-600To800\\_TuneCP5\\_13TeV-madgraphMLM-pythia8 & 11.19 \\\\\n",
      "& WJetsToLNu\\_HT-70To100\\_TuneCP5\\_13TeV-madgraphMLM-pythia8 & 1283.0 \\\\\n",
      "& WJetsToLNu\\_HT-800To1200\\_TuneCP5\\_13TeV-madgraphMLM-pythia8 & 4.926 \\\\\n",
      "----------------------------------------------------\n",
      "& ZJetsToNuNu\\_HT-100To200\\_TuneCP5\\_13TeV-madgraphMLM-pythia8 & 271.3 \\\\\n",
      "& ZJetsToNuNu\\_HT-1200To2500\\_TuneCP5\\_13TeV-madgraphMLM-pythia8 & 0.2474 \\\\\n",
      "& ZJetsToNuNu\\_HT-200To400\\_TuneCP5\\_13TeV-madgraphMLM-pythia8 & 72.69 \\\\\n",
      "& ZJetsToNuNu\\_HT-2500ToInf\\_TuneCP5\\_13TeV-madgraphMLM-pythia8 & 0.005609 \\\\\n",
      "& ZJetsToNuNu\\_HT-400To600\\_TuneCP5\\_13TeV-madgraphMLM-pythia8 & 9.961 \\\\\n",
      "& ZJetsToNuNu\\_HT-600To800\\_TuneCP5\\_13TeV-madgraphMLM-pythia8 & 2.425 \\\\\n",
      "& ZJetsToNuNu\\_HT-800To1200\\_TuneCP5\\_13TeV-madgraphMLM-pythia8 & 1.076 \\\\\n",
      "\n"
     ]
    }
   ],
   "source": [
    "print(table16APV)"
   ]
  },
  {
   "cell_type": "code",
   "execution_count": null,
   "id": "9d21876e-f6d6-4e63-b388-1c543bd13eb8",
   "metadata": {},
   "outputs": [],
   "source": []
  }
 ],
 "metadata": {
  "kernelspec": {
   "display_name": "Python [conda env:coffea2]",
   "language": "python",
   "name": "conda-env-coffea2-py"
  },
  "language_info": {
   "codemirror_mode": {
    "name": "ipython",
    "version": 3
   },
   "file_extension": ".py",
   "mimetype": "text/x-python",
   "name": "python",
   "nbconvert_exporter": "python",
   "pygments_lexer": "ipython3",
   "version": "3.8.17"
  }
 },
 "nbformat": 4,
 "nbformat_minor": 5
}

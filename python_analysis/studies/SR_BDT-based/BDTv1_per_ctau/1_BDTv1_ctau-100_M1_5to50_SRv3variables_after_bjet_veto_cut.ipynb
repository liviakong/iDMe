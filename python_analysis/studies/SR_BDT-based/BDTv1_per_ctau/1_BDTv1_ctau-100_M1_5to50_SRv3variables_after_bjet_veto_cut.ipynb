{
 "cells": [
  {
   "cell_type": "code",
   "execution_count": 1,
   "id": "d4d61483-80c6-4f62-bb66-25974ee99bea",
   "metadata": {},
   "outputs": [],
   "source": [
    "import json\n",
    "import uproot\n",
    "from XRootD import client\n",
    "import xgboost as xgb\n",
    "import os\n",
    "import sys\n",
    "sys.path.append(\"../../../analysisTools/\")\n",
    "from skimmerTools import Skimmer\n",
    "import coffea\n",
    "import coffea.util as util\n",
    "import numpy as np\n",
    "import awkward as ak\n",
    "import time\n",
    "import h5py"
   ]
  },
  {
   "cell_type": "markdown",
   "id": "2ebb8a1b-2f74-4d31-bed8-b54f0a96eff3",
   "metadata": {},
   "source": [
    "### Run Skimmers on skimmed ntuples with preselections, produce h5 files for BDT input"
   ]
  },
  {
   "cell_type": "code",
   "execution_count": 2,
   "id": "07767f63-0c71-45f1-a5dc-b970bc177b95",
   "metadata": {},
   "outputs": [
    {
     "data": {
      "text/plain": [
       "0"
      ]
     },
     "execution_count": 2,
     "metadata": {},
     "output_type": "execute_result"
    }
   ],
   "source": [
    "outdir = \"./h5/\"\n",
    "os.system(f\"mkdir -p {outdir}\")"
   ]
  },
  {
   "cell_type": "code",
   "execution_count": 3,
   "id": "ff83377c-7ec4-4d0c-9c9e-d1a1c410e93c",
   "metadata": {},
   "outputs": [],
   "source": [
    "def write_h5(data,fname):\n",
    "    with h5py.File(fname,'w') as f:\n",
    "        for k in data.keys():\n",
    "            arr = data[k].value\n",
    "            if type(arr) == np.ma.core.MaskedArray:\n",
    "                arr = arr.data\n",
    "            f.create_dataset(k,data=arr)"
   ]
  },
  {
   "cell_type": "code",
   "execution_count": 4,
   "id": "32a94ba3-48ac-47bb-8b11-e894cc0e30d5",
   "metadata": {},
   "outputs": [],
   "source": [
    "suffix = \"_TrueVertexForSignal\""
   ]
  },
  {
   "cell_type": "code",
   "execution_count": 5,
   "id": "ffd68739-5609-436f-9da9-c1816e0e3476",
   "metadata": {},
   "outputs": [],
   "source": [
    "cut_config = \"./cut_configs/preselections_BDTv1.py\""
   ]
  },
  {
   "cell_type": "code",
   "execution_count": 7,
   "id": "36eaa6c8-1b21-4222-bdb5-3b54bc730263",
   "metadata": {},
   "outputs": [
    {
     "name": "stdout",
     "output_type": "stream",
     "text": [
      "['skimmed_sig_v2_egamma_hadd_ntuples_2018_aEM_ctau-100']\n",
      "['skimmed_bkg_2018_DY', 'skimmed_bkg_2018_Diboson', 'skimmed_bkg_2018_QCD_TuneCP5_PSWeights', 'skimmed_bkg_2018_TTJetsDiLept', 'skimmed_bkg_2018_Top', 'skimmed_bkg_2018_Triboson', 'skimmed_bkg_2018_WJets', 'skimmed_bkg_2018_ZJets']\n"
     ]
    }
   ],
   "source": [
    "sig_sample_json_dir = '../'\n",
    "jsons = [f for f in os.listdir(sig_sample_json_dir) if \".json\" in f]\n",
    "\n",
    "signal_list = [ samp.split('.')[0] for samp in jsons if \"skimmed_sig_v2_egamma_hadd_ntuples_2018_aEM_ctau-100.\" in samp ]\n",
    "print(signal_list)\n",
    "\n",
    "bkg_sample_json_dir = '../../../configs/sample_configs/'\n",
    "jsons = [f for f in os.listdir(bkg_sample_json_dir) if \".json\" in f]\n",
    "\n",
    "bkg_list = [ samp.split('.')[0] for samp in jsons if \"skimmed_bkg\" in samp ]\n",
    "print(bkg_list)"
   ]
  },
  {
   "cell_type": "code",
   "execution_count": 8,
   "id": "0f996a24-e7be-4677-abb6-f5b1a5a6aaa3",
   "metadata": {},
   "outputs": [
    {
     "name": "stdout",
     "output_type": "stream",
     "text": [
      "Start analyzing: skimmed_sig_v2_egamma_hadd_ntuples_2018_aEM_ctau-100\n"
     ]
    },
    {
     "data": {
      "application/vnd.jupyter.widget-view+json": {
       "model_id": "b4008777e7a543cf8f50a5d41d5944cb",
       "version_major": 2,
       "version_minor": 0
      },
      "text/plain": [
       "Output()"
      ]
     },
     "metadata": {},
     "output_type": "display_data"
    },
    {
     "data": {
      "text/html": [
       "<pre style=\"white-space:pre;overflow-x:auto;line-height:normal;font-family:Menlo,'DejaVu Sans Mono',consolas,'Courier New',monospace\"></pre>\n"
      ],
      "text/plain": []
     },
     "metadata": {},
     "output_type": "display_data"
    },
    {
     "data": {
      "text/html": [
       "<pre style=\"white-space:pre;overflow-x:auto;line-height:normal;font-family:Menlo,'DejaVu Sans Mono',consolas,'Courier New',monospace\">\n",
       "</pre>\n"
      ],
      "text/plain": [
       "\n"
      ]
     },
     "metadata": {},
     "output_type": "display_data"
    },
    {
     "data": {
      "application/vnd.jupyter.widget-view+json": {
       "model_id": "cf8c3d88d4784364a488bd1af7fef7da",
       "version_major": 2,
       "version_minor": 0
      },
      "text/plain": [
       "Output()"
      ]
     },
     "metadata": {},
     "output_type": "display_data"
    },
    {
     "data": {
      "text/html": [
       "<pre style=\"white-space:pre;overflow-x:auto;line-height:normal;font-family:Menlo,'DejaVu Sans Mono',consolas,'Courier New',monospace\"></pre>\n"
      ],
      "text/plain": []
     },
     "metadata": {},
     "output_type": "display_data"
    },
    {
     "data": {
      "text/html": [
       "<pre style=\"white-space:pre;overflow-x:auto;line-height:normal;font-family:Menlo,'DejaVu Sans Mono',consolas,'Courier New',monospace\">\n",
       "</pre>\n"
      ],
      "text/plain": [
       "\n"
      ]
     },
     "metadata": {},
     "output_type": "display_data"
    },
    {
     "name": "stdout",
     "output_type": "stream",
     "text": [
      "Completed in 1.02 min\n",
      "\n"
     ]
    }
   ],
   "source": [
    "for samp in signal_list:\n",
    "    print(f'Start analyzing: {samp}')\n",
    "    \n",
    "    test = Skimmer(f\"{sig_sample_json_dir}/{samp}.json\", cut_config)\n",
    "    \n",
    "    t1 = time.time()\n",
    "    out = test.process(execr='futures')\n",
    "    t2 = time.time()\n",
    "\n",
    "    write_h5(out[0],f\"{outdir}/{samp}{suffix}.h5\")\n",
    "    \n",
    "    print('Completed in {:.2f} min\\n'.format((t2-t1)/60))\n",
    "    del out, test"
   ]
  },
  {
   "cell_type": "code",
   "execution_count": null,
   "id": "56d73cb9-ef28-41aa-8920-f44b30ffc7f1",
   "metadata": {},
   "outputs": [],
   "source": []
  },
  {
   "cell_type": "code",
   "execution_count": 8,
   "id": "687fdb63-2b1c-4ca4-bbc2-9d0fce66e302",
   "metadata": {
    "scrolled": true
   },
   "outputs": [
    {
     "name": "stdout",
     "output_type": "stream",
     "text": [
      "Start analyzing: skimmed_bkg_2018_DY\n"
     ]
    },
    {
     "data": {
      "application/vnd.jupyter.widget-view+json": {
       "model_id": "e3d96452014442c98bdb6ee6c85aeddc",
       "version_major": 2,
       "version_minor": 0
      },
      "text/plain": [
       "Output()"
      ]
     },
     "metadata": {},
     "output_type": "display_data"
    },
    {
     "data": {
      "text/html": [
       "<pre style=\"white-space:pre;overflow-x:auto;line-height:normal;font-family:Menlo,'DejaVu Sans Mono',consolas,'Courier New',monospace\"></pre>\n"
      ],
      "text/plain": []
     },
     "metadata": {},
     "output_type": "display_data"
    },
    {
     "data": {
      "text/html": [
       "<pre style=\"white-space:pre;overflow-x:auto;line-height:normal;font-family:Menlo,'DejaVu Sans Mono',consolas,'Courier New',monospace\">\n",
       "</pre>\n"
      ],
      "text/plain": [
       "\n"
      ]
     },
     "metadata": {},
     "output_type": "display_data"
    },
    {
     "data": {
      "application/vnd.jupyter.widget-view+json": {
       "model_id": "6e2904f0bb2548bbb2004514804d383d",
       "version_major": 2,
       "version_minor": 0
      },
      "text/plain": [
       "Output()"
      ]
     },
     "metadata": {},
     "output_type": "display_data"
    },
    {
     "data": {
      "text/html": [
       "<pre style=\"white-space:pre;overflow-x:auto;line-height:normal;font-family:Menlo,'DejaVu Sans Mono',consolas,'Courier New',monospace\"></pre>\n"
      ],
      "text/plain": []
     },
     "metadata": {},
     "output_type": "display_data"
    },
    {
     "data": {
      "text/html": [
       "<pre style=\"white-space:pre;overflow-x:auto;line-height:normal;font-family:Menlo,'DejaVu Sans Mono',consolas,'Courier New',monospace\">\n",
       "</pre>\n"
      ],
      "text/plain": [
       "\n"
      ]
     },
     "metadata": {},
     "output_type": "display_data"
    },
    {
     "name": "stdout",
     "output_type": "stream",
     "text": [
      "Completed in 0.77 min\n",
      "\n",
      "Start analyzing: skimmed_bkg_2018_Diboson\n"
     ]
    },
    {
     "data": {
      "application/vnd.jupyter.widget-view+json": {
       "model_id": "498398ed9a7d4314b04315d323b21ac1",
       "version_major": 2,
       "version_minor": 0
      },
      "text/plain": [
       "Output()"
      ]
     },
     "metadata": {},
     "output_type": "display_data"
    },
    {
     "data": {
      "text/html": [
       "<pre style=\"white-space:pre;overflow-x:auto;line-height:normal;font-family:Menlo,'DejaVu Sans Mono',consolas,'Courier New',monospace\"></pre>\n"
      ],
      "text/plain": []
     },
     "metadata": {},
     "output_type": "display_data"
    },
    {
     "data": {
      "text/html": [
       "<pre style=\"white-space:pre;overflow-x:auto;line-height:normal;font-family:Menlo,'DejaVu Sans Mono',consolas,'Courier New',monospace\">\n",
       "</pre>\n"
      ],
      "text/plain": [
       "\n"
      ]
     },
     "metadata": {},
     "output_type": "display_data"
    },
    {
     "data": {
      "application/vnd.jupyter.widget-view+json": {
       "model_id": "03bf096d82854199abe0587418fe66e3",
       "version_major": 2,
       "version_minor": 0
      },
      "text/plain": [
       "Output()"
      ]
     },
     "metadata": {},
     "output_type": "display_data"
    },
    {
     "data": {
      "text/html": [
       "<pre style=\"white-space:pre;overflow-x:auto;line-height:normal;font-family:Menlo,'DejaVu Sans Mono',consolas,'Courier New',monospace\"></pre>\n"
      ],
      "text/plain": []
     },
     "metadata": {},
     "output_type": "display_data"
    },
    {
     "data": {
      "text/html": [
       "<pre style=\"white-space:pre;overflow-x:auto;line-height:normal;font-family:Menlo,'DejaVu Sans Mono',consolas,'Courier New',monospace\">\n",
       "</pre>\n"
      ],
      "text/plain": [
       "\n"
      ]
     },
     "metadata": {},
     "output_type": "display_data"
    },
    {
     "name": "stdout",
     "output_type": "stream",
     "text": [
      "Completed in 0.50 min\n",
      "\n",
      "Start analyzing: skimmed_bkg_2018_QCD_TuneCP5_PSWeights\n"
     ]
    },
    {
     "data": {
      "application/vnd.jupyter.widget-view+json": {
       "model_id": "517825ed02e74cf7b47ccff69e0349d6",
       "version_major": 2,
       "version_minor": 0
      },
      "text/plain": [
       "Output()"
      ]
     },
     "metadata": {},
     "output_type": "display_data"
    },
    {
     "data": {
      "text/html": [
       "<pre style=\"white-space:pre;overflow-x:auto;line-height:normal;font-family:Menlo,'DejaVu Sans Mono',consolas,'Courier New',monospace\"></pre>\n"
      ],
      "text/plain": []
     },
     "metadata": {},
     "output_type": "display_data"
    },
    {
     "data": {
      "text/html": [
       "<pre style=\"white-space:pre;overflow-x:auto;line-height:normal;font-family:Menlo,'DejaVu Sans Mono',consolas,'Courier New',monospace\">\n",
       "</pre>\n"
      ],
      "text/plain": [
       "\n"
      ]
     },
     "metadata": {},
     "output_type": "display_data"
    },
    {
     "data": {
      "application/vnd.jupyter.widget-view+json": {
       "model_id": "1c7c4304d6ed4d7686e8893cf16609bd",
       "version_major": 2,
       "version_minor": 0
      },
      "text/plain": [
       "Output()"
      ]
     },
     "metadata": {},
     "output_type": "display_data"
    },
    {
     "data": {
      "text/html": [
       "<pre style=\"white-space:pre;overflow-x:auto;line-height:normal;font-family:Menlo,'DejaVu Sans Mono',consolas,'Courier New',monospace\"></pre>\n"
      ],
      "text/plain": []
     },
     "metadata": {},
     "output_type": "display_data"
    },
    {
     "data": {
      "text/html": [
       "<pre style=\"white-space:pre;overflow-x:auto;line-height:normal;font-family:Menlo,'DejaVu Sans Mono',consolas,'Courier New',monospace\">\n",
       "</pre>\n"
      ],
      "text/plain": [
       "\n"
      ]
     },
     "metadata": {},
     "output_type": "display_data"
    },
    {
     "name": "stdout",
     "output_type": "stream",
     "text": [
      "Completed in 3.66 min\n",
      "\n",
      "Start analyzing: skimmed_bkg_2018_Top\n"
     ]
    },
    {
     "data": {
      "application/vnd.jupyter.widget-view+json": {
       "model_id": "93b4e09598f14f809fd615328040de1a",
       "version_major": 2,
       "version_minor": 0
      },
      "text/plain": [
       "Output()"
      ]
     },
     "metadata": {},
     "output_type": "display_data"
    },
    {
     "data": {
      "text/html": [
       "<pre style=\"white-space:pre;overflow-x:auto;line-height:normal;font-family:Menlo,'DejaVu Sans Mono',consolas,'Courier New',monospace\"></pre>\n"
      ],
      "text/plain": []
     },
     "metadata": {},
     "output_type": "display_data"
    },
    {
     "data": {
      "text/html": [
       "<pre style=\"white-space:pre;overflow-x:auto;line-height:normal;font-family:Menlo,'DejaVu Sans Mono',consolas,'Courier New',monospace\">\n",
       "</pre>\n"
      ],
      "text/plain": [
       "\n"
      ]
     },
     "metadata": {},
     "output_type": "display_data"
    },
    {
     "data": {
      "application/vnd.jupyter.widget-view+json": {
       "model_id": "8171d5fea09844cf95882866568b3637",
       "version_major": 2,
       "version_minor": 0
      },
      "text/plain": [
       "Output()"
      ]
     },
     "metadata": {},
     "output_type": "display_data"
    },
    {
     "data": {
      "text/html": [
       "<pre style=\"white-space:pre;overflow-x:auto;line-height:normal;font-family:Menlo,'DejaVu Sans Mono',consolas,'Courier New',monospace\"></pre>\n"
      ],
      "text/plain": []
     },
     "metadata": {},
     "output_type": "display_data"
    },
    {
     "data": {
      "text/html": [
       "<pre style=\"white-space:pre;overflow-x:auto;line-height:normal;font-family:Menlo,'DejaVu Sans Mono',consolas,'Courier New',monospace\">\n",
       "</pre>\n"
      ],
      "text/plain": [
       "\n"
      ]
     },
     "metadata": {},
     "output_type": "display_data"
    },
    {
     "name": "stdout",
     "output_type": "stream",
     "text": [
      "Completed in 3.25 min\n",
      "\n",
      "Start analyzing: skimmed_bkg_2018_Triboson\n"
     ]
    },
    {
     "data": {
      "application/vnd.jupyter.widget-view+json": {
       "model_id": "c4c2e0dc7a30434cb39f353c168384d9",
       "version_major": 2,
       "version_minor": 0
      },
      "text/plain": [
       "Output()"
      ]
     },
     "metadata": {},
     "output_type": "display_data"
    },
    {
     "data": {
      "text/html": [
       "<pre style=\"white-space:pre;overflow-x:auto;line-height:normal;font-family:Menlo,'DejaVu Sans Mono',consolas,'Courier New',monospace\"></pre>\n"
      ],
      "text/plain": []
     },
     "metadata": {},
     "output_type": "display_data"
    },
    {
     "data": {
      "text/html": [
       "<pre style=\"white-space:pre;overflow-x:auto;line-height:normal;font-family:Menlo,'DejaVu Sans Mono',consolas,'Courier New',monospace\">\n",
       "</pre>\n"
      ],
      "text/plain": [
       "\n"
      ]
     },
     "metadata": {},
     "output_type": "display_data"
    },
    {
     "data": {
      "application/vnd.jupyter.widget-view+json": {
       "model_id": "3106f6a641e94c2a849ac624b946e346",
       "version_major": 2,
       "version_minor": 0
      },
      "text/plain": [
       "Output()"
      ]
     },
     "metadata": {},
     "output_type": "display_data"
    },
    {
     "data": {
      "text/html": [
       "<pre style=\"white-space:pre;overflow-x:auto;line-height:normal;font-family:Menlo,'DejaVu Sans Mono',consolas,'Courier New',monospace\"></pre>\n"
      ],
      "text/plain": []
     },
     "metadata": {},
     "output_type": "display_data"
    },
    {
     "data": {
      "text/html": [
       "<pre style=\"white-space:pre;overflow-x:auto;line-height:normal;font-family:Menlo,'DejaVu Sans Mono',consolas,'Courier New',monospace\">\n",
       "</pre>\n"
      ],
      "text/plain": [
       "\n"
      ]
     },
     "metadata": {},
     "output_type": "display_data"
    },
    {
     "name": "stdout",
     "output_type": "stream",
     "text": [
      "Completed in 0.24 min\n",
      "\n",
      "Start analyzing: skimmed_bkg_2018_WJets\n"
     ]
    },
    {
     "data": {
      "application/vnd.jupyter.widget-view+json": {
       "model_id": "5153e86b51814b46812281674ba96d89",
       "version_major": 2,
       "version_minor": 0
      },
      "text/plain": [
       "Output()"
      ]
     },
     "metadata": {},
     "output_type": "display_data"
    },
    {
     "data": {
      "text/html": [
       "<pre style=\"white-space:pre;overflow-x:auto;line-height:normal;font-family:Menlo,'DejaVu Sans Mono',consolas,'Courier New',monospace\"></pre>\n"
      ],
      "text/plain": []
     },
     "metadata": {},
     "output_type": "display_data"
    },
    {
     "data": {
      "text/html": [
       "<pre style=\"white-space:pre;overflow-x:auto;line-height:normal;font-family:Menlo,'DejaVu Sans Mono',consolas,'Courier New',monospace\">\n",
       "</pre>\n"
      ],
      "text/plain": [
       "\n"
      ]
     },
     "metadata": {},
     "output_type": "display_data"
    },
    {
     "data": {
      "application/vnd.jupyter.widget-view+json": {
       "model_id": "e3da64ac225a497797dc71d307c92d08",
       "version_major": 2,
       "version_minor": 0
      },
      "text/plain": [
       "Output()"
      ]
     },
     "metadata": {},
     "output_type": "display_data"
    },
    {
     "data": {
      "text/html": [
       "<pre style=\"white-space:pre;overflow-x:auto;line-height:normal;font-family:Menlo,'DejaVu Sans Mono',consolas,'Courier New',monospace\"></pre>\n"
      ],
      "text/plain": []
     },
     "metadata": {},
     "output_type": "display_data"
    },
    {
     "data": {
      "text/html": [
       "<pre style=\"white-space:pre;overflow-x:auto;line-height:normal;font-family:Menlo,'DejaVu Sans Mono',consolas,'Courier New',monospace\">\n",
       "</pre>\n"
      ],
      "text/plain": [
       "\n"
      ]
     },
     "metadata": {},
     "output_type": "display_data"
    },
    {
     "name": "stdout",
     "output_type": "stream",
     "text": [
      "Completed in 2.65 min\n",
      "\n",
      "Start analyzing: skimmed_bkg_2018_ZJets\n"
     ]
    },
    {
     "data": {
      "application/vnd.jupyter.widget-view+json": {
       "model_id": "4616fef4e73848308b044823d1724128",
       "version_major": 2,
       "version_minor": 0
      },
      "text/plain": [
       "Output()"
      ]
     },
     "metadata": {},
     "output_type": "display_data"
    },
    {
     "data": {
      "text/html": [
       "<pre style=\"white-space:pre;overflow-x:auto;line-height:normal;font-family:Menlo,'DejaVu Sans Mono',consolas,'Courier New',monospace\"></pre>\n"
      ],
      "text/plain": []
     },
     "metadata": {},
     "output_type": "display_data"
    },
    {
     "data": {
      "text/html": [
       "<pre style=\"white-space:pre;overflow-x:auto;line-height:normal;font-family:Menlo,'DejaVu Sans Mono',consolas,'Courier New',monospace\">\n",
       "</pre>\n"
      ],
      "text/plain": [
       "\n"
      ]
     },
     "metadata": {},
     "output_type": "display_data"
    },
    {
     "data": {
      "application/vnd.jupyter.widget-view+json": {
       "model_id": "a562008622f74bcb845f6077ec6a0bb6",
       "version_major": 2,
       "version_minor": 0
      },
      "text/plain": [
       "Output()"
      ]
     },
     "metadata": {},
     "output_type": "display_data"
    },
    {
     "data": {
      "text/html": [
       "<pre style=\"white-space:pre;overflow-x:auto;line-height:normal;font-family:Menlo,'DejaVu Sans Mono',consolas,'Courier New',monospace\"></pre>\n"
      ],
      "text/plain": []
     },
     "metadata": {},
     "output_type": "display_data"
    },
    {
     "data": {
      "text/html": [
       "<pre style=\"white-space:pre;overflow-x:auto;line-height:normal;font-family:Menlo,'DejaVu Sans Mono',consolas,'Courier New',monospace\">\n",
       "</pre>\n"
      ],
      "text/plain": [
       "\n"
      ]
     },
     "metadata": {},
     "output_type": "display_data"
    },
    {
     "name": "stdout",
     "output_type": "stream",
     "text": [
      "Completed in 2.18 min\n",
      "\n"
     ]
    }
   ],
   "source": [
    "for samp in bkg_list:\n",
    "    if 'TTJetsDiLept' in samp: # currently not available ntuples\n",
    "        continue\n",
    "    \n",
    "    print(f'Start analyzing: {samp}')\n",
    "    \n",
    "    test = Skimmer(f\"{bkg_sample_json_dir}/{samp}.json\", cut_config)\n",
    "    \n",
    "    t1 = time.time()\n",
    "    out = test.process(execr='futures')\n",
    "    t2 = time.time()\n",
    "\n",
    "    write_h5(out[0],f\"{outdir}/{samp}{suffix}.h5\")\n",
    "    \n",
    "    print('Completed in {:.2f} min\\n'.format((t2-t1)/60))\n",
    "    del out, test"
   ]
  },
  {
   "cell_type": "markdown",
   "id": "ae2b7aff-56dd-43c6-933b-1eb739dc8af1",
   "metadata": {},
   "source": [
    "## BDT"
   ]
  },
  {
   "cell_type": "code",
   "execution_count": 6,
   "id": "40a38c7e-1ab6-4989-aa87-65f89d7c9143",
   "metadata": {},
   "outputs": [],
   "source": [
    "import numpy as np\n",
    "import h5py\n",
    "import matplotlib.pyplot as plt\n",
    "import xgboost as xgb\n",
    "import os\n",
    "from sklearn.model_selection import train_test_split\n",
    "from sklearn.metrics import roc_curve, roc_auc_score"
   ]
  },
  {
   "cell_type": "code",
   "execution_count": 7,
   "id": "13ad9bd8-f536-42e5-90b2-3ff614bb356a",
   "metadata": {},
   "outputs": [
    {
     "name": "stdout",
     "output_type": "stream",
     "text": [
      "Signal events 1738 -> 1738 after gen matching (raw counts)\n",
      "\n",
      "DY: 20\n",
      "Diboson: 1728\n",
      "QCD: 304\n",
      "Top: 5528\n",
      "Triboson: 210\n",
      "WJets: 68705\n",
      "ZJets: 98427\n",
      "\n",
      "Number of total background events (raw counts): 174922\n"
     ]
    }
   ],
   "source": [
    "h5_dir = \"./h5/\"\n",
    "sig_suffix = \"ctau-100_TrueVertexForSignal\"\n",
    "bkg_suffix = \"_TrueVertexForSignal\"\n",
    "\n",
    "ctau = 100\n",
    "sig_files = [f for f in os.listdir(h5_dir) if (sig_suffix in f and 'sig' in f) and (str(ctau) in f)]\n",
    "bkg_files = [f for f in os.listdir(h5_dir) if bkg_suffix in f and 'bkg' in f]\n",
    "\n",
    "# SR v3 variables\n",
    "variables = ['lead_jet_pt','lead_jet_eta','minJetMETdPhi','jetMETdPhi',\n",
    "             'sel_vtx_sign', 'sel_vtx_chi2','sel_vtx_METdPhi','sel_vtx_m','sel_vtx_dR','sel_vtx_minDxy']\n",
    "\n",
    "sig_data = []\n",
    "\n",
    "sig_xsec_norm = []\n",
    "sig_point = {'m1':[], 'delta':[], 'ctau':[]}\n",
    "\n",
    "for sf in sig_files:\n",
    "    with h5py.File(f'{h5_dir}/{sf}',\"r\") as fin:\n",
    "        entries = len(fin['wgt'])\n",
    "        \n",
    "        match = fin[\"sel_vtx_match\"][()]\n",
    "        mask = match==2\n",
    "\n",
    "        entries_genMatched = sum(mask)\n",
    "        print(f'Signal events {entries} -> {entries_genMatched} after gen matching (raw counts)\\n')\n",
    "        \n",
    "        sig_data.append(np.concatenate([fin[v][()][mask].reshape(-1,1) for v in variables],axis=1))\n",
    "        sig_xsec_norm.append(fin['wgt_norm'][()][mask])\n",
    "        \n",
    "        sig_point['m1'].append(fin['m1'][()][mask])\n",
    "        sig_point['delta'].append(fin['delta'][()][mask])\n",
    "        sig_point['ctau'].append(fin['ctau'][()][mask])\n",
    "\n",
    "sig_data = np.concatenate(sig_data,axis=0)\n",
    "sig_xsec_norm = np.concatenate(sig_xsec_norm,axis=0)\n",
    "sig_point['m1'] = np.concatenate(sig_point['m1'], axis=0)\n",
    "sig_point['delta'] = np.concatenate(sig_point['delta'], axis=0)\n",
    "sig_point['ctau'] = np.concatenate(sig_point['ctau'], axis=0)\n",
    "\n",
    "nBkg = 0\n",
    "bkg_data = []\n",
    "\n",
    "bkg_xsec_norm = []\n",
    "\n",
    "for bf in bkg_files:\n",
    "    with h5py.File(f'{h5_dir}/{bf}',\"r\") as fin:\n",
    "        process = bf.split('_')[3]\n",
    "        entries = len(fin['wgt'])\n",
    "        print(f'{process}: {entries}')\n",
    "        nBkg += len(fin['wgt'])\n",
    "        \n",
    "        bkg_data.append(np.concatenate([fin[v][()].reshape(-1,1) for v in variables],axis=1))\n",
    "        bkg_xsec_norm.append(fin['wgt_norm'][()])\n",
    "\n",
    "bkg_xsec_norm = np.concatenate(bkg_xsec_norm,axis=0)\n",
    "\n",
    "\n",
    "print(f'\\nNumber of total background events (raw counts): {nBkg}')\n",
    "\n",
    "bkg_data = np.concatenate(bkg_data,axis=0)"
   ]
  },
  {
   "cell_type": "code",
   "execution_count": 8,
   "id": "58f060b0-6c6b-4e19-8d97-0c3b7dd4f367",
   "metadata": {
    "scrolled": true
   },
   "outputs": [
    {
     "name": "stdout",
     "output_type": "stream",
     "text": [
      "Signal input statistics (unweighted)\n",
      "m1_5.0_delta_0.1_ctau_100.0: 67\n",
      "m1_10.0_delta_0.1_ctau_100.0: 102\n",
      "m1_20.0_delta_0.1_ctau_100.0: 91\n",
      "m1_30.0_delta_0.1_ctau_100.0: 196\n",
      "m1_40.0_delta_0.1_ctau_100.0: 307\n",
      "m1_50.0_delta_0.1_ctau_100.0: 353\n",
      "m1_5.0_delta_0.2_ctau_100.0: 20\n",
      "m1_10.0_delta_0.2_ctau_100.0: 50\n",
      "m1_20.0_delta_0.2_ctau_100.0: 107\n",
      "m1_30.0_delta_0.2_ctau_100.0: 108\n",
      "m1_40.0_delta_0.2_ctau_100.0: 131\n",
      "m1_50.0_delta_0.2_ctau_100.0: 206\n",
      "Number of signal subprocesses with non-zero count: 12\n"
     ]
    }
   ],
   "source": [
    "print('Signal input statistics (unweighted)')\n",
    "\n",
    "sig_subprocess = {}\n",
    "\n",
    "ctau = 100.\n",
    "for delta in [0.1, 0.2]:\n",
    "    for m1 in [5.,10.,20.,30.,40.,50.]:\n",
    "        idx = ((sig_point['m1'] == m1) & (sig_point['delta'] == delta))&(sig_point['ctau'] == ctau)\n",
    "        point = f'm1_{m1}_delta_{delta}_ctau_{ctau}'\n",
    "        sig_subprocess[point] = idx\n",
    "        print(f'{point}: {np.sum(idx)}')\n",
    "\n",
    "nSamp = 0\n",
    "for samp, count in sig_subprocess.items():\n",
    "    if np.sum(count) != 0:\n",
    "        nSamp += 1\n",
    "    else:\n",
    "        print(f'{samp} has zero counts')\n",
    "\n",
    "print(f'Number of signal subprocesses with non-zero count: {nSamp}')"
   ]
  },
  {
   "cell_type": "markdown",
   "id": "31b7cbde-ed51-4ec4-9475-254e7e8299a2",
   "metadata": {},
   "source": [
    "## Reweight Backgrounds"
   ]
  },
  {
   "cell_type": "markdown",
   "id": "345b0173-a0f8-4e3e-8ba5-643212abd61e",
   "metadata": {},
   "source": [
    "### Background raw counts"
   ]
  },
  {
   "cell_type": "code",
   "execution_count": 9,
   "id": "c8be1352-1d2d-447e-815b-2109c941c535",
   "metadata": {},
   "outputs": [
    {
     "name": "stdout",
     "output_type": "stream",
     "text": [
      "DY: 20\n",
      "Diboson: 1728\n",
      "QCD: 304\n",
      "Top: 5528\n",
      "Triboson: 210\n",
      "WJets: 68705\n",
      "ZJets: 98427\n"
     ]
    }
   ],
   "source": [
    "bkg_raw = {}\n",
    "nBkg = 0\n",
    "\n",
    "for bf in bkg_files:\n",
    "    with h5py.File(f'{h5_dir}/{bf}',\"r\") as fin:\n",
    "        process = bf.split('_')[3]\n",
    "        entries = len(fin['wgt'])\n",
    "        print(f'{process}: {entries}')\n",
    "        nBkg += len(fin['wgt'])\n",
    "\n",
    "        bkg_raw[process] = entries"
   ]
  },
  {
   "cell_type": "markdown",
   "id": "9c958dc8-bd7b-48f7-8306-832a55097e6c",
   "metadata": {},
   "source": [
    "### Cutflow counts (xsec weighted)"
   ]
  },
  {
   "cell_type": "code",
   "execution_count": 10,
   "id": "52d9ccd0-4b97-4e85-b89b-3d6a6e54e6e2",
   "metadata": {},
   "outputs": [
    {
     "name": "stdout",
     "output_type": "stream",
     "text": [
      "DY: 2518.294876098633\n",
      "Diboson: 427.0184949338436\n",
      "QCD: 1970.0003677904606\n",
      "Top: 624.5707487333566\n",
      "Triboson: 4.918245587032288\n",
      "WJets: 25299.553511117003\n",
      "ZJets: 13014.62912989594\n",
      "Total background counts (xsec weighted): 43858.98537415627\n"
     ]
    }
   ],
   "source": [
    "bkg_cts = {}\n",
    "total_bkg_cts = 0\n",
    "\n",
    "for bf in bkg_files:\n",
    "    with h5py.File(f'{h5_dir}/{bf}',\"r\") as fin:\n",
    "        process = bf.split('_')[3]\n",
    "        entries = sum(fin['wgt_norm'][()])\n",
    "        print(f'{process}: {entries}')\n",
    "\n",
    "        total_bkg_cts += entries\n",
    "        \n",
    "        bkg_cts[process] = entries\n",
    "\n",
    "print(f'Total background counts (xsec weighted): {total_bkg_cts}')"
   ]
  },
  {
   "cell_type": "markdown",
   "id": "8fe9be7f-f587-446f-b0e8-90f604acc5c0",
   "metadata": {},
   "source": [
    "### Reweighing factor = `wgt_norm` / `total_bkg_cts` * `nBkg`"
   ]
  },
  {
   "cell_type": "markdown",
   "id": "3be95b69-d941-4853-a304-b930a79e6fa1",
   "metadata": {},
   "source": [
    "Reweigh the background samples, such that after reweighting the total number of backgrounds (BDT sample size) are unchanged but the relative contributions of each sub-process within the BDT sample are physically correct."
   ]
  },
  {
   "cell_type": "code",
   "execution_count": 11,
   "id": "2c82f6e7-e59d-43c6-958e-c290287ee6b8",
   "metadata": {},
   "outputs": [],
   "source": [
    "sf = {}\n",
    "xsec_norm = {}\n",
    "\n",
    "for bf in bkg_files:\n",
    "    with h5py.File(f'{h5_dir}/{bf}',\"r\") as fin:\n",
    "        process = bf.split('_')[3]\n",
    "        entries = fin['wgt_norm'][()] / total_bkg_cts * nBkg\n",
    "        #print(f'{process}: {entries}')\n",
    "\n",
    "        sf[process] = entries\n",
    "        xsec_norm[process] = fin['wgt_norm'][()]"
   ]
  },
  {
   "cell_type": "code",
   "execution_count": null,
   "id": "c9e43690-d002-4d50-abf3-cb2b77ca091b",
   "metadata": {},
   "outputs": [],
   "source": []
  },
  {
   "cell_type": "code",
   "execution_count": null,
   "id": "1a6e646d-9cb4-41d2-aeb2-c86e276708ef",
   "metadata": {},
   "outputs": [],
   "source": []
  },
  {
   "cell_type": "markdown",
   "id": "4c62b29c-fabd-4233-94a1-44563ba2f4dc",
   "metadata": {},
   "source": [
    "**With the weight applied, the total bkg events are the same as raw counts, but the contribution of the relative xsec is considered now.**"
   ]
  },
  {
   "cell_type": "code",
   "execution_count": 12,
   "id": "38b25b6e-1ef3-4f55-9e70-dbcc6a5c6195",
   "metadata": {},
   "outputs": [
    {
     "name": "stdout",
     "output_type": "stream",
     "text": [
      "DY: 10043.670410331339\n",
      "Diboson: 1703.0702001941554\n",
      "QCD: 7856.917159533112\n",
      "Top: 2490.964340710441\n",
      "Triboson: 19.615351031664645\n",
      "WJets: 100901.75528428704\n",
      "ZJets: 51906.01003504695\n",
      "174922.0027811347\n"
     ]
    }
   ],
   "source": [
    "total_weighted = 0\n",
    "\n",
    "for process in sf.keys():\n",
    "    print(f'{process}: {sum(sf[process])}')\n",
    "    total_weighted += sum(sf[process])\n",
    "\n",
    "print(total_weighted)"
   ]
  },
  {
   "cell_type": "code",
   "execution_count": 13,
   "id": "c2c34c55-5587-4574-bd3c-f0a476f01ada",
   "metadata": {},
   "outputs": [
    {
     "data": {
      "text/plain": [
       "174922"
      ]
     },
     "execution_count": 13,
     "metadata": {},
     "output_type": "execute_result"
    }
   ],
   "source": [
    "nBkg"
   ]
  },
  {
   "cell_type": "code",
   "execution_count": null,
   "id": "9d9e2f81-f292-4d05-9233-337c8260afef",
   "metadata": {},
   "outputs": [],
   "source": []
  },
  {
   "cell_type": "code",
   "execution_count": 14,
   "id": "59ee26d8-a4a3-4dd8-af6c-0feb7dafc521",
   "metadata": {},
   "outputs": [],
   "source": [
    "# SF\n",
    "bkg_sf = []\n",
    "bkg_xsec_norm = []\n",
    "\n",
    "for process in sf.keys():\n",
    "    bkg_sf += list(sf[process])\n",
    "    bkg_xsec_norm += list(xsec_norm[process])\n",
    "\n",
    "#print(len(bkg_sf))"
   ]
  },
  {
   "cell_type": "code",
   "execution_count": 15,
   "id": "d534d47e-b04b-4d88-a0bc-74d029983192",
   "metadata": {
    "scrolled": true
   },
   "outputs": [
    {
     "data": {
      "text/plain": [
       "{-0.05953975,\n",
       " -0.045444746,\n",
       " -0.043379143,\n",
       " -0.016287146,\n",
       " -0.012563892,\n",
       " -0.0042385785,\n",
       " 0.00075470324,\n",
       " 0.0012511426,\n",
       " 0.0042385785,\n",
       " 0.004238579,\n",
       " 0.01063748,\n",
       " 0.012563892,\n",
       " 0.016287146,\n",
       " 0.024323996,\n",
       " 0.028713468,\n",
       " 0.030013198,\n",
       " 0.037092578,\n",
       " 0.038779505,\n",
       " 0.039841752,\n",
       " 0.043379143,\n",
       " 0.045444746,\n",
       " 0.05953975,\n",
       " 0.08565486,\n",
       " 0.18472649,\n",
       " 0.19808361,\n",
       " 0.2163429,\n",
       " 0.2441929,\n",
       " 0.2524531,\n",
       " 0.2538137,\n",
       " 0.29107392,\n",
       " 0.34455764,\n",
       " 0.3913622,\n",
       " 0.55844516,\n",
       " 0.59895897,\n",
       " 1.1887455,\n",
       " 2.7895231,\n",
       " 4.6589475,\n",
       " 7.842954,\n",
       " 24.090977,\n",
       " 37.836258,\n",
       " 143.50896,\n",
       " 312.20374,\n",
       " 1702.3124}"
      ]
     },
     "execution_count": 15,
     "metadata": {},
     "output_type": "execute_result"
    }
   ],
   "source": [
    "set(bkg_xsec_norm)"
   ]
  },
  {
   "cell_type": "code",
   "execution_count": 16,
   "id": "722d1837-7054-432b-af84-9d8c5eccc4e9",
   "metadata": {},
   "outputs": [
    {
     "data": {
      "text/plain": [
       "174922"
      ]
     },
     "execution_count": 16,
     "metadata": {},
     "output_type": "execute_result"
    }
   ],
   "source": [
    "len(bkg_sf)"
   ]
  },
  {
   "cell_type": "markdown",
   "id": "2b2730e7-ccd2-478c-86e9-1d3dd5c5056e",
   "metadata": {},
   "source": [
    "## Reweight Signal"
   ]
  },
  {
   "cell_type": "markdown",
   "id": "0d73d386-252e-4453-8f3e-8505bcb058ae",
   "metadata": {},
   "source": [
    "For signal, we also apply the reweighting factors.\n",
    "1) First, since our signal samples are smaller than background samples, get the overall scale factor for signal samples to match the total number of background samples. Reweigh against background.\n",
    "2) Then, reweigh across signal samples. We will make all signal subprocesses \"equally shown\" to the BDT. Currently the inputs are biased, i.e. to have more 10% splitting, 1mm ctau, etc. We will flatten these out."
   ]
  },
  {
   "cell_type": "code",
   "execution_count": 17,
   "id": "8b26f0b3-b80c-4608-8ebd-a68b89800e02",
   "metadata": {},
   "outputs": [
    {
     "name": "stdout",
     "output_type": "stream",
     "text": [
      "Signal sample size (all subprocesses summed): 1738\n",
      "Background sample size (all subprocesses summed): 174922\n",
      "100.64556962025317 more background than signal samples\n"
     ]
    }
   ],
   "source": [
    "bkg_to_sig = len(bkg_xsec_norm)/len(sig_xsec_norm)\n",
    "\n",
    "print(f'Signal sample size (all subprocesses summed): {len(sig_xsec_norm)}')\n",
    "print(f'Background sample size (all subprocesses summed): {len(bkg_xsec_norm)}')\n",
    "print(f'{bkg_to_sig} more background than signal samples')"
   ]
  },
  {
   "cell_type": "code",
   "execution_count": 18,
   "id": "ae85a386-539e-41b9-b054-bfd1e4b01859",
   "metadata": {},
   "outputs": [
    {
     "name": "stdout",
     "output_type": "stream",
     "text": [
      "There are 12 subprocesses in signal, i.e. per m1/delta/ctau points.\n",
      "\n",
      "Ideally, sig and bkg sample size for BDT input should be the same.\n",
      "\n",
      "For background, we care about each background process contribution to the total, i.e. QCD having higher xsec than Diboson.\n",
      "This should be taken into account, so we got the SF for background input that will correct for this relative xsec contribution.\n",
      "\n",
      "For signal, we want BDT to equally \"see\" each subprocess. For example, delta=0.2 splitting has lower xsec than delta=0.1.\n",
      "But we want the BDT to \"equally\" see them. Therefore, we reweigh signal such that each subprocess relative contribution is the same.\n",
      "For signal, we also get the overall SF against bkg, because right now we have 10 times less signal input than background.\n"
     ]
    }
   ],
   "source": [
    "print(f'There are {nSamp} subprocesses in signal, i.e. per m1/delta/ctau points.')\n",
    "print(f'\\nIdeally, sig and bkg sample size for BDT input should be the same.')\n",
    "print(f'\\nFor background, we care about each background process contribution to the total, i.e. QCD having higher xsec than Diboson.')\n",
    "print(f'This should be taken into account, so we got the SF for background input that will correct for this relative xsec contribution.')\n",
    "print(f'\\nFor signal, we want BDT to equally \"see\" each subprocess. For example, delta=0.2 splitting has lower xsec than delta=0.1.')\n",
    "print(f'But we want the BDT to \"equally\" see them. Therefore, we reweigh signal such that each subprocess relative contribution is the same.')\n",
    "print(f'For signal, we also get the overall SF against bkg, because right now we have 10 times less signal input than background.')"
   ]
  },
  {
   "cell_type": "code",
   "execution_count": 19,
   "id": "3bd8e196-bf91-4766-9914-a5f058a16b00",
   "metadata": {},
   "outputs": [
    {
     "name": "stdout",
     "output_type": "stream",
     "text": [
      "This means, for each one of 12 signal subprocesses, there should be [n(background sample size)/n(number of signal subprocess)] = 14576.833333333334\n"
     ]
    }
   ],
   "source": [
    "print(f'This means, for each one of {nSamp} signal subprocesses, there should be [n(background sample size)/n(number of signal subprocess)] = {len(bkg_xsec_norm)/nSamp}')"
   ]
  },
  {
   "cell_type": "code",
   "execution_count": 20,
   "id": "9c1fb0fb-e5b6-429e-9470-b7bf91588b53",
   "metadata": {},
   "outputs": [
    {
     "name": "stdout",
     "output_type": "stream",
     "text": [
      "We will get the SF for each signal subprocess such that their weighted count corresponds to 14576.833333333334\n"
     ]
    }
   ],
   "source": [
    "print(f'We will get the SF for each signal subprocess such that their weighted count corresponds to {len(bkg_xsec_norm)/nSamp}')"
   ]
  },
  {
   "cell_type": "code",
   "execution_count": 21,
   "id": "d78ce6d2-d61d-48b6-b54d-4558f59851c2",
   "metadata": {},
   "outputs": [
    {
     "name": "stdout",
     "output_type": "stream",
     "text": [
      "m1_5.0_delta_0.1_ctau_100.0 217.56467661691542\n",
      "m1_10.0_delta_0.1_ctau_100.0 142.91013071895426\n",
      "m1_20.0_delta_0.1_ctau_100.0 160.1849816849817\n",
      "m1_30.0_delta_0.1_ctau_100.0 74.37159863945578\n",
      "m1_40.0_delta_0.1_ctau_100.0 47.48154180238871\n",
      "m1_50.0_delta_0.1_ctau_100.0 41.29414542020775\n",
      "m1_5.0_delta_0.2_ctau_100.0 728.8416666666667\n",
      "m1_10.0_delta_0.2_ctau_100.0 291.5366666666667\n",
      "m1_20.0_delta_0.2_ctau_100.0 136.23208722741433\n",
      "m1_30.0_delta_0.2_ctau_100.0 134.9706790123457\n",
      "m1_40.0_delta_0.2_ctau_100.0 111.27353689567431\n",
      "m1_50.0_delta_0.2_ctau_100.0 70.76132686084142\n",
      "[728.84166667 728.84166667 728.84166667 ... 291.53666667 291.53666667\n",
      " 291.53666667]\n"
     ]
    }
   ],
   "source": [
    "sig_sf = np.zeros(len(sig_xsec_norm)) # initialize\n",
    "\n",
    "nSubprocessWeighted = len(bkg_xsec_norm)/nSamp\n",
    "#nSubprocessWeighted = nSamp\n",
    "\n",
    "for samp, idx in sig_subprocess.items():\n",
    "    samp_idx = np.nonzero(idx)[0]\n",
    "    nSubprocess = np.sum(idx) # unweighted\n",
    "    \n",
    "    if nSubprocess == 0:\n",
    "        continue\n",
    "    sf = nSubprocessWeighted/nSubprocess\n",
    "    print(samp, sf)\n",
    "    sig_sf[samp_idx] = sf\n",
    "\n",
    "print(sig_sf)"
   ]
  },
  {
   "cell_type": "code",
   "execution_count": 22,
   "id": "81c5de3b-bec0-41fd-8ded-35b4883f9790",
   "metadata": {},
   "outputs": [
    {
     "data": {
      "text/plain": [
       "numpy.ndarray"
      ]
     },
     "execution_count": 22,
     "metadata": {},
     "output_type": "execute_result"
    }
   ],
   "source": [
    "type(sig_sf)"
   ]
  },
  {
   "cell_type": "markdown",
   "id": "eedf972e-5154-46fe-ba74-11b25b7e5f26",
   "metadata": {},
   "source": [
    "### Train"
   ]
  },
  {
   "cell_type": "code",
   "execution_count": 23,
   "id": "fb470c17-3d1f-4712-9b63-ef000aa26eb6",
   "metadata": {},
   "outputs": [],
   "source": [
    "bkg_sf_arr = np.array(bkg_sf)\n",
    "sig_sf_arr = sig_sf"
   ]
  },
  {
   "cell_type": "code",
   "execution_count": 24,
   "id": "3e71bdfa-7a1d-4bf7-a712-8630831f889b",
   "metadata": {},
   "outputs": [],
   "source": [
    "rng = np.random.default_rng(seed=438290)\n",
    "random_state = rng.integers(0,100000,1)[0]\n",
    "\n",
    "# 8-2 split of train/test set; shuffle the array of SFs accordingly\n",
    "sig_train, sig_test = train_test_split(sig_data,train_size=0.8,random_state=random_state)\n",
    "sig_train_sf, sig_test_sf = train_test_split(sig_sf_arr, train_size=0.8, random_state=random_state)\n",
    "sig_train_xsec_norm, sig_test_xsec_norm = train_test_split(sig_xsec_norm, train_size=0.8, random_state=random_state)\n",
    "sig_train_m1, sig_test_m1 = train_test_split(sig_point['m1'], train_size=0.8, random_state=random_state)\n",
    "sig_train_delta, sig_test_delta = train_test_split(sig_point['delta'], train_size=0.8, random_state=random_state)\n",
    "sig_train_ctau, sig_test_ctau = train_test_split(sig_point['ctau'], train_size=0.8, random_state=random_state)\n",
    "\n",
    "bkg_train, bkg_test = train_test_split(bkg_data,train_size=0.8,random_state=random_state)\n",
    "bkg_train_sf, bkg_test_sf = train_test_split(bkg_sf_arr, train_size=0.8, random_state=random_state)\n",
    "bkg_train_xsec_norm, bkg_test_xsec_norm = train_test_split(bkg_xsec_norm, train_size=0.8, random_state=random_state)\n",
    "\n",
    "bkg_train_m1, bkg_test_m1 = train_test_split(np.zeros(bkg_sf_arr.shape[0]), train_size=0.8, random_state=random_state)\n",
    "bkg_train_delta, bkg_test_delta = train_test_split(np.zeros(bkg_sf_arr.shape[0]), train_size=0.8, random_state=random_state)\n",
    "bkg_train_ctau, bkg_test_ctau = train_test_split(np.zeros(bkg_sf_arr.shape[0]), train_size=0.8, random_state=random_state)\n",
    "\n",
    "train = np.concatenate((sig_train,bkg_train),axis=0)\n",
    "train_sf = np.concatenate((sig_train_sf,bkg_train_sf),axis=0)\n",
    "train_sf = abs(train_sf)  # training sf cannot have negative values, genWgts have negative values, take abs for now, which is not correct :( \n",
    "\n",
    "y_train = np.concatenate((np.ones(len(sig_train)),np.zeros(len(bkg_train))),axis=0)\n",
    "\n",
    "perm = rng.permutation(len(train))\n",
    "train = train[perm]\n",
    "y_train = y_train[perm]\n",
    "dtrain = xgb.DMatrix(train,label=y_train,feature_names=variables)\n",
    "\n",
    "test = np.concatenate((sig_test,bkg_test),axis=0)\n",
    "test_sf = np.concatenate((sig_test_sf,bkg_test_sf),axis=0) # not used\n",
    "\n",
    "test_xsec_norm = np.concatenate((sig_test_xsec_norm, bkg_test_xsec_norm), axis=0)\n",
    "\n",
    "test_m1 = np.concatenate((sig_test_m1,bkg_test_m1),axis=0)\n",
    "test_delta = np.concatenate((sig_test_delta,bkg_test_delta),axis=0)\n",
    "test_ctau = np.concatenate((sig_test_ctau,bkg_test_ctau),axis=0)\n",
    "\n",
    "y_test = np.concatenate((np.ones(len(sig_test)),np.zeros(len(bkg_test))),axis=0)\n",
    "\n",
    "perm = rng.permutation(len(test))\n",
    "test = test[perm]\n",
    "y_test = y_test[perm]\n",
    "test_xsec_norm = test_xsec_norm[perm]\n",
    "test_m1 = test_m1[perm]\n",
    "test_delta = test_delta[perm]\n",
    "test_ctau = test_ctau[perm]\n",
    "\n",
    "dtest = xgb.DMatrix(test,label=y_test,feature_names=variables)"
   ]
  },
  {
   "cell_type": "code",
   "execution_count": null,
   "id": "3fedb5dc-045d-45fe-8f6e-c8541d099f69",
   "metadata": {},
   "outputs": [],
   "source": []
  },
  {
   "cell_type": "code",
   "execution_count": 25,
   "id": "c764f1fb-042a-470c-8abc-a2d27d94955c",
   "metadata": {
    "scrolled": true
   },
   "outputs": [
    {
     "data": {
      "text/plain": [
       "array([100., 100., 100., 100., 100., 100., 100., 100., 100., 100., 100.,\n",
       "       100., 100., 100., 100., 100., 100., 100., 100., 100., 100., 100.,\n",
       "       100., 100., 100., 100., 100., 100., 100., 100., 100., 100., 100.,\n",
       "       100., 100., 100., 100., 100., 100., 100., 100., 100., 100., 100.,\n",
       "       100., 100., 100., 100., 100., 100., 100., 100., 100., 100., 100.,\n",
       "       100., 100., 100., 100., 100., 100., 100., 100., 100., 100., 100.,\n",
       "       100., 100., 100., 100., 100., 100., 100., 100., 100., 100., 100.,\n",
       "       100., 100., 100., 100., 100., 100., 100., 100., 100., 100., 100.,\n",
       "       100., 100., 100., 100., 100., 100., 100., 100., 100., 100., 100.,\n",
       "       100., 100., 100., 100., 100., 100., 100., 100., 100., 100., 100.,\n",
       "       100., 100., 100., 100., 100., 100., 100., 100., 100., 100., 100.,\n",
       "       100., 100., 100., 100., 100., 100., 100., 100., 100., 100., 100.,\n",
       "       100., 100., 100., 100., 100., 100., 100., 100., 100., 100., 100.,\n",
       "       100., 100., 100., 100., 100., 100., 100., 100., 100., 100., 100.,\n",
       "       100., 100., 100., 100., 100., 100., 100., 100., 100., 100., 100.,\n",
       "       100., 100., 100., 100., 100., 100., 100., 100., 100., 100., 100.,\n",
       "       100., 100., 100., 100., 100., 100., 100., 100., 100., 100., 100.,\n",
       "       100., 100., 100., 100., 100., 100., 100., 100., 100., 100., 100.,\n",
       "       100., 100., 100., 100., 100., 100., 100., 100., 100., 100., 100.,\n",
       "       100., 100., 100., 100., 100., 100., 100., 100., 100., 100., 100.,\n",
       "       100., 100., 100., 100., 100., 100., 100., 100., 100., 100., 100.,\n",
       "       100., 100., 100., 100., 100., 100., 100., 100., 100., 100., 100.,\n",
       "       100., 100., 100., 100., 100., 100., 100., 100., 100., 100., 100.,\n",
       "       100., 100., 100., 100., 100., 100., 100., 100., 100., 100., 100.,\n",
       "       100., 100., 100., 100., 100., 100., 100., 100., 100., 100., 100.,\n",
       "       100., 100., 100., 100., 100., 100., 100., 100., 100., 100., 100.,\n",
       "       100., 100., 100., 100., 100., 100., 100., 100., 100., 100., 100.,\n",
       "       100., 100., 100., 100., 100., 100., 100., 100., 100., 100., 100.,\n",
       "       100., 100., 100., 100., 100., 100., 100., 100., 100., 100., 100.,\n",
       "       100., 100., 100., 100., 100., 100., 100., 100., 100., 100., 100.,\n",
       "       100., 100., 100., 100., 100., 100., 100., 100., 100., 100., 100.,\n",
       "       100., 100., 100., 100., 100., 100., 100.])"
      ]
     },
     "execution_count": 25,
     "metadata": {},
     "output_type": "execute_result"
    }
   ],
   "source": [
    "test_ctau[np.where(y_test == 1)] # signal"
   ]
  },
  {
   "cell_type": "code",
   "execution_count": 26,
   "id": "2dcbc8c1-35c2-4e22-ad55-7f80bda1f04e",
   "metadata": {},
   "outputs": [
    {
     "data": {
      "text/plain": [
       "array([0., 0., 0., ..., 0., 0., 0.])"
      ]
     },
     "execution_count": 26,
     "metadata": {},
     "output_type": "execute_result"
    }
   ],
   "source": [
    "test_ctau[np.where(y_test == 0)] # bkg; should all be zeros by construction, printing out to check if this is the case (not messed up by random_state)"
   ]
  },
  {
   "cell_type": "code",
   "execution_count": 27,
   "id": "31683e2a-13a9-4e41-9c58-38e278985774",
   "metadata": {},
   "outputs": [
    {
     "data": {
      "text/html": [
       "<style>#sk-container-id-1 {color: black;background-color: white;}#sk-container-id-1 pre{padding: 0;}#sk-container-id-1 div.sk-toggleable {background-color: white;}#sk-container-id-1 label.sk-toggleable__label {cursor: pointer;display: block;width: 100%;margin-bottom: 0;padding: 0.3em;box-sizing: border-box;text-align: center;}#sk-container-id-1 label.sk-toggleable__label-arrow:before {content: \"▸\";float: left;margin-right: 0.25em;color: #696969;}#sk-container-id-1 label.sk-toggleable__label-arrow:hover:before {color: black;}#sk-container-id-1 div.sk-estimator:hover label.sk-toggleable__label-arrow:before {color: black;}#sk-container-id-1 div.sk-toggleable__content {max-height: 0;max-width: 0;overflow: hidden;text-align: left;background-color: #f0f8ff;}#sk-container-id-1 div.sk-toggleable__content pre {margin: 0.2em;color: black;border-radius: 0.25em;background-color: #f0f8ff;}#sk-container-id-1 input.sk-toggleable__control:checked~div.sk-toggleable__content {max-height: 200px;max-width: 100%;overflow: auto;}#sk-container-id-1 input.sk-toggleable__control:checked~label.sk-toggleable__label-arrow:before {content: \"▾\";}#sk-container-id-1 div.sk-estimator input.sk-toggleable__control:checked~label.sk-toggleable__label {background-color: #d4ebff;}#sk-container-id-1 div.sk-label input.sk-toggleable__control:checked~label.sk-toggleable__label {background-color: #d4ebff;}#sk-container-id-1 input.sk-hidden--visually {border: 0;clip: rect(1px 1px 1px 1px);clip: rect(1px, 1px, 1px, 1px);height: 1px;margin: -1px;overflow: hidden;padding: 0;position: absolute;width: 1px;}#sk-container-id-1 div.sk-estimator {font-family: monospace;background-color: #f0f8ff;border: 1px dotted black;border-radius: 0.25em;box-sizing: border-box;margin-bottom: 0.5em;}#sk-container-id-1 div.sk-estimator:hover {background-color: #d4ebff;}#sk-container-id-1 div.sk-parallel-item::after {content: \"\";width: 100%;border-bottom: 1px solid gray;flex-grow: 1;}#sk-container-id-1 div.sk-label:hover label.sk-toggleable__label {background-color: #d4ebff;}#sk-container-id-1 div.sk-serial::before {content: \"\";position: absolute;border-left: 1px solid gray;box-sizing: border-box;top: 0;bottom: 0;left: 50%;z-index: 0;}#sk-container-id-1 div.sk-serial {display: flex;flex-direction: column;align-items: center;background-color: white;padding-right: 0.2em;padding-left: 0.2em;position: relative;}#sk-container-id-1 div.sk-item {position: relative;z-index: 1;}#sk-container-id-1 div.sk-parallel {display: flex;align-items: stretch;justify-content: center;background-color: white;position: relative;}#sk-container-id-1 div.sk-item::before, #sk-container-id-1 div.sk-parallel-item::before {content: \"\";position: absolute;border-left: 1px solid gray;box-sizing: border-box;top: 0;bottom: 0;left: 50%;z-index: -1;}#sk-container-id-1 div.sk-parallel-item {display: flex;flex-direction: column;z-index: 1;position: relative;background-color: white;}#sk-container-id-1 div.sk-parallel-item:first-child::after {align-self: flex-end;width: 50%;}#sk-container-id-1 div.sk-parallel-item:last-child::after {align-self: flex-start;width: 50%;}#sk-container-id-1 div.sk-parallel-item:only-child::after {width: 0;}#sk-container-id-1 div.sk-dashed-wrapped {border: 1px dashed gray;margin: 0 0.4em 0.5em 0.4em;box-sizing: border-box;padding-bottom: 0.4em;background-color: white;}#sk-container-id-1 div.sk-label label {font-family: monospace;font-weight: bold;display: inline-block;line-height: 1.2em;}#sk-container-id-1 div.sk-label-container {text-align: center;}#sk-container-id-1 div.sk-container {/* jupyter's `normalize.less` sets `[hidden] { display: none; }` but bootstrap.min.css set `[hidden] { display: none !important; }` so we also need the `!important` here to be able to override the default hidden behavior on the sphinx rendered scikit-learn.org. See: https://github.com/scikit-learn/scikit-learn/issues/21755 */display: inline-block !important;position: relative;}#sk-container-id-1 div.sk-text-repr-fallback {display: none;}</style><div id=\"sk-container-id-1\" class=\"sk-top-container\"><div class=\"sk-text-repr-fallback\"><pre>XGBRegressor(base_score=None, booster=None, callbacks=None,\n",
       "             colsample_bylevel=None, colsample_bynode=None,\n",
       "             colsample_bytree=None, early_stopping_rounds=None,\n",
       "             enable_categorical=False, eval_metric=None, feature_types=None,\n",
       "             gamma=None, gpu_id=None, grow_policy=None, importance_type=None,\n",
       "             interaction_constraints=None, learning_rate=0.05, max_bin=None,\n",
       "             max_cat_threshold=None, max_cat_to_onehot=None,\n",
       "             max_delta_step=None, max_depth=10, max_leaves=None,\n",
       "             min_child_weight=None, missing=nan, monotone_constraints=None,\n",
       "             n_estimators=100, n_jobs=None, num_parallel_tree=None,\n",
       "             objective=&#x27;binary:logistic&#x27;, predictor=None, ...)</pre><b>In a Jupyter environment, please rerun this cell to show the HTML representation or trust the notebook. <br />On GitHub, the HTML representation is unable to render, please try loading this page with nbviewer.org.</b></div><div class=\"sk-container\" hidden><div class=\"sk-item\"><div class=\"sk-estimator sk-toggleable\"><input class=\"sk-toggleable__control sk-hidden--visually\" id=\"sk-estimator-id-1\" type=\"checkbox\" checked><label for=\"sk-estimator-id-1\" class=\"sk-toggleable__label sk-toggleable__label-arrow\">XGBRegressor</label><div class=\"sk-toggleable__content\"><pre>XGBRegressor(base_score=None, booster=None, callbacks=None,\n",
       "             colsample_bylevel=None, colsample_bynode=None,\n",
       "             colsample_bytree=None, early_stopping_rounds=None,\n",
       "             enable_categorical=False, eval_metric=None, feature_types=None,\n",
       "             gamma=None, gpu_id=None, grow_policy=None, importance_type=None,\n",
       "             interaction_constraints=None, learning_rate=0.05, max_bin=None,\n",
       "             max_cat_threshold=None, max_cat_to_onehot=None,\n",
       "             max_delta_step=None, max_depth=10, max_leaves=None,\n",
       "             min_child_weight=None, missing=nan, monotone_constraints=None,\n",
       "             n_estimators=100, n_jobs=None, num_parallel_tree=None,\n",
       "             objective=&#x27;binary:logistic&#x27;, predictor=None, ...)</pre></div></div></div></div></div>"
      ],
      "text/plain": [
       "XGBRegressor(base_score=None, booster=None, callbacks=None,\n",
       "             colsample_bylevel=None, colsample_bynode=None,\n",
       "             colsample_bytree=None, early_stopping_rounds=None,\n",
       "             enable_categorical=False, eval_metric=None, feature_types=None,\n",
       "             gamma=None, gpu_id=None, grow_policy=None, importance_type=None,\n",
       "             interaction_constraints=None, learning_rate=0.05, max_bin=None,\n",
       "             max_cat_threshold=None, max_cat_to_onehot=None,\n",
       "             max_delta_step=None, max_depth=10, max_leaves=None,\n",
       "             min_child_weight=None, missing=nan, monotone_constraints=None,\n",
       "             n_estimators=100, n_jobs=None, num_parallel_tree=None,\n",
       "             objective='binary:logistic', predictor=None, ...)"
      ]
     },
     "execution_count": 27,
     "metadata": {},
     "output_type": "execute_result"
    }
   ],
   "source": [
    "bst = xgb.XGBRegressor(n_estimators=100, max_depth=10, learning_rate=0.05, objective='binary:logistic')\n",
    "\n",
    "# fit model\n",
    "bst.fit(train, y_train, sample_weight=train_sf)\n",
    "#bst.fit(train, y_train)"
   ]
  },
  {
   "cell_type": "code",
   "execution_count": 28,
   "id": "ec8b8894-dff0-449f-8db3-13d89ab69ab5",
   "metadata": {},
   "outputs": [],
   "source": [
    "# make predictions\n",
    "preds = bst.predict(test)"
   ]
  },
  {
   "cell_type": "code",
   "execution_count": 29,
   "id": "68d2aac2-8651-4930-b31a-2f411833a1db",
   "metadata": {},
   "outputs": [
    {
     "data": {
      "text/plain": [
       "0"
      ]
     },
     "execution_count": 29,
     "metadata": {},
     "output_type": "execute_result"
    }
   ],
   "source": [
    "os.system('mkdir -p plots')"
   ]
  },
  {
   "cell_type": "code",
   "execution_count": 30,
   "id": "e14d4a8e-a9a4-44b7-881f-7639f050ba65",
   "metadata": {},
   "outputs": [
    {
     "data": {
      "image/png": "[encoded data removed]",
      "text/plain": [
       "<Figure size 640x480 with 1 Axes>"
      ]
     },
     "metadata": {},
     "output_type": "display_data"
    }
   ],
   "source": [
    "bins = 50\n",
    "\n",
    "h,bins,_ = plt.hist(preds[y_test==0],bins=bins,density=True,histtype='step', label='Background')\n",
    "h,bins,_ = plt.hist(preds[y_test==1],bins=bins,density=True,histtype='step', label='Signal')\n",
    "\n",
    "plt.legend()\n",
    "plt.title('BDT Prediction for the Test Dataset')\n",
    "\n",
    "plt.ylabel('A.U.')\n",
    "plt.savefig('plots/BDTv1_ctau-100_score.png')\n",
    "plt.yscale('log')"
   ]
  },
  {
   "cell_type": "code",
   "execution_count": 31,
   "id": "697a6006-c365-4d3b-9b8c-a652e7ea5e7a",
   "metadata": {},
   "outputs": [
    {
     "data": {
      "image/png": "[encoded data removed]",
      "text/plain": [
       "<Figure size 640x480 with 1 Axes>"
      ]
     },
     "metadata": {},
     "output_type": "display_data"
    },
    {
     "data": {
      "image/png": "[encoded data removed]",
      "text/plain": [
       "<Figure size 640x480 with 1 Axes>"
      ]
     },
     "metadata": {},
     "output_type": "display_data"
    }
   ],
   "source": [
    "# Label the feature importance plot: replace, i.e. f1 with the variable name lead_jet_pt\n",
    "label_dict = {}\n",
    "\n",
    "for idx, var in enumerate(variables):\n",
    "    label_dict['f{}'.format(idx)] = var\n",
    "#print(label_dict)\n",
    "\n",
    "# Plot importance\n",
    "\n",
    "xgb.plot_importance(bst)\n",
    "\n",
    "ticks = [ item.get_text() for item in plt.gca().get_yticklabels() ]\n",
    "#print(ticks)\n",
    "relabel = [ label_dict[tick] for tick in ticks ]\n",
    "#print(relabel)\n",
    "\n",
    "# Plot importance with axis with variable names\n",
    "xgb.plot_importance(bst).set_yticklabels(relabel)\n",
    "plt.savefig('plots/BDTv1_ctau-100_importance_bst.png', bbox_inches = \"tight\")"
   ]
  },
  {
   "cell_type": "code",
   "execution_count": null,
   "id": "c08f9a0f-d9ba-401a-93c6-28ee5fd86abf",
   "metadata": {},
   "outputs": [],
   "source": []
  },
  {
   "cell_type": "code",
   "execution_count": 32,
   "id": "031d943b-28d8-4110-b888-78cdbe48126e",
   "metadata": {},
   "outputs": [
    {
     "data": {
      "image/png": "[encoded data removed]",
      "text/plain": [
       "<Figure size 640x480 with 1 Axes>"
      ]
     },
     "metadata": {},
     "output_type": "display_data"
    }
   ],
   "source": [
    "# ROC\n",
    "from sklearn.metrics import roc_auc_score, classification_report, accuracy_score, roc_curve, confusion_matrix, average_precision_score, precision_recall_curve\n",
    "\n",
    "# make predictions\n",
    "\n",
    "fpr, tpr, thresholds = roc_curve(y_test, preds)\n",
    "auc = roc_auc_score(y_test, preds)\n",
    "precision, recall, thresholds2 = precision_recall_curve(y_test, preds)\n",
    "\n",
    "plt.plot(fpr, tpr, color = \"red\", label = F\"AUC = {auc:.4f}\")\n",
    "\n",
    "plt.plot([0,1], [0,1] , color = \"black\", ls = \"--\")\n",
    "plt.xlim([-0.01, 1.01])\n",
    "plt.ylim([-0.01, 1.01])\n",
    "plt.xlabel('FPR' , fontsize=12)\n",
    "plt.ylabel('TPR' , fontsize=12)\n",
    "plt.tick_params(axis='both', which='major', labelsize=12)\n",
    "plt.legend( prop={'size':12} , loc = 4)\n",
    "plt.savefig('plots/BDTv1_ctau-100_roc_curve.png')"
   ]
  },
  {
   "cell_type": "code",
   "execution_count": null,
   "id": "61b0d67d-f332-46b9-acc5-ce8482ad30c9",
   "metadata": {},
   "outputs": [],
   "source": []
  },
  {
   "cell_type": "markdown",
   "id": "7b6ef9da-590b-4595-a6b7-3df8b073b325",
   "metadata": {},
   "source": [
    "### Save and load"
   ]
  },
  {
   "cell_type": "code",
   "execution_count": 33,
   "id": "1da817e6-098f-4bcc-984c-d64a04f15235",
   "metadata": {},
   "outputs": [],
   "source": [
    "bst.save_model('models/BDTv1_ctau-100_5to50.json')"
   ]
  },
  {
   "cell_type": "code",
   "execution_count": 34,
   "id": "e6fcc07a-b2f2-48d2-9e5e-5e285006d298",
   "metadata": {},
   "outputs": [],
   "source": [
    "trained_model = xgb.XGBRegressor()\n",
    "trained_model.load_model(\"models/BDTv1_ctau-100_5to50.json\")"
   ]
  },
  {
   "cell_type": "code",
   "execution_count": 35,
   "id": "e52b8158-fb69-4e52-bd7b-ac5153ed02d3",
   "metadata": {},
   "outputs": [],
   "source": [
    "prediction = trained_model.predict(test)"
   ]
  },
  {
   "cell_type": "code",
   "execution_count": 36,
   "id": "e9b54f49-b13e-47d7-bb0a-db4fd04618cc",
   "metadata": {},
   "outputs": [
    {
     "data": {
      "image/png": "[encoded data removed]",
      "text/plain": [
       "<Figure size 640x480 with 1 Axes>"
      ]
     },
     "metadata": {},
     "output_type": "display_data"
    }
   ],
   "source": [
    "bins = 50\n",
    "\n",
    "h,bins,_ = plt.hist(prediction[y_test==0],bins=bins,density=True,histtype='step', label='Background')\n",
    "h,bins,_ = plt.hist(prediction[y_test==1],bins=bins,density=True,histtype='step', label='Signal')\n",
    "\n",
    "plt.legend()\n",
    "plt.title('BDT Prediction for the Test Dataset (model loaded)')\n",
    "\n",
    "plt.ylabel('A.U.')\n",
    "plt.yscale('log')"
   ]
  },
  {
   "cell_type": "code",
   "execution_count": 37,
   "id": "432b0c48-5e4f-4884-863f-58b5edca768a",
   "metadata": {},
   "outputs": [
    {
     "data": {
      "text/plain": [
       "[Text(0, 0, 'sel_vtx_sign'),\n",
       " Text(0, 1, 'jetMETdPhi'),\n",
       " Text(0, 2, 'lead_jet_eta'),\n",
       " Text(0, 3, 'lead_jet_pt'),\n",
       " Text(0, 4, 'minJetMETdPhi'),\n",
       " Text(0, 5, 'sel_vtx_m'),\n",
       " Text(0, 6, 'sel_vtx_chi2'),\n",
       " Text(0, 7, 'sel_vtx_METdPhi'),\n",
       " Text(0, 8, 'sel_vtx_minDxy'),\n",
       " Text(0, 9, 'sel_vtx_dR')]"
      ]
     },
     "execution_count": 37,
     "metadata": {},
     "output_type": "execute_result"
    },
    {
     "data": {
      "image/png": "[encoded data removed]",
      "text/plain": [
       "<Figure size 640x480 with 1 Axes>"
      ]
     },
     "metadata": {},
     "output_type": "display_data"
    },
    {
     "data": {
      "image/png": "[encoded data removed]",
      "text/plain": [
       "<Figure size 640x480 with 1 Axes>"
      ]
     },
     "metadata": {},
     "output_type": "display_data"
    }
   ],
   "source": [
    "# Label the feature importance plot: replace, i.e. f1 with the variable name lead_jet_pt\n",
    "label_dict = {}\n",
    "\n",
    "for idx, var in enumerate(variables):\n",
    "    label_dict['f{}'.format(idx)] = var\n",
    "#print(label_dict)\n",
    "\n",
    "# Plot importance\n",
    "\n",
    "xgb.plot_importance(trained_model)\n",
    "\n",
    "ticks = [ item.get_text() for item in plt.gca().get_yticklabels() ]\n",
    "#print(ticks)\n",
    "relabel = [ label_dict[tick] for tick in ticks ]\n",
    "#print(relabel)\n",
    "\n",
    "# Plot importance with axis with variable names\n",
    "xgb.plot_importance(trained_model).set_yticklabels(relabel)\n",
    "#plt.savefig('plots/importance_bst_weighted.png', bbox_inches = \"tight\")"
   ]
  },
  {
   "cell_type": "code",
   "execution_count": 38,
   "id": "05764870-0322-4193-8961-69c1a60526b7",
   "metadata": {},
   "outputs": [
    {
     "data": {
      "text/plain": [
       "<matplotlib.legend.Legend at 0x7f1dc9364d30>"
      ]
     },
     "execution_count": 38,
     "metadata": {},
     "output_type": "execute_result"
    },
    {
     "data": {
      "image/png": "[encoded data removed]",
      "text/plain": [
       "<Figure size 640x480 with 1 Axes>"
      ]
     },
     "metadata": {},
     "output_type": "display_data"
    }
   ],
   "source": [
    "# ROC\n",
    "from sklearn.metrics import roc_auc_score, classification_report, accuracy_score, roc_curve, confusion_matrix, average_precision_score, precision_recall_curve\n",
    "\n",
    "# make predictions\n",
    "\n",
    "fpr, tpr, thresholds = roc_curve(y_test, prediction)\n",
    "auc = roc_auc_score(y_test, prediction)\n",
    "precision, recall, thresholds2 = precision_recall_curve(y_test, prediction)\n",
    "\n",
    "plt.plot(fpr, tpr, color = \"red\", label = F\"AUC = {auc:.4f}\")\n",
    "\n",
    "plt.plot([0,1], [0,1] , color = \"black\", ls = \"--\")\n",
    "plt.xlim([-0.01, 1.01])\n",
    "plt.ylim([-0.01, 1.01])\n",
    "plt.xlabel('FPR' , fontsize=12)\n",
    "plt.ylabel('TPR' , fontsize=12)\n",
    "plt.tick_params(axis='both', which='major', labelsize=12)\n",
    "plt.legend( prop={'size':12} , loc = 4)\n",
    "#plt.savefig('plots/roc_curve_weighted_training.png')"
   ]
  },
  {
   "cell_type": "code",
   "execution_count": null,
   "id": "36ea7c12-6a58-46f9-9081-082d21a266e1",
   "metadata": {},
   "outputs": [],
   "source": []
  },
  {
   "cell_type": "markdown",
   "id": "9c4de31a-2d67-4f3d-bea6-0cb84a18ea0c",
   "metadata": {},
   "source": [
    "### WP"
   ]
  },
  {
   "cell_type": "code",
   "execution_count": 39,
   "id": "777ff2c4-17c4-4922-9d7a-ff0417ed85eb",
   "metadata": {},
   "outputs": [],
   "source": [
    "idx_valid = thresholds < 1\n",
    "\n",
    "tpr = tpr[idx_valid]\n",
    "thresholds = thresholds[idx_valid]"
   ]
  },
  {
   "cell_type": "code",
   "execution_count": 40,
   "id": "3222ca72-fff9-4985-998f-0b888b1e0c38",
   "metadata": {},
   "outputs": [],
   "source": [
    "tpr_WP = {'tight': 0.7, 'medium': 0.8, 'loose': 0.9}\n",
    "thres_WP = {'tight': 0, 'medium': 0, 'loose': 0}"
   ]
  },
  {
   "cell_type": "code",
   "execution_count": 41,
   "id": "bedfa9cd-7891-4558-8d61-7c52da2444df",
   "metadata": {},
   "outputs": [
    {
     "name": "stdout",
     "output_type": "stream",
     "text": [
      "tight threshold: 0.7973941564559937\n",
      "medium threshold: 0.47637277841567993\n",
      "loose threshold: 0.16969925165176392\n"
     ]
    }
   ],
   "source": [
    "epsilon = 0.01\n",
    "\n",
    "for wp in tpr_WP.keys():    \n",
    "    idx = np.where((tpr > tpr_WP[wp] - epsilon) & (tpr < tpr_WP[wp] + epsilon))\n",
    "    \n",
    "    thres_WP[wp] = thresholds[idx].mean()\n",
    "\n",
    "    print(f'{wp} threshold: {thres_WP[wp]}')"
   ]
  },
  {
   "cell_type": "markdown",
   "id": "6a97a0d4-6385-4227-8fc0-34f2c3e2ca3f",
   "metadata": {},
   "source": [
    "### TPR"
   ]
  },
  {
   "cell_type": "code",
   "execution_count": 42,
   "id": "e3b3144a-4de0-4847-80a2-d8d19f64356a",
   "metadata": {},
   "outputs": [
    {
     "name": "stdout",
     "output_type": "stream",
     "text": [
      "\n",
      "tight pass\n",
      "TPR: 242 / 348 = 0.6954022988505747\n",
      "FPR: 10 / 34985 = 0.0002858367871945119\n",
      "\n",
      "medium pass\n",
      "TPR: 275 / 348 = 0.7902298850574713\n",
      "FPR: 17 / 34985 = 0.0004859225382306703\n",
      "\n",
      "loose pass\n",
      "TPR: 313 / 348 = 0.8994252873563219\n",
      "FPR: 51 / 34985 = 0.0014577676146920108\n"
     ]
    }
   ],
   "source": [
    "# BDT scores for the signal\n",
    "nPass_sig = {'tight': 0, 'medium': 0, 'loose': 0}\n",
    "nPass_bkg = {'tight': 0, 'medium': 0, 'loose': 0}\n",
    "\n",
    "for wp in nPass_sig.keys():\n",
    "    nPass_sig[wp] = np.sum(preds[np.where(y_test==1)] > thres_WP[wp])\n",
    "    nPass_bkg[wp] = np.sum(preds[np.where(y_test==0)] > thres_WP[wp])\n",
    "    \n",
    "    print(f'\\n{wp} pass')\n",
    "    print(f'TPR: {nPass_sig[wp]} / {len(preds[np.where(y_test==1)])} = {nPass_sig[wp]/len(preds[np.where(y_test==1)])}')\n",
    "    print(f'FPR: {nPass_bkg[wp]} / {len(preds[np.where(y_test==0)])} = {nPass_bkg[wp]/len(preds[np.where(y_test==0)])}')"
   ]
  },
  {
   "cell_type": "code",
   "execution_count": null,
   "id": "450a077b-66f4-4136-8545-994722d09398",
   "metadata": {},
   "outputs": [],
   "source": []
  },
  {
   "cell_type": "code",
   "execution_count": 43,
   "id": "4fde413e-308c-4d62-a0cb-c6d92c5a65b1",
   "metadata": {},
   "outputs": [
    {
     "name": "stdout",
     "output_type": "stream",
     "text": [
      "\n",
      "tight pass\n",
      "TPR: 25 / 31 = 0.8064516129032258\n",
      "FPR: 10 / 34985 = 0.0002858367871945119\n",
      "\n",
      "medium pass\n",
      "TPR: 26 / 31 = 0.8387096774193549\n",
      "FPR: 17 / 34985 = 0.0004859225382306703\n",
      "\n",
      "loose pass\n",
      "TPR: 28 / 31 = 0.9032258064516129\n",
      "FPR: 51 / 34985 = 0.0014577676146920108\n"
     ]
    }
   ],
   "source": [
    "# for a given point\n",
    "m1 = 30.\n",
    "delta = 0.1\n",
    "ctau = 100.\n",
    "\n",
    "nPass_sig_sigpoint = {'tight': 0, 'medium': 0, 'loose': 0}\n",
    "nPass_bkg_sigpoint = {'tight': 0, 'medium': 0, 'loose': 0}\n",
    "\n",
    "for wp in nPass_sig.keys():\n",
    "    sig_idx = np.where(((y_test==1) & (test_m1 == m1)) & ((test_delta == delta) & (test_ctau == ctau)))\n",
    "    bkg_idx = np.where(y_test==0)\n",
    "    \n",
    "    nPass_sig_sigpoint[wp] = np.sum(preds[sig_idx] > thres_WP[wp])\n",
    "    nPass_bkg_sigpoint[wp] = np.sum(preds[bkg_idx] > thres_WP[wp])\n",
    "    \n",
    "    print(f'\\n{wp} pass')\n",
    "    print(f'TPR: {nPass_sig_sigpoint[wp]} / {len(preds[sig_idx])} = {nPass_sig_sigpoint[wp]/len(preds[sig_idx])}')\n",
    "    print(f'FPR: {nPass_bkg_sigpoint[wp]} / {len(preds[bkg_idx])} = {nPass_bkg_sigpoint[wp]/len(preds[bkg_idx])}')"
   ]
  },
  {
   "cell_type": "markdown",
   "id": "1b31c762-b9cb-44cd-bf18-5be06cc7a678",
   "metadata": {},
   "source": [
    "### TPR per signal point"
   ]
  },
  {
   "cell_type": "code",
   "execution_count": 44,
   "id": "59b5fa1d-94f8-4b5f-a304-9d8020d6a43f",
   "metadata": {
    "scrolled": true
   },
   "outputs": [
    {
     "name": "stdout",
     "output_type": "stream",
     "text": [
      "m1 = 5.0, delta = 0.1, ct = 100.0\n",
      "TPR: 6 / 20 = 0.3\n",
      "m1 = 5.0, delta = 0.1, ct = 100.0\n",
      "TPR: 10 / 20 = 0.5\n",
      "m1 = 5.0, delta = 0.1, ct = 100.0\n",
      "TPR: 16 / 20 = 0.8\n",
      "m1 = 10.0, delta = 0.1, ct = 100.0\n",
      "TPR: 18 / 30 = 0.6\n",
      "m1 = 10.0, delta = 0.1, ct = 100.0\n",
      "TPR: 25 / 30 = 0.8333333333333334\n",
      "m1 = 10.0, delta = 0.1, ct = 100.0\n",
      "TPR: 27 / 30 = 0.9\n",
      "m1 = 20.0, delta = 0.1, ct = 100.0\n",
      "TPR: 10 / 15 = 0.6666666666666666\n",
      "m1 = 20.0, delta = 0.1, ct = 100.0\n",
      "TPR: 11 / 15 = 0.7333333333333333\n",
      "m1 = 20.0, delta = 0.1, ct = 100.0\n",
      "TPR: 14 / 15 = 0.9333333333333333\n",
      "m1 = 30.0, delta = 0.1, ct = 100.0\n",
      "TPR: 25 / 31 = 0.8064516129032258\n",
      "m1 = 30.0, delta = 0.1, ct = 100.0\n",
      "TPR: 26 / 31 = 0.8387096774193549\n",
      "m1 = 30.0, delta = 0.1, ct = 100.0\n",
      "TPR: 28 / 31 = 0.9032258064516129\n",
      "m1 = 40.0, delta = 0.1, ct = 100.0\n",
      "TPR: 43 / 55 = 0.7818181818181819\n",
      "m1 = 40.0, delta = 0.1, ct = 100.0\n",
      "TPR: 46 / 55 = 0.8363636363636363\n",
      "m1 = 40.0, delta = 0.1, ct = 100.0\n",
      "TPR: 51 / 55 = 0.9272727272727272\n",
      "m1 = 50.0, delta = 0.1, ct = 100.0\n",
      "TPR: 57 / 77 = 0.7402597402597403\n",
      "m1 = 50.0, delta = 0.1, ct = 100.0\n",
      "TPR: 63 / 77 = 0.8181818181818182\n",
      "m1 = 50.0, delta = 0.1, ct = 100.0\n",
      "TPR: 69 / 77 = 0.8961038961038961\n",
      "m1 = 5.0, delta = 0.2, ct = 100.0\n",
      "TPR: 3 / 5 = 0.6\n",
      "m1 = 5.0, delta = 0.2, ct = 100.0\n",
      "TPR: 3 / 5 = 0.6\n",
      "m1 = 5.0, delta = 0.2, ct = 100.0\n",
      "TPR: 4 / 5 = 0.8\n",
      "m1 = 10.0, delta = 0.2, ct = 100.0\n",
      "TPR: 4 / 6 = 0.6666666666666666\n",
      "m1 = 10.0, delta = 0.2, ct = 100.0\n",
      "TPR: 5 / 6 = 0.8333333333333334\n",
      "m1 = 10.0, delta = 0.2, ct = 100.0\n",
      "TPR: 5 / 6 = 0.8333333333333334\n",
      "m1 = 20.0, delta = 0.2, ct = 100.0\n",
      "TPR: 17 / 24 = 0.7083333333333334\n",
      "m1 = 20.0, delta = 0.2, ct = 100.0\n",
      "TPR: 20 / 24 = 0.8333333333333334\n",
      "m1 = 20.0, delta = 0.2, ct = 100.0\n",
      "TPR: 23 / 24 = 0.9583333333333334\n",
      "m1 = 30.0, delta = 0.2, ct = 100.0\n",
      "TPR: 11 / 17 = 0.6470588235294118\n",
      "m1 = 30.0, delta = 0.2, ct = 100.0\n",
      "TPR: 11 / 17 = 0.6470588235294118\n",
      "m1 = 30.0, delta = 0.2, ct = 100.0\n",
      "TPR: 15 / 17 = 0.8823529411764706\n",
      "m1 = 40.0, delta = 0.2, ct = 100.0\n",
      "TPR: 23 / 32 = 0.71875\n",
      "m1 = 40.0, delta = 0.2, ct = 100.0\n",
      "TPR: 25 / 32 = 0.78125\n",
      "m1 = 40.0, delta = 0.2, ct = 100.0\n",
      "TPR: 28 / 32 = 0.875\n",
      "m1 = 50.0, delta = 0.2, ct = 100.0\n",
      "TPR: 25 / 36 = 0.6944444444444444\n",
      "m1 = 50.0, delta = 0.2, ct = 100.0\n",
      "TPR: 30 / 36 = 0.8333333333333334\n",
      "m1 = 50.0, delta = 0.2, ct = 100.0\n",
      "TPR: 33 / 36 = 0.9166666666666666\n"
     ]
    }
   ],
   "source": [
    "tpr_raw = { '0.1': {'ct-1': {'tight':[], 'medium':[], 'loose':[]}, 'ct-10': {'tight':[], 'medium':[], 'loose':[]}, 'ct-100': {'tight':[], 'medium':[], 'loose':[]}}, \\\n",
    "            '0.2': {'ct-1': {'tight':[], 'medium':[], 'loose':[]}, 'ct-10': {'tight':[], 'medium':[], 'loose':[]}, 'ct-100': {'tight':[], 'medium':[], 'loose':[]}}\n",
    "          }\n",
    "\n",
    "for ctau in [100.]:\n",
    "    for delta in [0.1, 0.2]:\n",
    "        for m1 in [5., 10., 20., 30., 40., 50.]:\n",
    "            nPass_sig_raw_sigpoint = {'tight': 0, 'medium': 0, 'loose': 0}\n",
    "            nPass_bkg_raw_sigpoint = {'tight': 0, 'medium': 0, 'loose': 0}\n",
    "            \n",
    "            for wp in nPass_sig.keys():\n",
    "                sig_idx = np.where(((y_test==1) & (test_m1 == m1)) & ((test_delta == delta) & (test_ctau == ctau)))\n",
    "                bkg_idx = np.where(y_test==0)\n",
    "                \n",
    "                nPass_sig_raw_sigpoint[wp] = np.sum(preds[sig_idx] > thres_WP[wp])\n",
    "                nPass_bkg_raw_sigpoint[wp] = np.sum(preds[bkg_idx] > thres_WP[wp])\n",
    "\n",
    "                if len(sig_idx[0]) == 0:\n",
    "                    tpr_raw[f'{delta}'][f'ct-{int(ctau)}'][wp].append(0)\n",
    "                    continue\n",
    "                \n",
    "                print(f'm1 = {m1}, delta = {delta}, ct = {ctau}')\n",
    "                print(f'TPR: {nPass_sig_raw_sigpoint[wp]} / {len(sig_idx[0])} = {nPass_sig_raw_sigpoint[wp]/len(sig_idx[0])}')\n",
    "\n",
    "                tpr_raw[f'{delta}'][f'ct-{int(ctau)}'][wp].append(nPass_sig_raw_sigpoint[wp]/len(sig_idx[0]))"
   ]
  },
  {
   "cell_type": "code",
   "execution_count": 45,
   "id": "9d92ac64-4611-4cd1-a187-eec900a885d8",
   "metadata": {
    "scrolled": true
   },
   "outputs": [
    {
     "data": {
      "text/plain": [
       "{'0.1': {'ct-1': {'tight': [], 'medium': [], 'loose': []},\n",
       "  'ct-10': {'tight': [], 'medium': [], 'loose': []},\n",
       "  'ct-100': {'tight': [0.3,\n",
       "    0.6,\n",
       "    0.6666666666666666,\n",
       "    0.8064516129032258,\n",
       "    0.7818181818181819,\n",
       "    0.7402597402597403],\n",
       "   'medium': [0.5,\n",
       "    0.8333333333333334,\n",
       "    0.7333333333333333,\n",
       "    0.8387096774193549,\n",
       "    0.8363636363636363,\n",
       "    0.8181818181818182],\n",
       "   'loose': [0.8,\n",
       "    0.9,\n",
       "    0.9333333333333333,\n",
       "    0.9032258064516129,\n",
       "    0.9272727272727272,\n",
       "    0.8961038961038961]}},\n",
       " '0.2': {'ct-1': {'tight': [], 'medium': [], 'loose': []},\n",
       "  'ct-10': {'tight': [], 'medium': [], 'loose': []},\n",
       "  'ct-100': {'tight': [0.6,\n",
       "    0.6666666666666666,\n",
       "    0.7083333333333334,\n",
       "    0.6470588235294118,\n",
       "    0.71875,\n",
       "    0.6944444444444444],\n",
       "   'medium': [0.6,\n",
       "    0.8333333333333334,\n",
       "    0.8333333333333334,\n",
       "    0.6470588235294118,\n",
       "    0.78125,\n",
       "    0.8333333333333334],\n",
       "   'loose': [0.8,\n",
       "    0.8333333333333334,\n",
       "    0.9583333333333334,\n",
       "    0.8823529411764706,\n",
       "    0.875,\n",
       "    0.9166666666666666]}}}"
      ]
     },
     "execution_count": 45,
     "metadata": {},
     "output_type": "execute_result"
    }
   ],
   "source": [
    "tpr_raw"
   ]
  },
  {
   "cell_type": "code",
   "execution_count": null,
   "id": "59d6fb5d-112d-47ff-b1f9-77de8ba1ad6b",
   "metadata": {},
   "outputs": [
    {
     "data": {
      "image/png": "[encoded data removed]",
      "text/plain": [
       "<Figure size 640x480 with 1 Axes>"
      ]
     },
     "metadata": {},
     "output_type": "display_data"
    },
    {
     "data": {
      "image/png": "[encoded data removed]",
      "text/plain": [
       "<Figure size 640x480 with 1 Axes>"
      ]
     },
     "metadata": {},
     "output_type": "display_data"
    },
    {
     "data": {
      "image/png": "[encoded data removed]",
      "text/plain": [
       "<Figure size 640x480 with 1 Axes>"
      ]
     },
     "metadata": {},
     "output_type": "display_data"
    },
    {
     "data": {
      "image/png": "[encoded data removed]",
      "text/plain": [
       "<Figure size 640x480 with 1 Axes>"
      ]
     },
     "metadata": {},
     "output_type": "display_data"
    }
   ],
   "source": [
    "for wp in ['loose', 'medium', 'tight']:\n",
    "    for delta in ['0.1', '0.2']:\n",
    "        fig, ax = plt.subplots(1)\n",
    "      \n",
    "        arr = np.array([tpr_raw[delta]['ct-100'][wp]])\n",
    "        \n",
    "        ax.imshow(arr, interpolation ='none', cmap='jet', vmin=0, vmax=1)\n",
    "        \n",
    "        #plt.colorbar(im)\n",
    "        \n",
    "        for (j,i),label in np.ndenumerate(arr):\n",
    "            label = '{:.2f}'.format(label)\n",
    "            ax.text(i,j,label,ha='center',va='center')\n",
    "        \n",
    "        plt.title(f'TPR; Delta = {delta}, {wp} WP Threshold')\n",
    "        plt.ylabel('ctau')\n",
    "        plt.xlabel('M1')\n",
    "        \n",
    "        plt.xticks(range(0,6), [5, 10, 20, 30, 40, 50])\n",
    "        plt.yticks(range(0,1), [100])\n",
    "        plt.gca().invert_yaxis()\n",
    "        \n",
    "        plt.show()"
   ]
  },
  {
   "cell_type": "code",
   "execution_count": null,
   "id": "d83aa6a5-3163-41af-b3dd-ac61ab35bf03",
   "metadata": {},
   "outputs": [],
   "source": []
  },
  {
   "cell_type": "markdown",
   "id": "b020d24f-a029-4b56-b3ab-c5683c074dee",
   "metadata": {},
   "source": [
    "### TPR on half dataset (not just 20%)"
   ]
  },
  {
   "cell_type": "code",
   "execution_count": 62,
   "id": "6d077d14-33a3-4be0-a623-f5e4f37d5433",
   "metadata": {},
   "outputs": [],
   "source": [
    "train_size = 0.5\n",
    "\n",
    "sig_train, sig_test = train_test_split(sig_data,train_size=train_size,random_state=random_state)\n",
    "sig_train_sf, sig_test_sf = train_test_split(sig_sf_arr, train_size=train_size, random_state=random_state)\n",
    "sig_train_xsec_norm, sig_test_xsec_norm = train_test_split(sig_xsec_norm, train_size=train_size, random_state=random_state)\n",
    "sig_train_m1, sig_test_m1 = train_test_split(sig_point['m1'], train_size=train_size, random_state=random_state)\n",
    "sig_train_delta, sig_test_delta = train_test_split(sig_point['delta'], train_size=train_size, random_state=random_state)\n",
    "sig_train_ctau, sig_test_ctau = train_test_split(sig_point['ctau'], train_size=train_size, random_state=random_state)\n",
    "\n",
    "bkg_train, bkg_test = train_test_split(bkg_data,train_size=train_size,random_state=random_state)\n",
    "bkg_train_sf, bkg_test_sf = train_test_split(bkg_sf_arr, train_size=train_size, random_state=random_state)\n",
    "bkg_train_xsec_norm, bkg_test_xsec_norm = train_test_split(bkg_xsec_norm, train_size=train_size, random_state=random_state)\n",
    "\n",
    "bkg_train_m1, bkg_test_m1 = train_test_split(np.zeros(bkg_sf_arr.shape[0]), train_size=train_size, random_state=random_state)\n",
    "bkg_train_delta, bkg_test_delta = train_test_split(np.zeros(bkg_sf_arr.shape[0]), train_size=train_size, random_state=random_state)\n",
    "bkg_train_ctau, bkg_test_ctau = train_test_split(np.zeros(bkg_sf_arr.shape[0]), train_size=train_size, random_state=random_state)\n",
    "\n",
    "train = np.concatenate((sig_train,bkg_train),axis=0)\n",
    "train_sf = np.concatenate((sig_train_sf,bkg_train_sf),axis=0)\n",
    "train_sf = abs(train_sf)  # training sf cannot have negative values, genWgts have negative values, take abs for now, which is not correct :( \n",
    "\n",
    "y_train = np.concatenate((np.ones(len(sig_train)),np.zeros(len(bkg_train))),axis=0)\n",
    "\n",
    "#perm = rng.permutation(len(train))\n",
    "train = train[perm]\n",
    "y_train = y_train[perm]\n",
    "dtrain = xgb.DMatrix(train,label=y_train,feature_names=variables)\n",
    "\n",
    "test = np.concatenate((sig_test,bkg_test),axis=0)\n",
    "test_sf = np.concatenate((sig_test_sf,bkg_test_sf),axis=0) # not used\n",
    "\n",
    "test_xsec_norm = np.concatenate((sig_test_xsec_norm, bkg_test_xsec_norm), axis=0)\n",
    "\n",
    "test_m1 = np.concatenate((sig_test_m1,bkg_test_m1),axis=0)\n",
    "test_delta = np.concatenate((sig_test_delta,bkg_test_delta),axis=0)\n",
    "test_ctau = np.concatenate((sig_test_ctau,bkg_test_ctau),axis=0)\n",
    "\n",
    "y_test = np.concatenate((np.ones(len(sig_test)),np.zeros(len(bkg_test))),axis=0)\n",
    "\n",
    "#perm = rng.permutation(len(test))\n",
    "test = test[perm]\n",
    "y_test = y_test[perm]\n",
    "test_xsec_norm = test_xsec_norm[perm]\n",
    "test_m1 = test_m1[perm]\n",
    "test_delta = test_delta[perm]\n",
    "test_ctau = test_ctau[perm]\n",
    "\n",
    "dtest = xgb.DMatrix(test,label=y_test,feature_names=variables)"
   ]
  },
  {
   "cell_type": "code",
   "execution_count": 63,
   "id": "542baf10-279c-47c7-b3fa-b0ea79daa2a5",
   "metadata": {},
   "outputs": [],
   "source": [
    "preds = bst.predict(test)"
   ]
  },
  {
   "cell_type": "code",
   "execution_count": 64,
   "id": "69426bfb-0741-4c2e-8077-683381695e00",
   "metadata": {},
   "outputs": [
    {
     "data": {
      "image/png": "[encoded data removed]",
      "text/plain": [
       "<Figure size 640x480 with 1 Axes>"
      ]
     },
     "metadata": {},
     "output_type": "display_data"
    }
   ],
   "source": [
    "bins = 50\n",
    "\n",
    "h,bins,_ = plt.hist(preds[y_test==0],bins=bins,density=True,histtype='step', label='Background')\n",
    "h,bins,_ = plt.hist(preds[y_test==1],bins=bins,density=True,histtype='step', label='Signal')\n",
    "\n",
    "plt.legend()\n",
    "plt.title('BDT Prediction for the Full Dataset')\n",
    "\n",
    "plt.ylabel('A.U.')\n",
    "#plt.savefig('plots/BDTscore.png')\n",
    "plt.yscale('log')"
   ]
  },
  {
   "cell_type": "code",
   "execution_count": 65,
   "id": "0239c232-64ca-47df-97f8-6be09b889f3f",
   "metadata": {},
   "outputs": [
    {
     "data": {
      "text/plain": [
       "<matplotlib.legend.Legend at 0x7f4a14c41e20>"
      ]
     },
     "execution_count": 65,
     "metadata": {},
     "output_type": "execute_result"
    },
    {
     "data": {
      "image/png": "[encoded data removed]",
      "text/plain": [
       "<Figure size 640x480 with 1 Axes>"
      ]
     },
     "metadata": {},
     "output_type": "display_data"
    }
   ],
   "source": [
    "# ROC\n",
    "from sklearn.metrics import roc_auc_score, classification_report, accuracy_score, roc_curve, confusion_matrix, average_precision_score, precision_recall_curve\n",
    "\n",
    "# make predictions\n",
    "\n",
    "fpr, tpr, thresholds = roc_curve(y_test, preds)\n",
    "auc = roc_auc_score(y_test, preds)\n",
    "precision, recall, thresholds2 = precision_recall_curve(y_test, preds)\n",
    "\n",
    "plt.plot(fpr, tpr, color = \"red\", label = F\"AUC = {auc:.4f}\")\n",
    "\n",
    "plt.plot([0,1], [0,1] , color = \"black\", ls = \"--\")\n",
    "plt.xlim([-0.01, 1.01])\n",
    "plt.ylim([-0.01, 1.01])\n",
    "plt.xlabel('FPR' , fontsize=12)\n",
    "plt.ylabel('TPR' , fontsize=12)\n",
    "plt.tick_params(axis='both', which='major', labelsize=12)\n",
    "plt.legend( prop={'size':12} , loc = 4)\n",
    "#plt.savefig('plots/roc_curve_weighted_training.png')"
   ]
  },
  {
   "cell_type": "code",
   "execution_count": null,
   "id": "97b5ce3c-e0b8-4743-8d02-16ad4108ac6a",
   "metadata": {},
   "outputs": [],
   "source": []
  },
  {
   "cell_type": "code",
   "execution_count": 66,
   "id": "18c9ebfb-483b-4353-b039-ebf84f555997",
   "metadata": {
    "scrolled": true
   },
   "outputs": [
    {
     "name": "stdout",
     "output_type": "stream",
     "text": [
      "m1 = 5.0, delta = 0.1, ct = 100.0\n",
      "TPR: 8 / 33 = 0.24242424242424243\n",
      "m1 = 5.0, delta = 0.1, ct = 100.0\n",
      "TPR: 16 / 33 = 0.48484848484848486\n",
      "m1 = 5.0, delta = 0.1, ct = 100.0\n",
      "TPR: 24 / 33 = 0.7272727272727273\n",
      "m1 = 10.0, delta = 0.1, ct = 100.0\n",
      "TPR: 18 / 44 = 0.4090909090909091\n",
      "m1 = 10.0, delta = 0.1, ct = 100.0\n",
      "TPR: 30 / 44 = 0.6818181818181818\n",
      "m1 = 10.0, delta = 0.1, ct = 100.0\n",
      "TPR: 40 / 44 = 0.9090909090909091\n",
      "m1 = 20.0, delta = 0.1, ct = 100.0\n",
      "TPR: 29 / 42 = 0.6904761904761905\n",
      "m1 = 20.0, delta = 0.1, ct = 100.0\n",
      "TPR: 37 / 42 = 0.8809523809523809\n",
      "m1 = 20.0, delta = 0.1, ct = 100.0\n",
      "TPR: 39 / 42 = 0.9285714285714286\n",
      "m1 = 30.0, delta = 0.1, ct = 100.0\n",
      "TPR: 67 / 91 = 0.7362637362637363\n",
      "m1 = 30.0, delta = 0.1, ct = 100.0\n",
      "TPR: 76 / 91 = 0.8351648351648352\n",
      "m1 = 30.0, delta = 0.1, ct = 100.0\n",
      "TPR: 82 / 91 = 0.9010989010989011\n",
      "m1 = 40.0, delta = 0.1, ct = 100.0\n",
      "TPR: 121 / 159 = 0.7610062893081762\n",
      "m1 = 40.0, delta = 0.1, ct = 100.0\n",
      "TPR: 136 / 159 = 0.8553459119496856\n",
      "m1 = 40.0, delta = 0.1, ct = 100.0\n",
      "TPR: 145 / 159 = 0.9119496855345912\n",
      "m1 = 50.0, delta = 0.1, ct = 100.0\n",
      "TPR: 143 / 195 = 0.7333333333333333\n",
      "m1 = 50.0, delta = 0.1, ct = 100.0\n",
      "TPR: 167 / 195 = 0.8564102564102564\n",
      "m1 = 50.0, delta = 0.1, ct = 100.0\n",
      "TPR: 177 / 195 = 0.9076923076923077\n",
      "m1 = 5.0, delta = 0.2, ct = 100.0\n",
      "TPR: 3 / 10 = 0.3\n",
      "m1 = 5.0, delta = 0.2, ct = 100.0\n",
      "TPR: 6 / 10 = 0.6\n",
      "m1 = 5.0, delta = 0.2, ct = 100.0\n",
      "TPR: 9 / 10 = 0.9\n",
      "m1 = 10.0, delta = 0.2, ct = 100.0\n",
      "TPR: 25 / 33 = 0.7575757575757576\n",
      "m1 = 10.0, delta = 0.2, ct = 100.0\n",
      "TPR: 29 / 33 = 0.8787878787878788\n",
      "m1 = 10.0, delta = 0.2, ct = 100.0\n",
      "TPR: 32 / 33 = 0.9696969696969697\n",
      "m1 = 20.0, delta = 0.2, ct = 100.0\n",
      "TPR: 42 / 52 = 0.8076923076923077\n",
      "m1 = 20.0, delta = 0.2, ct = 100.0\n",
      "TPR: 45 / 52 = 0.8653846153846154\n",
      "m1 = 20.0, delta = 0.2, ct = 100.0\n",
      "TPR: 48 / 52 = 0.9230769230769231\n",
      "m1 = 30.0, delta = 0.2, ct = 100.0\n",
      "TPR: 44 / 58 = 0.7586206896551724\n",
      "m1 = 30.0, delta = 0.2, ct = 100.0\n",
      "TPR: 46 / 58 = 0.7931034482758621\n",
      "m1 = 30.0, delta = 0.2, ct = 100.0\n",
      "TPR: 51 / 58 = 0.8793103448275862\n",
      "m1 = 40.0, delta = 0.2, ct = 100.0\n",
      "TPR: 50 / 63 = 0.7936507936507936\n",
      "m1 = 40.0, delta = 0.2, ct = 100.0\n",
      "TPR: 54 / 63 = 0.8571428571428571\n",
      "m1 = 40.0, delta = 0.2, ct = 100.0\n",
      "TPR: 57 / 63 = 0.9047619047619048\n",
      "m1 = 50.0, delta = 0.2, ct = 100.0\n",
      "TPR: 62 / 89 = 0.6966292134831461\n",
      "m1 = 50.0, delta = 0.2, ct = 100.0\n",
      "TPR: 66 / 89 = 0.7415730337078652\n",
      "m1 = 50.0, delta = 0.2, ct = 100.0\n",
      "TPR: 76 / 89 = 0.8539325842696629\n"
     ]
    }
   ],
   "source": [
    "tpr_raw = { '0.1': {'ct-1': {'tight':[], 'medium':[], 'loose':[]}, 'ct-10': {'tight':[], 'medium':[], 'loose':[]}, 'ct-100': {'tight':[], 'medium':[], 'loose':[]}}, \\\n",
    "            '0.2': {'ct-1': {'tight':[], 'medium':[], 'loose':[]}, 'ct-10': {'tight':[], 'medium':[], 'loose':[]}, 'ct-100': {'tight':[], 'medium':[], 'loose':[]}}\n",
    "          }\n",
    "\n",
    "for ctau in [100.]:\n",
    "    for delta in [0.1, 0.2]:\n",
    "        for m1 in [5., 10., 20., 30., 40., 50.]:\n",
    "            nPass_sig_raw_sigpoint = {'tight': 0, 'medium': 0, 'loose': 0}\n",
    "            nPass_bkg_raw_sigpoint = {'tight': 0, 'medium': 0, 'loose': 0}\n",
    "            \n",
    "            for wp in nPass_sig.keys():\n",
    "                sig_idx = np.where(((y_test==1) & (test_m1 == m1)) & ((test_delta == delta) & (test_ctau == ctau)))\n",
    "                bkg_idx = np.where(y_test==0)\n",
    "                \n",
    "                nPass_sig_raw_sigpoint[wp] = np.sum(preds[sig_idx] > thres_WP[wp])\n",
    "                nPass_bkg_raw_sigpoint[wp] = np.sum(preds[bkg_idx] > thres_WP[wp])\n",
    "\n",
    "                if len(sig_idx[0]) == 0:\n",
    "                    tpr_raw[f'{delta}'][f'ct-{int(ctau)}'][wp].append(0)\n",
    "                    continue\n",
    "                \n",
    "                print(f'm1 = {m1}, delta = {delta}, ct = {ctau}')\n",
    "                print(f'TPR: {nPass_sig_raw_sigpoint[wp]} / {len(sig_idx[0])} = {nPass_sig_raw_sigpoint[wp]/len(sig_idx[0])}')\n",
    "\n",
    "                tpr_raw[f'{delta}'][f'ct-{int(ctau)}'][wp].append(nPass_sig_raw_sigpoint[wp]/len(sig_idx[0]))"
   ]
  },
  {
   "cell_type": "code",
   "execution_count": 67,
   "id": "196ecd44-d910-4f2c-affd-52c943f968bc",
   "metadata": {},
   "outputs": [
    {
     "data": {
      "image/png": "[encoded data removed]",
      "text/plain": [
       "<Figure size 640x480 with 1 Axes>"
      ]
     },
     "metadata": {},
     "output_type": "display_data"
    },
    {
     "data": {
      "image/png": "[encoded data removed]",
      "text/plain": [
       "<Figure size 640x480 with 1 Axes>"
      ]
     },
     "metadata": {},
     "output_type": "display_data"
    },
    {
     "data": {
      "image/png": "[encoded data removed]",
      "text/plain": [
       "<Figure size 640x480 with 1 Axes>"
      ]
     },
     "metadata": {},
     "output_type": "display_data"
    },
    {
     "data": {
      "image/png": "[encoded data removed]",
      "text/plain": [
       "<Figure size 640x480 with 1 Axes>"
      ]
     },
     "metadata": {},
     "output_type": "display_data"
    },
    {
     "data": {
      "image/png": "[encoded data removed]",
      "text/plain": [
       "<Figure size 640x480 with 1 Axes>"
      ]
     },
     "metadata": {},
     "output_type": "display_data"
    },
    {
     "data": {
      "image/png": "[encoded data removed]",
      "text/plain": [
       "<Figure size 640x480 with 1 Axes>"
      ]
     },
     "metadata": {},
     "output_type": "display_data"
    }
   ],
   "source": [
    "for wp in ['loose', 'medium', 'tight']:\n",
    "    for delta in ['0.1', '0.2']:\n",
    "        fig, ax = plt.subplots(1)\n",
    "      \n",
    "        arr = np.array([tpr_raw[delta]['ct-100'][wp]])\n",
    "        \n",
    "        ax.imshow(arr, interpolation ='none', cmap='jet', vmin=0, vmax=1)\n",
    "        \n",
    "        #plt.colorbar(im)\n",
    "        \n",
    "        for (j,i),label in np.ndenumerate(arr):\n",
    "            label = '{:.2f}'.format(label)\n",
    "            ax.text(i,j,label,ha='center',va='center')\n",
    "        \n",
    "        plt.title(f'TPR; Delta = {delta}, {wp} WP Threshold')\n",
    "        plt.ylabel('ctau')\n",
    "        plt.xlabel('M1')\n",
    "        \n",
    "        plt.xticks(range(0,6), [5, 10, 20, 30, 40, 50])\n",
    "        plt.yticks(range(0,1), [100])\n",
    "        plt.gca().invert_yaxis()\n",
    "        \n",
    "        plt.show()"
   ]
  },
  {
   "cell_type": "code",
   "execution_count": null,
   "id": "580a64b3-8d6d-4569-83b4-ee2c42927f37",
   "metadata": {},
   "outputs": [],
   "source": []
  },
  {
   "cell_type": "markdown",
   "id": "e8e0a6c0-9a97-4968-90cb-76a5a17b6c0a",
   "metadata": {},
   "source": [
    "### Pearson Correlation Coefficient"
   ]
  },
  {
   "cell_type": "code",
   "execution_count": 68,
   "id": "0cf949b1-8d82-4109-859f-05cabdceda3c",
   "metadata": {},
   "outputs": [],
   "source": [
    "import pandas as pd\n",
    "\n",
    "df_bkg = pd.DataFrame(bkg_data, columns = variables)\n",
    "df_sig = pd.DataFrame(sig_data, columns = variables)\n",
    "df_all = pd.DataFrame(np.concatenate((bkg_data,sig_data),axis=0), columns = variables)"
   ]
  },
  {
   "cell_type": "code",
   "execution_count": null,
   "id": "6a91dd9f-2981-45c0-a6af-19d83f4114db",
   "metadata": {},
   "outputs": [],
   "source": [
    "corr_all = df_all.corr()\n",
    "corr_bkg = df_bkg.corr()\n",
    "corr_sig = df_sig.corr()"
   ]
  },
  {
   "cell_type": "code",
   "execution_count": null,
   "id": "e14a6527-046d-44d7-8ece-2f96b8289f64",
   "metadata": {},
   "outputs": [],
   "source": [
    "import seaborn as sb\n",
    "from matplotlib.colors import LogNorm, Normalize\n",
    "\n",
    "fig, ax = plt.subplots(figsize=(10,10))\n",
    "ax = sb.heatmap(corr_all, annot=True, linewidths=.5)"
   ]
  },
  {
   "cell_type": "code",
   "execution_count": null,
   "id": "c3728860-562a-4c62-9316-4c983a98d4b5",
   "metadata": {},
   "outputs": [],
   "source": [
    "fig, ax = plt.subplots(figsize=(10,10))\n",
    "ax = sb.heatmap(corr_bkg, annot=True, linewidths=.5)\n",
    "plt.title(f'PCC in Background Samples (Dataset size: {bkg_data.shape[0]})') # Unweighted by xsec"
   ]
  },
  {
   "cell_type": "code",
   "execution_count": null,
   "id": "f00a7f4d-43ba-4274-b4d2-2a20e701a068",
   "metadata": {},
   "outputs": [],
   "source": [
    "fig, ax = plt.subplots(figsize=(10,10))\n",
    "ax = sb.heatmap(corr_sig, annot=True, linewidths=.5)\n",
    "plt.title(f'PCC in Signal Samples (Dataset size: {sig_data.shape[0]})')"
   ]
  },
  {
   "cell_type": "code",
   "execution_count": null,
   "id": "aaae3dc7-c3e8-4aa3-90bb-f587cf8f46ef",
   "metadata": {},
   "outputs": [],
   "source": []
  }
 ],
 "metadata": {
  "kernelspec": {
   "display_name": "Python 3 (ipykernel)",
   "language": "python",
   "name": "python3"
  },
  "language_info": {
   "codemirror_mode": {
    "name": "ipython",
    "version": 3
   },
   "file_extension": ".py",
   "mimetype": "text/x-python",
   "name": "python",
   "nbconvert_exporter": "python",
   "pygments_lexer": "ipython3",
   "version": "3.8.17"
  }
 },
 "nbformat": 4,
 "nbformat_minor": 5
}

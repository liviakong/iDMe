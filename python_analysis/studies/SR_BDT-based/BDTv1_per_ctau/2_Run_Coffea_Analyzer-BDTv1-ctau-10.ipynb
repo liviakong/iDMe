{
 "cells": [
  {
   "cell_type": "code",
   "execution_count": 1,
   "id": "e669ba8e-d8ae-45e9-bdac-9dabb1da3557",
   "metadata": {},
   "outputs": [],
   "source": [
    "%load_ext autoreload\n",
    "%autoreload 2\n",
    "import numpy as np\n",
    "import matplotlib.pyplot as plt\n",
    "import awkward as ak\n",
    "import sys\n",
    "sys.path.append(\"../../../analysisTools/\")\n",
    "from analysisTools import Analyzer\n",
    "from analysisTools import loadSchema\n",
    "import analysisTools as tools\n",
    "import analysisSubroutines as routines\n",
    "import importlib\n",
    "import coffea.util as util\n",
    "import time\n",
    "import json\n",
    "import os\n",
    "import glob"
   ]
  },
  {
   "cell_type": "markdown",
   "id": "de31f197-2d46-4f4b-a7dc-b92bf8719fc8",
   "metadata": {},
   "source": [
    "## Some Information"
   ]
  },
  {
   "cell_type": "markdown",
   "id": "fede4c1b-eab2-43d6-94b3-7385b061458f",
   "metadata": {},
   "source": [
    "### Input files to be analyzed\n",
    "\n",
    "**Coffea can be run on either *unskimmed ntuples* or *skimmed ntuples*.**\n",
    "\n",
    "- ***unskimmed ntuples***: we use AOD samples for the analysis, so we run the [ntuplizer+miniAOD] from [AODSkimmer](https://github.com/kyungminparkdrums/iDMe/tree/main/AODSkimmer) in condor jobs, saving useful branches that will be used in the analysis. \n",
    "\n",
    "- ***skimmed ntuples***: from the *unskimmed ntuples* above, apply some basic preselections with `rdataframe` in condor jobs using the scripts in [python_analysis/condor/](https://github.com/kyungminparkdrums/iDMe/tree/main/python_analysis/condor#condor-jobs-for-skimmer-that-applies-preselections-to-the-ntuples). \n",
    "\n",
    "Note:\n",
    "- In the FNAL LPC eos `lpcmetx/iDMe/` area, both unskimmed and skimmed ntuples are available.\n",
    "- You can also produce your own, following the README in `AODSkimmer/` (for unskimmed ntuples) and `python_analysis/condor/` (for skimmed ntuples). "
   ]
  },
  {
   "cell_type": "markdown",
   "id": "665308d9-ae46-4f88-8c8a-5944e3dd8b8c",
   "metadata": {},
   "source": [
    "### Configs\n",
    "Coffea analyzer requires config files for cut, histogram, and sample information. Check out the README for each of these, you'll find information on how to add/edit cuts, histograms, etc.\n",
    "- [cut config](https://github.com/kyungminparkdrums/iDMe/tree/main/python_analysis/configs#cut-configs-cut_configs)\n",
    "- [histo config](https://github.com/kyungminparkdrums/iDMe/tree/main/python_analysis/configs#histo-configs-histo_configs)\n",
    "- [sample config](https://github.com/kyungminparkdrums/iDMe/tree/main/python_analysis/configs#sample-configs-sample_configs)"
   ]
  },
  {
   "cell_type": "code",
   "execution_count": null,
   "id": "66d8d64e-89a1-4845-84a9-c9e0e763b3e4",
   "metadata": {},
   "outputs": [],
   "source": []
  },
  {
   "cell_type": "markdown",
   "id": "d90eb2c8-1882-4781-a242-44a5758376b4",
   "metadata": {},
   "source": [
    "## Run coffea on skimmed ntuples"
   ]
  },
  {
   "cell_type": "code",
   "execution_count": 2,
   "id": "c72681ac-a0f5-402a-8a80-d5f17505b69c",
   "metadata": {},
   "outputs": [],
   "source": [
    "cuts_config = \"./cut_configs/BDTv1_ctau-10.py\"\n",
    "histos_config = \"../../../configs/histo_configs/SR_studies.py\""
   ]
  },
  {
   "cell_type": "code",
   "execution_count": 3,
   "id": "37577c41-f8a4-4dca-ad98-162e3012ee74",
   "metadata": {},
   "outputs": [],
   "source": [
    "if not os.path.isdir('coffea'):\n",
    "    os.mkdir('coffea')"
   ]
  },
  {
   "cell_type": "code",
   "execution_count": 4,
   "id": "8ca2a112-1126-407b-8b83-99e6b07a59eb",
   "metadata": {},
   "outputs": [],
   "source": [
    "outdir = \"./coffea/skimmed/\"\n",
    "if not os.path.isdir(outdir):\n",
    "    os.mkdir(outdir)"
   ]
  },
  {
   "cell_type": "markdown",
   "id": "d248ae59-1cd0-45e3-91a1-3462012c6a27",
   "metadata": {},
   "source": [
    "### Signal"
   ]
  },
  {
   "cell_type": "code",
   "execution_count": 5,
   "id": "e0ecc4e0-151c-408b-b400-381d1e1a973e",
   "metadata": {},
   "outputs": [],
   "source": [
    "sample_config = \"../skimmed_sig_v2_egamma_hadd_ntuples_2018_aEM_ctau-10.json\""
   ]
  },
  {
   "cell_type": "code",
   "execution_count": 6,
   "id": "02537ff8-2bb2-4752-bed0-a504affad525",
   "metadata": {},
   "outputs": [
    {
     "data": {
      "application/vnd.jupyter.widget-view+json": {
       "model_id": "6a77ca44e29a428abaa8dbc42a872ca4",
       "version_major": 2,
       "version_minor": 0
      },
      "text/plain": [
       "Output()"
      ]
     },
     "metadata": {},
     "output_type": "display_data"
    },
    {
     "data": {
      "text/html": [
       "<pre style=\"white-space:pre;overflow-x:auto;line-height:normal;font-family:Menlo,'DejaVu Sans Mono',consolas,'Courier New',monospace\"></pre>\n"
      ],
      "text/plain": []
     },
     "metadata": {},
     "output_type": "display_data"
    },
    {
     "data": {
      "text/html": [
       "<pre style=\"white-space:pre;overflow-x:auto;line-height:normal;font-family:Menlo,'DejaVu Sans Mono',consolas,'Courier New',monospace\">\n",
       "</pre>\n"
      ],
      "text/plain": [
       "\n"
      ]
     },
     "metadata": {},
     "output_type": "display_data"
    },
    {
     "data": {
      "application/vnd.jupyter.widget-view+json": {
       "model_id": "152a106948674c21b2b6913b1cad52e7",
       "version_major": 2,
       "version_minor": 0
      },
      "text/plain": [
       "Output()"
      ]
     },
     "metadata": {},
     "output_type": "display_data"
    },
    {
     "name": "stdout",
     "output_type": "stream",
     "text": [
      "Pass: 267/738Pass: 99/435\n",
      "\n",
      "Pass: 125/741\n",
      "Pass: 707/2417\n",
      "Pass: 109/298\n",
      "Pass: 603/2017\n",
      "Pass: 459/1297\n",
      "Pass: 430/1337\n",
      "Pass: 534/1825\n",
      "Pass: 263/1084\n",
      "Pass: 249/998\n",
      "Pass: 279/1219\n"
     ]
    },
    {
     "data": {
      "text/html": [
       "<pre style=\"white-space:pre;overflow-x:auto;line-height:normal;font-family:Menlo,'DejaVu Sans Mono',consolas,'Courier New',monospace\"></pre>\n"
      ],
      "text/plain": []
     },
     "metadata": {},
     "output_type": "display_data"
    },
    {
     "data": {
      "text/html": [
       "<pre style=\"white-space:pre;overflow-x:auto;line-height:normal;font-family:Menlo,'DejaVu Sans Mono',consolas,'Courier New',monospace\">\n",
       "</pre>\n"
      ],
      "text/plain": [
       "\n"
      ]
     },
     "metadata": {},
     "output_type": "display_data"
    },
    {
     "name": "stdout",
     "output_type": "stream",
     "text": [
      "Runtime: 1.26 minutes\n"
     ]
    }
   ],
   "source": [
    "test = Analyzer(sample_config,histos_config,cuts_config, max_samples=-1) # run over all samples in the config\n",
    "\n",
    "t1 = time.time()\n",
    "out = test.process(execr='futures')\n",
    "t2 = time.time()\n",
    "\n",
    "print(\"Runtime: {:.2f} minutes\".format((t2-t1)/60))\n",
    "util.save(out,f\"{outdir}/signal_SR_BDTv1_ctau-10_5to50_skimmed.coffea\")\n",
    "\n",
    "del out, test"
   ]
  },
  {
   "cell_type": "markdown",
   "id": "97b2ff87-c610-4e5a-9d3d-0255d980dbe3",
   "metadata": {},
   "source": [
    "### Background"
   ]
  },
  {
   "cell_type": "code",
   "execution_count": 7,
   "id": "c65bc29b-bfda-48ed-84d4-7ea8f8eded39",
   "metadata": {},
   "outputs": [
    {
     "name": "stdout",
     "output_type": "stream",
     "text": [
      "['../../../configs/sample_configs/skimmed_bkg_2018_DY.json', '../../../configs/sample_configs/skimmed_bkg_2018_Diboson.json', '../../../configs/sample_configs/skimmed_bkg_2018_QCD_TuneCP5_PSWeights.json', '../../../configs/sample_configs/skimmed_bkg_2018_TTJetsDiLept.json', '../../../configs/sample_configs/skimmed_bkg_2018_Top.json', '../../../configs/sample_configs/skimmed_bkg_2018_Triboson.json', '../../../configs/sample_configs/skimmed_bkg_2018_WJets.json', '../../../configs/sample_configs/skimmed_bkg_2018_ZJets.json']\n"
     ]
    }
   ],
   "source": [
    "bkg_configs = glob.glob(\"../../../configs/sample_configs/skimmed_bkg*.json\")\n",
    "\n",
    "print(bkg_configs)"
   ]
  },
  {
   "cell_type": "code",
   "execution_count": 8,
   "id": "f7af452c-6938-4868-8307-bd0f6b2e330d",
   "metadata": {},
   "outputs": [
    {
     "name": "stdout",
     "output_type": "stream",
     "text": [
      "bkg_2018_DY\n"
     ]
    },
    {
     "data": {
      "application/vnd.jupyter.widget-view+json": {
       "model_id": "390c6a83c9c24eff89d02e5d6a891795",
       "version_major": 2,
       "version_minor": 0
      },
      "text/plain": [
       "Output()"
      ]
     },
     "metadata": {},
     "output_type": "display_data"
    },
    {
     "data": {
      "text/html": [
       "<pre style=\"white-space:pre;overflow-x:auto;line-height:normal;font-family:Menlo,'DejaVu Sans Mono',consolas,'Courier New',monospace\"></pre>\n"
      ],
      "text/plain": []
     },
     "metadata": {},
     "output_type": "display_data"
    },
    {
     "data": {
      "text/html": [
       "<pre style=\"white-space:pre;overflow-x:auto;line-height:normal;font-family:Menlo,'DejaVu Sans Mono',consolas,'Courier New',monospace\">\n",
       "</pre>\n"
      ],
      "text/plain": [
       "\n"
      ]
     },
     "metadata": {},
     "output_type": "display_data"
    },
    {
     "data": {
      "application/vnd.jupyter.widget-view+json": {
       "model_id": "538e6c0bfb224d0a8e872f92d88c0006",
       "version_major": 2,
       "version_minor": 0
      },
      "text/plain": [
       "Output()"
      ]
     },
     "metadata": {},
     "output_type": "display_data"
    },
    {
     "name": "stdout",
     "output_type": "stream",
     "text": [
      "Pass: 0/3\n",
      "Pass: 0/1\n",
      "Pass: 0/2\n",
      "Pass: 0/2\n",
      "Pass: 0/1\n",
      "Pass: 0/1\n",
      "Pass: 0/1\n",
      "Pass: 0/3\n",
      "Pass: 0/3\n",
      "Pass: 0/3\n"
     ]
    },
    {
     "data": {
      "text/html": [
       "<pre style=\"white-space:pre;overflow-x:auto;line-height:normal;font-family:Menlo,'DejaVu Sans Mono',consolas,'Courier New',monospace\"></pre>\n"
      ],
      "text/plain": []
     },
     "metadata": {},
     "output_type": "display_data"
    },
    {
     "data": {
      "text/html": [
       "<pre style=\"white-space:pre;overflow-x:auto;line-height:normal;font-family:Menlo,'DejaVu Sans Mono',consolas,'Courier New',monospace\">\n",
       "</pre>\n"
      ],
      "text/plain": [
       "\n"
      ]
     },
     "metadata": {},
     "output_type": "display_data"
    },
    {
     "name": "stdout",
     "output_type": "stream",
     "text": [
      "Runtime: 1.22 minutes\n",
      "bkg_2018_Diboson\n"
     ]
    },
    {
     "data": {
      "application/vnd.jupyter.widget-view+json": {
       "model_id": "ed405192754642389841eb1e30a79bc3",
       "version_major": 2,
       "version_minor": 0
      },
      "text/plain": [
       "Output()"
      ]
     },
     "metadata": {},
     "output_type": "display_data"
    },
    {
     "data": {
      "text/html": [
       "<pre style=\"white-space:pre;overflow-x:auto;line-height:normal;font-family:Menlo,'DejaVu Sans Mono',consolas,'Courier New',monospace\"></pre>\n"
      ],
      "text/plain": []
     },
     "metadata": {},
     "output_type": "display_data"
    },
    {
     "data": {
      "text/html": [
       "<pre style=\"white-space:pre;overflow-x:auto;line-height:normal;font-family:Menlo,'DejaVu Sans Mono',consolas,'Courier New',monospace\">\n",
       "</pre>\n"
      ],
      "text/plain": [
       "\n"
      ]
     },
     "metadata": {},
     "output_type": "display_data"
    },
    {
     "data": {
      "application/vnd.jupyter.widget-view+json": {
       "model_id": "f4875ed1d88e42f09b79c77fe28ebc03",
       "version_major": 2,
       "version_minor": 0
      },
      "text/plain": [
       "Output()"
      ]
     },
     "metadata": {},
     "output_type": "display_data"
    },
    {
     "name": "stdout",
     "output_type": "stream",
     "text": [
      "Pass: 0/215\n",
      "Pass: 0/184\n",
      "Pass: 0/325\n",
      "Pass: 0/213\n",
      "Pass: 0/238\n",
      "Pass: 1/238\n",
      "Pass: 0/70\n",
      "Pass: 0/245\n"
     ]
    },
    {
     "data": {
      "text/html": [
       "<pre style=\"white-space:pre;overflow-x:auto;line-height:normal;font-family:Menlo,'DejaVu Sans Mono',consolas,'Courier New',monospace\"></pre>\n"
      ],
      "text/plain": []
     },
     "metadata": {},
     "output_type": "display_data"
    },
    {
     "data": {
      "text/html": [
       "<pre style=\"white-space:pre;overflow-x:auto;line-height:normal;font-family:Menlo,'DejaVu Sans Mono',consolas,'Courier New',monospace\">\n",
       "</pre>\n"
      ],
      "text/plain": [
       "\n"
      ]
     },
     "metadata": {},
     "output_type": "display_data"
    },
    {
     "name": "stdout",
     "output_type": "stream",
     "text": [
      "Runtime: 0.92 minutes\n",
      "bkg_2018_QCD_TuneCP5_PSWeights\n"
     ]
    },
    {
     "data": {
      "application/vnd.jupyter.widget-view+json": {
       "model_id": "b2be405ca7ae426bb25e25e7934d2eea",
       "version_major": 2,
       "version_minor": 0
      },
      "text/plain": [
       "Output()"
      ]
     },
     "metadata": {},
     "output_type": "display_data"
    },
    {
     "data": {
      "text/html": [
       "<pre style=\"white-space:pre;overflow-x:auto;line-height:normal;font-family:Menlo,'DejaVu Sans Mono',consolas,'Courier New',monospace\"></pre>\n"
      ],
      "text/plain": []
     },
     "metadata": {},
     "output_type": "display_data"
    },
    {
     "data": {
      "text/html": [
       "<pre style=\"white-space:pre;overflow-x:auto;line-height:normal;font-family:Menlo,'DejaVu Sans Mono',consolas,'Courier New',monospace\">\n",
       "</pre>\n"
      ],
      "text/plain": [
       "\n"
      ]
     },
     "metadata": {},
     "output_type": "display_data"
    },
    {
     "data": {
      "application/vnd.jupyter.widget-view+json": {
       "model_id": "d9ab9dd8e67d4815ae45d3ab7ebcdb9f",
       "version_major": 2,
       "version_minor": 0
      },
      "text/plain": [
       "Output()"
      ]
     },
     "metadata": {},
     "output_type": "display_data"
    },
    {
     "name": "stdout",
     "output_type": "stream",
     "text": [
      "Pass: 0/3\n",
      "Pass: 0/3\n",
      "Pass: 0/3\n",
      "Pass: 0/1\n",
      "Pass: 0/7\n",
      "Pass: 0/2\n",
      "Pass: 0/5\n",
      "Pass: 0/3\n",
      "Pass: 0/2\n",
      "Pass: 0/5\n",
      "Pass: 0/4\n",
      "Pass: 0/6\n",
      "Pass: 0/5\n",
      "Pass: 0/4\n",
      "Pass: 0/5\n",
      "Pass: 0/2\n",
      "Pass: 0/1\n",
      "Pass: 0/2\n",
      "\n",
      "Pass: 0/1\n",
      "Pass: 0/2\n",
      "Pass: 0/1\n",
      "Pass: 0/5\n",
      "Pass: 0/6\n",
      "Pass: 0/1\n",
      "Pass: 0/1\n",
      "Pass: 0/1\n",
      "Pass: 0/1\n",
      "Pass: 0/1\n",
      "Pass: 0/1\n",
      "Pass: 0/1\n",
      "Pass: 0/1\n",
      "Pass: 0/18\n",
      "Pass: 0/4\n",
      "Pass: 0/19\n",
      "Pass: 0/7\n",
      "Pass: 0/17\n",
      "Pass: 0/13\n",
      "Pass: 0/10\n",
      "Pass: 0/3\n",
      "Pass: 0/3\n",
      "Pass: 0/2\n",
      "Pass: 0/2\n",
      "Pass: 0/6\n",
      "Pass: 0/6\n",
      "Pass: 0/6\n",
      "Pass: 0/19\n",
      "Pass: 0/1\n",
      "Pass: 0/1\n",
      "Pass: 0/29\n",
      "Pass: 0/14\n",
      "Pass: 0/10\n",
      "Pass: 0/22\n"
     ]
    },
    {
     "data": {
      "text/html": [
       "<pre style=\"white-space:pre;overflow-x:auto;line-height:normal;font-family:Menlo,'DejaVu Sans Mono',consolas,'Courier New',monospace\"></pre>\n"
      ],
      "text/plain": []
     },
     "metadata": {},
     "output_type": "display_data"
    },
    {
     "data": {
      "text/html": [
       "<pre style=\"white-space:pre;overflow-x:auto;line-height:normal;font-family:Menlo,'DejaVu Sans Mono',consolas,'Courier New',monospace\">\n",
       "</pre>\n"
      ],
      "text/plain": [
       "\n"
      ]
     },
     "metadata": {},
     "output_type": "display_data"
    },
    {
     "name": "stdout",
     "output_type": "stream",
     "text": [
      "Runtime: 3.60 minutes\n",
      "bkg_2018_TTJetsDiLept\n",
      "bkg_2018_Top\n"
     ]
    },
    {
     "data": {
      "application/vnd.jupyter.widget-view+json": {
       "model_id": "308c5bca5f384731806b0fd1f56c06a6",
       "version_major": 2,
       "version_minor": 0
      },
      "text/plain": [
       "Output()"
      ]
     },
     "metadata": {},
     "output_type": "display_data"
    },
    {
     "data": {
      "text/html": [
       "<pre style=\"white-space:pre;overflow-x:auto;line-height:normal;font-family:Menlo,'DejaVu Sans Mono',consolas,'Courier New',monospace\"></pre>\n"
      ],
      "text/plain": []
     },
     "metadata": {},
     "output_type": "display_data"
    },
    {
     "data": {
      "text/html": [
       "<pre style=\"white-space:pre;overflow-x:auto;line-height:normal;font-family:Menlo,'DejaVu Sans Mono',consolas,'Courier New',monospace\">\n",
       "</pre>\n"
      ],
      "text/plain": [
       "\n"
      ]
     },
     "metadata": {},
     "output_type": "display_data"
    },
    {
     "data": {
      "application/vnd.jupyter.widget-view+json": {
       "model_id": "08f1a658e760466198dace313fbb662b",
       "version_major": 2,
       "version_minor": 0
      },
      "text/plain": [
       "Output()"
      ]
     },
     "metadata": {},
     "output_type": "display_data"
    },
    {
     "name": "stdout",
     "output_type": "stream",
     "text": [
      "Pass: 0/63\n",
      "Pass: 0/30\n",
      "Pass: 1/63\n",
      "Pass: 0/49\n",
      "Pass: 0/15\n",
      "Pass: 0/75\n",
      "Pass: 0/68\n",
      "Pass: 0/18\n",
      "Pass: 0/12\n",
      "Pass: 0/17\n",
      "Pass: 0/79\n",
      "Pass: 0/17\n",
      "Pass: 0/67\n",
      "Pass: 0/94\n",
      "Pass: 0/64\n",
      "Pass: 0/57\n",
      "Pass: 0/18\n",
      "Pass: 0/51\n",
      "Pass: 0/17\n",
      "Pass: 0/73\n",
      "Pass: 0/73\n",
      "Pass: 0/90\n",
      "Pass: 0/76\n",
      "Pass: 0/62\n",
      "Pass: 0/78\n",
      "Pass: 0/37\n",
      "Pass: 0/68\n",
      "Pass: 0/58\n",
      "Pass: 0/22\n",
      "Pass: 0/30\n",
      "Pass: 0/46\n",
      "Pass: 0/48\n",
      "Pass: 0/37\n",
      "Pass: 0/148\n",
      "Pass: 0/151\n",
      "Pass: 0/130\n",
      "Pass: 0/159\n",
      "Pass: 0/35\n",
      "Pass: 0/17\n",
      "Pass: 0/21\n",
      "Pass: 0/15\n",
      "Pass: 0/80\n",
      "Pass: 0/13\n",
      "Pass: 0/107\n",
      "Pass: 0/134Pass: 0/143\n",
      "\n",
      "Pass: 0/37\n",
      "Pass: 0/137\n",
      "Pass: 0/16\n",
      "Pass: 0/10\n",
      "Pass: 0/22Pass: 0/22\n",
      "\n",
      "Pass: 0/69\n",
      "Pass: 0/163\n",
      "Pass: 0/101\n",
      "Pass: 0/53\n",
      "Pass: 0/116\n",
      "Pass: 0/119\n",
      "Pass: 0/13\n",
      "Pass: 0/17\n",
      "Pass: 0/25\n",
      "Pass: 0/23\n",
      "Pass: 0/22\n",
      "Pass: 0/107\n",
      "Pass: 0/35\n",
      "Pass: 0/22\n",
      "Pass: 0/93\n",
      "Pass: 0/100\n",
      "Pass: 0/112\n",
      "Pass: 0/69\n",
      "Pass: 0/20\n",
      "Pass: 0/17\n",
      "Pass: 0/23\n",
      "Pass: 0/21\n",
      "Pass: 0/27\n",
      "Pass: 0/70\n",
      "Pass: 0/108\n",
      "Pass: 0/94\n",
      "Pass: 0/86\n",
      "Pass: 0/29\n",
      "Pass: 0/57\n",
      "Pass: 0/29\n",
      "Pass: 0/16\n",
      "Pass: 0/24\n",
      "Pass: 0/19\n",
      "Pass: 0/29\n",
      "Pass: 0/79\n",
      "Pass: 0/64\n",
      "Pass: 0/21\n",
      "Pass: 0/98\n",
      "Pass: 0/101\n",
      "Pass: 0/48\n",
      "Pass: 0/46\n",
      "Pass: 0/25\n",
      "Pass: 0/24\n",
      "Pass: 0/12\n",
      "Pass: 0/13\n"
     ]
    },
    {
     "data": {
      "text/html": [
       "<pre style=\"white-space:pre;overflow-x:auto;line-height:normal;font-family:Menlo,'DejaVu Sans Mono',consolas,'Courier New',monospace\"></pre>\n"
      ],
      "text/plain": []
     },
     "metadata": {},
     "output_type": "display_data"
    },
    {
     "data": {
      "text/html": [
       "<pre style=\"white-space:pre;overflow-x:auto;line-height:normal;font-family:Menlo,'DejaVu Sans Mono',consolas,'Courier New',monospace\">\n",
       "</pre>\n"
      ],
      "text/plain": [
       "\n"
      ]
     },
     "metadata": {},
     "output_type": "display_data"
    },
    {
     "name": "stdout",
     "output_type": "stream",
     "text": [
      "Runtime: 5.81 minutes\n",
      "bkg_2018_Triboson\n"
     ]
    },
    {
     "data": {
      "application/vnd.jupyter.widget-view+json": {
       "model_id": "4b037a3ed3f74f15873c08cd16e875e2",
       "version_major": 2,
       "version_minor": 0
      },
      "text/plain": [
       "Output()"
      ]
     },
     "metadata": {},
     "output_type": "display_data"
    },
    {
     "data": {
      "text/html": [
       "<pre style=\"white-space:pre;overflow-x:auto;line-height:normal;font-family:Menlo,'DejaVu Sans Mono',consolas,'Courier New',monospace\"></pre>\n"
      ],
      "text/plain": []
     },
     "metadata": {},
     "output_type": "display_data"
    },
    {
     "data": {
      "text/html": [
       "<pre style=\"white-space:pre;overflow-x:auto;line-height:normal;font-family:Menlo,'DejaVu Sans Mono',consolas,'Courier New',monospace\">\n",
       "</pre>\n"
      ],
      "text/plain": [
       "\n"
      ]
     },
     "metadata": {},
     "output_type": "display_data"
    },
    {
     "data": {
      "application/vnd.jupyter.widget-view+json": {
       "model_id": "00b430437f6c400b9ade13c9fbb8699b",
       "version_major": 2,
       "version_minor": 0
      },
      "text/plain": [
       "Output()"
      ]
     },
     "metadata": {},
     "output_type": "display_data"
    },
    {
     "name": "stdout",
     "output_type": "stream",
     "text": [
      "Pass: 0/58\n",
      "Pass: 0/30\n",
      "Pass: 0/43\n",
      "Pass: 0/79\n"
     ]
    },
    {
     "data": {
      "text/html": [
       "<pre style=\"white-space:pre;overflow-x:auto;line-height:normal;font-family:Menlo,'DejaVu Sans Mono',consolas,'Courier New',monospace\"></pre>\n"
      ],
      "text/plain": []
     },
     "metadata": {},
     "output_type": "display_data"
    },
    {
     "data": {
      "text/html": [
       "<pre style=\"white-space:pre;overflow-x:auto;line-height:normal;font-family:Menlo,'DejaVu Sans Mono',consolas,'Courier New',monospace\">\n",
       "</pre>\n"
      ],
      "text/plain": [
       "\n"
      ]
     },
     "metadata": {},
     "output_type": "display_data"
    },
    {
     "name": "stdout",
     "output_type": "stream",
     "text": [
      "Runtime: 0.59 minutes\n",
      "bkg_2018_WJets\n"
     ]
    },
    {
     "data": {
      "application/vnd.jupyter.widget-view+json": {
       "model_id": "d2d1c9332f424ae6980bd9371d9644de",
       "version_major": 2,
       "version_minor": 0
      },
      "text/plain": [
       "Output()"
      ]
     },
     "metadata": {},
     "output_type": "display_data"
    },
    {
     "data": {
      "text/html": [
       "<pre style=\"white-space:pre;overflow-x:auto;line-height:normal;font-family:Menlo,'DejaVu Sans Mono',consolas,'Courier New',monospace\"></pre>\n"
      ],
      "text/plain": []
     },
     "metadata": {},
     "output_type": "display_data"
    },
    {
     "data": {
      "text/html": [
       "<pre style=\"white-space:pre;overflow-x:auto;line-height:normal;font-family:Menlo,'DejaVu Sans Mono',consolas,'Courier New',monospace\">\n",
       "</pre>\n"
      ],
      "text/plain": [
       "\n"
      ]
     },
     "metadata": {},
     "output_type": "display_data"
    },
    {
     "data": {
      "application/vnd.jupyter.widget-view+json": {
       "model_id": "b758fae74f2c4802817d28626dd9d98e",
       "version_major": 2,
       "version_minor": 0
      },
      "text/plain": [
       "Output()"
      ]
     },
     "metadata": {},
     "output_type": "display_data"
    },
    {
     "name": "stdout",
     "output_type": "stream",
     "text": [
      "Pass: 0/154\n",
      "Pass: 0/738\n",
      "Pass: 1/1856\n",
      "Pass: 1/1618\n",
      "Pass: 0/593\n",
      "Pass: 0/537\n",
      "Pass: 0/593\n",
      "Pass: 1/518\n",
      "Pass: 0/555\n",
      "Pass: 0/552\n",
      "Pass: 0/202\n",
      "Pass: 1/571\n",
      "Pass: 1/321\n",
      "Pass: 1/333\n",
      "Pass: 2/1187\n",
      "Pass: 3/2536\n",
      "Pass: 1/824\n",
      "Pass: 6/2558\n",
      "Pass: 2/773\n",
      "Pass: 3/761\n",
      "Pass: 2/813\n",
      "Pass: 4/746\n",
      "Pass: 1/790\n",
      "Pass: 6/3085\n",
      "Pass: 11/5006\n",
      "Pass: 2/1959\n",
      "Pass: 11/6236\n",
      "Pass: 0/785\n",
      "Pass: 15/6174\n",
      "Pass: 1/767\n",
      "Pass: 1/809\n",
      "Pass: 0/813\n",
      "Pass: 6/3283\n",
      "Pass: 0/914\n",
      "Pass: 9/6065\n",
      "Pass: 12/6278\n",
      "Pass: 0/697\n",
      "Pass: 1/805\n",
      "Pass: 2/1023\n",
      "Pass: 4/1958\n",
      "Pass: 0/955\n",
      "Pass: 0/964\n"
     ]
    },
    {
     "data": {
      "text/html": [
       "<pre style=\"white-space:pre;overflow-x:auto;line-height:normal;font-family:Menlo,'DejaVu Sans Mono',consolas,'Courier New',monospace\"></pre>\n"
      ],
      "text/plain": []
     },
     "metadata": {},
     "output_type": "display_data"
    },
    {
     "data": {
      "text/html": [
       "<pre style=\"white-space:pre;overflow-x:auto;line-height:normal;font-family:Menlo,'DejaVu Sans Mono',consolas,'Courier New',monospace\">\n",
       "</pre>\n"
      ],
      "text/plain": [
       "\n"
      ]
     },
     "metadata": {},
     "output_type": "display_data"
    },
    {
     "name": "stdout",
     "output_type": "stream",
     "text": [
      "Runtime: 3.97 minutes\n",
      "bkg_2018_ZJets\n"
     ]
    },
    {
     "data": {
      "application/vnd.jupyter.widget-view+json": {
       "model_id": "7cdfa647c2c24e978378bb1978f849c6",
       "version_major": 2,
       "version_minor": 0
      },
      "text/plain": [
       "Output()"
      ]
     },
     "metadata": {},
     "output_type": "display_data"
    },
    {
     "data": {
      "text/html": [
       "<pre style=\"white-space:pre;overflow-x:auto;line-height:normal;font-family:Menlo,'DejaVu Sans Mono',consolas,'Courier New',monospace\"></pre>\n"
      ],
      "text/plain": []
     },
     "metadata": {},
     "output_type": "display_data"
    },
    {
     "data": {
      "text/html": [
       "<pre style=\"white-space:pre;overflow-x:auto;line-height:normal;font-family:Menlo,'DejaVu Sans Mono',consolas,'Courier New',monospace\">\n",
       "</pre>\n"
      ],
      "text/plain": [
       "\n"
      ]
     },
     "metadata": {},
     "output_type": "display_data"
    },
    {
     "data": {
      "application/vnd.jupyter.widget-view+json": {
       "model_id": "a306167172a34911b0e340ffa7a6838e",
       "version_major": 2,
       "version_minor": 0
      },
      "text/plain": [
       "Output()"
      ]
     },
     "metadata": {},
     "output_type": "display_data"
    },
    {
     "name": "stdout",
     "output_type": "stream",
     "text": [
      "Pass: 0/186\n",
      "Pass: 2/1124\n",
      "Pass: 1/1045\n",
      "Pass: 0/810\n",
      "Pass: 2/795\n",
      "Pass: 1/424\n",
      "Pass: 0/543\n",
      "Pass: 0/6850\n",
      "Pass: 8/6921\n",
      "Pass: 10/11573\n",
      "Pass: 9/11146\n",
      "Pass: 0/48\n",
      "Pass: 11/8968\n",
      "Pass: 7/5308\n",
      "Pass: 5/5466\n",
      "Pass: 0/1746\n",
      "Pass: 0/5401\n",
      "Pass: 6/5360\n",
      "Pass: 0/2500\n",
      "Pass: 1/8080\n",
      "Pass: 2/6944\n",
      "Pass: 2/7189\n"
     ]
    },
    {
     "data": {
      "text/html": [
       "<pre style=\"white-space:pre;overflow-x:auto;line-height:normal;font-family:Menlo,'DejaVu Sans Mono',consolas,'Courier New',monospace\"></pre>\n"
      ],
      "text/plain": []
     },
     "metadata": {},
     "output_type": "display_data"
    },
    {
     "data": {
      "text/html": [
       "<pre style=\"white-space:pre;overflow-x:auto;line-height:normal;font-family:Menlo,'DejaVu Sans Mono',consolas,'Courier New',monospace\">\n",
       "</pre>\n"
      ],
      "text/plain": [
       "\n"
      ]
     },
     "metadata": {},
     "output_type": "display_data"
    },
    {
     "name": "stdout",
     "output_type": "stream",
     "text": [
      "Runtime: 3.22 minutes\n"
     ]
    }
   ],
   "source": [
    "for bkg in bkg_configs:\n",
    "    process = bkg.split('/')[-1].split('.json')[0].split('skimmed_')[-1]\n",
    "    print(process)\n",
    "\n",
    "    if 'TTJetsDiLept' in bkg: # currently not available ntuples\n",
    "        continue\n",
    "    \n",
    "    test = Analyzer(bkg,histos_config,cuts_config) \n",
    "        \n",
    "    t1 = time.time()\n",
    "    out = test.process(execr='futures')\n",
    "    t2 = time.time()\n",
    "        \n",
    "    print(\"Runtime: {:.2f} minutes\".format((t2-t1)/60))\n",
    "    util.save(out,f\"{outdir}/{process}_SR_BDTv1_ctau-10_5to50_skimmed.coffea\")\n",
    "    del out, test"
   ]
  },
  {
   "cell_type": "code",
   "execution_count": null,
   "id": "fac8d8c8-dc33-4fff-a0e9-0d2b7fb6cd7b",
   "metadata": {},
   "outputs": [],
   "source": []
  },
  {
   "cell_type": "code",
   "execution_count": null,
   "id": "5dc028be-1f72-4a27-bf04-7cb33bd40be7",
   "metadata": {},
   "outputs": [],
   "source": []
  },
  {
   "cell_type": "code",
   "execution_count": null,
   "id": "ee073ab6-d11b-4129-a924-c6c7bb2cfb7c",
   "metadata": {},
   "outputs": [],
   "source": []
  }
 ],
 "metadata": {
  "kernelspec": {
   "display_name": "Python 3 (ipykernel)",
   "language": "python",
   "name": "python3"
  },
  "language_info": {
   "codemirror_mode": {
    "name": "ipython",
    "version": 3
   },
   "file_extension": ".py",
   "mimetype": "text/x-python",
   "name": "python",
   "nbconvert_exporter": "python",
   "pygments_lexer": "ipython3",
   "version": "3.8.17"
  }
 },
 "nbformat": 4,
 "nbformat_minor": 5
}

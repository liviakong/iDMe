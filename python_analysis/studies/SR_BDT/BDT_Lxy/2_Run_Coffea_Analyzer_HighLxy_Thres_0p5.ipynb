{
 "cells": [
  {
   "cell_type": "code",
   "execution_count": 7,
   "id": "e669ba8e-d8ae-45e9-bdac-9dabb1da3557",
   "metadata": {},
   "outputs": [
    {
     "name": "stdout",
     "output_type": "stream",
     "text": [
      "The autoreload extension is already loaded. To reload it, use:\n",
      "  %reload_ext autoreload\n"
     ]
    }
   ],
   "source": [
    "%load_ext autoreload\n",
    "%autoreload 2\n",
    "import numpy as np\n",
    "import matplotlib.pyplot as plt\n",
    "import awkward as ak\n",
    "import sys\n",
    "sys.path.append(\"../../../analysisTools/\")\n",
    "from analysisTools import Analyzer\n",
    "from analysisTools import loadSchema\n",
    "import analysisTools as tools\n",
    "import analysisSubroutines as routines\n",
    "import importlib\n",
    "import coffea.util as util\n",
    "import time\n",
    "import json\n",
    "import os\n",
    "import glob"
   ]
  },
  {
   "cell_type": "code",
   "execution_count": 8,
   "id": "c59aff4f-6762-4e07-957a-349d22652fad",
   "metadata": {},
   "outputs": [],
   "source": [
    "outdir = \"./coffea/\"\n",
    "if not os.path.isdir(outdir):\n",
    "    os.mkdir(outdir)"
   ]
  },
  {
   "cell_type": "code",
   "execution_count": 9,
   "id": "73201266-7873-48cb-b6b9-ea70e7703e5b",
   "metadata": {},
   "outputs": [],
   "source": [
    "outdir = \"./coffea/skimmed/\"\n",
    "if not os.path.isdir(outdir):\n",
    "    os.mkdir(outdir)"
   ]
  },
  {
   "cell_type": "markdown",
   "id": "d90eb2c8-1882-4781-a242-44a5758376b4",
   "metadata": {},
   "source": [
    "## High Lxy SR bin"
   ]
  },
  {
   "cell_type": "code",
   "execution_count": 10,
   "id": "c72681ac-a0f5-402a-8a80-d5f17505b69c",
   "metadata": {},
   "outputs": [],
   "source": [
    "cuts_config = \"./cut_configs/BDT_Lxy-high_SR.py\"\n",
    "histos_config = \"../../../configs/histo_configs/SR_studies.py\""
   ]
  },
  {
   "cell_type": "markdown",
   "id": "d248ae59-1cd0-45e3-91a1-3462012c6a27",
   "metadata": {},
   "source": [
    "### Signal"
   ]
  },
  {
   "cell_type": "code",
   "execution_count": 5,
   "id": "e0ecc4e0-151c-408b-b400-381d1e1a973e",
   "metadata": {},
   "outputs": [],
   "source": [
    "sample_config = \"./sample_configs/skimmed_sig_v2_mA_3m1_2018_aEM_m1_5to50.json\""
   ]
  },
  {
   "cell_type": "code",
   "execution_count": 6,
   "id": "02537ff8-2bb2-4752-bed0-a504affad525",
   "metadata": {
    "scrolled": true
   },
   "outputs": [
    {
     "data": {
      "application/vnd.jupyter.widget-view+json": {
       "model_id": "d5384d0d7afe47a2a283075ef8d6d08f",
       "version_major": 2,
       "version_minor": 0
      },
      "text/plain": [
       "Output()"
      ]
     },
     "metadata": {},
     "output_type": "display_data"
    },
    {
     "data": {
      "text/html": [
       "<pre style=\"white-space:pre;overflow-x:auto;line-height:normal;font-family:Menlo,'DejaVu Sans Mono',consolas,'Courier New',monospace\"></pre>\n"
      ],
      "text/plain": []
     },
     "metadata": {},
     "output_type": "display_data"
    },
    {
     "data": {
      "text/html": [
       "<pre style=\"white-space:pre;overflow-x:auto;line-height:normal;font-family:Menlo,'DejaVu Sans Mono',consolas,'Courier New',monospace\">\n",
       "</pre>\n"
      ],
      "text/plain": [
       "\n"
      ]
     },
     "metadata": {},
     "output_type": "display_data"
    },
    {
     "data": {
      "application/vnd.jupyter.widget-view+json": {
       "model_id": "8f41adb611d543109c0d7cf529028d6a",
       "version_major": 2,
       "version_minor": 0
      },
      "text/plain": [
       "Output()"
      ]
     },
     "metadata": {},
     "output_type": "display_data"
    },
    {
     "name": "stdout",
     "output_type": "stream",
     "text": [
      "Pass: 16/103\n",
      "Pass: 72/185\n",
      "Pass: 117/269\n",
      "Pass: 39/403\n",
      "Pass: 160/322\n",
      "Pass: 76/259\n",
      "Pass: 139/439\n",
      "Pass: 84/279\n",
      "Pass: 10/36\n",
      "Pass: 450/1013\n",
      "Pass: 146/708\n",
      "Pass: 260/924\n",
      "Pass: 194/629\n",
      "Pass: 360/742\n",
      "Pass: 89/396\n",
      "Pass: 259/889\n",
      "Pass: 360/781\n",
      "Pass: 138/530\n",
      "Pass: 83/301\n",
      "Pass: 136/439\n",
      "Pass: 300/574\n",
      "Pass: 181/725\n",
      "Pass: 387/838\n",
      "Pass: 86/312\n",
      "Pass: 154/536\n",
      "Pass: 156/426\n",
      "Pass: 82/393\n",
      "Pass: 297/595\n",
      "Pass: 177/452\n",
      "Pass: 185/526\n",
      "Pass: 51/241\n",
      "Pass: 188/428\n",
      "Pass: 200/433\n",
      "Pass: 200/516\n",
      "Pass: 96/519\n",
      "Pass: 199/511\n"
     ]
    },
    {
     "data": {
      "text/html": [
       "<pre style=\"white-space:pre;overflow-x:auto;line-height:normal;font-family:Menlo,'DejaVu Sans Mono',consolas,'Courier New',monospace\"></pre>\n"
      ],
      "text/plain": []
     },
     "metadata": {},
     "output_type": "display_data"
    },
    {
     "data": {
      "text/html": [
       "<pre style=\"white-space:pre;overflow-x:auto;line-height:normal;font-family:Menlo,'DejaVu Sans Mono',consolas,'Courier New',monospace\">\n",
       "</pre>\n"
      ],
      "text/plain": [
       "\n"
      ]
     },
     "metadata": {},
     "output_type": "display_data"
    },
    {
     "name": "stdout",
     "output_type": "stream",
     "text": [
      "Runtime: 4.87 minutes\n"
     ]
    }
   ],
   "source": [
    "test = Analyzer(sample_config,histos_config,cuts_config, max_samples=-1) # run over all samples in the config\n",
    "\n",
    "t1 = time.time()\n",
    "out = test.process(execr='futures')\n",
    "t2 = time.time()\n",
    "\n",
    "print(\"Runtime: {:.2f} minutes\".format((t2-t1)/60))\n",
    "util.save(out,f\"{outdir}/LxyBDT-based_HighLxy.coffea\")\n",
    "\n",
    "del out, test"
   ]
  },
  {
   "cell_type": "markdown",
   "id": "97b2ff87-c610-4e5a-9d3d-0255d980dbe3",
   "metadata": {},
   "source": [
    "### Background"
   ]
  },
  {
   "cell_type": "code",
   "execution_count": 11,
   "id": "c65bc29b-bfda-48ed-84d4-7ea8f8eded39",
   "metadata": {},
   "outputs": [
    {
     "name": "stdout",
     "output_type": "stream",
     "text": [
      "['../../../configs/sample_configs/skimmed_bkg_2018_DY.json', '../../../configs/sample_configs/skimmed_bkg_2018_Diboson.json', '../../../configs/sample_configs/skimmed_bkg_2018_QCD_TuneCP5_PSWeights.json', '../../../configs/sample_configs/skimmed_bkg_2018_TTJetsDiLept.json', '../../../configs/sample_configs/skimmed_bkg_2018_Top.json', '../../../configs/sample_configs/skimmed_bkg_2018_Triboson.json', '../../../configs/sample_configs/skimmed_bkg_2018_WJets.json', '../../../configs/sample_configs/skimmed_bkg_2018_ZJets.json']\n"
     ]
    }
   ],
   "source": [
    "bkg_configs = glob.glob(\"../../../configs/sample_configs/skimmed_bkg*.json\")\n",
    "\n",
    "print(bkg_configs)"
   ]
  },
  {
   "cell_type": "code",
   "execution_count": 13,
   "id": "f7af452c-6938-4868-8307-bd0f6b2e330d",
   "metadata": {
    "scrolled": true
   },
   "outputs": [
    {
     "name": "stdout",
     "output_type": "stream",
     "text": [
      "bkg_2018_DY\n",
      "bkg_2018_Diboson\n",
      "bkg_2018_QCD_TuneCP5_PSWeights\n",
      "bkg_2018_TTJetsDiLept\n",
      "bkg_2018_Top\n"
     ]
    },
    {
     "data": {
      "application/vnd.jupyter.widget-view+json": {
       "model_id": "7dad2c17df0e485bb3f81b7316af3102",
       "version_major": 2,
       "version_minor": 0
      },
      "text/plain": [
       "Output()"
      ]
     },
     "metadata": {},
     "output_type": "display_data"
    },
    {
     "name": "stdout",
     "output_type": "stream",
     "text": [
      "Pass: 0/9\n",
      "Pass: 0/6\n",
      "\n",
      "Pass: 0/7\n",
      "Pass: 0/3\n",
      "Pass: 0/5Pass: 0/8\n",
      "\n",
      "Pass: 0/13\n",
      "Pass: 0/4\n",
      "Pass: 0/16\n",
      "Pass: 0/2\n",
      "Pass: 0/9\n",
      "Pass: 0/12\n",
      "Pass: 0/11\n",
      "Pass: 0/13\n",
      "Pass: 0/4\n",
      "Pass: 0/5\n",
      "Pass: 0/9\n",
      "Pass: 0/13\n",
      "Pass: 0/16\n",
      "Pass: 0/13\n",
      "Pass: 0/15\n",
      "Pass: 0/9\n",
      "Pass: 0/13\n",
      "Pass: 0/9\n",
      "Pass: 0/12\n",
      "Pass: 0/5\n",
      "Pass: 0/11\n",
      "Pass: 0/6Pass: 0/5\n",
      "\n",
      "Pass: 0/5\n",
      "Pass: 0/10\n",
      "Pass: 0/29\n",
      "Pass: 0/31\n",
      "Pass: 0/19\n",
      "Pass: 0/30\n",
      "Pass: 0/8\n",
      "Pass: 0/2\n",
      "Pass: 0/4\n",
      "Pass: 0/3\n",
      "Pass: 0/15\n",
      "Pass: 0/3\n",
      "Pass: 0/18\n",
      "Pass: 0/23\n",
      "Pass: 0/23\n",
      "Pass: 0/18\n",
      "Pass: 0/7\n",
      "Pass: 0/3\n",
      "Pass: 0/2\n",
      "Pass: 0/1\n",
      "Pass: 0/5\n",
      "Pass: 0/13\n",
      "Pass: 0/12\n",
      "Pass: 0/26\n",
      "Pass: 0/22\n",
      "Pass: 0/16\n",
      "Pass: 0/1\n",
      "\n",
      "Pass: 0/8Pass: 0/2\n",
      "Pass: 0/5\n",
      "Pass: 0/5\n",
      "Pass: 0/4\n",
      "Pass: 0/2\n",
      "Pass: 0/2\n",
      "Pass: 0/23\n",
      "Pass: 0/16\n",
      "Pass: 0/16\n",
      "Pass: 0/16\n",
      "Pass: 0/11\n",
      "Pass: 0/4\n",
      "Pass: 0/5\n",
      "Pass: 0/6\n",
      "Pass: 0/6\n",
      "Pass: 0/2\n",
      "Pass: 0/10\n",
      "Pass: 0/23Pass: 0/13\n",
      "\n",
      "Pass: 0/23Pass: 0/7\n",
      "Pass: 0/8\n",
      "Pass: 0/5\n",
      "Pass: 0/2\n",
      "Pass: 0/6\n",
      "Pass: 0/2\n",
      "Pass: 0/4\n",
      "Pass: 0/16\n",
      "Pass: 0/4\n",
      "Pass: 0/23\n",
      "Pass: 0/15\n",
      "Pass: 0/5\n",
      "Pass: 0/20\n",
      "Pass: 0/5\n",
      "Pass: 0/7\n",
      "Pass: 0/7\n",
      "Pass: 0/6\n",
      "Pass: 0/6\n"
     ]
    },
    {
     "data": {
      "text/html": [
       "<pre style=\"white-space:pre;overflow-x:auto;line-height:normal;font-family:Menlo,'DejaVu Sans Mono',consolas,'Courier New',monospace\"></pre>\n"
      ],
      "text/plain": []
     },
     "metadata": {},
     "output_type": "display_data"
    },
    {
     "data": {
      "text/html": [
       "<pre style=\"white-space:pre;overflow-x:auto;line-height:normal;font-family:Menlo,'DejaVu Sans Mono',consolas,'Courier New',monospace\">\n",
       "</pre>\n"
      ],
      "text/plain": [
       "\n"
      ]
     },
     "metadata": {},
     "output_type": "display_data"
    },
    {
     "name": "stdout",
     "output_type": "stream",
     "text": [
      "Runtime: 3.92 minutes\n",
      "bkg_2018_Triboson\n"
     ]
    },
    {
     "data": {
      "application/vnd.jupyter.widget-view+json": {
       "model_id": "dd1346c5046d4276acedd6521d5697dc",
       "version_major": 2,
       "version_minor": 0
      },
      "text/plain": [
       "Output()"
      ]
     },
     "metadata": {},
     "output_type": "display_data"
    },
    {
     "data": {
      "text/html": [
       "<pre style=\"white-space:pre;overflow-x:auto;line-height:normal;font-family:Menlo,'DejaVu Sans Mono',consolas,'Courier New',monospace\"></pre>\n"
      ],
      "text/plain": []
     },
     "metadata": {},
     "output_type": "display_data"
    },
    {
     "data": {
      "text/html": [
       "<pre style=\"white-space:pre;overflow-x:auto;line-height:normal;font-family:Menlo,'DejaVu Sans Mono',consolas,'Courier New',monospace\">\n",
       "</pre>\n"
      ],
      "text/plain": [
       "\n"
      ]
     },
     "metadata": {},
     "output_type": "display_data"
    },
    {
     "data": {
      "application/vnd.jupyter.widget-view+json": {
       "model_id": "e1ac589d14fa43bf800bf867dccf8ee2",
       "version_major": 2,
       "version_minor": 0
      },
      "text/plain": [
       "Output()"
      ]
     },
     "metadata": {},
     "output_type": "display_data"
    },
    {
     "name": "stdout",
     "output_type": "stream",
     "text": [
      "Pass: 0/6\n",
      "Pass: 0/10\n",
      "Pass: 0/21\n",
      "Pass: 0/13\n"
     ]
    },
    {
     "data": {
      "text/html": [
       "<pre style=\"white-space:pre;overflow-x:auto;line-height:normal;font-family:Menlo,'DejaVu Sans Mono',consolas,'Courier New',monospace\"></pre>\n"
      ],
      "text/plain": []
     },
     "metadata": {},
     "output_type": "display_data"
    },
    {
     "data": {
      "text/html": [
       "<pre style=\"white-space:pre;overflow-x:auto;line-height:normal;font-family:Menlo,'DejaVu Sans Mono',consolas,'Courier New',monospace\">\n",
       "</pre>\n"
      ],
      "text/plain": [
       "\n"
      ]
     },
     "metadata": {},
     "output_type": "display_data"
    },
    {
     "name": "stdout",
     "output_type": "stream",
     "text": [
      "Runtime: 0.30 minutes\n",
      "bkg_2018_WJets\n"
     ]
    },
    {
     "data": {
      "application/vnd.jupyter.widget-view+json": {
       "model_id": "9241ebdfab2c4e178684c95dea0eaccc",
       "version_major": 2,
       "version_minor": 0
      },
      "text/plain": [
       "Output()"
      ]
     },
     "metadata": {},
     "output_type": "display_data"
    },
    {
     "data": {
      "text/html": [
       "<pre style=\"white-space:pre;overflow-x:auto;line-height:normal;font-family:Menlo,'DejaVu Sans Mono',consolas,'Courier New',monospace\"></pre>\n"
      ],
      "text/plain": []
     },
     "metadata": {},
     "output_type": "display_data"
    },
    {
     "data": {
      "text/html": [
       "<pre style=\"white-space:pre;overflow-x:auto;line-height:normal;font-family:Menlo,'DejaVu Sans Mono',consolas,'Courier New',monospace\">\n",
       "</pre>\n"
      ],
      "text/plain": [
       "\n"
      ]
     },
     "metadata": {},
     "output_type": "display_data"
    },
    {
     "data": {
      "application/vnd.jupyter.widget-view+json": {
       "model_id": "9571f62afc3541ccbb714978227adb0d",
       "version_major": 2,
       "version_minor": 0
      },
      "text/plain": [
       "Output()"
      ]
     },
     "metadata": {},
     "output_type": "display_data"
    },
    {
     "name": "stdout",
     "output_type": "stream",
     "text": [
      "Pass: 0/17\n",
      "Pass: 1/83\n",
      "Pass: 2/259\n",
      "Pass: 0/294\n",
      "Pass: 0/141\n",
      "Pass: 0/159\n",
      "Pass: 0/157\n",
      "Pass: 0/74\n",
      "Pass: 0/163\n",
      "Pass: 0/163\n",
      "Pass: 0/162\n",
      "Pass: 0/60\n",
      "Pass: 0/94\n",
      "Pass: 0/91\n",
      "Pass: 0/303\n",
      "Pass: 0/675\n",
      "Pass: 0/611\n",
      "Pass: 0/215\n",
      "Pass: 0/185\n",
      "Pass: 1/215\n",
      "Pass: 1/198\n",
      "Pass: 0/178\n",
      "Pass: 0/795\n",
      "Pass: 2/197\n",
      "Pass: 0/1282\n",
      "Pass: 0/493\n",
      "Pass: 1/175\n",
      "Pass: 1/1636\n",
      "Pass: 3/1534\n",
      "Pass: 1/204\n",
      "Pass: 0/182\n",
      "Pass: 0/203\n",
      "Pass: 0/865\n",
      "Pass: 2/127\n",
      "Pass: 2/106\n",
      "Pass: 3/1582\n",
      "Pass: 1/132\n",
      "Pass: 2/1629\n",
      "Pass: 0/376\n",
      "Pass: 0/209\n",
      "Pass: 1/182\n",
      "Pass: 0/188\n"
     ]
    },
    {
     "data": {
      "text/html": [
       "<pre style=\"white-space:pre;overflow-x:auto;line-height:normal;font-family:Menlo,'DejaVu Sans Mono',consolas,'Courier New',monospace\"></pre>\n"
      ],
      "text/plain": []
     },
     "metadata": {},
     "output_type": "display_data"
    },
    {
     "data": {
      "text/html": [
       "<pre style=\"white-space:pre;overflow-x:auto;line-height:normal;font-family:Menlo,'DejaVu Sans Mono',consolas,'Courier New',monospace\">\n",
       "</pre>\n"
      ],
      "text/plain": [
       "\n"
      ]
     },
     "metadata": {},
     "output_type": "display_data"
    },
    {
     "name": "stdout",
     "output_type": "stream",
     "text": [
      "Runtime: 3.14 minutes\n",
      "bkg_2018_ZJets\n"
     ]
    },
    {
     "data": {
      "application/vnd.jupyter.widget-view+json": {
       "model_id": "a985d3ea0d53426a87cd80a53a8f9484",
       "version_major": 2,
       "version_minor": 0
      },
      "text/plain": [
       "Output()"
      ]
     },
     "metadata": {},
     "output_type": "display_data"
    },
    {
     "data": {
      "text/html": [
       "<pre style=\"white-space:pre;overflow-x:auto;line-height:normal;font-family:Menlo,'DejaVu Sans Mono',consolas,'Courier New',monospace\"></pre>\n"
      ],
      "text/plain": []
     },
     "metadata": {},
     "output_type": "display_data"
    },
    {
     "data": {
      "text/html": [
       "<pre style=\"white-space:pre;overflow-x:auto;line-height:normal;font-family:Menlo,'DejaVu Sans Mono',consolas,'Courier New',monospace\">\n",
       "</pre>\n"
      ],
      "text/plain": [
       "\n"
      ]
     },
     "metadata": {},
     "output_type": "display_data"
    },
    {
     "data": {
      "application/vnd.jupyter.widget-view+json": {
       "model_id": "22c1aca865364caca5f45567fe5f540d",
       "version_major": 2,
       "version_minor": 0
      },
      "text/plain": [
       "Output()"
      ]
     },
     "metadata": {},
     "output_type": "display_data"
    },
    {
     "name": "stdout",
     "output_type": "stream",
     "text": [
      "Pass: 0/20\n",
      "Pass: 1/320\n",
      "Pass: 0/322\n",
      "Pass: 0/248\n",
      "Pass: 0/126\n",
      "Pass: 0/238\n",
      "Pass: 0/143\n",
      "Pass: 0/1460\n",
      "Pass: 0/1983\n",
      "Pass: 3/3328\n",
      "Pass: 0/3276\n",
      "Pass: 0/6\n",
      "Pass: 1/2544\n",
      "Pass: 0/1515\n",
      "Pass: 1/1524\n",
      "Pass: 0/324\n",
      "Pass: 0/1373\n",
      "Pass: 0/593\n",
      "Pass: 0/1297\n",
      "Pass: 2/2020\n",
      "Pass: 2/1709\n",
      "Pass: 0/1739\n"
     ]
    },
    {
     "data": {
      "text/html": [
       "<pre style=\"white-space:pre;overflow-x:auto;line-height:normal;font-family:Menlo,'DejaVu Sans Mono',consolas,'Courier New',monospace\"></pre>\n"
      ],
      "text/plain": []
     },
     "metadata": {},
     "output_type": "display_data"
    },
    {
     "data": {
      "text/html": [
       "<pre style=\"white-space:pre;overflow-x:auto;line-height:normal;font-family:Menlo,'DejaVu Sans Mono',consolas,'Courier New',monospace\">\n",
       "</pre>\n"
      ],
      "text/plain": [
       "\n"
      ]
     },
     "metadata": {},
     "output_type": "display_data"
    },
    {
     "name": "stdout",
     "output_type": "stream",
     "text": [
      "Runtime: 3.13 minutes\n"
     ]
    }
   ],
   "source": [
    "runAnalyzer = False\n",
    "\n",
    "for bkg in bkg_configs:\n",
    "    process = bkg.split('/')[-1].split('.json')[0].split('skimmed_')[-1]\n",
    "    print(process)\n",
    "\n",
    "    if 'TTJetsDiLept' in bkg: # currently not available ntuples\n",
    "        continue\n",
    "\n",
    "    if 'Top' in bkg:\n",
    "        runAnalyzer = True\n",
    "\n",
    "    if runAnalyzer:\n",
    "        test = Analyzer(bkg,histos_config,cuts_config) \n",
    "            \n",
    "        t1 = time.time()\n",
    "        out = test.process(execr='futures')\n",
    "        t2 = time.time()\n",
    "            \n",
    "        print(\"Runtime: {:.2f} minutes\".format((t2-t1)/60))\n",
    "        util.save(out,f\"{outdir}/{process}_LxyBDT-based_HighLxy.coffea\")\n",
    "        del out, test"
   ]
  },
  {
   "cell_type": "code",
   "execution_count": null,
   "id": "fac8d8c8-dc33-4fff-a0e9-0d2b7fb6cd7b",
   "metadata": {},
   "outputs": [],
   "source": []
  }
 ],
 "metadata": {
  "kernelspec": {
   "display_name": "Python 3 (ipykernel)",
   "language": "python",
   "name": "python3"
  },
  "language_info": {
   "codemirror_mode": {
    "name": "ipython",
    "version": 3
   },
   "file_extension": ".py",
   "mimetype": "text/x-python",
   "name": "python",
   "nbconvert_exporter": "python",
   "pygments_lexer": "ipython3",
   "version": "3.8.17"
  }
 },
 "nbformat": 4,
 "nbformat_minor": 5
}

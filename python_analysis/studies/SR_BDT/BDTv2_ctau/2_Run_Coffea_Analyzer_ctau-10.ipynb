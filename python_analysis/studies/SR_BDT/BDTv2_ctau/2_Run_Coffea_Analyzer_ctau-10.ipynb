{
 "cells": [
  {
   "cell_type": "code",
   "execution_count": 1,
   "id": "e669ba8e-d8ae-45e9-bdac-9dabb1da3557",
   "metadata": {},
   "outputs": [],
   "source": [
    "%load_ext autoreload\n",
    "%autoreload 2\n",
    "import numpy as np\n",
    "import matplotlib.pyplot as plt\n",
    "import awkward as ak\n",
    "import sys\n",
    "sys.path.append(\"../../../analysisTools/\")\n",
    "from analysisTools import Analyzer\n",
    "from analysisTools import loadSchema\n",
    "import analysisTools as tools\n",
    "import analysisSubroutines as routines\n",
    "import importlib\n",
    "import coffea.util as util\n",
    "import time\n",
    "import json\n",
    "import os\n",
    "import glob"
   ]
  },
  {
   "cell_type": "code",
   "execution_count": 2,
   "id": "c59aff4f-6762-4e07-957a-349d22652fad",
   "metadata": {},
   "outputs": [],
   "source": [
    "outdir = \"./coffea/\"\n",
    "if not os.path.isdir(outdir):\n",
    "    os.mkdir(outdir)"
   ]
  },
  {
   "cell_type": "code",
   "execution_count": 3,
   "id": "73201266-7873-48cb-b6b9-ea70e7703e5b",
   "metadata": {},
   "outputs": [],
   "source": [
    "outdir = \"./coffea/skimmed/\"\n",
    "if not os.path.isdir(outdir):\n",
    "    os.mkdir(outdir)"
   ]
  },
  {
   "cell_type": "markdown",
   "id": "d90eb2c8-1882-4781-a242-44a5758376b4",
   "metadata": {},
   "source": [
    "## All Lxy"
   ]
  },
  {
   "cell_type": "code",
   "execution_count": 4,
   "id": "c72681ac-a0f5-402a-8a80-d5f17505b69c",
   "metadata": {},
   "outputs": [],
   "source": [
    "cuts_config = \"./cut_configs/BDTv2_ctau-10.py\"\n",
    "histos_config = \"../../../configs/histo_configs/SR_studies.py\""
   ]
  },
  {
   "cell_type": "markdown",
   "id": "d248ae59-1cd0-45e3-91a1-3462012c6a27",
   "metadata": {},
   "source": [
    "### Signal"
   ]
  },
  {
   "cell_type": "code",
   "execution_count": 5,
   "id": "e0ecc4e0-151c-408b-b400-381d1e1a973e",
   "metadata": {},
   "outputs": [],
   "source": [
    "sample_config = \"./sample_configs/skimmed_sig_v2_mA_3m1_2018_aEM_m1_5to50_ctau-10.json\""
   ]
  },
  {
   "cell_type": "code",
   "execution_count": 6,
   "id": "02537ff8-2bb2-4752-bed0-a504affad525",
   "metadata": {},
   "outputs": [
    {
     "data": {
      "application/vnd.jupyter.widget-view+json": {
       "model_id": "efa66f0f98d347f7b14fc1369c0f1c08",
       "version_major": 2,
       "version_minor": 0
      },
      "text/plain": [
       "Output()"
      ]
     },
     "metadata": {},
     "output_type": "display_data"
    },
    {
     "data": {
      "text/html": [
       "<pre style=\"white-space:pre;overflow-x:auto;line-height:normal;font-family:Menlo,'DejaVu Sans Mono',consolas,'Courier New',monospace\"></pre>\n"
      ],
      "text/plain": []
     },
     "metadata": {},
     "output_type": "display_data"
    },
    {
     "data": {
      "text/html": [
       "<pre style=\"white-space:pre;overflow-x:auto;line-height:normal;font-family:Menlo,'DejaVu Sans Mono',consolas,'Courier New',monospace\">\n",
       "</pre>\n"
      ],
      "text/plain": [
       "\n"
      ]
     },
     "metadata": {},
     "output_type": "display_data"
    },
    {
     "data": {
      "application/vnd.jupyter.widget-view+json": {
       "model_id": "f7fea960035e4df5baaf1f76b39c8318",
       "version_major": 2,
       "version_minor": 0
      },
      "text/plain": [
       "Output()"
      ]
     },
     "metadata": {},
     "output_type": "display_data"
    },
    {
     "name": "stdout",
     "output_type": "stream",
     "text": [
      "Pass: 79/254\n",
      "Pass: 89/361Pass: 249/494\n",
      "\n",
      "Pass: 639/1542\n",
      "Pass: 416/834\n",
      "Pass: 470/1175\n",
      "Pass: 529/1111\n",
      "Pass: 480/1149\n",
      "Pass: 228/660\n",
      "Pass: 217/585\n",
      "Pass: 224/698\n",
      "\n"
     ]
    },
    {
     "data": {
      "text/html": [
       "<pre style=\"white-space:pre;overflow-x:auto;line-height:normal;font-family:Menlo,'DejaVu Sans Mono',consolas,'Courier New',monospace\"></pre>\n"
      ],
      "text/plain": []
     },
     "metadata": {},
     "output_type": "display_data"
    },
    {
     "data": {
      "text/html": [
       "<pre style=\"white-space:pre;overflow-x:auto;line-height:normal;font-family:Menlo,'DejaVu Sans Mono',consolas,'Courier New',monospace\">\n",
       "</pre>\n"
      ],
      "text/plain": [
       "\n"
      ]
     },
     "metadata": {},
     "output_type": "display_data"
    },
    {
     "name": "stdout",
     "output_type": "stream",
     "text": [
      "Runtime: 1.12 minutes\n"
     ]
    }
   ],
   "source": [
    "test = Analyzer(sample_config,histos_config,cuts_config, max_samples=-1) # run over all samples in the config\n",
    "\n",
    "t1 = time.time()\n",
    "out = test.process(execr='futures')\n",
    "t2 = time.time()\n",
    "\n",
    "print(\"Runtime: {:.2f} minutes\".format((t2-t1)/60))\n",
    "util.save(out,f\"{outdir}/ctau-10-BDT-based_AllLxy.coffea\")\n",
    "\n",
    "del out, test"
   ]
  },
  {
   "cell_type": "markdown",
   "id": "97b2ff87-c610-4e5a-9d3d-0255d980dbe3",
   "metadata": {},
   "source": [
    "### Background"
   ]
  },
  {
   "cell_type": "code",
   "execution_count": 7,
   "id": "c65bc29b-bfda-48ed-84d4-7ea8f8eded39",
   "metadata": {},
   "outputs": [
    {
     "name": "stdout",
     "output_type": "stream",
     "text": [
      "['../../../configs/sample_configs/skimmed_bkg_2018_DY.json', '../../../configs/sample_configs/skimmed_bkg_2018_Diboson.json', '../../../configs/sample_configs/skimmed_bkg_2018_QCD_TuneCP5_PSWeights.json', '../../../configs/sample_configs/skimmed_bkg_2018_TTJetsDiLept.json', '../../../configs/sample_configs/skimmed_bkg_2018_Top.json', '../../../configs/sample_configs/skimmed_bkg_2018_Triboson.json', '../../../configs/sample_configs/skimmed_bkg_2018_WJets.json', '../../../configs/sample_configs/skimmed_bkg_2018_ZJets.json']\n"
     ]
    }
   ],
   "source": [
    "bkg_configs = glob.glob(\"../../../configs/sample_configs/skimmed_bkg*.json\")\n",
    "\n",
    "print(bkg_configs)"
   ]
  },
  {
   "cell_type": "code",
   "execution_count": 8,
   "id": "f7af452c-6938-4868-8307-bd0f6b2e330d",
   "metadata": {
    "scrolled": true
   },
   "outputs": [
    {
     "name": "stdout",
     "output_type": "stream",
     "text": [
      "bkg_2018_DY\n"
     ]
    },
    {
     "data": {
      "application/vnd.jupyter.widget-view+json": {
       "model_id": "a30be4a0389a4ca7acd1d4d78c048d2d",
       "version_major": 2,
       "version_minor": 0
      },
      "text/plain": [
       "Output()"
      ]
     },
     "metadata": {},
     "output_type": "display_data"
    },
    {
     "data": {
      "text/html": [
       "<pre style=\"white-space:pre;overflow-x:auto;line-height:normal;font-family:Menlo,'DejaVu Sans Mono',consolas,'Courier New',monospace\"></pre>\n"
      ],
      "text/plain": []
     },
     "metadata": {},
     "output_type": "display_data"
    },
    {
     "data": {
      "text/html": [
       "<pre style=\"white-space:pre;overflow-x:auto;line-height:normal;font-family:Menlo,'DejaVu Sans Mono',consolas,'Courier New',monospace\">\n",
       "</pre>\n"
      ],
      "text/plain": [
       "\n"
      ]
     },
     "metadata": {},
     "output_type": "display_data"
    },
    {
     "data": {
      "application/vnd.jupyter.widget-view+json": {
       "model_id": "819453e79a9a4478a5aa8f9184e71e4b",
       "version_major": 2,
       "version_minor": 0
      },
      "text/plain": [
       "Output()"
      ]
     },
     "metadata": {},
     "output_type": "display_data"
    },
    {
     "name": "stdout",
     "output_type": "stream",
     "text": [
      "Pass: 0/2\n",
      "Pass: 0/1\n",
      "Pass: 0/1\n",
      "Pass: 0/2\n",
      "Pass: 0/1\n",
      "Pass: 0/2\n"
     ]
    },
    {
     "data": {
      "text/html": [
       "<pre style=\"white-space:pre;overflow-x:auto;line-height:normal;font-family:Menlo,'DejaVu Sans Mono',consolas,'Courier New',monospace\"></pre>\n"
      ],
      "text/plain": []
     },
     "metadata": {},
     "output_type": "display_data"
    },
    {
     "data": {
      "text/html": [
       "<pre style=\"white-space:pre;overflow-x:auto;line-height:normal;font-family:Menlo,'DejaVu Sans Mono',consolas,'Courier New',monospace\">\n",
       "</pre>\n"
      ],
      "text/plain": [
       "\n"
      ]
     },
     "metadata": {},
     "output_type": "display_data"
    },
    {
     "name": "stdout",
     "output_type": "stream",
     "text": [
      "Runtime: 0.88 minutes\n",
      "bkg_2018_Diboson\n"
     ]
    },
    {
     "data": {
      "application/vnd.jupyter.widget-view+json": {
       "model_id": "53bee6ba004148478c65651ab1533eeb",
       "version_major": 2,
       "version_minor": 0
      },
      "text/plain": [
       "Output()"
      ]
     },
     "metadata": {},
     "output_type": "display_data"
    },
    {
     "data": {
      "text/html": [
       "<pre style=\"white-space:pre;overflow-x:auto;line-height:normal;font-family:Menlo,'DejaVu Sans Mono',consolas,'Courier New',monospace\"></pre>\n"
      ],
      "text/plain": []
     },
     "metadata": {},
     "output_type": "display_data"
    },
    {
     "data": {
      "text/html": [
       "<pre style=\"white-space:pre;overflow-x:auto;line-height:normal;font-family:Menlo,'DejaVu Sans Mono',consolas,'Courier New',monospace\">\n",
       "</pre>\n"
      ],
      "text/plain": [
       "\n"
      ]
     },
     "metadata": {},
     "output_type": "display_data"
    },
    {
     "data": {
      "application/vnd.jupyter.widget-view+json": {
       "model_id": "0af4e227e91f4b659e11fa9da10f4ee5",
       "version_major": 2,
       "version_minor": 0
      },
      "text/plain": [
       "Output()"
      ]
     },
     "metadata": {},
     "output_type": "display_data"
    },
    {
     "name": "stdout",
     "output_type": "stream",
     "text": [
      "Pass: 0/91\n",
      "Pass: 0/146\n",
      "Pass: 0/90\n",
      "Pass: 0/91\n",
      "Pass: 1/112\n",
      "Pass: 1/108\n",
      "Pass: 0/100\n",
      "Pass: 0/29\n"
     ]
    },
    {
     "data": {
      "text/html": [
       "<pre style=\"white-space:pre;overflow-x:auto;line-height:normal;font-family:Menlo,'DejaVu Sans Mono',consolas,'Courier New',monospace\"></pre>\n"
      ],
      "text/plain": []
     },
     "metadata": {},
     "output_type": "display_data"
    },
    {
     "data": {
      "text/html": [
       "<pre style=\"white-space:pre;overflow-x:auto;line-height:normal;font-family:Menlo,'DejaVu Sans Mono',consolas,'Courier New',monospace\">\n",
       "</pre>\n"
      ],
      "text/plain": [
       "\n"
      ]
     },
     "metadata": {},
     "output_type": "display_data"
    },
    {
     "name": "stdout",
     "output_type": "stream",
     "text": [
      "Runtime: 0.61 minutes\n",
      "bkg_2018_QCD_TuneCP5_PSWeights\n"
     ]
    },
    {
     "data": {
      "application/vnd.jupyter.widget-view+json": {
       "model_id": "a3bb8314450842fdb85c40e282c6d8be",
       "version_major": 2,
       "version_minor": 0
      },
      "text/plain": [
       "Output()"
      ]
     },
     "metadata": {},
     "output_type": "display_data"
    },
    {
     "data": {
      "text/html": [
       "<pre style=\"white-space:pre;overflow-x:auto;line-height:normal;font-family:Menlo,'DejaVu Sans Mono',consolas,'Courier New',monospace\"></pre>\n"
      ],
      "text/plain": []
     },
     "metadata": {},
     "output_type": "display_data"
    },
    {
     "data": {
      "text/html": [
       "<pre style=\"white-space:pre;overflow-x:auto;line-height:normal;font-family:Menlo,'DejaVu Sans Mono',consolas,'Courier New',monospace\">\n",
       "</pre>\n"
      ],
      "text/plain": [
       "\n"
      ]
     },
     "metadata": {},
     "output_type": "display_data"
    },
    {
     "data": {
      "application/vnd.jupyter.widget-view+json": {
       "model_id": "c3976c32cb0a458c87ac7c54a26d7162",
       "version_major": 2,
       "version_minor": 0
      },
      "text/plain": [
       "Output()"
      ]
     },
     "metadata": {},
     "output_type": "display_data"
    },
    {
     "name": "stdout",
     "output_type": "stream",
     "text": [
      "Pass: 0/1\n",
      "Pass: 0/1\n",
      "Pass: 0/1\n"
     ]
    },
    {
     "data": {
      "text/html": [
       "<pre style=\"white-space:pre;overflow-x:auto;line-height:normal;font-family:Menlo,'DejaVu Sans Mono',consolas,'Courier New',monospace\"></pre>\n"
      ],
      "text/plain": []
     },
     "metadata": {},
     "output_type": "display_data"
    },
    {
     "data": {
      "text/html": [
       "<pre style=\"white-space:pre;overflow-x:auto;line-height:normal;font-family:Menlo,'DejaVu Sans Mono',consolas,'Courier New',monospace\">\n",
       "</pre>\n"
      ],
      "text/plain": [
       "\n"
      ]
     },
     "metadata": {},
     "output_type": "display_data"
    },
    {
     "name": "stdout",
     "output_type": "stream",
     "text": [
      "Runtime: 6.32 minutes\n",
      "bkg_2018_TTJetsDiLept\n",
      "bkg_2018_Top\n"
     ]
    },
    {
     "data": {
      "application/vnd.jupyter.widget-view+json": {
       "model_id": "1d0ad5a3d29d4df79844149f434e09fd",
       "version_major": 2,
       "version_minor": 0
      },
      "text/plain": [
       "Output()"
      ]
     },
     "metadata": {},
     "output_type": "display_data"
    },
    {
     "data": {
      "text/html": [
       "<pre style=\"white-space:pre;overflow-x:auto;line-height:normal;font-family:Menlo,'DejaVu Sans Mono',consolas,'Courier New',monospace\"></pre>\n"
      ],
      "text/plain": []
     },
     "metadata": {},
     "output_type": "display_data"
    },
    {
     "data": {
      "text/html": [
       "<pre style=\"white-space:pre;overflow-x:auto;line-height:normal;font-family:Menlo,'DejaVu Sans Mono',consolas,'Courier New',monospace\">\n",
       "</pre>\n"
      ],
      "text/plain": [
       "\n"
      ]
     },
     "metadata": {},
     "output_type": "display_data"
    },
    {
     "data": {
      "application/vnd.jupyter.widget-view+json": {
       "model_id": "1cd1bd98625442488f7dfaa051ed8ffa",
       "version_major": 2,
       "version_minor": 0
      },
      "text/plain": [
       "Output()"
      ]
     },
     "metadata": {},
     "output_type": "display_data"
    },
    {
     "name": "stdout",
     "output_type": "stream",
     "text": [
      "Pass: 0/12\n",
      "Pass: 0/22\n",
      "Pass: 0/17\n",
      "Pass: 0/24\n",
      "Pass: 0/9\n",
      "Pass: 0/9\n",
      "Pass: 0/22\n",
      "Pass: 0/15\n",
      "Pass: 0/6\n",
      "Pass: 0/3\n",
      "Pass: 0/6\n",
      "Pass: 0/29\n",
      "Pass: 0/23\n",
      "Pass: 0/29\n",
      "Pass: 0/26\n",
      "Pass: 0/18\n",
      "Pass: 0/6\n",
      "Pass: 0/7\n",
      "Pass: 0/28\n",
      "Pass: 0/20\n",
      "Pass: 0/30\n",
      "Pass: 0/34\n",
      "Pass: 0/28\n",
      "Pass: 0/23\n",
      "Pass: 0/31\n",
      "Pass: 0/25\n",
      "Pass: 0/17\n",
      "Pass: 0/7\n",
      "Pass: 0/24\n",
      "Pass: 0/10\n",
      "Pass: 0/13\n",
      "Pass: 0/13\n",
      "Pass: 0/17\n",
      "Pass: 0/53\n",
      "Pass: 0/52\n",
      "Pass: 0/42\n",
      "Pass: 0/56\n",
      "Pass: 0/14Pass: 0/5\n",
      "Pass: 0/7\n",
      "Pass: 0/20\n",
      "Pass: 0/6\n",
      "Pass: 0/4\n",
      "Pass: 1/40\n",
      "Pass: 0/32\n",
      "Pass: 0/47\n",
      "Pass: 0/10\n",
      "Pass: 0/43\n",
      "Pass: 0/9\n",
      "Pass: 0/6\n",
      "Pass: 0/7\n",
      "Pass: 0/8\n",
      "Pass: 0/24\n",
      "Pass: 0/51\n",
      "Pass: 0/39\n",
      "Pass: 0/31\n",
      "Pass: 0/23\n",
      "Pass: 0/49\n",
      "Pass: 0/3\n",
      "Pass: 0/6\n",
      "Pass: 0/5\n",
      "Pass: 0/9\n",
      "Pass: 0/11\n",
      "Pass: 0/8\n",
      "Pass: 0/8\n",
      "Pass: 0/42\n",
      "Pass: 0/35\n",
      "Pass: 0/40\n",
      "Pass: 0/35\n",
      "Pass: 0/8\n",
      "Pass: 0/22Pass: 0/10\n",
      "Pass: 0/8\n",
      "Pass: 0/8\n",
      "Pass: 0/5\n",
      "Pass: 0/37\n",
      "Pass: 0/20\n",
      "Pass: 0/41\n",
      "Pass: 0/12\n",
      "Pass: 0/10\n",
      "Pass: 0/5\n",
      "Pass: 0/30\n",
      "Pass: 0/11\n",
      "Pass: 0/10\n",
      "Pass: 0/7\n",
      "Pass: 0/40\n",
      "Pass: 0/7\n",
      "Pass: 0/40\n",
      "Pass: 0/33\n",
      "Pass: 1/50\n",
      "Pass: 0/18\n",
      "Pass: 0/23\n",
      "Pass: 0/15Pass: 0/12\n",
      "\n",
      "Pass: 0/8Pass: 0/7\n",
      "Pass: 0/26\n"
     ]
    },
    {
     "data": {
      "text/html": [
       "<pre style=\"white-space:pre;overflow-x:auto;line-height:normal;font-family:Menlo,'DejaVu Sans Mono',consolas,'Courier New',monospace\"></pre>\n"
      ],
      "text/plain": []
     },
     "metadata": {},
     "output_type": "display_data"
    },
    {
     "data": {
      "text/html": [
       "<pre style=\"white-space:pre;overflow-x:auto;line-height:normal;font-family:Menlo,'DejaVu Sans Mono',consolas,'Courier New',monospace\">\n",
       "</pre>\n"
      ],
      "text/plain": [
       "\n"
      ]
     },
     "metadata": {},
     "output_type": "display_data"
    },
    {
     "name": "stdout",
     "output_type": "stream",
     "text": [
      "Runtime: 12.54 minutes\n",
      "bkg_2018_Triboson\n"
     ]
    },
    {
     "data": {
      "application/vnd.jupyter.widget-view+json": {
       "model_id": "50a0cd78df004f50a1ac7e8ff984b1ad",
       "version_major": 2,
       "version_minor": 0
      },
      "text/plain": [
       "Output()"
      ]
     },
     "metadata": {},
     "output_type": "display_data"
    },
    {
     "data": {
      "text/html": [
       "<pre style=\"white-space:pre;overflow-x:auto;line-height:normal;font-family:Menlo,'DejaVu Sans Mono',consolas,'Courier New',monospace\"></pre>\n"
      ],
      "text/plain": []
     },
     "metadata": {},
     "output_type": "display_data"
    },
    {
     "data": {
      "text/html": [
       "<pre style=\"white-space:pre;overflow-x:auto;line-height:normal;font-family:Menlo,'DejaVu Sans Mono',consolas,'Courier New',monospace\">\n",
       "</pre>\n"
      ],
      "text/plain": [
       "\n"
      ]
     },
     "metadata": {},
     "output_type": "display_data"
    },
    {
     "data": {
      "application/vnd.jupyter.widget-view+json": {
       "model_id": "c37d136324804ddf98351754732589f3",
       "version_major": 2,
       "version_minor": 0
      },
      "text/plain": [
       "Output()"
      ]
     },
     "metadata": {},
     "output_type": "display_data"
    },
    {
     "name": "stdout",
     "output_type": "stream",
     "text": [
      "Pass: 0/18Pass: 0/13Pass: 0/35\n",
      "\n",
      "\n",
      "Pass: 0/26\n"
     ]
    },
    {
     "data": {
      "text/html": [
       "<pre style=\"white-space:pre;overflow-x:auto;line-height:normal;font-family:Menlo,'DejaVu Sans Mono',consolas,'Courier New',monospace\"></pre>\n"
      ],
      "text/plain": []
     },
     "metadata": {},
     "output_type": "display_data"
    },
    {
     "data": {
      "text/html": [
       "<pre style=\"white-space:pre;overflow-x:auto;line-height:normal;font-family:Menlo,'DejaVu Sans Mono',consolas,'Courier New',monospace\">\n",
       "</pre>\n"
      ],
      "text/plain": [
       "\n"
      ]
     },
     "metadata": {},
     "output_type": "display_data"
    },
    {
     "name": "stdout",
     "output_type": "stream",
     "text": [
      "Runtime: 2.10 minutes\n",
      "bkg_2018_WJets\n"
     ]
    },
    {
     "data": {
      "application/vnd.jupyter.widget-view+json": {
       "model_id": "d9d2ea5c78de461da56ce7f4eb9c037b",
       "version_major": 2,
       "version_minor": 0
      },
      "text/plain": [
       "Output()"
      ]
     },
     "metadata": {},
     "output_type": "display_data"
    },
    {
     "data": {
      "text/html": [
       "<pre style=\"white-space:pre;overflow-x:auto;line-height:normal;font-family:Menlo,'DejaVu Sans Mono',consolas,'Courier New',monospace\"></pre>\n"
      ],
      "text/plain": []
     },
     "metadata": {},
     "output_type": "display_data"
    },
    {
     "data": {
      "text/html": [
       "<pre style=\"white-space:pre;overflow-x:auto;line-height:normal;font-family:Menlo,'DejaVu Sans Mono',consolas,'Courier New',monospace\">\n",
       "</pre>\n"
      ],
      "text/plain": [
       "\n"
      ]
     },
     "metadata": {},
     "output_type": "display_data"
    },
    {
     "data": {
      "application/vnd.jupyter.widget-view+json": {
       "model_id": "9c90872df80e4c37993fa0377e4097a6",
       "version_major": 2,
       "version_minor": 0
      },
      "text/plain": [
       "Output()"
      ]
     },
     "metadata": {},
     "output_type": "display_data"
    },
    {
     "name": "stdout",
     "output_type": "stream",
     "text": [
      "Pass: 1/28\n",
      "Pass: 2/151\n",
      "Pass: 0/583\n",
      "Pass: 3/487\n",
      "Pass: 0/255\n",
      "Pass: 0/270\n",
      "Pass: 0/130\n",
      "Pass: 0/273\n",
      "Pass: 0/280\n",
      "Pass: 0/271\n",
      "Pass: 0/100\n",
      "Pass: 0/262\n",
      "Pass: 0/137\n",
      "Pass: 0/141\n",
      "Pass: 1/389\n",
      "Pass: 1/1086\n",
      "Pass: 0/526\n",
      "Pass: 1/1160\n",
      "Pass: 0/319\n",
      "Pass: 1/365\n",
      "Pass: 1/367\n",
      "Pass: 0/321\n",
      "Pass: 0/346\n",
      "Pass: 0/1369\n",
      "Pass: 2/2248\n",
      "Pass: 6/2752\n",
      "Pass: 0/333\n",
      "Pass: 3/2786\n",
      "Pass: 1/860\n",
      "Pass: 1/348\n",
      "Pass: 0/355\n",
      "Pass: 0/359\n",
      "Pass: 3/1480\n",
      "Pass: 1/236\n",
      "Pass: 2/190\n",
      "Pass: 5/2806\n",
      "Pass: 1/2781\n",
      "Pass: 0/223\n",
      "Pass: 1/333\n",
      "Pass: 1/687\n",
      "Pass: 0/371\n",
      "Pass: 0/326\n"
     ]
    },
    {
     "data": {
      "text/html": [
       "<pre style=\"white-space:pre;overflow-x:auto;line-height:normal;font-family:Menlo,'DejaVu Sans Mono',consolas,'Courier New',monospace\"></pre>\n"
      ],
      "text/plain": []
     },
     "metadata": {},
     "output_type": "display_data"
    },
    {
     "data": {
      "text/html": [
       "<pre style=\"white-space:pre;overflow-x:auto;line-height:normal;font-family:Menlo,'DejaVu Sans Mono',consolas,'Courier New',monospace\">\n",
       "</pre>\n"
      ],
      "text/plain": [
       "\n"
      ]
     },
     "metadata": {},
     "output_type": "display_data"
    },
    {
     "name": "stdout",
     "output_type": "stream",
     "text": [
      "Runtime: 3.19 minutes\n",
      "bkg_2018_ZJets\n"
     ]
    },
    {
     "data": {
      "application/vnd.jupyter.widget-view+json": {
       "model_id": "648f3e5129ce4c4682c3ea19dc6d2a4c",
       "version_major": 2,
       "version_minor": 0
      },
      "text/plain": [
       "Output()"
      ]
     },
     "metadata": {},
     "output_type": "display_data"
    },
    {
     "data": {
      "text/html": [
       "<pre style=\"white-space:pre;overflow-x:auto;line-height:normal;font-family:Menlo,'DejaVu Sans Mono',consolas,'Courier New',monospace\"></pre>\n"
      ],
      "text/plain": []
     },
     "metadata": {},
     "output_type": "display_data"
    },
    {
     "data": {
      "text/html": [
       "<pre style=\"white-space:pre;overflow-x:auto;line-height:normal;font-family:Menlo,'DejaVu Sans Mono',consolas,'Courier New',monospace\">\n",
       "</pre>\n"
      ],
      "text/plain": [
       "\n"
      ]
     },
     "metadata": {},
     "output_type": "display_data"
    },
    {
     "data": {
      "application/vnd.jupyter.widget-view+json": {
       "model_id": "942406ce70cf42a1bc250b68ef5ed338",
       "version_major": 2,
       "version_minor": 0
      },
      "text/plain": [
       "Output()"
      ]
     },
     "metadata": {},
     "output_type": "display_data"
    },
    {
     "name": "stdout",
     "output_type": "stream",
     "text": [
      "Pass: 0/42\n",
      "Pass: 0/550\n",
      "Pass: 0/522\n",
      "Pass: 0/393\n",
      "Pass: 0/391\n",
      "Pass: 0/237\n",
      "Pass: 3/2489\n",
      "Pass: 3/3355\n",
      "Pass: 0/5643\n",
      "Pass: 5/5546\n",
      "Pass: 1/4407\n",
      "Pass: 0/7\n",
      "Pass: 1/2605\n",
      "Pass: 2/2630\n",
      "Pass: 0/528\n",
      "Pass: 2/2308\n",
      "Pass: 1/2250\n",
      "Pass: 0/1006\n",
      "Pass: 2/3428\n",
      "Pass: 4/2920\n",
      "Pass: 4/3020\n"
     ]
    },
    {
     "data": {
      "text/html": [
       "<pre style=\"white-space:pre;overflow-x:auto;line-height:normal;font-family:Menlo,'DejaVu Sans Mono',consolas,'Courier New',monospace\"></pre>\n"
      ],
      "text/plain": []
     },
     "metadata": {},
     "output_type": "display_data"
    },
    {
     "data": {
      "text/html": [
       "<pre style=\"white-space:pre;overflow-x:auto;line-height:normal;font-family:Menlo,'DejaVu Sans Mono',consolas,'Courier New',monospace\">\n",
       "</pre>\n"
      ],
      "text/plain": [
       "\n"
      ]
     },
     "metadata": {},
     "output_type": "display_data"
    },
    {
     "name": "stdout",
     "output_type": "stream",
     "text": [
      "Runtime: 3.14 minutes\n"
     ]
    }
   ],
   "source": [
    "for bkg in bkg_configs:\n",
    "    process = bkg.split('/')[-1].split('.json')[0].split('skimmed_')[-1]\n",
    "    print(process)\n",
    "\n",
    "    if 'TTJetsDiLept' in bkg: # currently not available ntuples\n",
    "        continue\n",
    "    \n",
    "    test = Analyzer(bkg,histos_config,cuts_config) \n",
    "        \n",
    "    t1 = time.time()\n",
    "    out = test.process(execr='futures')\n",
    "    t2 = time.time()\n",
    "        \n",
    "    print(\"Runtime: {:.2f} minutes\".format((t2-t1)/60))\n",
    "    util.save(out,f\"{outdir}/{process}_ctau-10-BDT-based_AllLxy.coffea\")\n",
    "    del out, test"
   ]
  },
  {
   "cell_type": "code",
   "execution_count": null,
   "id": "fac8d8c8-dc33-4fff-a0e9-0d2b7fb6cd7b",
   "metadata": {},
   "outputs": [],
   "source": []
  },
  {
   "cell_type": "markdown",
   "id": "e32d1314-c17c-4abb-b28e-ccc3b42fde35",
   "metadata": {},
   "source": [
    "## High Lxy"
   ]
  },
  {
   "cell_type": "code",
   "execution_count": 7,
   "id": "85aa741e-15d7-4926-a845-5b7a30a13119",
   "metadata": {},
   "outputs": [],
   "source": [
    "cuts_config = \"./cut_configs/BDTv2_ctau-10-HighLxy.py\"\n",
    "histos_config = \"../../../configs/histo_configs/SR_studies.py\""
   ]
  },
  {
   "cell_type": "markdown",
   "id": "6a65244a-5733-4802-9d6b-8728e3e4ad9b",
   "metadata": {},
   "source": [
    "### Signal"
   ]
  },
  {
   "cell_type": "code",
   "execution_count": 31,
   "id": "14f2cd18-5118-4b30-964d-9748f931b0d8",
   "metadata": {},
   "outputs": [],
   "source": [
    "sample_config = \"./sample_configs/skimmed_sig_v2_mA_3m1_2018_aEM_m1_5to50_ctau-10.json\""
   ]
  },
  {
   "cell_type": "code",
   "execution_count": 32,
   "id": "73040ead-2175-4123-a773-2d889a285606",
   "metadata": {},
   "outputs": [
    {
     "data": {
      "application/vnd.jupyter.widget-view+json": {
       "model_id": "14239a4de4ef4886880ca89e1d28fe11",
       "version_major": 2,
       "version_minor": 0
      },
      "text/plain": [
       "Output()"
      ]
     },
     "metadata": {},
     "output_type": "display_data"
    },
    {
     "name": "stdout",
     "output_type": "stream",
     "text": [
      "Pass: 173/322\n",
      "Pass: 98/259\n",
      "Pass: 81/185\n",
      "Pass: 477/1013\n",
      "Pass: 386/742\n",
      "Pass: 384/781\n",
      "Pass: 307/574\n",
      "Pass: 408/838\n",
      "Pass: 194/452\n",
      "Pass: 198/428\n",
      "Pass: 318/595\n",
      "Pass: 230/516\n"
     ]
    },
    {
     "data": {
      "text/html": [
       "<pre style=\"white-space:pre;overflow-x:auto;line-height:normal;font-family:Menlo,'DejaVu Sans Mono',consolas,'Courier New',monospace\"></pre>\n"
      ],
      "text/plain": []
     },
     "metadata": {},
     "output_type": "display_data"
    },
    {
     "data": {
      "text/html": [
       "<pre style=\"white-space:pre;overflow-x:auto;line-height:normal;font-family:Menlo,'DejaVu Sans Mono',consolas,'Courier New',monospace\">\n",
       "</pre>\n"
      ],
      "text/plain": [
       "\n"
      ]
     },
     "metadata": {},
     "output_type": "display_data"
    },
    {
     "name": "stdout",
     "output_type": "stream",
     "text": [
      "Runtime: 1.06 minutes\n"
     ]
    }
   ],
   "source": [
    "test = Analyzer(sample_config,histos_config,cuts_config, max_samples=-1) # run over all samples in the config\n",
    "\n",
    "t1 = time.time()\n",
    "out = test.process(execr='futures')\n",
    "t2 = time.time()\n",
    "\n",
    "print(\"Runtime: {:.2f} minutes\".format((t2-t1)/60))\n",
    "util.save(out,f\"{outdir}/ctau-10-BDT-based_HighLxy.coffea\")\n",
    "\n",
    "del out, test"
   ]
  },
  {
   "cell_type": "markdown",
   "id": "34debe7a-7f70-46f5-bc9c-eef2dbab75ef",
   "metadata": {},
   "source": [
    "### Background"
   ]
  },
  {
   "cell_type": "code",
   "execution_count": 8,
   "id": "4e91868d-642d-4c58-addf-4a026366f1d1",
   "metadata": {},
   "outputs": [
    {
     "name": "stdout",
     "output_type": "stream",
     "text": [
      "['../../../configs/sample_configs/skimmed_bkg_2018_DY.json', '../../../configs/sample_configs/skimmed_bkg_2018_Diboson.json', '../../../configs/sample_configs/skimmed_bkg_2018_QCD_TuneCP5_PSWeights.json', '../../../configs/sample_configs/skimmed_bkg_2018_TTJetsDiLept.json', '../../../configs/sample_configs/skimmed_bkg_2018_Top.json', '../../../configs/sample_configs/skimmed_bkg_2018_Triboson.json', '../../../configs/sample_configs/skimmed_bkg_2018_WJets.json', '../../../configs/sample_configs/skimmed_bkg_2018_ZJets.json']\n"
     ]
    }
   ],
   "source": [
    "bkg_configs = glob.glob(\"../../../configs/sample_configs/skimmed_bkg*.json\")\n",
    "\n",
    "print(bkg_configs)"
   ]
  },
  {
   "cell_type": "code",
   "execution_count": 9,
   "id": "809c80d4-1758-4950-86b2-5bd9becedbaa",
   "metadata": {
    "scrolled": true
   },
   "outputs": [
    {
     "name": "stdout",
     "output_type": "stream",
     "text": [
      "bkg_2018_DY\n"
     ]
    },
    {
     "data": {
      "application/vnd.jupyter.widget-view+json": {
       "model_id": "f1ea4008429843499bbd728d9c482510",
       "version_major": 2,
       "version_minor": 0
      },
      "text/plain": [
       "Output()"
      ]
     },
     "metadata": {},
     "output_type": "display_data"
    },
    {
     "name": "stdout",
     "output_type": "stream",
     "text": [
      "Pass: 0/1\n",
      "Pass: 0/1\n"
     ]
    },
    {
     "data": {
      "text/html": [
       "<pre style=\"white-space:pre;overflow-x:auto;line-height:normal;font-family:Menlo,'DejaVu Sans Mono',consolas,'Courier New',monospace\"></pre>\n"
      ],
      "text/plain": []
     },
     "metadata": {},
     "output_type": "display_data"
    },
    {
     "data": {
      "text/html": [
       "<pre style=\"white-space:pre;overflow-x:auto;line-height:normal;font-family:Menlo,'DejaVu Sans Mono',consolas,'Courier New',monospace\">\n",
       "</pre>\n"
      ],
      "text/plain": [
       "\n"
      ]
     },
     "metadata": {},
     "output_type": "display_data"
    },
    {
     "name": "stdout",
     "output_type": "stream",
     "text": [
      "Runtime: 0.39 minutes\n",
      "bkg_2018_Diboson\n"
     ]
    },
    {
     "data": {
      "application/vnd.jupyter.widget-view+json": {
       "model_id": "c15ab9c0dab645428ac070b73e8c76aa",
       "version_major": 2,
       "version_minor": 0
      },
      "text/plain": [
       "Output()"
      ]
     },
     "metadata": {},
     "output_type": "display_data"
    },
    {
     "name": "stdout",
     "output_type": "stream",
     "text": [
      "Pass: 0/56\n",
      "Pass: 0/78\n",
      "Pass: 0/55\n",
      "Pass: 0/44\n",
      "Pass: 0/52\n",
      "Pass: 1/57\n",
      "Pass: 0/17\n",
      "Pass: 0/60\n"
     ]
    },
    {
     "data": {
      "text/html": [
       "<pre style=\"white-space:pre;overflow-x:auto;line-height:normal;font-family:Menlo,'DejaVu Sans Mono',consolas,'Courier New',monospace\"></pre>\n"
      ],
      "text/plain": []
     },
     "metadata": {},
     "output_type": "display_data"
    },
    {
     "data": {
      "text/html": [
       "<pre style=\"white-space:pre;overflow-x:auto;line-height:normal;font-family:Menlo,'DejaVu Sans Mono',consolas,'Courier New',monospace\">\n",
       "</pre>\n"
      ],
      "text/plain": [
       "\n"
      ]
     },
     "metadata": {},
     "output_type": "display_data"
    },
    {
     "name": "stdout",
     "output_type": "stream",
     "text": [
      "Runtime: 0.29 minutes\n",
      "bkg_2018_QCD_TuneCP5_PSWeights\n"
     ]
    },
    {
     "data": {
      "application/vnd.jupyter.widget-view+json": {
       "model_id": "bfcdafd352f14e738b318e87ebca0180",
       "version_major": 2,
       "version_minor": 0
      },
      "text/plain": [
       "Output()"
      ]
     },
     "metadata": {},
     "output_type": "display_data"
    },
    {
     "name": "stdout",
     "output_type": "stream",
     "text": [
      "Pass: 0/1\n"
     ]
    },
    {
     "data": {
      "text/html": [
       "<pre style=\"white-space:pre;overflow-x:auto;line-height:normal;font-family:Menlo,'DejaVu Sans Mono',consolas,'Courier New',monospace\"></pre>\n"
      ],
      "text/plain": []
     },
     "metadata": {},
     "output_type": "display_data"
    },
    {
     "data": {
      "text/html": [
       "<pre style=\"white-space:pre;overflow-x:auto;line-height:normal;font-family:Menlo,'DejaVu Sans Mono',consolas,'Courier New',monospace\">\n",
       "</pre>\n"
      ],
      "text/plain": [
       "\n"
      ]
     },
     "metadata": {},
     "output_type": "display_data"
    },
    {
     "name": "stdout",
     "output_type": "stream",
     "text": [
      "Runtime: 1.28 minutes\n",
      "bkg_2018_TTJetsDiLept\n",
      "bkg_2018_Top\n"
     ]
    },
    {
     "data": {
      "application/vnd.jupyter.widget-view+json": {
       "model_id": "4f9881efb19c4a7b8f7eb298a308cae9",
       "version_major": 2,
       "version_minor": 0
      },
      "text/plain": [
       "Output()"
      ]
     },
     "metadata": {},
     "output_type": "display_data"
    },
    {
     "name": "stdout",
     "output_type": "stream",
     "text": [
      "Pass: 0/6\n",
      "Pass: 0/10\n",
      "Pass: 0/9\n",
      "Pass: 0/7\n",
      "Pass: 1/13\n",
      "Pass: 0/3\n",
      "Pass: 0/8\n",
      "Pass: 0/5\n",
      "Pass: 0/4\n",
      "Pass: 0/2\n",
      "Pass: 0/16\n",
      "Pass: 0/9\n",
      "Pass: 0/11\n",
      "Pass: 0/12\n",
      "Pass: 0/13\n",
      "Pass: 0/5\n",
      "Pass: 0/4\n",
      "Pass: 0/9\n",
      "Pass: 0/13\n",
      "Pass: 0/13\n",
      "Pass: 0/16\n",
      "Pass: 0/15\n",
      "Pass: 0/9\n",
      "Pass: 0/12\n",
      "Pass: 0/9\n",
      "Pass: 0/13\n",
      "Pass: 0/5\n",
      "Pass: 0/11\n",
      "Pass: 0/6\n",
      "Pass: 0/5\n",
      "Pass: 0/5\n",
      "Pass: 0/10\n",
      "Pass: 0/31\n",
      "Pass: 0/29\n",
      "Pass: 0/19\n",
      "Pass: 0/30\n",
      "Pass: 0/8\n",
      "Pass: 0/2\n",
      "Pass: 0/4\n",
      "Pass: 0/3\n",
      "Pass: 0/15\n",
      "Pass: 0/3\n",
      "Pass: 0/18\n",
      "Pass: 0/23\n",
      "Pass: 0/23\n",
      "Pass: 0/18\n",
      "Pass: 0/7\n",
      "Pass: 0/3\n",
      "Pass: 0/1\n",
      "Pass: 0/2\n",
      "Pass: 0/5\n",
      "Pass: 0/13\n",
      "Pass: 0/26\n",
      "Pass: 0/16\n",
      "Pass: 0/12\n",
      "Pass: 0/8\n",
      "Pass: 0/22\n",
      "Pass: 0/2\n",
      "Pass: 0/1\n",
      "Pass: 0/5\n",
      "Pass: 0/4\n",
      "Pass: 0/2\n",
      "Pass: 0/5\n",
      "Pass: 0/2\n",
      "Pass: 0/23\n",
      "Pass: 0/16\n",
      "Pass: 0/16\n",
      "Pass: 0/16\n",
      "Pass: 0/4\n",
      "Pass: 0/5\n",
      "Pass: 0/6\n",
      "Pass: 0/11\n",
      "Pass: 0/6\n",
      "Pass: 0/2\n",
      "Pass: 0/10\n",
      "Pass: 0/23\n",
      "Pass: 0/23\n",
      "Pass: 0/8\n",
      "Pass: 0/13\n",
      "Pass: 0/5Pass: 0/7\n",
      "\n",
      "Pass: 0/6\n",
      "Pass: 0/2\n",
      "Pass: 0/4\n",
      "Pass: 0/2\n",
      "Pass: 0/16\n",
      "Pass: 0/4\n",
      "Pass: 0/15\n",
      "Pass: 0/23\n",
      "Pass: 0/20\n",
      "Pass: 0/5\n",
      "Pass: 0/7\n",
      "Pass: 0/5\n",
      "Pass: 0/6\n",
      "Pass: 0/7\n",
      "Pass: 0/6\n"
     ]
    },
    {
     "data": {
      "text/html": [
       "<pre style=\"white-space:pre;overflow-x:auto;line-height:normal;font-family:Menlo,'DejaVu Sans Mono',consolas,'Courier New',monospace\"></pre>\n"
      ],
      "text/plain": []
     },
     "metadata": {},
     "output_type": "display_data"
    },
    {
     "data": {
      "text/html": [
       "<pre style=\"white-space:pre;overflow-x:auto;line-height:normal;font-family:Menlo,'DejaVu Sans Mono',consolas,'Courier New',monospace\">\n",
       "</pre>\n"
      ],
      "text/plain": [
       "\n"
      ]
     },
     "metadata": {},
     "output_type": "display_data"
    },
    {
     "name": "stdout",
     "output_type": "stream",
     "text": [
      "Runtime: 2.37 minutes\n",
      "bkg_2018_Triboson\n"
     ]
    },
    {
     "data": {
      "application/vnd.jupyter.widget-view+json": {
       "model_id": "2cbdb280e7c542878d119985f39e2a09",
       "version_major": 2,
       "version_minor": 0
      },
      "text/plain": [
       "Output()"
      ]
     },
     "metadata": {},
     "output_type": "display_data"
    },
    {
     "name": "stdout",
     "output_type": "stream",
     "text": [
      "Pass: 0/6\n",
      "Pass: 0/13\n",
      "Pass: 0/10\n",
      "\n"
     ]
    },
    {
     "data": {
      "text/html": [
       "<pre style=\"white-space:pre;overflow-x:auto;line-height:normal;font-family:Menlo,'DejaVu Sans Mono',consolas,'Courier New',monospace\"></pre>\n"
      ],
      "text/plain": []
     },
     "metadata": {},
     "output_type": "display_data"
    },
    {
     "data": {
      "text/html": [
       "<pre style=\"white-space:pre;overflow-x:auto;line-height:normal;font-family:Menlo,'DejaVu Sans Mono',consolas,'Courier New',monospace\">\n",
       "</pre>\n"
      ],
      "text/plain": [
       "\n"
      ]
     },
     "metadata": {},
     "output_type": "display_data"
    },
    {
     "name": "stdout",
     "output_type": "stream",
     "text": [
      "Runtime: 0.15 minutes\n",
      "bkg_2018_WJets\n"
     ]
    },
    {
     "data": {
      "application/vnd.jupyter.widget-view+json": {
       "model_id": "124ee6b5a8c84ff4936dba402ffc0c06",
       "version_major": 2,
       "version_minor": 0
      },
      "text/plain": [
       "Output()"
      ]
     },
     "metadata": {},
     "output_type": "display_data"
    },
    {
     "name": "stdout",
     "output_type": "stream",
     "text": [
      "Pass: 0/17\n",
      "Pass: 2/294\n",
      "Pass: 2/83\n",
      "Pass: 3/259\n",
      "Pass: 0/141\n",
      "Pass: 0/157\n",
      "Pass: 0/74\n",
      "Pass: 0/162\n",
      "Pass: 1/159\n",
      "Pass: 2/163\n",
      "Pass: 0/163\n",
      "Pass: 0/60\n",
      "Pass: 0/91\n",
      "Pass: 1/94\n",
      "Pass: 1/215\n",
      "Pass: 1/611\n",
      "Pass: 3/675\n",
      "Pass: 2/303\n",
      "Pass: 0/185\n",
      "Pass: 2/215\n",
      "Pass: 2/198\n",
      "Pass: 1/178\n",
      "Pass: 1/197\n",
      "Pass: 1/795\n",
      "Pass: 3/1282\n",
      "Pass: 1/493\n",
      "Pass: 1/175\n",
      "Pass: 4/1636\n",
      "Pass: 11/1534\n",
      "Pass: 1/204\n",
      "Pass: 0/182\n",
      "Pass: 0/203\n",
      "Pass: 2/127\n",
      "Pass: 2/865\n",
      "Pass: 8/1629\n",
      "Pass: 6/1582\n",
      "Pass: 3/106\n",
      "Pass: 1/132\n",
      "Pass: 1/209\n",
      "Pass: 2/182\n",
      "Pass: 0/188\n",
      "Pass: 2/376\n"
     ]
    },
    {
     "data": {
      "text/html": [
       "<pre style=\"white-space:pre;overflow-x:auto;line-height:normal;font-family:Menlo,'DejaVu Sans Mono',consolas,'Courier New',monospace\"></pre>\n"
      ],
      "text/plain": []
     },
     "metadata": {},
     "output_type": "display_data"
    },
    {
     "data": {
      "text/html": [
       "<pre style=\"white-space:pre;overflow-x:auto;line-height:normal;font-family:Menlo,'DejaVu Sans Mono',consolas,'Courier New',monospace\">\n",
       "</pre>\n"
      ],
      "text/plain": [
       "\n"
      ]
     },
     "metadata": {},
     "output_type": "display_data"
    },
    {
     "name": "stdout",
     "output_type": "stream",
     "text": [
      "Runtime: 1.76 minutes\n",
      "bkg_2018_ZJets\n"
     ]
    },
    {
     "data": {
      "application/vnd.jupyter.widget-view+json": {
       "model_id": "2f41e9850d5c4e529847fd82c210961c",
       "version_major": 2,
       "version_minor": 0
      },
      "text/plain": [
       "Output()"
      ]
     },
     "metadata": {},
     "output_type": "display_data"
    },
    {
     "name": "stdout",
     "output_type": "stream",
     "text": [
      "Pass: 0/20\n",
      "Pass: 1/322\n",
      "Pass: 0/320\n",
      "Pass: 0/248\n",
      "Pass: 0/126\n",
      "Pass: 0/238\n",
      "Pass: 0/143\n",
      "Pass: 3/1460\n",
      "Pass: 2/1983\n",
      "Pass: 3/3276\n",
      "Pass: 5/3328\n",
      "Pass: 3/2544\n",
      "Pass: 0/6\n",
      "Pass: 4/1515\n",
      "Pass: 2/1524\n",
      "Pass: 0/324\n",
      "Pass: 0/1373\n",
      "Pass: 2/1297\n",
      "Pass: 1/593\n",
      "Pass: 5/2020\n",
      "Pass: 3/1709\n",
      "Pass: 2/1739\n"
     ]
    },
    {
     "data": {
      "text/html": [
       "<pre style=\"white-space:pre;overflow-x:auto;line-height:normal;font-family:Menlo,'DejaVu Sans Mono',consolas,'Courier New',monospace\"></pre>\n"
      ],
      "text/plain": []
     },
     "metadata": {},
     "output_type": "display_data"
    },
    {
     "data": {
      "text/html": [
       "<pre style=\"white-space:pre;overflow-x:auto;line-height:normal;font-family:Menlo,'DejaVu Sans Mono',consolas,'Courier New',monospace\">\n",
       "</pre>\n"
      ],
      "text/plain": [
       "\n"
      ]
     },
     "metadata": {},
     "output_type": "display_data"
    },
    {
     "name": "stdout",
     "output_type": "stream",
     "text": [
      "Runtime: 1.68 minutes\n"
     ]
    }
   ],
   "source": [
    "for bkg in bkg_configs:\n",
    "    process = bkg.split('/')[-1].split('.json')[0].split('skimmed_')[-1]\n",
    "    print(process)\n",
    "\n",
    "    if 'TTJetsDiLept' in bkg: # currently not available ntuples\n",
    "        continue\n",
    "    \n",
    "    test = Analyzer(bkg,histos_config,cuts_config) \n",
    "        \n",
    "    t1 = time.time()\n",
    "    out = test.process(execr='futures')\n",
    "    t2 = time.time()\n",
    "        \n",
    "    print(\"Runtime: {:.2f} minutes\".format((t2-t1)/60))\n",
    "    util.save(out,f\"{outdir}/{process}_ctau-10-BDT-based_HighLxy.coffea\")\n",
    "    del out, test"
   ]
  },
  {
   "cell_type": "code",
   "execution_count": null,
   "id": "fb191334-830e-44ad-b32e-71f02ef63747",
   "metadata": {},
   "outputs": [],
   "source": []
  },
  {
   "cell_type": "markdown",
   "id": "dc5c2545-c83c-4157-a6f8-51f3e08afffd",
   "metadata": {},
   "source": [
    "## Low Lxy"
   ]
  },
  {
   "cell_type": "code",
   "execution_count": 10,
   "id": "8d0a1ef4-0118-491c-b718-782623af0771",
   "metadata": {},
   "outputs": [],
   "source": [
    "cuts_config = \"./cut_configs/BDTv2_ctau-10-LowLxy.py\"\n",
    "histos_config = \"../../../configs/histo_configs/SR_studies.py\""
   ]
  },
  {
   "cell_type": "markdown",
   "id": "1f79258e-66d0-4a30-b6c5-21cbcf8f046a",
   "metadata": {},
   "source": [
    "### Signal"
   ]
  },
  {
   "cell_type": "code",
   "execution_count": 34,
   "id": "bec94f26-e0b4-475a-b468-3d1bc701ca51",
   "metadata": {},
   "outputs": [],
   "source": [
    "sample_config = \"./sample_configs/skimmed_sig_v2_mA_3m1_2018_aEM_m1_5to50_ctau-10.json\""
   ]
  },
  {
   "cell_type": "code",
   "execution_count": 35,
   "id": "16267a8e-2bdd-445d-9e51-bcca425ef7c0",
   "metadata": {},
   "outputs": [
    {
     "data": {
      "application/vnd.jupyter.widget-view+json": {
       "model_id": "2f737c9121ba4370a33cef483324c1bf",
       "version_major": 2,
       "version_minor": 0
      },
      "text/plain": [
       "Output()"
      ]
     },
     "metadata": {},
     "output_type": "display_data"
    },
    {
     "name": "stdout",
     "output_type": "stream",
     "text": [
      "Pass: 91/172\n",
      "Pass: 5/69\n",
      "Pass: 5/102\n",
      "Pass: 198/529\n",
      "Pass: 124/260\n",
      "Pass: 166/369\n",
      "Pass: 133/368\n",
      "Pass: 95/337\n",
      "Pass: 46/208\n",
      "Pass: 22/182\n",
      "\n",
      "Pass: 73/215Pass: 31/157\n"
     ]
    },
    {
     "data": {
      "text/html": [
       "<pre style=\"white-space:pre;overflow-x:auto;line-height:normal;font-family:Menlo,'DejaVu Sans Mono',consolas,'Courier New',monospace\"></pre>\n"
      ],
      "text/plain": []
     },
     "metadata": {},
     "output_type": "display_data"
    },
    {
     "data": {
      "text/html": [
       "<pre style=\"white-space:pre;overflow-x:auto;line-height:normal;font-family:Menlo,'DejaVu Sans Mono',consolas,'Courier New',monospace\">\n",
       "</pre>\n"
      ],
      "text/plain": [
       "\n"
      ]
     },
     "metadata": {},
     "output_type": "display_data"
    },
    {
     "name": "stdout",
     "output_type": "stream",
     "text": [
      "Runtime: 1.01 minutes\n"
     ]
    }
   ],
   "source": [
    "test = Analyzer(sample_config,histos_config,cuts_config, max_samples=-1) # run over all samples in the config\n",
    "\n",
    "t1 = time.time()\n",
    "out = test.process(execr='futures')\n",
    "t2 = time.time()\n",
    "\n",
    "print(\"Runtime: {:.2f} minutes\".format((t2-t1)/60))\n",
    "util.save(out,f\"{outdir}/ctau-10-BDT-based_LowLxy.coffea\")\n",
    "\n",
    "del out, test"
   ]
  },
  {
   "cell_type": "markdown",
   "id": "a581255d-9c06-4b65-8172-31db3d3db10d",
   "metadata": {},
   "source": [
    "### Background"
   ]
  },
  {
   "cell_type": "code",
   "execution_count": 11,
   "id": "a60b77dd-fb42-429f-9896-bae8bbd97cc5",
   "metadata": {},
   "outputs": [
    {
     "name": "stdout",
     "output_type": "stream",
     "text": [
      "['../../../configs/sample_configs/skimmed_bkg_2018_DY.json', '../../../configs/sample_configs/skimmed_bkg_2018_Diboson.json', '../../../configs/sample_configs/skimmed_bkg_2018_QCD_TuneCP5_PSWeights.json', '../../../configs/sample_configs/skimmed_bkg_2018_TTJetsDiLept.json', '../../../configs/sample_configs/skimmed_bkg_2018_Top.json', '../../../configs/sample_configs/skimmed_bkg_2018_Triboson.json', '../../../configs/sample_configs/skimmed_bkg_2018_WJets.json', '../../../configs/sample_configs/skimmed_bkg_2018_ZJets.json']\n"
     ]
    }
   ],
   "source": [
    "bkg_configs = glob.glob(\"../../../configs/sample_configs/skimmed_bkg*.json\")\n",
    "\n",
    "print(bkg_configs)"
   ]
  },
  {
   "cell_type": "code",
   "execution_count": 12,
   "id": "a796d865-8c81-4e95-947e-33290ebc7cd7",
   "metadata": {
    "scrolled": true
   },
   "outputs": [
    {
     "name": "stdout",
     "output_type": "stream",
     "text": [
      "bkg_2018_DY\n"
     ]
    },
    {
     "data": {
      "application/vnd.jupyter.widget-view+json": {
       "model_id": "417e63fa4518493d8a37974076151964",
       "version_major": 2,
       "version_minor": 0
      },
      "text/plain": [
       "Output()"
      ]
     },
     "metadata": {},
     "output_type": "display_data"
    },
    {
     "name": "stdout",
     "output_type": "stream",
     "text": [
      "Pass: 0/2\n",
      "Pass: 0/1\n",
      "Pass: 0/1\n",
      "Pass: 0/1\n",
      "Pass: 0/1\n",
      "Pass: 0/1\n"
     ]
    },
    {
     "data": {
      "text/html": [
       "<pre style=\"white-space:pre;overflow-x:auto;line-height:normal;font-family:Menlo,'DejaVu Sans Mono',consolas,'Courier New',monospace\"></pre>\n"
      ],
      "text/plain": []
     },
     "metadata": {},
     "output_type": "display_data"
    },
    {
     "data": {
      "text/html": [
       "<pre style=\"white-space:pre;overflow-x:auto;line-height:normal;font-family:Menlo,'DejaVu Sans Mono',consolas,'Courier New',monospace\">\n",
       "</pre>\n"
      ],
      "text/plain": [
       "\n"
      ]
     },
     "metadata": {},
     "output_type": "display_data"
    },
    {
     "name": "stdout",
     "output_type": "stream",
     "text": [
      "Runtime: 0.40 minutes\n",
      "bkg_2018_Diboson\n"
     ]
    },
    {
     "data": {
      "application/vnd.jupyter.widget-view+json": {
       "model_id": "b74460f59b804c87a09f21bbd417423d",
       "version_major": 2,
       "version_minor": 0
      },
      "text/plain": [
       "Output()"
      ]
     },
     "metadata": {},
     "output_type": "display_data"
    },
    {
     "name": "stdout",
     "output_type": "stream",
     "text": [
      "Pass: 0/46\n",
      "Pass: 0/36\n",
      "Pass: 0/35\n",
      "Pass: 0/68\n",
      "Pass: 0/12\n",
      "Pass: 0/48\n",
      "Pass: 1/55\n",
      "Pass: 0/48\n"
     ]
    },
    {
     "data": {
      "text/html": [
       "<pre style=\"white-space:pre;overflow-x:auto;line-height:normal;font-family:Menlo,'DejaVu Sans Mono',consolas,'Courier New',monospace\"></pre>\n"
      ],
      "text/plain": []
     },
     "metadata": {},
     "output_type": "display_data"
    },
    {
     "data": {
      "text/html": [
       "<pre style=\"white-space:pre;overflow-x:auto;line-height:normal;font-family:Menlo,'DejaVu Sans Mono',consolas,'Courier New',monospace\">\n",
       "</pre>\n"
      ],
      "text/plain": [
       "\n"
      ]
     },
     "metadata": {},
     "output_type": "display_data"
    },
    {
     "name": "stdout",
     "output_type": "stream",
     "text": [
      "Runtime: 0.26 minutes\n",
      "bkg_2018_QCD_TuneCP5_PSWeights\n"
     ]
    },
    {
     "data": {
      "application/vnd.jupyter.widget-view+json": {
       "model_id": "4b65466194354a12a2713a28346d4a6e",
       "version_major": 2,
       "version_minor": 0
      },
      "text/plain": [
       "Output()"
      ]
     },
     "metadata": {},
     "output_type": "display_data"
    },
    {
     "name": "stdout",
     "output_type": "stream",
     "text": [
      "Pass: 0/1\n",
      "Pass: 0/1\n"
     ]
    },
    {
     "data": {
      "text/html": [
       "<pre style=\"white-space:pre;overflow-x:auto;line-height:normal;font-family:Menlo,'DejaVu Sans Mono',consolas,'Courier New',monospace\"></pre>\n"
      ],
      "text/plain": []
     },
     "metadata": {},
     "output_type": "display_data"
    },
    {
     "data": {
      "text/html": [
       "<pre style=\"white-space:pre;overflow-x:auto;line-height:normal;font-family:Menlo,'DejaVu Sans Mono',consolas,'Courier New',monospace\">\n",
       "</pre>\n"
      ],
      "text/plain": [
       "\n"
      ]
     },
     "metadata": {},
     "output_type": "display_data"
    },
    {
     "name": "stdout",
     "output_type": "stream",
     "text": [
      "Runtime: 1.28 minutes\n",
      "bkg_2018_TTJetsDiLept\n",
      "bkg_2018_Top\n"
     ]
    },
    {
     "data": {
      "application/vnd.jupyter.widget-view+json": {
       "model_id": "baa57959179e4a16a3b47f46782128d6",
       "version_major": 2,
       "version_minor": 0
      },
      "text/plain": [
       "Output()"
      ]
     },
     "metadata": {},
     "output_type": "display_data"
    },
    {
     "name": "stdout",
     "output_type": "stream",
     "text": [
      "Pass: 0/6Pass: 0/8Pass: 0/15Pass: 0/14\n",
      "\n",
      "\n",
      "\n",
      "Pass: 0/9\n",
      "Pass: 0/6\n",
      "Pass: 0/4\n",
      "Pass: 0/7\n",
      "Pass: 0/4\n",
      "Pass: 0/3\n",
      "Pass: 0/2\n",
      "Pass: 0/13\n",
      "Pass: 0/17\n",
      "Pass: 0/15\n",
      "Pass: 0/14\n",
      "Pass: 0/5\n",
      "Pass: 0/11\n",
      "Pass: 0/2\n",
      "Pass: 0/2\n",
      "Pass: 0/17\n",
      "Pass: 0/18\n",
      "Pass: 0/13\n",
      "Pass: 0/15\n",
      "Pass: 0/19\n",
      "Pass: 0/12Pass: 0/8\n",
      "\n",
      "Pass: 0/14\n",
      "Pass: 0/2\n",
      "Pass: 0/4\n",
      "Pass: 0/8\n",
      "Pass: 0/13\n",
      "Pass: 0/8\n",
      "Pass: 0/7\n",
      "Pass: 0/22\n",
      "Pass: 0/23\n",
      "Pass: 0/26\n",
      "Pass: 0/6\n",
      "Pass: 0/23\n",
      "Pass: 0/3\n",
      "Pass: 0/3\n",
      "Pass: 0/1\n",
      "Pass: 0/3\n",
      "Pass: 0/22\n",
      "Pass: 0/20\n",
      "Pass: 0/14\n",
      "Pass: 0/3\n",
      "Pass: 0/24\n",
      "Pass: 0/6\n",
      "Pass: 0/6\n",
      "Pass: 0/4\n",
      "Pass: 0/3\n",
      "Pass: 0/11\n",
      "Pass: 0/23\n",
      "Pass: 0/19\n",
      "Pass: 0/27\n",
      "Pass: 0/25\n",
      "Pass: 0/15\n",
      "Pass: 0/2\n",
      "Pass: 0/4\n",
      "Pass: 0/4\n",
      "Pass: 0/6\n",
      "Pass: 0/1\n",
      "Pass: 0/6\n",
      "Pass: 0/6\n",
      "Pass: 0/19\n",
      "Pass: 0/19\n",
      "Pass: 0/24\n",
      "Pass: 0/19\n",
      "Pass: 0/4\n",
      "Pass: 0/11\n",
      "Pass: 0/5\n",
      "Pass: 0/2\n",
      "Pass: 0/2\n",
      "Pass: 0/3\n",
      "Pass: 0/16\n",
      "Pass: 0/13\n",
      "Pass: 0/14\n",
      "Pass: 0/18\n",
      "Pass: 0/5\n",
      "Pass: 0/4\n",
      "Pass: 0/3\n",
      "Pass: 0/6\n",
      "Pass: 0/17\n",
      "Pass: 0/5\n",
      "Pass: 0/5\n",
      "Pass: 0/24\n",
      "Pass: 0/3\n",
      "Pass: 0/18\n",
      "Pass: 0/17\n",
      "Pass: 1/30\n",
      "Pass: 0/13\n",
      "Pass: 0/16\n",
      "Pass: 0/7\n",
      "Pass: 0/8\n",
      "Pass: 0/2\n",
      "Pass: 0/1\n"
     ]
    },
    {
     "data": {
      "text/html": [
       "<pre style=\"white-space:pre;overflow-x:auto;line-height:normal;font-family:Menlo,'DejaVu Sans Mono',consolas,'Courier New',monospace\"></pre>\n"
      ],
      "text/plain": []
     },
     "metadata": {},
     "output_type": "display_data"
    },
    {
     "data": {
      "text/html": [
       "<pre style=\"white-space:pre;overflow-x:auto;line-height:normal;font-family:Menlo,'DejaVu Sans Mono',consolas,'Courier New',monospace\">\n",
       "</pre>\n"
      ],
      "text/plain": [
       "\n"
      ]
     },
     "metadata": {},
     "output_type": "display_data"
    },
    {
     "name": "stdout",
     "output_type": "stream",
     "text": [
      "Runtime: 2.38 minutes\n",
      "bkg_2018_Triboson\n"
     ]
    },
    {
     "data": {
      "application/vnd.jupyter.widget-view+json": {
       "model_id": "f27aeef11d33440d89d49f5417b9e3bf",
       "version_major": 2,
       "version_minor": 0
      },
      "text/plain": [
       "Output()"
      ]
     },
     "metadata": {},
     "output_type": "display_data"
    },
    {
     "name": "stdout",
     "output_type": "stream",
     "text": [
      "Pass: 0/7\n",
      "Pass: 0/14\n",
      "Pass: 0/13\n",
      "Pass: 0/8\n"
     ]
    },
    {
     "data": {
      "text/html": [
       "<pre style=\"white-space:pre;overflow-x:auto;line-height:normal;font-family:Menlo,'DejaVu Sans Mono',consolas,'Courier New',monospace\"></pre>\n"
      ],
      "text/plain": []
     },
     "metadata": {},
     "output_type": "display_data"
    },
    {
     "data": {
      "text/html": [
       "<pre style=\"white-space:pre;overflow-x:auto;line-height:normal;font-family:Menlo,'DejaVu Sans Mono',consolas,'Courier New',monospace\">\n",
       "</pre>\n"
      ],
      "text/plain": [
       "\n"
      ]
     },
     "metadata": {},
     "output_type": "display_data"
    },
    {
     "name": "stdout",
     "output_type": "stream",
     "text": [
      "Runtime: 0.14 minutes\n",
      "bkg_2018_WJets\n"
     ]
    },
    {
     "data": {
      "application/vnd.jupyter.widget-view+json": {
       "model_id": "0fa0dc8f16f04c099e7dbd0b7fe96c13",
       "version_major": 2,
       "version_minor": 0
      },
      "text/plain": [
       "Output()"
      ]
     },
     "metadata": {},
     "output_type": "display_data"
    },
    {
     "name": "stdout",
     "output_type": "stream",
     "text": [
      "Pass: 0/11\n",
      "Pass: 2/228\n",
      "Pass: 0/68\n",
      "Pass: 0/289\n",
      "Pass: 0/114\n",
      "Pass: 0/114\n",
      "Pass: 0/56\n",
      "Pass: 0/108\n",
      "Pass: 0/118\n",
      "Pass: 0/113\n",
      "Pass: 0/99\n",
      "Pass: 0/40\n",
      "Pass: 0/43Pass: 0/50\n",
      "\n",
      "Pass: 0/223\n",
      "Pass: 1/174\n",
      "Pass: 1/485\n",
      "Pass: 0/134\n",
      "Pass: 1/475\n",
      "Pass: 1/150\n",
      "Pass: 0/169\n",
      "Pass: 0/149\n",
      "Pass: 2/574\n",
      "Pass: 0/143\n",
      "Pass: 1/966\n",
      "Pass: 7/1150\n",
      "Pass: 2/367\n",
      "Pass: 4/1218\n",
      "Pass: 0/158\n",
      "Pass: 0/173\n",
      "Pass: 1/156\n",
      "Pass: 0/144\n",
      "Pass: 2/615\n",
      "Pass: 1/84\n",
      "Pass: 1/109\n",
      "Pass: 2/1199\n",
      "Pass: 1/1177\n",
      "Pass: 0/91\n",
      "Pass: 0/162\n",
      "Pass: 0/151\n",
      "Pass: 2/311\n",
      "Pass: 0/138\n"
     ]
    },
    {
     "data": {
      "text/html": [
       "<pre style=\"white-space:pre;overflow-x:auto;line-height:normal;font-family:Menlo,'DejaVu Sans Mono',consolas,'Courier New',monospace\"></pre>\n"
      ],
      "text/plain": []
     },
     "metadata": {},
     "output_type": "display_data"
    },
    {
     "data": {
      "text/html": [
       "<pre style=\"white-space:pre;overflow-x:auto;line-height:normal;font-family:Menlo,'DejaVu Sans Mono',consolas,'Courier New',monospace\">\n",
       "</pre>\n"
      ],
      "text/plain": [
       "\n"
      ]
     },
     "metadata": {},
     "output_type": "display_data"
    },
    {
     "name": "stdout",
     "output_type": "stream",
     "text": [
      "Runtime: 1.73 minutes\n",
      "bkg_2018_ZJets\n"
     ]
    },
    {
     "data": {
      "application/vnd.jupyter.widget-view+json": {
       "model_id": "dae417ff5cd74e97a2c8dfecbda2dddb",
       "version_major": 2,
       "version_minor": 0
      },
      "text/plain": [
       "Output()"
      ]
     },
     "metadata": {},
     "output_type": "display_data"
    },
    {
     "name": "stdout",
     "output_type": "stream",
     "text": [
      "Pass: 1/22\n",
      "Pass: 1/228Pass: 0/202\n",
      "\n",
      "Pass: 0/145\n",
      "Pass: 0/153\n",
      "Pass: 0/77\n",
      "Pass: 0/94\n",
      "Pass: 2/1029\n",
      "Pass: 2/1372\n",
      "Pass: 4/2367\n",
      "Pass: 4/2218\n",
      "Pass: 0/1\n",
      "Pass: 0/1863\n",
      "Pass: 1/1090\n",
      "Pass: 0/204\n",
      "Pass: 0/1106\n",
      "Pass: 2/935\n",
      "Pass: 2/953\n",
      "Pass: 0/413\n",
      "Pass: 3/1408\n",
      "Pass: 1/1211\n",
      "Pass: 2/1281\n"
     ]
    },
    {
     "data": {
      "text/html": [
       "<pre style=\"white-space:pre;overflow-x:auto;line-height:normal;font-family:Menlo,'DejaVu Sans Mono',consolas,'Courier New',monospace\"></pre>\n"
      ],
      "text/plain": []
     },
     "metadata": {},
     "output_type": "display_data"
    },
    {
     "data": {
      "text/html": [
       "<pre style=\"white-space:pre;overflow-x:auto;line-height:normal;font-family:Menlo,'DejaVu Sans Mono',consolas,'Courier New',monospace\">\n",
       "</pre>\n"
      ],
      "text/plain": [
       "\n"
      ]
     },
     "metadata": {},
     "output_type": "display_data"
    },
    {
     "name": "stdout",
     "output_type": "stream",
     "text": [
      "Runtime: 1.61 minutes\n"
     ]
    }
   ],
   "source": [
    "for bkg in bkg_configs:\n",
    "    process = bkg.split('/')[-1].split('.json')[0].split('skimmed_')[-1]\n",
    "    print(process)\n",
    "\n",
    "    if 'TTJetsDiLept' in bkg: # currently not available ntuples\n",
    "        continue\n",
    "    \n",
    "    test = Analyzer(bkg,histos_config,cuts_config) \n",
    "        \n",
    "    t1 = time.time()\n",
    "    out = test.process(execr='futures')\n",
    "    t2 = time.time()\n",
    "        \n",
    "    print(\"Runtime: {:.2f} minutes\".format((t2-t1)/60))\n",
    "    util.save(out,f\"{outdir}/{process}_ctau-10-BDT-based_LowLxy.coffea\")\n",
    "    del out, test"
   ]
  },
  {
   "cell_type": "code",
   "execution_count": null,
   "id": "94f56774-586e-476d-80e3-8ce3156eb73e",
   "metadata": {},
   "outputs": [],
   "source": []
  }
 ],
 "metadata": {
  "kernelspec": {
   "display_name": "Python 3 (ipykernel)",
   "language": "python",
   "name": "python3"
  },
  "language_info": {
   "codemirror_mode": {
    "name": "ipython",
    "version": 3
   },
   "file_extension": ".py",
   "mimetype": "text/x-python",
   "name": "python",
   "nbconvert_exporter": "python",
   "pygments_lexer": "ipython3",
   "version": "3.8.17"
  }
 },
 "nbformat": 4,
 "nbformat_minor": 5
}

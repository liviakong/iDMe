{
 "cells": [
  {
   "cell_type": "code",
   "execution_count": 1,
   "id": "e669ba8e-d8ae-45e9-bdac-9dabb1da3557",
   "metadata": {},
   "outputs": [],
   "source": [
    "%load_ext autoreload\n",
    "%autoreload 2\n",
    "import numpy as np\n",
    "import matplotlib.pyplot as plt\n",
    "import awkward as ak\n",
    "import sys\n",
    "sys.path.append(\"../../../analysisTools/\")\n",
    "from analysisTools import Analyzer\n",
    "from analysisTools import loadSchema\n",
    "import analysisTools as tools\n",
    "import analysisSubroutines as routines\n",
    "import importlib\n",
    "import coffea.util as util\n",
    "import time\n",
    "import json\n",
    "import os\n",
    "import glob"
   ]
  },
  {
   "cell_type": "code",
   "execution_count": 2,
   "id": "c59aff4f-6762-4e07-957a-349d22652fad",
   "metadata": {},
   "outputs": [],
   "source": [
    "outdir = \"./coffea/\"\n",
    "if not os.path.isdir(outdir):\n",
    "    os.mkdir(outdir)"
   ]
  },
  {
   "cell_type": "code",
   "execution_count": 3,
   "id": "73201266-7873-48cb-b6b9-ea70e7703e5b",
   "metadata": {},
   "outputs": [],
   "source": [
    "outdir = \"./coffea/skimmed/\"\n",
    "if not os.path.isdir(outdir):\n",
    "    os.mkdir(outdir)"
   ]
  },
  {
   "cell_type": "markdown",
   "id": "d90eb2c8-1882-4781-a242-44a5758376b4",
   "metadata": {},
   "source": [
    "## All Lxy"
   ]
  },
  {
   "cell_type": "code",
   "execution_count": 4,
   "id": "c72681ac-a0f5-402a-8a80-d5f17505b69c",
   "metadata": {},
   "outputs": [],
   "source": [
    "cuts_config = \"./cut_configs/BDTv2_ctau-100.py\"\n",
    "histos_config = \"../../../configs/histo_configs/SR_studies.py\""
   ]
  },
  {
   "cell_type": "markdown",
   "id": "d248ae59-1cd0-45e3-91a1-3462012c6a27",
   "metadata": {},
   "source": [
    "### Signal"
   ]
  },
  {
   "cell_type": "code",
   "execution_count": 5,
   "id": "e0ecc4e0-151c-408b-b400-381d1e1a973e",
   "metadata": {},
   "outputs": [],
   "source": [
    "sample_config = \"./sample_configs/skimmed_sig_v2_mA_3m1_2018_aEM_m1_5to50_ctau-100.json\""
   ]
  },
  {
   "cell_type": "code",
   "execution_count": 6,
   "id": "02537ff8-2bb2-4752-bed0-a504affad525",
   "metadata": {},
   "outputs": [
    {
     "data": {
      "application/vnd.jupyter.widget-view+json": {
       "model_id": "f079c51d176b46bcab0e46f792e7701b",
       "version_major": 2,
       "version_minor": 0
      },
      "text/plain": [
       "Output()"
      ]
     },
     "metadata": {},
     "output_type": "display_data"
    },
    {
     "data": {
      "text/html": [
       "<pre style=\"white-space:pre;overflow-x:auto;line-height:normal;font-family:Menlo,'DejaVu Sans Mono',consolas,'Courier New',monospace\"></pre>\n"
      ],
      "text/plain": []
     },
     "metadata": {},
     "output_type": "display_data"
    },
    {
     "data": {
      "text/html": [
       "<pre style=\"white-space:pre;overflow-x:auto;line-height:normal;font-family:Menlo,'DejaVu Sans Mono',consolas,'Courier New',monospace\">\n",
       "</pre>\n"
      ],
      "text/plain": [
       "\n"
      ]
     },
     "metadata": {},
     "output_type": "display_data"
    },
    {
     "data": {
      "application/vnd.jupyter.widget-view+json": {
       "model_id": "62ea3d725fa2460c9b7f6321723bcb5f",
       "version_major": 2,
       "version_minor": 0
      },
      "text/plain": [
       "Output()"
      ]
     },
     "metadata": {},
     "output_type": "display_data"
    },
    {
     "name": "stdout",
     "output_type": "stream",
     "text": [
      "Pass: 16/147\n",
      "Pass: 167/590\n",
      "Pass: 56/666\n",
      "Pass: 304/1244\n",
      "Pass: 223/821\n",
      "Pass: 289/1222\n",
      "Pass: 98/394\n",
      "Pass: 197/1027\n",
      "Pass: 101/436\n",
      "Pass: 55/342\n",
      "Pass: 91/576\n",
      "Pass: 106/776\n"
     ]
    },
    {
     "data": {
      "text/html": [
       "<pre style=\"white-space:pre;overflow-x:auto;line-height:normal;font-family:Menlo,'DejaVu Sans Mono',consolas,'Courier New',monospace\"></pre>\n"
      ],
      "text/plain": []
     },
     "metadata": {},
     "output_type": "display_data"
    },
    {
     "data": {
      "text/html": [
       "<pre style=\"white-space:pre;overflow-x:auto;line-height:normal;font-family:Menlo,'DejaVu Sans Mono',consolas,'Courier New',monospace\">\n",
       "</pre>\n"
      ],
      "text/plain": [
       "\n"
      ]
     },
     "metadata": {},
     "output_type": "display_data"
    },
    {
     "name": "stdout",
     "output_type": "stream",
     "text": [
      "Runtime: 1.08 minutes\n"
     ]
    }
   ],
   "source": [
    "test = Analyzer(sample_config,histos_config,cuts_config, max_samples=-1) # run over all samples in the config\n",
    "\n",
    "t1 = time.time()\n",
    "out = test.process(execr='futures')\n",
    "t2 = time.time()\n",
    "\n",
    "print(\"Runtime: {:.2f} minutes\".format((t2-t1)/60))\n",
    "util.save(out,f\"{outdir}/ctau-100-BDT-based_AllLxy.coffea\")\n",
    "\n",
    "del out, test"
   ]
  },
  {
   "cell_type": "markdown",
   "id": "97b2ff87-c610-4e5a-9d3d-0255d980dbe3",
   "metadata": {},
   "source": [
    "### Background"
   ]
  },
  {
   "cell_type": "code",
   "execution_count": 7,
   "id": "c65bc29b-bfda-48ed-84d4-7ea8f8eded39",
   "metadata": {},
   "outputs": [
    {
     "name": "stdout",
     "output_type": "stream",
     "text": [
      "['../../../configs/sample_configs/skimmed_bkg_2018_DY.json', '../../../configs/sample_configs/skimmed_bkg_2018_Diboson.json', '../../../configs/sample_configs/skimmed_bkg_2018_QCD_TuneCP5_PSWeights.json', '../../../configs/sample_configs/skimmed_bkg_2018_TTJetsDiLept.json', '../../../configs/sample_configs/skimmed_bkg_2018_Top.json', '../../../configs/sample_configs/skimmed_bkg_2018_Triboson.json', '../../../configs/sample_configs/skimmed_bkg_2018_WJets.json', '../../../configs/sample_configs/skimmed_bkg_2018_ZJets.json']\n"
     ]
    }
   ],
   "source": [
    "bkg_configs = glob.glob(\"../../../configs/sample_configs/skimmed_bkg*.json\")\n",
    "\n",
    "print(bkg_configs)"
   ]
  },
  {
   "cell_type": "code",
   "execution_count": 8,
   "id": "f7af452c-6938-4868-8307-bd0f6b2e330d",
   "metadata": {
    "scrolled": true
   },
   "outputs": [
    {
     "name": "stdout",
     "output_type": "stream",
     "text": [
      "bkg_2018_DY\n"
     ]
    },
    {
     "data": {
      "application/vnd.jupyter.widget-view+json": {
       "model_id": "eba67ab94519425bb668b2248101712c",
       "version_major": 2,
       "version_minor": 0
      },
      "text/plain": [
       "Output()"
      ]
     },
     "metadata": {},
     "output_type": "display_data"
    },
    {
     "data": {
      "text/html": [
       "<pre style=\"white-space:pre;overflow-x:auto;line-height:normal;font-family:Menlo,'DejaVu Sans Mono',consolas,'Courier New',monospace\"></pre>\n"
      ],
      "text/plain": []
     },
     "metadata": {},
     "output_type": "display_data"
    },
    {
     "data": {
      "text/html": [
       "<pre style=\"white-space:pre;overflow-x:auto;line-height:normal;font-family:Menlo,'DejaVu Sans Mono',consolas,'Courier New',monospace\">\n",
       "</pre>\n"
      ],
      "text/plain": [
       "\n"
      ]
     },
     "metadata": {},
     "output_type": "display_data"
    },
    {
     "data": {
      "application/vnd.jupyter.widget-view+json": {
       "model_id": "b886ddbe803442f59d24f5919993da9e",
       "version_major": 2,
       "version_minor": 0
      },
      "text/plain": [
       "Output()"
      ]
     },
     "metadata": {},
     "output_type": "display_data"
    },
    {
     "name": "stdout",
     "output_type": "stream",
     "text": [
      "Pass: 0/2\n",
      "Pass: 0/1\n",
      "Pass: 0/1\n",
      "Pass: 0/1\n",
      "Pass: 0/2\n",
      "Pass: 0/2\n"
     ]
    },
    {
     "data": {
      "text/html": [
       "<pre style=\"white-space:pre;overflow-x:auto;line-height:normal;font-family:Menlo,'DejaVu Sans Mono',consolas,'Courier New',monospace\"></pre>\n"
      ],
      "text/plain": []
     },
     "metadata": {},
     "output_type": "display_data"
    },
    {
     "data": {
      "text/html": [
       "<pre style=\"white-space:pre;overflow-x:auto;line-height:normal;font-family:Menlo,'DejaVu Sans Mono',consolas,'Courier New',monospace\">\n",
       "</pre>\n"
      ],
      "text/plain": [
       "\n"
      ]
     },
     "metadata": {},
     "output_type": "display_data"
    },
    {
     "name": "stdout",
     "output_type": "stream",
     "text": [
      "Runtime: 0.84 minutes\n",
      "bkg_2018_Diboson\n"
     ]
    },
    {
     "data": {
      "application/vnd.jupyter.widget-view+json": {
       "model_id": "5718e14ffa484850af1943537e70e2d9",
       "version_major": 2,
       "version_minor": 0
      },
      "text/plain": [
       "Output()"
      ]
     },
     "metadata": {},
     "output_type": "display_data"
    },
    {
     "data": {
      "text/html": [
       "<pre style=\"white-space:pre;overflow-x:auto;line-height:normal;font-family:Menlo,'DejaVu Sans Mono',consolas,'Courier New',monospace\"></pre>\n"
      ],
      "text/plain": []
     },
     "metadata": {},
     "output_type": "display_data"
    },
    {
     "data": {
      "text/html": [
       "<pre style=\"white-space:pre;overflow-x:auto;line-height:normal;font-family:Menlo,'DejaVu Sans Mono',consolas,'Courier New',monospace\">\n",
       "</pre>\n"
      ],
      "text/plain": [
       "\n"
      ]
     },
     "metadata": {},
     "output_type": "display_data"
    },
    {
     "data": {
      "application/vnd.jupyter.widget-view+json": {
       "model_id": "6188267352954d8b9ea386b0b74c713b",
       "version_major": 2,
       "version_minor": 0
      },
      "text/plain": [
       "Output()"
      ]
     },
     "metadata": {},
     "output_type": "display_data"
    },
    {
     "name": "stdout",
     "output_type": "stream",
     "text": [
      "Pass: 0/146\n",
      "Pass: 0/90\n",
      "Pass: 0/91\n",
      "Pass: 0/91\n",
      "Pass: 0/100\n",
      "Pass: 0/29\n",
      "Pass: 0/112\n",
      "Pass: 2/108\n"
     ]
    },
    {
     "data": {
      "text/html": [
       "<pre style=\"white-space:pre;overflow-x:auto;line-height:normal;font-family:Menlo,'DejaVu Sans Mono',consolas,'Courier New',monospace\"></pre>\n"
      ],
      "text/plain": []
     },
     "metadata": {},
     "output_type": "display_data"
    },
    {
     "data": {
      "text/html": [
       "<pre style=\"white-space:pre;overflow-x:auto;line-height:normal;font-family:Menlo,'DejaVu Sans Mono',consolas,'Courier New',monospace\">\n",
       "</pre>\n"
      ],
      "text/plain": [
       "\n"
      ]
     },
     "metadata": {},
     "output_type": "display_data"
    },
    {
     "name": "stdout",
     "output_type": "stream",
     "text": [
      "Runtime: 0.64 minutes\n",
      "bkg_2018_QCD_TuneCP5_PSWeights\n"
     ]
    },
    {
     "data": {
      "application/vnd.jupyter.widget-view+json": {
       "model_id": "ff84a4f41c5a400bba5089e2c2ed3e56",
       "version_major": 2,
       "version_minor": 0
      },
      "text/plain": [
       "Output()"
      ]
     },
     "metadata": {},
     "output_type": "display_data"
    },
    {
     "data": {
      "text/html": [
       "<pre style=\"white-space:pre;overflow-x:auto;line-height:normal;font-family:Menlo,'DejaVu Sans Mono',consolas,'Courier New',monospace\"></pre>\n"
      ],
      "text/plain": []
     },
     "metadata": {},
     "output_type": "display_data"
    },
    {
     "data": {
      "text/html": [
       "<pre style=\"white-space:pre;overflow-x:auto;line-height:normal;font-family:Menlo,'DejaVu Sans Mono',consolas,'Courier New',monospace\">\n",
       "</pre>\n"
      ],
      "text/plain": [
       "\n"
      ]
     },
     "metadata": {},
     "output_type": "display_data"
    },
    {
     "data": {
      "application/vnd.jupyter.widget-view+json": {
       "model_id": "24a45904693a4d2ca321e45860cf324f",
       "version_major": 2,
       "version_minor": 0
      },
      "text/plain": [
       "Output()"
      ]
     },
     "metadata": {},
     "output_type": "display_data"
    },
    {
     "name": "stdout",
     "output_type": "stream",
     "text": [
      "Pass: 0/1\n",
      "Pass: 0/1\n",
      "Pass: 0/1\n"
     ]
    },
    {
     "data": {
      "text/html": [
       "<pre style=\"white-space:pre;overflow-x:auto;line-height:normal;font-family:Menlo,'DejaVu Sans Mono',consolas,'Courier New',monospace\"></pre>\n"
      ],
      "text/plain": []
     },
     "metadata": {},
     "output_type": "display_data"
    },
    {
     "data": {
      "text/html": [
       "<pre style=\"white-space:pre;overflow-x:auto;line-height:normal;font-family:Menlo,'DejaVu Sans Mono',consolas,'Courier New',monospace\">\n",
       "</pre>\n"
      ],
      "text/plain": [
       "\n"
      ]
     },
     "metadata": {},
     "output_type": "display_data"
    },
    {
     "name": "stdout",
     "output_type": "stream",
     "text": [
      "Runtime: 2.36 minutes\n",
      "bkg_2018_TTJetsDiLept\n",
      "bkg_2018_Top\n"
     ]
    },
    {
     "data": {
      "application/vnd.jupyter.widget-view+json": {
       "model_id": "3600c5cd798d4ff89019542603b3e951",
       "version_major": 2,
       "version_minor": 0
      },
      "text/plain": [
       "Output()"
      ]
     },
     "metadata": {},
     "output_type": "display_data"
    },
    {
     "data": {
      "text/html": [
       "<pre style=\"white-space:pre;overflow-x:auto;line-height:normal;font-family:Menlo,'DejaVu Sans Mono',consolas,'Courier New',monospace\"></pre>\n"
      ],
      "text/plain": []
     },
     "metadata": {},
     "output_type": "display_data"
    },
    {
     "data": {
      "text/html": [
       "<pre style=\"white-space:pre;overflow-x:auto;line-height:normal;font-family:Menlo,'DejaVu Sans Mono',consolas,'Courier New',monospace\">\n",
       "</pre>\n"
      ],
      "text/plain": [
       "\n"
      ]
     },
     "metadata": {},
     "output_type": "display_data"
    },
    {
     "data": {
      "application/vnd.jupyter.widget-view+json": {
       "model_id": "e8016006ff92449da0ab72f47919cd1f",
       "version_major": 2,
       "version_minor": 0
      },
      "text/plain": [
       "Output()"
      ]
     },
     "metadata": {},
     "output_type": "display_data"
    },
    {
     "name": "stdout",
     "output_type": "stream",
     "text": [
      "Pass: 0/12\n",
      "Pass: 0/24\n",
      "Pass: 0/17\n",
      "Pass: 0/22\n",
      "Pass: 0/9\n",
      "Pass: 0/15\n",
      "Pass: 0/22\n",
      "Pass: 0/9\n",
      "Pass: 0/6\n",
      "Pass: 0/6\n",
      "Pass: 0/3\n",
      "Pass: 0/29\n",
      "Pass: 0/29\n",
      "Pass: 0/26\n",
      "Pass: 0/18\n",
      "Pass: 0/23\n",
      "Pass: 0/6\n",
      "Pass: 0/7\n",
      "Pass: 0/20\n",
      "Pass: 0/28\n",
      "Pass: 0/30\n",
      "Pass: 0/28\n",
      "Pass: 0/34\n",
      "Pass: 0/23\n",
      "Pass: 0/31\n",
      "Pass: 0/17\n",
      "Pass: 0/7\n",
      "Pass: 0/24\n",
      "Pass: 0/25\n",
      "Pass: 0/10\n",
      "Pass: 0/13\n",
      "Pass: 0/13\n",
      "Pass: 0/17\n",
      "Pass: 0/53\n",
      "Pass: 0/52\n",
      "Pass: 0/42\n",
      "Pass: 0/56\n",
      "Pass: 0/14\n",
      "Pass: 0/5\n",
      "Pass: 0/7\n",
      "Pass: 0/6\n",
      "Pass: 0/4\n",
      "Pass: 0/20\n",
      "Pass: 0/40\n",
      "Pass: 0/43\n",
      "Pass: 0/47\n",
      "Pass: 0/32\n",
      "Pass: 0/10\n",
      "Pass: 0/9\n",
      "Pass: 0/6\n",
      "Pass: 0/7\n",
      "Pass: 0/24\n",
      "Pass: 0/8\n",
      "Pass: 0/51\n",
      "Pass: 0/39\n",
      "Pass: 0/31\n",
      "Pass: 0/23\n",
      "Pass: 0/3\n",
      "Pass: 0/49\n",
      "Pass: 0/6\n",
      "Pass: 0/9\n",
      "Pass: 0/5\n",
      "Pass: 0/11\n",
      "Pass: 0/8\n",
      "Pass: 0/8\n",
      "Pass: 0/42\n",
      "Pass: 1/35\n",
      "Pass: 0/40\n",
      "Pass: 0/35\n",
      "Pass: 0/8\n",
      "Pass: 0/22\n",
      "Pass: 0/10\n",
      "Pass: 0/8\n",
      "Pass: 0/8\n",
      "Pass: 0/5\n",
      "Pass: 0/26\n",
      "Pass: 1/41\n",
      "Pass: 0/30\n",
      "Pass: 0/37\n",
      "Pass: 0/20\n",
      "Pass: 0/12\n",
      "Pass: 0/10\n",
      "Pass: 0/5\n",
      "Pass: 0/11\n",
      "Pass: 0/10\n",
      "Pass: 0/7\n",
      "Pass: 0/40Pass: 0/7\n",
      "Pass: 0/40\n",
      "Pass: 0/33\n",
      "Pass: 0/18\n",
      "Pass: 0/50\n",
      "Pass: 0/23\n",
      "Pass: 0/12\n",
      "Pass: 0/15\n",
      "Pass: 0/8\n",
      "Pass: 0/7\n"
     ]
    },
    {
     "data": {
      "text/html": [
       "<pre style=\"white-space:pre;overflow-x:auto;line-height:normal;font-family:Menlo,'DejaVu Sans Mono',consolas,'Courier New',monospace\"></pre>\n"
      ],
      "text/plain": []
     },
     "metadata": {},
     "output_type": "display_data"
    },
    {
     "data": {
      "text/html": [
       "<pre style=\"white-space:pre;overflow-x:auto;line-height:normal;font-family:Menlo,'DejaVu Sans Mono',consolas,'Courier New',monospace\">\n",
       "</pre>\n"
      ],
      "text/plain": [
       "\n"
      ]
     },
     "metadata": {},
     "output_type": "display_data"
    },
    {
     "name": "stdout",
     "output_type": "stream",
     "text": [
      "Runtime: 3.86 minutes\n",
      "bkg_2018_Triboson\n"
     ]
    },
    {
     "data": {
      "application/vnd.jupyter.widget-view+json": {
       "model_id": "4efe2ec453a242d8aa3a7901202b4ddc",
       "version_major": 2,
       "version_minor": 0
      },
      "text/plain": [
       "Output()"
      ]
     },
     "metadata": {},
     "output_type": "display_data"
    },
    {
     "data": {
      "text/html": [
       "<pre style=\"white-space:pre;overflow-x:auto;line-height:normal;font-family:Menlo,'DejaVu Sans Mono',consolas,'Courier New',monospace\"></pre>\n"
      ],
      "text/plain": []
     },
     "metadata": {},
     "output_type": "display_data"
    },
    {
     "data": {
      "text/html": [
       "<pre style=\"white-space:pre;overflow-x:auto;line-height:normal;font-family:Menlo,'DejaVu Sans Mono',consolas,'Courier New',monospace\">\n",
       "</pre>\n"
      ],
      "text/plain": [
       "\n"
      ]
     },
     "metadata": {},
     "output_type": "display_data"
    },
    {
     "data": {
      "application/vnd.jupyter.widget-view+json": {
       "model_id": "a9be3e4709134e5aa8455382420d0965",
       "version_major": 2,
       "version_minor": 0
      },
      "text/plain": [
       "Output()"
      ]
     },
     "metadata": {},
     "output_type": "display_data"
    },
    {
     "name": "stdout",
     "output_type": "stream",
     "text": [
      "Pass: 0/13\n",
      "Pass: 0/18\n",
      "Pass: 0/35\n",
      "Pass: 0/26\n"
     ]
    },
    {
     "data": {
      "text/html": [
       "<pre style=\"white-space:pre;overflow-x:auto;line-height:normal;font-family:Menlo,'DejaVu Sans Mono',consolas,'Courier New',monospace\"></pre>\n"
      ],
      "text/plain": []
     },
     "metadata": {},
     "output_type": "display_data"
    },
    {
     "data": {
      "text/html": [
       "<pre style=\"white-space:pre;overflow-x:auto;line-height:normal;font-family:Menlo,'DejaVu Sans Mono',consolas,'Courier New',monospace\">\n",
       "</pre>\n"
      ],
      "text/plain": [
       "\n"
      ]
     },
     "metadata": {},
     "output_type": "display_data"
    },
    {
     "name": "stdout",
     "output_type": "stream",
     "text": [
      "Runtime: 0.26 minutes\n",
      "bkg_2018_WJets\n"
     ]
    },
    {
     "data": {
      "application/vnd.jupyter.widget-view+json": {
       "model_id": "2d5f7ead9dce41a38e40549d5f37b626",
       "version_major": 2,
       "version_minor": 0
      },
      "text/plain": [
       "Output()"
      ]
     },
     "metadata": {},
     "output_type": "display_data"
    },
    {
     "data": {
      "text/html": [
       "<pre style=\"white-space:pre;overflow-x:auto;line-height:normal;font-family:Menlo,'DejaVu Sans Mono',consolas,'Courier New',monospace\"></pre>\n"
      ],
      "text/plain": []
     },
     "metadata": {},
     "output_type": "display_data"
    },
    {
     "data": {
      "text/html": [
       "<pre style=\"white-space:pre;overflow-x:auto;line-height:normal;font-family:Menlo,'DejaVu Sans Mono',consolas,'Courier New',monospace\">\n",
       "</pre>\n"
      ],
      "text/plain": [
       "\n"
      ]
     },
     "metadata": {},
     "output_type": "display_data"
    },
    {
     "data": {
      "application/vnd.jupyter.widget-view+json": {
       "model_id": "e3910b53fc2e4e4a91a743e1e7fbe6e6",
       "version_major": 2,
       "version_minor": 0
      },
      "text/plain": [
       "Output()"
      ]
     },
     "metadata": {},
     "output_type": "display_data"
    },
    {
     "name": "stdout",
     "output_type": "stream",
     "text": [
      "Pass: 0/28\n",
      "Pass: 1/151\n",
      "Pass: 4/487\n",
      "Pass: 0/583\n",
      "Pass: 0/255\n",
      "Pass: 0/130\n",
      "Pass: 0/273\n",
      "Pass: 0/270\n",
      "Pass: 0/280\n",
      "Pass: 0/262\n",
      "Pass: 0/271\n",
      "Pass: 0/100\n",
      "Pass: 0/141\n",
      "Pass: 0/137\n",
      "Pass: 0/526\n",
      "Pass: 0/389\n",
      "Pass: 0/1086\n",
      "Pass: 1/1160\n",
      "Pass: 0/319\n",
      "Pass: 1/365\n",
      "Pass: 2/367\n",
      "Pass: 0/346\n",
      "Pass: 0/321\n",
      "Pass: 0/1369\n",
      "Pass: 0/2248\n",
      "Pass: 0/860\n",
      "Pass: 2/333\n",
      "Pass: 2/2786\n",
      "Pass: 4/2752\n",
      "Pass: 1/348\n",
      "Pass: 0/355\n",
      "Pass: 0/359\n",
      "Pass: 1/1480\n",
      "Pass: 2/236\n",
      "Pass: 2/190\n",
      "Pass: 2/2781\n",
      "Pass: 5/2806\n",
      "Pass: 0/223\n",
      "Pass: 1/371\n",
      "Pass: 0/333\n",
      "Pass: 3/687\n",
      "Pass: 0/326\n"
     ]
    },
    {
     "data": {
      "text/html": [
       "<pre style=\"white-space:pre;overflow-x:auto;line-height:normal;font-family:Menlo,'DejaVu Sans Mono',consolas,'Courier New',monospace\"></pre>\n"
      ],
      "text/plain": []
     },
     "metadata": {},
     "output_type": "display_data"
    },
    {
     "data": {
      "text/html": [
       "<pre style=\"white-space:pre;overflow-x:auto;line-height:normal;font-family:Menlo,'DejaVu Sans Mono',consolas,'Courier New',monospace\">\n",
       "</pre>\n"
      ],
      "text/plain": [
       "\n"
      ]
     },
     "metadata": {},
     "output_type": "display_data"
    },
    {
     "name": "stdout",
     "output_type": "stream",
     "text": [
      "Runtime: 3.00 minutes\n",
      "bkg_2018_ZJets\n"
     ]
    },
    {
     "data": {
      "application/vnd.jupyter.widget-view+json": {
       "model_id": "b237819d75784ec7943225277cb0d9de",
       "version_major": 2,
       "version_minor": 0
      },
      "text/plain": [
       "Output()"
      ]
     },
     "metadata": {},
     "output_type": "display_data"
    },
    {
     "data": {
      "text/html": [
       "<pre style=\"white-space:pre;overflow-x:auto;line-height:normal;font-family:Menlo,'DejaVu Sans Mono',consolas,'Courier New',monospace\"></pre>\n"
      ],
      "text/plain": []
     },
     "metadata": {},
     "output_type": "display_data"
    },
    {
     "data": {
      "text/html": [
       "<pre style=\"white-space:pre;overflow-x:auto;line-height:normal;font-family:Menlo,'DejaVu Sans Mono',consolas,'Courier New',monospace\">\n",
       "</pre>\n"
      ],
      "text/plain": [
       "\n"
      ]
     },
     "metadata": {},
     "output_type": "display_data"
    },
    {
     "data": {
      "application/vnd.jupyter.widget-view+json": {
       "model_id": "616c375f21554a5d9cc47ed253d6e9d1",
       "version_major": 2,
       "version_minor": 0
      },
      "text/plain": [
       "Output()"
      ]
     },
     "metadata": {},
     "output_type": "display_data"
    },
    {
     "name": "stdout",
     "output_type": "stream",
     "text": [
      "Pass: 0/42\n",
      "Pass: 1/522\n",
      "Pass: 0/550\n",
      "Pass: 0/203\n",
      "Pass: 0/393\n",
      "Pass: 0/391\n",
      "Pass: 0/237\n",
      "Pass: 2/2489\n",
      "Pass: 1/3355\n",
      "Pass: 0/5643\n",
      "Pass: 5/5546\n",
      "Pass: 0/7\n",
      "Pass: 1/4407\n",
      "Pass: 1/2605\n",
      "Pass: 2/2630\n",
      "Pass: 0/528\n",
      "Pass: 1/2308\n",
      "Pass: 0/2250\n",
      "Pass: 1/1006\n",
      "Pass: 2/3428\n",
      "Pass: 2/2920\n",
      "Pass: 2/3020\n"
     ]
    },
    {
     "data": {
      "text/html": [
       "<pre style=\"white-space:pre;overflow-x:auto;line-height:normal;font-family:Menlo,'DejaVu Sans Mono',consolas,'Courier New',monospace\"></pre>\n"
      ],
      "text/plain": []
     },
     "metadata": {},
     "output_type": "display_data"
    },
    {
     "data": {
      "text/html": [
       "<pre style=\"white-space:pre;overflow-x:auto;line-height:normal;font-family:Menlo,'DejaVu Sans Mono',consolas,'Courier New',monospace\">\n",
       "</pre>\n"
      ],
      "text/plain": [
       "\n"
      ]
     },
     "metadata": {},
     "output_type": "display_data"
    },
    {
     "name": "stdout",
     "output_type": "stream",
     "text": [
      "Runtime: 3.10 minutes\n"
     ]
    }
   ],
   "source": [
    "for bkg in bkg_configs:\n",
    "    process = bkg.split('/')[-1].split('.json')[0].split('skimmed_')[-1]\n",
    "    print(process)\n",
    "\n",
    "    if 'TTJetsDiLept' in bkg: # currently not available ntuples\n",
    "        continue\n",
    "    \n",
    "    test = Analyzer(bkg,histos_config,cuts_config) \n",
    "        \n",
    "    t1 = time.time()\n",
    "    out = test.process(execr='futures')\n",
    "    t2 = time.time()\n",
    "        \n",
    "    print(\"Runtime: {:.2f} minutes\".format((t2-t1)/60))\n",
    "    util.save(out,f\"{outdir}/{process}_ctau-100-BDT-based_AllLxy.coffea\")\n",
    "    del out, test"
   ]
  },
  {
   "cell_type": "code",
   "execution_count": null,
   "id": "fac8d8c8-dc33-4fff-a0e9-0d2b7fb6cd7b",
   "metadata": {},
   "outputs": [],
   "source": []
  },
  {
   "cell_type": "markdown",
   "id": "e32d1314-c17c-4abb-b28e-ccc3b42fde35",
   "metadata": {},
   "source": [
    "## High Lxy"
   ]
  },
  {
   "cell_type": "code",
   "execution_count": 7,
   "id": "85aa741e-15d7-4926-a845-5b7a30a13119",
   "metadata": {},
   "outputs": [],
   "source": [
    "cuts_config = \"./cut_configs/BDTv2_ctau-100-HighLxy.py\"\n",
    "histos_config = \"../../../configs/histo_configs/SR_studies.py\""
   ]
  },
  {
   "cell_type": "markdown",
   "id": "6a65244a-5733-4802-9d6b-8728e3e4ad9b",
   "metadata": {},
   "source": [
    "### Signal"
   ]
  },
  {
   "cell_type": "code",
   "execution_count": 8,
   "id": "14f2cd18-5118-4b30-964d-9748f931b0d8",
   "metadata": {},
   "outputs": [],
   "source": [
    "sample_config = \"./sample_configs/skimmed_sig_v2_mA_3m1_2018_aEM_m1_5to50_ctau-100.json\""
   ]
  },
  {
   "cell_type": "code",
   "execution_count": 9,
   "id": "73040ead-2175-4123-a773-2d889a285606",
   "metadata": {},
   "outputs": [
    {
     "data": {
      "application/vnd.jupyter.widget-view+json": {
       "model_id": "8ba48867f0f24bdd8769b830a2fc8b6a",
       "version_major": 2,
       "version_minor": 0
      },
      "text/plain": [
       "Output()"
      ]
     },
     "metadata": {},
     "output_type": "display_data"
    },
    {
     "name": "stdout",
     "output_type": "stream",
     "text": [
      "Pass: 16/103\n",
      "Pass: 151/439\n",
      "Pass: 284/924\n",
      "Pass: 48/403\n",
      "Pass: 273/889\n",
      "Pass: 208/629\n",
      "Pass: 94/301\n",
      "Pass: 197/725\n",
      "Pass: 89/393\n",
      "Pass: 91/312\n",
      "Pass: 56/241\n",
      "Pass: 103/519\n"
     ]
    },
    {
     "data": {
      "text/html": [
       "<pre style=\"white-space:pre;overflow-x:auto;line-height:normal;font-family:Menlo,'DejaVu Sans Mono',consolas,'Courier New',monospace\"></pre>\n"
      ],
      "text/plain": []
     },
     "metadata": {},
     "output_type": "display_data"
    },
    {
     "data": {
      "text/html": [
       "<pre style=\"white-space:pre;overflow-x:auto;line-height:normal;font-family:Menlo,'DejaVu Sans Mono',consolas,'Courier New',monospace\">\n",
       "</pre>\n"
      ],
      "text/plain": [
       "\n"
      ]
     },
     "metadata": {},
     "output_type": "display_data"
    },
    {
     "name": "stdout",
     "output_type": "stream",
     "text": [
      "Runtime: 1.02 minutes\n"
     ]
    }
   ],
   "source": [
    "test = Analyzer(sample_config,histos_config,cuts_config, max_samples=-1) # run over all samples in the config\n",
    "\n",
    "t1 = time.time()\n",
    "out = test.process(execr='futures')\n",
    "t2 = time.time()\n",
    "\n",
    "print(\"Runtime: {:.2f} minutes\".format((t2-t1)/60))\n",
    "util.save(out,f\"{outdir}/ctau-100-BDT-based_HighLxy.coffea\")\n",
    "\n",
    "del out, test"
   ]
  },
  {
   "cell_type": "markdown",
   "id": "34debe7a-7f70-46f5-bc9c-eef2dbab75ef",
   "metadata": {},
   "source": [
    "### Background"
   ]
  },
  {
   "cell_type": "code",
   "execution_count": 8,
   "id": "4e91868d-642d-4c58-addf-4a026366f1d1",
   "metadata": {},
   "outputs": [
    {
     "name": "stdout",
     "output_type": "stream",
     "text": [
      "['../../../configs/sample_configs/skimmed_bkg_2018_DY.json', '../../../configs/sample_configs/skimmed_bkg_2018_Diboson.json', '../../../configs/sample_configs/skimmed_bkg_2018_QCD_TuneCP5_PSWeights.json', '../../../configs/sample_configs/skimmed_bkg_2018_TTJetsDiLept.json', '../../../configs/sample_configs/skimmed_bkg_2018_Top.json', '../../../configs/sample_configs/skimmed_bkg_2018_Triboson.json', '../../../configs/sample_configs/skimmed_bkg_2018_WJets.json', '../../../configs/sample_configs/skimmed_bkg_2018_ZJets.json']\n"
     ]
    }
   ],
   "source": [
    "bkg_configs = glob.glob(\"../../../configs/sample_configs/skimmed_bkg*.json\")\n",
    "\n",
    "print(bkg_configs)"
   ]
  },
  {
   "cell_type": "code",
   "execution_count": 9,
   "id": "809c80d4-1758-4950-86b2-5bd9becedbaa",
   "metadata": {
    "scrolled": true
   },
   "outputs": [
    {
     "name": "stdout",
     "output_type": "stream",
     "text": [
      "bkg_2018_DY\n"
     ]
    },
    {
     "data": {
      "application/vnd.jupyter.widget-view+json": {
       "model_id": "faf72297b3aa48578724cadc773259a9",
       "version_major": 2,
       "version_minor": 0
      },
      "text/plain": [
       "Output()"
      ]
     },
     "metadata": {},
     "output_type": "display_data"
    },
    {
     "name": "stdout",
     "output_type": "stream",
     "text": [
      "Pass: 0/1\n",
      "Pass: 0/1\n"
     ]
    },
    {
     "data": {
      "text/html": [
       "<pre style=\"white-space:pre;overflow-x:auto;line-height:normal;font-family:Menlo,'DejaVu Sans Mono',consolas,'Courier New',monospace\"></pre>\n"
      ],
      "text/plain": []
     },
     "metadata": {},
     "output_type": "display_data"
    },
    {
     "data": {
      "text/html": [
       "<pre style=\"white-space:pre;overflow-x:auto;line-height:normal;font-family:Menlo,'DejaVu Sans Mono',consolas,'Courier New',monospace\">\n",
       "</pre>\n"
      ],
      "text/plain": [
       "\n"
      ]
     },
     "metadata": {},
     "output_type": "display_data"
    },
    {
     "name": "stdout",
     "output_type": "stream",
     "text": [
      "Runtime: 0.38 minutes\n",
      "bkg_2018_Diboson\n"
     ]
    },
    {
     "data": {
      "application/vnd.jupyter.widget-view+json": {
       "model_id": "91469fec939244a8bada68df166e0e04",
       "version_major": 2,
       "version_minor": 0
      },
      "text/plain": [
       "Output()"
      ]
     },
     "metadata": {},
     "output_type": "display_data"
    },
    {
     "name": "stdout",
     "output_type": "stream",
     "text": [
      "Pass: 0/56\n",
      "Pass: 0/44\n",
      "Pass: 0/78\n",
      "Pass: 0/55\n",
      "Pass: 0/52\n",
      "Pass: 0/57\n",
      "Pass: 0/17\n",
      "Pass: 1/60\n"
     ]
    },
    {
     "data": {
      "text/html": [
       "<pre style=\"white-space:pre;overflow-x:auto;line-height:normal;font-family:Menlo,'DejaVu Sans Mono',consolas,'Courier New',monospace\"></pre>\n"
      ],
      "text/plain": []
     },
     "metadata": {},
     "output_type": "display_data"
    },
    {
     "data": {
      "text/html": [
       "<pre style=\"white-space:pre;overflow-x:auto;line-height:normal;font-family:Menlo,'DejaVu Sans Mono',consolas,'Courier New',monospace\">\n",
       "</pre>\n"
      ],
      "text/plain": [
       "\n"
      ]
     },
     "metadata": {},
     "output_type": "display_data"
    },
    {
     "name": "stdout",
     "output_type": "stream",
     "text": [
      "Runtime: 0.33 minutes\n",
      "bkg_2018_QCD_TuneCP5_PSWeights\n"
     ]
    },
    {
     "data": {
      "application/vnd.jupyter.widget-view+json": {
       "model_id": "81ef6387c0554d62acd348a685cb2286",
       "version_major": 2,
       "version_minor": 0
      },
      "text/plain": [
       "Output()"
      ]
     },
     "metadata": {},
     "output_type": "display_data"
    },
    {
     "name": "stdout",
     "output_type": "stream",
     "text": [
      "Pass: 0/1\n"
     ]
    },
    {
     "data": {
      "text/html": [
       "<pre style=\"white-space:pre;overflow-x:auto;line-height:normal;font-family:Menlo,'DejaVu Sans Mono',consolas,'Courier New',monospace\"></pre>\n"
      ],
      "text/plain": []
     },
     "metadata": {},
     "output_type": "display_data"
    },
    {
     "data": {
      "text/html": [
       "<pre style=\"white-space:pre;overflow-x:auto;line-height:normal;font-family:Menlo,'DejaVu Sans Mono',consolas,'Courier New',monospace\">\n",
       "</pre>\n"
      ],
      "text/plain": [
       "\n"
      ]
     },
     "metadata": {},
     "output_type": "display_data"
    },
    {
     "name": "stdout",
     "output_type": "stream",
     "text": [
      "Runtime: 1.14 minutes\n",
      "bkg_2018_TTJetsDiLept\n",
      "bkg_2018_Top\n"
     ]
    },
    {
     "data": {
      "application/vnd.jupyter.widget-view+json": {
       "model_id": "c3360d5d7d6c4e81a6cfb9776f6cb7a4",
       "version_major": 2,
       "version_minor": 0
      },
      "text/plain": [
       "Output()"
      ]
     },
     "metadata": {},
     "output_type": "display_data"
    },
    {
     "name": "stdout",
     "output_type": "stream",
     "text": [
      "Pass: 0/6\n",
      "Pass: 0/10\n",
      "Pass: 0/9\n",
      "Pass: 0/7\n",
      "Pass: 0/13\n",
      "Pass: 0/3\n",
      "Pass: 0/8\n",
      "Pass: 0/5\n",
      "Pass: 0/4\n",
      "Pass: 0/2\n",
      "Pass: 0/9\n",
      "Pass: 0/16\n",
      "Pass: 0/11\n",
      "Pass: 0/12\n",
      "Pass: 0/13\n",
      "Pass: 0/4\n",
      "Pass: 0/9\n",
      "Pass: 0/13\n",
      "Pass: 0/5\n",
      "Pass: 0/13\n",
      "Pass: 0/16\n",
      "Pass: 0/9\n",
      "Pass: 0/12\n",
      "Pass: 0/13\n",
      "\n",
      "Pass: 0/9\n",
      "Pass: 0/5\n",
      "Pass: 0/6\n",
      "Pass: 0/11\n",
      "Pass: 0/5\n",
      "Pass: 0/5\n",
      "Pass: 0/10\n",
      "Pass: 0/31Pass: 0/29\n",
      "\n",
      "Pass: 0/19\n",
      "Pass: 0/30\n",
      "Pass: 0/8\n",
      "Pass: 0/2\n",
      "Pass: 0/4\n",
      "Pass: 0/3\n",
      "Pass: 0/3\n",
      "Pass: 0/18\n",
      "Pass: 0/15\n",
      "Pass: 0/7\n",
      "Pass: 0/23\n",
      "Pass: 0/18\n",
      "Pass: 0/23\n",
      "Pass: 0/3\n",
      "Pass: 0/2\n",
      "Pass: 0/1\n",
      "Pass: 0/5\n",
      "Pass: 0/13\n",
      "Pass: 0/26\n",
      "Pass: 0/12\n",
      "Pass: 0/22\n",
      "Pass: 0/8\n",
      "Pass: 0/1\n",
      "Pass: 0/16\n",
      "Pass: 0/5\n",
      "Pass: 0/2\n",
      "Pass: 0/4\n",
      "Pass: 0/5\n",
      "Pass: 0/2\n",
      "Pass: 0/23\n",
      "Pass: 1/16\n",
      "Pass: 0/2\n",
      "Pass: 0/16\n",
      "Pass: 0/16\n",
      "Pass: 0/4\n",
      "Pass: 0/11\n",
      "Pass: 0/5\n",
      "Pass: 0/6\n",
      "Pass: 0/6\n",
      "Pass: 0/2\n",
      "Pass: 0/10\n",
      "Pass: 1/23\n",
      "Pass: 0/23\n",
      "Pass: 0/7\n",
      "Pass: 0/13\n",
      "Pass: 0/8\n",
      "Pass: 0/5\n",
      "Pass: 0/6\n",
      "Pass: 0/4\n",
      "Pass: 0/2\n",
      "Pass: 0/2\n",
      "Pass: 0/16\n",
      "Pass: 0/4\n",
      "Pass: 0/23\n",
      "Pass: 0/15\n",
      "Pass: 0/5\n",
      "Pass: 0/5\n",
      "Pass: 0/7\n",
      "Pass: 0/7\n",
      "Pass: 0/20\n",
      "Pass: 0/6\n",
      "Pass: 0/6\n"
     ]
    },
    {
     "data": {
      "text/html": [
       "<pre style=\"white-space:pre;overflow-x:auto;line-height:normal;font-family:Menlo,'DejaVu Sans Mono',consolas,'Courier New',monospace\"></pre>\n"
      ],
      "text/plain": []
     },
     "metadata": {},
     "output_type": "display_data"
    },
    {
     "data": {
      "text/html": [
       "<pre style=\"white-space:pre;overflow-x:auto;line-height:normal;font-family:Menlo,'DejaVu Sans Mono',consolas,'Courier New',monospace\">\n",
       "</pre>\n"
      ],
      "text/plain": [
       "\n"
      ]
     },
     "metadata": {},
     "output_type": "display_data"
    },
    {
     "name": "stdout",
     "output_type": "stream",
     "text": [
      "Runtime: 2.08 minutes\n",
      "bkg_2018_Triboson\n"
     ]
    },
    {
     "data": {
      "application/vnd.jupyter.widget-view+json": {
       "model_id": "1352e5b910794fa4b792d78c0c58ff7d",
       "version_major": 2,
       "version_minor": 0
      },
      "text/plain": [
       "Output()"
      ]
     },
     "metadata": {},
     "output_type": "display_data"
    },
    {
     "name": "stdout",
     "output_type": "stream",
     "text": [
      "Pass: 0/21\n",
      "Pass: 0/10\n",
      "Pass: 0/6\n",
      "Pass: 0/13\n"
     ]
    },
    {
     "data": {
      "text/html": [
       "<pre style=\"white-space:pre;overflow-x:auto;line-height:normal;font-family:Menlo,'DejaVu Sans Mono',consolas,'Courier New',monospace\"></pre>\n"
      ],
      "text/plain": []
     },
     "metadata": {},
     "output_type": "display_data"
    },
    {
     "data": {
      "text/html": [
       "<pre style=\"white-space:pre;overflow-x:auto;line-height:normal;font-family:Menlo,'DejaVu Sans Mono',consolas,'Courier New',monospace\">\n",
       "</pre>\n"
      ],
      "text/plain": [
       "\n"
      ]
     },
     "metadata": {},
     "output_type": "display_data"
    },
    {
     "name": "stdout",
     "output_type": "stream",
     "text": [
      "Runtime: 0.11 minutes\n",
      "bkg_2018_WJets\n"
     ]
    },
    {
     "data": {
      "application/vnd.jupyter.widget-view+json": {
       "model_id": "990e682c2e74448ba3272fe683947217",
       "version_major": 2,
       "version_minor": 0
      },
      "text/plain": [
       "Output()"
      ]
     },
     "metadata": {},
     "output_type": "display_data"
    },
    {
     "name": "stdout",
     "output_type": "stream",
     "text": [
      "Pass: 0/17\n",
      "Pass: 1/83\n",
      "Pass: 1/294\n",
      "Pass: 3/259\n",
      "Pass: 0/141\n",
      "Pass: 0/159\n",
      "Pass: 0/74\n",
      "Pass: 0/162\n",
      "Pass: 0/163\n",
      "Pass: 0/163\n",
      "Pass: 0/157\n",
      "Pass: 0/94\n",
      "Pass: 0/91\n",
      "Pass: 1/303\n",
      "Pass: 2/611\n",
      "Pass: 1/675\n",
      "Pass: 0/215\n",
      "Pass: 1/185\n",
      "Pass: 2/215\n",
      "Pass: 2/198\n",
      "Pass: 1/178\n",
      "Pass: 0/197\n",
      "Pass: 3/795\n",
      "Pass: 2/1282\n",
      "Pass: 4/1636\n",
      "Pass: 6/1534\n",
      "Pass: 2/175\n",
      "Pass: 0/493\n",
      "Pass: 2/204\n",
      "Pass: 0/182\n",
      "Pass: 0/203\n",
      "Pass: 3/865\n",
      "Pass: 2/127\n",
      "Pass: 7/1629\n",
      "Pass: 3/106\n",
      "Pass: 6/1582\n",
      "Pass: 2/132\n",
      "Pass: 0/209\n",
      "Pass: 3/182\n",
      "Pass: 1/188\n",
      "Pass: 2/376\n"
     ]
    },
    {
     "data": {
      "text/html": [
       "<pre style=\"white-space:pre;overflow-x:auto;line-height:normal;font-family:Menlo,'DejaVu Sans Mono',consolas,'Courier New',monospace\"></pre>\n"
      ],
      "text/plain": []
     },
     "metadata": {},
     "output_type": "display_data"
    },
    {
     "data": {
      "text/html": [
       "<pre style=\"white-space:pre;overflow-x:auto;line-height:normal;font-family:Menlo,'DejaVu Sans Mono',consolas,'Courier New',monospace\">\n",
       "</pre>\n"
      ],
      "text/plain": [
       "\n"
      ]
     },
     "metadata": {},
     "output_type": "display_data"
    },
    {
     "name": "stdout",
     "output_type": "stream",
     "text": [
      "Runtime: 1.65 minutes\n",
      "bkg_2018_ZJets\n"
     ]
    },
    {
     "data": {
      "application/vnd.jupyter.widget-view+json": {
       "model_id": "f360e3f48245444db597e32f10cd40a2",
       "version_major": 2,
       "version_minor": 0
      },
      "text/plain": [
       "Output()"
      ]
     },
     "metadata": {},
     "output_type": "display_data"
    },
    {
     "name": "stdout",
     "output_type": "stream",
     "text": [
      "Pass: 0/20\n",
      "Pass: 1/322\n",
      "Pass: 1/320\n",
      "Pass: 0/126\n",
      "Pass: 0/248\n",
      "Pass: 1/238\n",
      "Pass: 0/143\n",
      "Pass: 0/1460\n",
      "Pass: 1/1983\n",
      "Pass: 4/3276\n",
      "Pass: 9/3328\n",
      "Pass: 3/2544\n",
      "Pass: 0/6\n",
      "Pass: 3/1515\n",
      "Pass: 2/1524\n",
      "Pass: 0/324\n",
      "Pass: 3/1373\n",
      "Pass: 0/1297\n",
      "Pass: 1/593\n",
      "Pass: 7/2020\n",
      "Pass: 3/1709\n",
      "Pass: 2/1739\n"
     ]
    },
    {
     "data": {
      "text/html": [
       "<pre style=\"white-space:pre;overflow-x:auto;line-height:normal;font-family:Menlo,'DejaVu Sans Mono',consolas,'Courier New',monospace\"></pre>\n"
      ],
      "text/plain": []
     },
     "metadata": {},
     "output_type": "display_data"
    },
    {
     "data": {
      "text/html": [
       "<pre style=\"white-space:pre;overflow-x:auto;line-height:normal;font-family:Menlo,'DejaVu Sans Mono',consolas,'Courier New',monospace\">\n",
       "</pre>\n"
      ],
      "text/plain": [
       "\n"
      ]
     },
     "metadata": {},
     "output_type": "display_data"
    },
    {
     "name": "stdout",
     "output_type": "stream",
     "text": [
      "Runtime: 1.57 minutes\n"
     ]
    }
   ],
   "source": [
    "for bkg in bkg_configs:\n",
    "    process = bkg.split('/')[-1].split('.json')[0].split('skimmed_')[-1]\n",
    "    print(process)\n",
    "\n",
    "    if 'TTJetsDiLept' in bkg: # currently not available ntuples\n",
    "        continue\n",
    "    \n",
    "    test = Analyzer(bkg,histos_config,cuts_config) \n",
    "        \n",
    "    t1 = time.time()\n",
    "    out = test.process(execr='futures')\n",
    "    t2 = time.time()\n",
    "        \n",
    "    print(\"Runtime: {:.2f} minutes\".format((t2-t1)/60))\n",
    "    util.save(out,f\"{outdir}/{process}_ctau-100-BDT-based_HighLxy.coffea\")\n",
    "    del out, test"
   ]
  },
  {
   "cell_type": "code",
   "execution_count": null,
   "id": "fb191334-830e-44ad-b32e-71f02ef63747",
   "metadata": {},
   "outputs": [],
   "source": []
  },
  {
   "cell_type": "markdown",
   "id": "dc5c2545-c83c-4157-a6f8-51f3e08afffd",
   "metadata": {},
   "source": [
    "## Low Lxy"
   ]
  },
  {
   "cell_type": "code",
   "execution_count": 10,
   "id": "8d0a1ef4-0118-491c-b718-782623af0771",
   "metadata": {},
   "outputs": [],
   "source": [
    "cuts_config = \"./cut_configs/BDTv2_ctau-100-LowLxy.py\"\n",
    "histos_config = \"../../../configs/histo_configs/SR_studies.py\""
   ]
  },
  {
   "cell_type": "markdown",
   "id": "1f79258e-66d0-4a30-b6c5-21cbcf8f046a",
   "metadata": {},
   "source": [
    "### Signal"
   ]
  },
  {
   "cell_type": "code",
   "execution_count": 11,
   "id": "bec94f26-e0b4-475a-b468-3d1bc701ca51",
   "metadata": {},
   "outputs": [],
   "source": [
    "sample_config = \"./sample_configs/skimmed_sig_v2_mA_3m1_2018_aEM_m1_5to50_ctau-100.json\""
   ]
  },
  {
   "cell_type": "code",
   "execution_count": 12,
   "id": "16267a8e-2bdd-445d-9e51-bcca425ef7c0",
   "metadata": {},
   "outputs": [
    {
     "data": {
      "application/vnd.jupyter.widget-view+json": {
       "model_id": "9163d3fd8bc349ac97da3515b9aaf52e",
       "version_major": 2,
       "version_minor": 0
      },
      "text/plain": [
       "Output()"
      ]
     },
     "metadata": {},
     "output_type": "display_data"
    },
    {
     "name": "stdout",
     "output_type": "stream",
     "text": [
      "Pass: 1/44\n",
      "Pass: 26/151\n",
      "Pass: 10/263\n",
      "Pass: 33/320\n",
      "Pass: 23/192\n",
      "Pass: 11/93\n",
      "Pass: 25/333\n",
      "Pass: 12/302\n",
      "Pass: 5/183\n",
      "Pass: 15/124\n",
      "Pass: 2/101\n",
      "Pass: 8/257\n"
     ]
    },
    {
     "data": {
      "text/html": [
       "<pre style=\"white-space:pre;overflow-x:auto;line-height:normal;font-family:Menlo,'DejaVu Sans Mono',consolas,'Courier New',monospace\"></pre>\n"
      ],
      "text/plain": []
     },
     "metadata": {},
     "output_type": "display_data"
    },
    {
     "data": {
      "text/html": [
       "<pre style=\"white-space:pre;overflow-x:auto;line-height:normal;font-family:Menlo,'DejaVu Sans Mono',consolas,'Courier New',monospace\">\n",
       "</pre>\n"
      ],
      "text/plain": [
       "\n"
      ]
     },
     "metadata": {},
     "output_type": "display_data"
    },
    {
     "name": "stdout",
     "output_type": "stream",
     "text": [
      "Runtime: 0.99 minutes\n"
     ]
    }
   ],
   "source": [
    "test = Analyzer(sample_config,histos_config,cuts_config, max_samples=-1) # run over all samples in the config\n",
    "\n",
    "t1 = time.time()\n",
    "out = test.process(execr='futures')\n",
    "t2 = time.time()\n",
    "\n",
    "print(\"Runtime: {:.2f} minutes\".format((t2-t1)/60))\n",
    "util.save(out,f\"{outdir}/ctau-100-BDT-based_LowLxy.coffea\")\n",
    "\n",
    "del out, test"
   ]
  },
  {
   "cell_type": "markdown",
   "id": "a581255d-9c06-4b65-8172-31db3d3db10d",
   "metadata": {},
   "source": [
    "### Background"
   ]
  },
  {
   "cell_type": "code",
   "execution_count": 11,
   "id": "a60b77dd-fb42-429f-9896-bae8bbd97cc5",
   "metadata": {},
   "outputs": [
    {
     "name": "stdout",
     "output_type": "stream",
     "text": [
      "['../../../configs/sample_configs/skimmed_bkg_2018_DY.json', '../../../configs/sample_configs/skimmed_bkg_2018_Diboson.json', '../../../configs/sample_configs/skimmed_bkg_2018_QCD_TuneCP5_PSWeights.json', '../../../configs/sample_configs/skimmed_bkg_2018_TTJetsDiLept.json', '../../../configs/sample_configs/skimmed_bkg_2018_Top.json', '../../../configs/sample_configs/skimmed_bkg_2018_Triboson.json', '../../../configs/sample_configs/skimmed_bkg_2018_WJets.json', '../../../configs/sample_configs/skimmed_bkg_2018_ZJets.json']\n"
     ]
    }
   ],
   "source": [
    "bkg_configs = glob.glob(\"../../../configs/sample_configs/skimmed_bkg*.json\")\n",
    "\n",
    "print(bkg_configs)"
   ]
  },
  {
   "cell_type": "code",
   "execution_count": 12,
   "id": "a796d865-8c81-4e95-947e-33290ebc7cd7",
   "metadata": {
    "scrolled": true
   },
   "outputs": [
    {
     "name": "stdout",
     "output_type": "stream",
     "text": [
      "bkg_2018_DY\n"
     ]
    },
    {
     "data": {
      "application/vnd.jupyter.widget-view+json": {
       "model_id": "19457575a59d4afca239e09e5cdadee3",
       "version_major": 2,
       "version_minor": 0
      },
      "text/plain": [
       "Output()"
      ]
     },
     "metadata": {},
     "output_type": "display_data"
    },
    {
     "name": "stdout",
     "output_type": "stream",
     "text": [
      "Pass: 0/2\n",
      "Pass: 0/1\n",
      "Pass: 0/1\n",
      "Pass: 0/1\n",
      "Pass: 0/1\n",
      "Pass: 0/1\n"
     ]
    },
    {
     "data": {
      "text/html": [
       "<pre style=\"white-space:pre;overflow-x:auto;line-height:normal;font-family:Menlo,'DejaVu Sans Mono',consolas,'Courier New',monospace\"></pre>\n"
      ],
      "text/plain": []
     },
     "metadata": {},
     "output_type": "display_data"
    },
    {
     "data": {
      "text/html": [
       "<pre style=\"white-space:pre;overflow-x:auto;line-height:normal;font-family:Menlo,'DejaVu Sans Mono',consolas,'Courier New',monospace\">\n",
       "</pre>\n"
      ],
      "text/plain": [
       "\n"
      ]
     },
     "metadata": {},
     "output_type": "display_data"
    },
    {
     "name": "stdout",
     "output_type": "stream",
     "text": [
      "Runtime: 0.37 minutes\n",
      "bkg_2018_Diboson\n"
     ]
    },
    {
     "data": {
      "application/vnd.jupyter.widget-view+json": {
       "model_id": "dbf749de79f3408dbd19d948731b7f68",
       "version_major": 2,
       "version_minor": 0
      },
      "text/plain": [
       "Output()"
      ]
     },
     "metadata": {},
     "output_type": "display_data"
    },
    {
     "name": "stdout",
     "output_type": "stream",
     "text": [
      "Pass: 0/46\n",
      "Pass: 0/36\n",
      "Pass: 0/68\n",
      "Pass: 0/48\n",
      "Pass: 0/35\n",
      "Pass: 0/55\n",
      "Pass: 0/12\n",
      "Pass: 1/48\n"
     ]
    },
    {
     "data": {
      "text/html": [
       "<pre style=\"white-space:pre;overflow-x:auto;line-height:normal;font-family:Menlo,'DejaVu Sans Mono',consolas,'Courier New',monospace\"></pre>\n"
      ],
      "text/plain": []
     },
     "metadata": {},
     "output_type": "display_data"
    },
    {
     "data": {
      "text/html": [
       "<pre style=\"white-space:pre;overflow-x:auto;line-height:normal;font-family:Menlo,'DejaVu Sans Mono',consolas,'Courier New',monospace\">\n",
       "</pre>\n"
      ],
      "text/plain": [
       "\n"
      ]
     },
     "metadata": {},
     "output_type": "display_data"
    },
    {
     "name": "stdout",
     "output_type": "stream",
     "text": [
      "Runtime: 0.30 minutes\n",
      "bkg_2018_QCD_TuneCP5_PSWeights\n"
     ]
    },
    {
     "data": {
      "application/vnd.jupyter.widget-view+json": {
       "model_id": "3e46a1d76a304875ba41bc31a6d31353",
       "version_major": 2,
       "version_minor": 0
      },
      "text/plain": [
       "Output()"
      ]
     },
     "metadata": {},
     "output_type": "display_data"
    },
    {
     "name": "stdout",
     "output_type": "stream",
     "text": [
      "Pass: 0/1\n",
      "Pass: 0/1\n"
     ]
    },
    {
     "data": {
      "text/html": [
       "<pre style=\"white-space:pre;overflow-x:auto;line-height:normal;font-family:Menlo,'DejaVu Sans Mono',consolas,'Courier New',monospace\"></pre>\n"
      ],
      "text/plain": []
     },
     "metadata": {},
     "output_type": "display_data"
    },
    {
     "data": {
      "text/html": [
       "<pre style=\"white-space:pre;overflow-x:auto;line-height:normal;font-family:Menlo,'DejaVu Sans Mono',consolas,'Courier New',monospace\">\n",
       "</pre>\n"
      ],
      "text/plain": [
       "\n"
      ]
     },
     "metadata": {},
     "output_type": "display_data"
    },
    {
     "name": "stdout",
     "output_type": "stream",
     "text": [
      "Runtime: 1.15 minutes\n",
      "bkg_2018_TTJetsDiLept\n",
      "bkg_2018_Top\n"
     ]
    },
    {
     "data": {
      "application/vnd.jupyter.widget-view+json": {
       "model_id": "d32ef442a627464f84b11ced82a658ed",
       "version_major": 2,
       "version_minor": 0
      },
      "text/plain": [
       "Output()"
      ]
     },
     "metadata": {},
     "output_type": "display_data"
    },
    {
     "name": "stdout",
     "output_type": "stream",
     "text": [
      "Pass: 0/6\n",
      "Pass: 0/14\n",
      "Pass: 0/8\n",
      "Pass: 0/15\n",
      "Pass: 0/4\n",
      "Pass: 0/6\n",
      "Pass: 0/7\n",
      "Pass: 0/9\n",
      "Pass: 0/2\n",
      "Pass: 0/13\n",
      "Pass: 0/4\n",
      "Pass: 0/3\n",
      "Pass: 0/14\n",
      "Pass: 0/15\n",
      "Pass: 0/17\n",
      "Pass: 0/5\n",
      "Pass: 0/2\n",
      "Pass: 0/11\n",
      "Pass: 0/2\n",
      "Pass: 0/15\n",
      "Pass: 0/13\n",
      "Pass: 0/17\n",
      "Pass: 0/18\n",
      "Pass: 0/14\n",
      "Pass: 0/12\n",
      "Pass: 0/19\n",
      "Pass: 0/2\n",
      "Pass: 0/8\n",
      "Pass: 0/13\n",
      "Pass: 0/4\n",
      "Pass: 0/8\n",
      "Pass: 0/8\n",
      "Pass: 0/7\n",
      "Pass: 0/22\n",
      "Pass: 1/23\n",
      "Pass: 0/23\n",
      "Pass: 0/26\n",
      "Pass: 0/3\n",
      "Pass: 0/3\n",
      "Pass: 0/6\n",
      "Pass: 0/5\n",
      "Pass: 0/3\n",
      "Pass: 0/1\n",
      "Pass: 0/22\n",
      "Pass: 0/20\n",
      "Pass: 0/24\n",
      "Pass: 0/3\n",
      "Pass: 0/14\n",
      "Pass: 0/6\n",
      "Pass: 0/4\n",
      "Pass: 0/6\n",
      "Pass: 0/3\n",
      "Pass: 0/11\n",
      "Pass: 0/25\n",
      "Pass: 0/19\n",
      "Pass: 0/23\n",
      "Pass: 0/15\n",
      "Pass: 0/27\n",
      "Pass: 0/2\n",
      "Pass: 0/4\n",
      "Pass: 0/4\n",
      "Pass: 0/1\n",
      "Pass: 0/6\n",
      "Pass: 0/6\n",
      "Pass: 0/19\n",
      "Pass: 0/6\n",
      "Pass: 0/19\n",
      "Pass: 0/24\n",
      "Pass: 0/4\n",
      "Pass: 0/11\n",
      "Pass: 0/5\n",
      "Pass: 0/2\n",
      "Pass: 0/2\n",
      "Pass: 0/19\n",
      "Pass: 0/3\n",
      "Pass: 0/16\n",
      "Pass: 0/17\n",
      "Pass: 0/14\n",
      "Pass: 0/18\n",
      "Pass: 0/13\n",
      "Pass: 0/4\n",
      "Pass: 0/3\n",
      "Pass: 0/5\n",
      "Pass: 0/6\n",
      "Pass: 0/5\n",
      "Pass: 0/5\n",
      "Pass: 0/24\n",
      "Pass: 0/3\n",
      "Pass: 0/17\n",
      "Pass: 0/18\n",
      "Pass: 0/30\n",
      "Pass: 0/13\n",
      "Pass: 0/16\n",
      "Pass: 0/7\n",
      "Pass: 0/8\n",
      "Pass: 0/1\n",
      "\n"
     ]
    },
    {
     "data": {
      "text/html": [
       "<pre style=\"white-space:pre;overflow-x:auto;line-height:normal;font-family:Menlo,'DejaVu Sans Mono',consolas,'Courier New',monospace\"></pre>\n"
      ],
      "text/plain": []
     },
     "metadata": {},
     "output_type": "display_data"
    },
    {
     "data": {
      "text/html": [
       "<pre style=\"white-space:pre;overflow-x:auto;line-height:normal;font-family:Menlo,'DejaVu Sans Mono',consolas,'Courier New',monospace\">\n",
       "</pre>\n"
      ],
      "text/plain": [
       "\n"
      ]
     },
     "metadata": {},
     "output_type": "display_data"
    },
    {
     "name": "stdout",
     "output_type": "stream",
     "text": [
      "Runtime: 2.02 minutes\n",
      "bkg_2018_Triboson\n"
     ]
    },
    {
     "data": {
      "application/vnd.jupyter.widget-view+json": {
       "model_id": "47257244a71a4319b1c62f1ad34dd51d",
       "version_major": 2,
       "version_minor": 0
      },
      "text/plain": [
       "Output()"
      ]
     },
     "metadata": {},
     "output_type": "display_data"
    },
    {
     "name": "stdout",
     "output_type": "stream",
     "text": [
      "Pass: 0/7\n",
      "Pass: 0/14\n",
      "Pass: 0/13\n",
      "Pass: 0/8"
     ]
    },
    {
     "data": {
      "text/html": [
       "<pre style=\"white-space:pre;overflow-x:auto;line-height:normal;font-family:Menlo,'DejaVu Sans Mono',consolas,'Courier New',monospace\"></pre>\n"
      ],
      "text/plain": []
     },
     "metadata": {},
     "output_type": "display_data"
    },
    {
     "data": {
      "text/html": [
       "<pre style=\"white-space:pre;overflow-x:auto;line-height:normal;font-family:Menlo,'DejaVu Sans Mono',consolas,'Courier New',monospace\">\n",
       "</pre>\n"
      ],
      "text/plain": [
       "\n"
      ]
     },
     "metadata": {},
     "output_type": "display_data"
    },
    {
     "name": "stdout",
     "output_type": "stream",
     "text": [
      "Runtime: 0.11 minutes\n",
      "bkg_2018_WJets\n"
     ]
    },
    {
     "data": {
      "application/vnd.jupyter.widget-view+json": {
       "model_id": "40773232f2be402099b43006aedb5143",
       "version_major": 2,
       "version_minor": 0
      },
      "text/plain": [
       "Output()"
      ]
     },
     "metadata": {},
     "output_type": "display_data"
    },
    {
     "name": "stdout",
     "output_type": "stream",
     "text": [
      "Pass: 0/11\n",
      "Pass: 0/68\n",
      "\n",
      "Pass: 0/228\n",
      "Pass: 0/114\n",
      "Pass: 0/114\n",
      "Pass: 0/113\n",
      "Pass: 0/56\n",
      "Pass: 0/118\n",
      "Pass: 0/108\n",
      "Pass: 0/99\n",
      "Pass: 0/40\n",
      "Pass: 0/50\n",
      "Pass: 0/43\n",
      "Pass: 1/174\n",
      "Pass: 1/475\n",
      "Pass: 0/485\n",
      "Pass: 0/223\n",
      "Pass: 0/134\n",
      "Pass: 0/150\n",
      "Pass: 0/169\n",
      "Pass: 1/143\n",
      "Pass: 0/149\n",
      "Pass: 1/574\n",
      "Pass: 0/966\n",
      "Pass: 0/367\n",
      "Pass: 4/1150\n",
      "Pass: 0/144\n",
      "Pass: 1/1218\n",
      "Pass: 0/158\n",
      "Pass: 0/173\n",
      "Pass: 0/156\n",
      "Pass: 0/615\n",
      "Pass: 1/1199\n",
      "Pass: 0/109\n",
      "Pass: 1/1177\n",
      "Pass: 0/84\n",
      "Pass: 0/91\n",
      "Pass: 0/151\n",
      "Pass: 0/162\n",
      "Pass: 2/311\n",
      "Pass: 1/138\n"
     ]
    },
    {
     "data": {
      "text/html": [
       "<pre style=\"white-space:pre;overflow-x:auto;line-height:normal;font-family:Menlo,'DejaVu Sans Mono',consolas,'Courier New',monospace\"></pre>\n"
      ],
      "text/plain": []
     },
     "metadata": {},
     "output_type": "display_data"
    },
    {
     "data": {
      "text/html": [
       "<pre style=\"white-space:pre;overflow-x:auto;line-height:normal;font-family:Menlo,'DejaVu Sans Mono',consolas,'Courier New',monospace\">\n",
       "</pre>\n"
      ],
      "text/plain": [
       "\n"
      ]
     },
     "metadata": {},
     "output_type": "display_data"
    },
    {
     "name": "stdout",
     "output_type": "stream",
     "text": [
      "Runtime: 1.60 minutes\n",
      "bkg_2018_ZJets\n"
     ]
    },
    {
     "data": {
      "application/vnd.jupyter.widget-view+json": {
       "model_id": "644867c734634c3eba58b080af3cb774",
       "version_major": 2,
       "version_minor": 0
      },
      "text/plain": [
       "Output()"
      ]
     },
     "metadata": {},
     "output_type": "display_data"
    },
    {
     "name": "stdout",
     "output_type": "stream",
     "text": [
      "Pass: 0/22\n",
      "Pass: 0/202\n",
      "Pass: 0/228\n",
      "Pass: 0/153\n",
      "Pass: 0/77\n",
      "Pass: 0/145\n",
      "Pass: 0/94\n",
      "Pass: 1/1029\n",
      "Pass: 0/1372\n",
      "Pass: 1/2367\n",
      "Pass: 2/2218\n",
      "Pass: 0/1\n",
      "Pass: 0/1863\n",
      "Pass: 1/1106\n",
      "Pass: 1/1090\n",
      "Pass: 0/204\n",
      "Pass: 1/935\n",
      "Pass: 2/953\n",
      "Pass: 0/413\n",
      "Pass: 0/1408\n",
      "Pass: 1/1211\n",
      "Pass: 2/1281\n"
     ]
    },
    {
     "data": {
      "text/html": [
       "<pre style=\"white-space:pre;overflow-x:auto;line-height:normal;font-family:Menlo,'DejaVu Sans Mono',consolas,'Courier New',monospace\"></pre>\n"
      ],
      "text/plain": []
     },
     "metadata": {},
     "output_type": "display_data"
    },
    {
     "data": {
      "text/html": [
       "<pre style=\"white-space:pre;overflow-x:auto;line-height:normal;font-family:Menlo,'DejaVu Sans Mono',consolas,'Courier New',monospace\">\n",
       "</pre>\n"
      ],
      "text/plain": [
       "\n"
      ]
     },
     "metadata": {},
     "output_type": "display_data"
    },
    {
     "name": "stdout",
     "output_type": "stream",
     "text": [
      "Runtime: 1.55 minutes\n"
     ]
    }
   ],
   "source": [
    "for bkg in bkg_configs:\n",
    "    process = bkg.split('/')[-1].split('.json')[0].split('skimmed_')[-1]\n",
    "    print(process)\n",
    "\n",
    "    if 'TTJetsDiLept' in bkg: # currently not available ntuples\n",
    "        continue\n",
    "    \n",
    "    test = Analyzer(bkg,histos_config,cuts_config) \n",
    "        \n",
    "    t1 = time.time()\n",
    "    out = test.process(execr='futures')\n",
    "    t2 = time.time()\n",
    "        \n",
    "    print(\"Runtime: {:.2f} minutes\".format((t2-t1)/60))\n",
    "    util.save(out,f\"{outdir}/{process}_ctau-100-BDT-based_LowLxy.coffea\")\n",
    "    del out, test"
   ]
  },
  {
   "cell_type": "code",
   "execution_count": null,
   "id": "94f56774-586e-476d-80e3-8ce3156eb73e",
   "metadata": {},
   "outputs": [],
   "source": []
  }
 ],
 "metadata": {
  "kernelspec": {
   "display_name": "Python 3 (ipykernel)",
   "language": "python",
   "name": "python3"
  },
  "language_info": {
   "codemirror_mode": {
    "name": "ipython",
    "version": 3
   },
   "file_extension": ".py",
   "mimetype": "text/x-python",
   "name": "python",
   "nbconvert_exporter": "python",
   "pygments_lexer": "ipython3",
   "version": "3.8.17"
  }
 },
 "nbformat": 4,
 "nbformat_minor": 5
}

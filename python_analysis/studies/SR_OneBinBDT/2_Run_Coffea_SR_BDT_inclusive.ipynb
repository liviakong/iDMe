{
 "cells": [
  {
   "cell_type": "code",
   "execution_count": 1,
   "id": "e669ba8e-d8ae-45e9-bdac-9dabb1da3557",
   "metadata": {},
   "outputs": [],
   "source": [
    "%load_ext autoreload\n",
    "%autoreload 2\n",
    "import numpy as np\n",
    "import matplotlib.pyplot as plt\n",
    "import awkward as ak\n",
    "import sys\n",
    "sys.path.append(\"../../analysisTools/\")\n",
    "from analysisTools import Analyzer\n",
    "from analysisTools import loadSchema\n",
    "import analysisTools as tools\n",
    "import analysisSubroutines as routines\n",
    "import importlib\n",
    "import coffea.util as util\n",
    "import time\n",
    "import json\n",
    "import os\n",
    "import glob"
   ]
  },
  {
   "cell_type": "code",
   "execution_count": 2,
   "id": "c59aff4f-6762-4e07-957a-349d22652fad",
   "metadata": {},
   "outputs": [],
   "source": [
    "outdir = \"./coffea/\"\n",
    "if not os.path.isdir(outdir):\n",
    "    os.mkdir(outdir)"
   ]
  },
  {
   "cell_type": "code",
   "execution_count": 3,
   "id": "73201266-7873-48cb-b6b9-ea70e7703e5b",
   "metadata": {},
   "outputs": [],
   "source": [
    "outdir = \"./coffea/skimmed/\"\n",
    "if not os.path.isdir(outdir):\n",
    "    os.mkdir(outdir)"
   ]
  },
  {
   "cell_type": "code",
   "execution_count": 4,
   "id": "c72681ac-a0f5-402a-8a80-d5f17505b69c",
   "metadata": {},
   "outputs": [],
   "source": [
    "cuts_config = \"./cut_configs/BDT_v5_vars_sig_v2.py\"\n",
    "\n",
    "histos_config = \"./histo_configs/displacement.py\""
   ]
  },
  {
   "cell_type": "markdown",
   "id": "d248ae59-1cd0-45e3-91a1-3462012c6a27",
   "metadata": {},
   "source": [
    "### Signal"
   ]
  },
  {
   "cell_type": "code",
   "execution_count": 5,
   "id": "e0ecc4e0-151c-408b-b400-381d1e1a973e",
   "metadata": {},
   "outputs": [],
   "source": [
    "sample_config = \"./sample_configs/skimmed_signal_v4_2018_aEM.json\"\n",
    "\n",
    "#sample_config = '/uscms_data/d3/kyungmip/CMSSW_10_6_26/src/iDMe/python_analysis/configs/sample_configs/skimmed_signal/skimmed_sig_v2_mA_3m1_2018_aEM.json'"
   ]
  },
  {
   "cell_type": "code",
   "execution_count": 11,
   "id": "ffb250b7-12f8-43b3-bafc-51560ecb67b7",
   "metadata": {},
   "outputs": [
    {
     "data": {
      "application/vnd.jupyter.widget-view+json": {
       "model_id": "e2eb92e90b5540a1afaba9e1bc2ca15b",
       "version_major": 2,
       "version_minor": 0
      },
      "text/plain": [
       "Output()"
      ]
     },
     "metadata": {},
     "output_type": "display_data"
    },
    {
     "name": "stdout",
     "output_type": "stream",
     "text": [
      "BDT Pass: 997/1214\n",
      "BDT Pass: 885/1067\n",
      "BDT Pass: 3904/4720\n",
      "BDT Pass: 4607/7082\n"
     ]
    },
    {
     "data": {
      "text/html": [
       "<pre style=\"white-space:pre;overflow-x:auto;line-height:normal;font-family:Menlo,'DejaVu Sans Mono',consolas,'Courier New',monospace\"></pre>\n"
      ],
      "text/plain": []
     },
     "metadata": {},
     "output_type": "display_data"
    },
    {
     "data": {
      "text/html": [
       "<pre style=\"white-space:pre;overflow-x:auto;line-height:normal;font-family:Menlo,'DejaVu Sans Mono',consolas,'Courier New',monospace\">\n",
       "</pre>\n"
      ],
      "text/plain": [
       "\n"
      ]
     },
     "metadata": {},
     "output_type": "display_data"
    },
    {
     "name": "stderr",
     "output_type": "stream",
     "text": [
      "Exception ignored in: <function WeakValueDictionary.__init__.<locals>.remove at 0x7fdf03937820>\n",
      "Traceback (most recent call last):\n",
      "  File \"/uscms/home/kyungmip/nobackup/miniconda3/envs/coffea/lib/python3.8/weakref.py\", line 103, in remove\n",
      "    def remove(wr, selfref=ref(self), _atomic_removal=_remove_dead_weakref):\n",
      "KeyboardInterrupt: \n",
      "\n",
      "KeyboardInterrupt\n",
      "\n"
     ]
    },
    {
     "name": "stdout",
     "output_type": "stream",
     "text": [
      "BDT Pass: 180/213\n",
      "BDT Pass: 671/796\n",
      "BDT Pass: 898/1067\n",
      "BDT Pass: 1066/1636\n"
     ]
    },
    {
     "name": "stderr",
     "output_type": "stream",
     "text": [
      "Exception ignored in: <function WeakSet.__init__.<locals>._remove at 0x7fdf79691670>\n",
      "Traceback (most recent call last):\n",
      "  File \"/uscms/home/kyungmip/nobackup/miniconda3/envs/coffea/lib/python3.8/_weakrefset.py\", line 38, in _remove\n",
      "    def _remove(item, selfref=ref(self)):\n",
      "KeyboardInterrupt: \n",
      "Exception ignored in: <function WeakSet.__init__.<locals>._remove at 0x7fdf79691670>\n",
      "Traceback (most recent call last):\n",
      "  File \"/uscms/home/kyungmip/nobackup/miniconda3/envs/coffea/lib/python3.8/_weakrefset.py\", line 38, in _remove\n",
      "    def _remove(item, selfref=ref(self)):\n",
      "KeyboardInterrupt: \n",
      "Exception ignored in: <function WeakSet.__init__.<locals>._remove at 0x7fdf79691670>\n",
      "Traceback (most recent call last):\n",
      "  File \"/uscms/home/kyungmip/nobackup/miniconda3/envs/coffea/lib/python3.8/_weakrefset.py\", line 38, in _remove\n",
      "    def _remove(item, selfref=ref(self)):\n",
      "KeyboardInterrupt: \n",
      "Exception ignored in: <function WeakSet.__init__.<locals>._remove at 0x7fdf79691670>\n",
      "Traceback (most recent call last):\n",
      "  File \"/uscms/home/kyungmip/nobackup/miniconda3/envs/coffea/lib/python3.8/_weakrefset.py\", line 38, in _remove\n",
      "    def _remove(item, selfref=ref(self)):\n",
      "KeyboardInterrupt: \n"
     ]
    },
    {
     "name": "stdout",
     "output_type": "stream",
     "text": [
      "BDT Pass: 160/348\n",
      "BDT Pass: 138/199\n",
      "BDT Pass: 1136/1345\n"
     ]
    }
   ],
   "source": [
    "test = Analyzer(sample_config,histos_config,cuts_config, max_samples=-1) # run over all samples in the config\n",
    "\n",
    "t1 = time.time()\n",
    "out = test.process(execr='futures')\n",
    "t2 = time.time()\n",
    "\n",
    "print(\"Runtime: {:.2f} minutes\".format((t2-t1)/60))\n",
    "util.save(out,f\"{outdir}/signal_test.coffea\")\n",
    "\n",
    "del out, test"
   ]
  },
  {
   "cell_type": "code",
   "execution_count": 6,
   "id": "02537ff8-2bb2-4752-bed0-a504affad525",
   "metadata": {
    "scrolled": true
   },
   "outputs": [
    {
     "data": {
      "application/vnd.jupyter.widget-view+json": {
       "model_id": "2047792332bd4bea85a2ac2cd16750a6",
       "version_major": 2,
       "version_minor": 0
      },
      "text/plain": [
       "Output()"
      ]
     },
     "metadata": {},
     "output_type": "display_data"
    },
    {
     "data": {
      "text/html": [
       "<pre style=\"white-space:pre;overflow-x:auto;line-height:normal;font-family:Menlo,'DejaVu Sans Mono',consolas,'Courier New',monospace\"></pre>\n"
      ],
      "text/plain": []
     },
     "metadata": {},
     "output_type": "display_data"
    },
    {
     "data": {
      "text/html": [
       "<pre style=\"white-space:pre;overflow-x:auto;line-height:normal;font-family:Menlo,'DejaVu Sans Mono',consolas,'Courier New',monospace\">\n",
       "</pre>\n"
      ],
      "text/plain": [
       "\n"
      ]
     },
     "metadata": {},
     "output_type": "display_data"
    },
    {
     "data": {
      "application/vnd.jupyter.widget-view+json": {
       "model_id": "9cb5913035574076880c1d17ed170658",
       "version_major": 2,
       "version_minor": 0
      },
      "text/plain": [
       "Output()"
      ]
     },
     "metadata": {},
     "output_type": "display_data"
    },
    {
     "name": "stdout",
     "output_type": "stream",
     "text": [
      "BDT Pass: 682/879\n",
      "BDT Pass: 2317/3010BDT Pass: 2343/4190BDT Pass: 615/756\n",
      "\n",
      "\n",
      "BDT Pass: 589/728\n",
      "BDT Pass: 317/399\n",
      "BDT Pass: 1758/2212\n",
      "BDT Pass: 515/648\n",
      "BDT Pass: 2844/4698\n",
      "BDT Pass: 205/259\n",
      "\n",
      "\n",
      "BDT Pass: 696/854\n",
      "BDT Pass: 868/1327\n",
      "BDT Pass: 177/218\n",
      "BDT Pass: 567/700\n",
      "BDT Pass: 142/175\n",
      "BDT Pass: 695/1141\n",
      "BDT Pass: 519/630\n",
      "BDT Pass: 144/178BDT Pass: 548/912BDT Pass: 529/629\n",
      "\n",
      "BDT Pass: 689/1033\n",
      "BDT Pass: 12/15\n",
      "BDT Pass: 55/84\n",
      "BDT Pass: 110/220\n",
      "BDT Pass: 26/58\n",
      "BDT Pass: 49/112\n",
      "BDT Pass: 46/193\n",
      "BDT Pass: 166/187\n",
      "BDT Pass: 249/279\n",
      "BDT Pass: 66/81BDT Pass: 593/705\n",
      "BDT Pass: 272/319\n",
      "BDT Pass: 683/1140\n",
      "BDT Pass: 206/226\n",
      "BDT Pass: 509/585\n",
      "BDT Pass: 261/297\n",
      "BDT Pass: 546/752\n",
      "BDT Pass: 425/528\n",
      "BDT Pass: 90/100\n",
      "BDT Pass: 404/441\n",
      "BDT Pass: 563/769\n",
      "BDT Pass: 417/717\n",
      "BDT Pass: 154/197\n",
      "BDT Pass: 407/509\n",
      "BDT Pass: 86/100BDT Pass: 329/597\n",
      "BDT Pass: 329/386\n",
      "BDT Pass: 72/88\n",
      "BDT Pass: 379/556\n",
      "BDT Pass: 247/501\n",
      "BDT Pass: 174/239\n",
      "BDT Pass: 188/227\n",
      "BDT Pass: 43/51\n",
      "BDT Pass: 223/405\n",
      "BDT Pass: 419/550\n",
      "BDT Pass: 1292/1794\n",
      "BDT Pass: 65/97\n",
      "BDT Pass: 1267/2475\n",
      "BDT Pass: 166/257\n",
      "BDT Pass: 165/391\n",
      "BDT Pass: 950/1154\n",
      "BDT Pass: 2780/3558\n",
      "BDT Pass: 3516/6013\n"
     ]
    },
    {
     "data": {
      "text/html": [
       "<pre style=\"white-space:pre;overflow-x:auto;line-height:normal;font-family:Menlo,'DejaVu Sans Mono',consolas,'Courier New',monospace\"></pre>\n"
      ],
      "text/plain": []
     },
     "metadata": {},
     "output_type": "display_data"
    },
    {
     "data": {
      "text/html": [
       "<pre style=\"white-space:pre;overflow-x:auto;line-height:normal;font-family:Menlo,'DejaVu Sans Mono',consolas,'Courier New',monospace\">\n",
       "</pre>\n"
      ],
      "text/plain": [
       "\n"
      ]
     },
     "metadata": {},
     "output_type": "display_data"
    },
    {
     "name": "stdout",
     "output_type": "stream",
     "text": [
      "Runtime: 10.58 minutes\n"
     ]
    }
   ],
   "source": [
    "test = Analyzer(sample_config,histos_config,cuts_config, max_samples=-1) # run over all samples in the config\n",
    "\n",
    "t1 = time.time()\n",
    "out = test.process(execr='futures')\n",
    "t2 = time.time()\n",
    "\n",
    "print(\"Runtime: {:.2f} minutes\".format((t2-t1)/60))\n",
    "util.save(out,f\"{outdir}/signal_SR_BDT_v5_vars_sig_v2_TrueVertex.coffea\")\n",
    "\n",
    "del out, test"
   ]
  },
  {
   "cell_type": "code",
   "execution_count": null,
   "id": "f63b4fd9-f9ba-4609-bd17-03610de4aeb9",
   "metadata": {},
   "outputs": [],
   "source": []
  },
  {
   "cell_type": "code",
   "execution_count": 10,
   "id": "11d947c4-eabb-4a2a-9d84-59e273fce335",
   "metadata": {
    "scrolled": true
   },
   "outputs": [
    {
     "data": {
      "application/vnd.jupyter.widget-view+json": {
       "model_id": "297676b60b6140d88f133d6b16e2de7d",
       "version_major": 2,
       "version_minor": 0
      },
      "text/plain": [
       "Output()"
      ]
     },
     "metadata": {},
     "output_type": "display_data"
    },
    {
     "name": "stdout",
     "output_type": "stream",
     "text": [
      "BDT Pass: 696/2173\n",
      "BDT Pass: 625/2261\n",
      "BDT Pass: 2352/4904\n",
      "BDT Pass: 2354/6023\n",
      "BDT Pass: 591/1132\n",
      "BDT Pass: 320/972\n",
      "BDT Pass: 1772/4163\n",
      "BDT Pass: 212/782\n",
      "BDT Pass: 2849/7883\n",
      "BDT Pass: 520/1300\n",
      "BDT Pass: 715/2053\n",
      "BDT Pass: 204/666\n",
      "BDT Pass: 704/1494\n",
      "BDT Pass: 866/1963\n",
      "BDT Pass: 184/757\n",
      "BDT Pass: 573/1370\n",
      "BDT Pass: 697/2005\n",
      "BDT Pass: 147/600\n",
      "BDT Pass: 523/1364\n",
      "BDT Pass: 144/457BDT Pass: 554/1665\n",
      "\n",
      "BDT Pass: 535/1014\n",
      "BDT Pass: 57/254\n",
      "BDT Pass: 690/1436\n",
      "BDT Pass: 13/147\n",
      "BDT Pass: 111/413\n",
      "BDT Pass: 46/361\n",
      "BDT Pass: 27/666\n",
      "BDT Pass: 45/432\n",
      "BDT Pass: 67/127\n",
      "BDT Pass: 250/494\n",
      "BDT Pass: 170/590\n",
      "BDT Pass: 278/1244\n",
      "BDT Pass: 602/1542\n",
      "BDT Pass: 685/2090\n",
      "BDT Pass: 213/821\n",
      "BDT Pass: 516/1111\n",
      "BDT Pass: 546/1257\n",
      "BDT Pass: 431/1149\n",
      "BDT Pass: 262/1222\n",
      "BDT Pass: 421/1363\n",
      "BDT Pass: 93/394\n",
      "BDT Pass: 562/1282\n",
      "BDT Pass: 406/834\n",
      "BDT Pass: 413/1175\n",
      "BDT Pass: 166/1027\n",
      "BDT Pass: 333/1237\n",
      "BDT Pass: 91/436\n",
      "BDT Pass: 334/810\n",
      "BDT Pass: 375/989\n",
      "BDT Pass: 76/576\n",
      "BDT Pass: 178/660\n",
      "BDT Pass: 252/1023\n",
      "BDT Pass: 44/342\n",
      "BDT Pass: 190/585\n",
      "BDT Pass: 225/796\n",
      "BDT Pass: 429/1230\n",
      "BDT Pass: 1313/2858\n",
      "BDT Pass: 75/776\n",
      "BDT Pass: 1269/3554\n",
      "BDT Pass: 168/698\n",
      "BDT Pass: 170/866\n",
      "BDT Pass: 962/3281\n",
      "BDT Pass: 2825/6669\n",
      "BDT Pass: 3506/9799\n"
     ]
    },
    {
     "data": {
      "text/html": [
       "<pre style=\"white-space:pre;overflow-x:auto;line-height:normal;font-family:Menlo,'DejaVu Sans Mono',consolas,'Courier New',monospace\"></pre>\n"
      ],
      "text/plain": []
     },
     "metadata": {},
     "output_type": "display_data"
    },
    {
     "data": {
      "text/html": [
       "<pre style=\"white-space:pre;overflow-x:auto;line-height:normal;font-family:Menlo,'DejaVu Sans Mono',consolas,'Courier New',monospace\">\n",
       "</pre>\n"
      ],
      "text/plain": [
       "\n"
      ]
     },
     "metadata": {},
     "output_type": "display_data"
    },
    {
     "name": "stdout",
     "output_type": "stream",
     "text": [
      "Runtime: 3.99 minutes\n"
     ]
    }
   ],
   "source": [
    "test = Analyzer(sample_config,histos_config,cuts_config, max_samples=-1) # run over all samples in the config\n",
    "\n",
    "t1 = time.time()\n",
    "out = test.process(execr='futures')\n",
    "t2 = time.time()\n",
    "\n",
    "print(\"Runtime: {:.2f} minutes\".format((t2-t1)/60))\n",
    "util.save(out,f\"{outdir}/signal_SR_BDT_v5_vars_sig_v2_BestVertex.coffea\")\n",
    "\n",
    "del out, test"
   ]
  },
  {
   "cell_type": "markdown",
   "id": "97b2ff87-c610-4e5a-9d3d-0255d980dbe3",
   "metadata": {},
   "source": [
    "### Background"
   ]
  },
  {
   "cell_type": "code",
   "execution_count": 5,
   "id": "c65bc29b-bfda-48ed-84d4-7ea8f8eded39",
   "metadata": {},
   "outputs": [
    {
     "name": "stdout",
     "output_type": "stream",
     "text": [
      "['../../configs/sample_configs/skimmed_bkg/skimmed_bkg_2018_DY.json', '../../configs/sample_configs/skimmed_bkg/skimmed_bkg_2018_Diboson.json', '../../configs/sample_configs/skimmed_bkg/skimmed_bkg_2018_QCD_TuneCP5_PSWeights.json', '../../configs/sample_configs/skimmed_bkg/skimmed_bkg_2018_TTJetsDiLept.json', '../../configs/sample_configs/skimmed_bkg/skimmed_bkg_2018_Top.json', '../../configs/sample_configs/skimmed_bkg/skimmed_bkg_2018_Triboson.json', '../../configs/sample_configs/skimmed_bkg/skimmed_bkg_2018_WJets.json', '../../configs/sample_configs/skimmed_bkg/skimmed_bkg_2018_ZJets.json']\n"
     ]
    }
   ],
   "source": [
    "bkg_configs = glob.glob(\"../../configs/sample_configs/skimmed_bkg/skimmed_bkg*.json\")\n",
    "\n",
    "print(bkg_configs)"
   ]
  },
  {
   "cell_type": "code",
   "execution_count": 7,
   "id": "f7af452c-6938-4868-8307-bd0f6b2e330d",
   "metadata": {
    "scrolled": true
   },
   "outputs": [
    {
     "name": "stdout",
     "output_type": "stream",
     "text": [
      "bkg_2018_DY\n",
      "bkg_2018_Diboson\n",
      "bkg_2018_QCD_TuneCP5_PSWeights\n",
      "bkg_2018_TTJetsDiLept\n",
      "bkg_2018_Top\n"
     ]
    },
    {
     "data": {
      "application/vnd.jupyter.widget-view+json": {
       "model_id": "cab56d6ab3db481e99cbaaec77a0dc1a",
       "version_major": 2,
       "version_minor": 0
      },
      "text/plain": [
       "Output()"
      ]
     },
     "metadata": {},
     "output_type": "display_data"
    },
    {
     "data": {
      "text/html": [
       "<pre style=\"white-space:pre;overflow-x:auto;line-height:normal;font-family:Menlo,'DejaVu Sans Mono',consolas,'Courier New',monospace\"></pre>\n"
      ],
      "text/plain": []
     },
     "metadata": {},
     "output_type": "display_data"
    },
    {
     "data": {
      "text/html": [
       "<pre style=\"white-space:pre;overflow-x:auto;line-height:normal;font-family:Menlo,'DejaVu Sans Mono',consolas,'Courier New',monospace\">\n",
       "</pre>\n"
      ],
      "text/plain": [
       "\n"
      ]
     },
     "metadata": {},
     "output_type": "display_data"
    },
    {
     "data": {
      "application/vnd.jupyter.widget-view+json": {
       "model_id": "ebb6a698f17d400694292dede4830d28",
       "version_major": 2,
       "version_minor": 0
      },
      "text/plain": [
       "Output()"
      ]
     },
     "metadata": {},
     "output_type": "display_data"
    },
    {
     "name": "stdout",
     "output_type": "stream",
     "text": [
      "BDT Pass: 0/12\n",
      "BDT Pass: 0/22\n",
      "BDT Pass: 0/24\n",
      "BDT Pass: 0/17\n",
      "BDT Pass: 0/9\n",
      "BDT Pass: 0/15\n",
      "BDT Pass: 0/22\n",
      "BDT Pass: 0/9\n",
      "BDT Pass: 0/6\n",
      "BDT Pass: 0/29\n",
      "BDT Pass: 0/6\n",
      "BDT Pass: 0/3\n",
      "BDT Pass: 0/23BDT Pass: 0/26\n",
      "\n",
      "BDT Pass: 0/18\n",
      "BDT Pass: 0/29\n",
      "BDT Pass: 0/6\n",
      "BDT Pass: 0/7\n",
      "BDT Pass: 0/20\n",
      "BDT Pass: 0/28\n",
      "BDT Pass: 0/30\n",
      "BDT Pass: 0/34\n",
      "BDT Pass: 0/28\n",
      "BDT Pass: 0/23\n",
      "BDT Pass: 0/31\n",
      "BDT Pass: 0/25\n",
      "BDT Pass: 0/17\n",
      "BDT Pass: 0/7\n",
      "BDT Pass: 0/24\n",
      "BDT Pass: 0/10\n",
      "BDT Pass: 0/13\n",
      "BDT Pass: 0/13\n",
      "BDT Pass: 0/17\n",
      "BDT Pass: 0/53\n",
      "BDT Pass: 0/52\n",
      "BDT Pass: 0/42\n",
      "BDT Pass: 1/56\n",
      "BDT Pass: 0/5\n",
      "BDT Pass: 0/14\n",
      "BDT Pass: 0/7\n",
      "BDT Pass: 0/20\n",
      "BDT Pass: 0/6\n",
      "BDT Pass: 0/4\n",
      "BDT Pass: 0/40\n",
      "BDT Pass: 0/43\n",
      "BDT Pass: 0/47\n",
      "BDT Pass: 0/10\n",
      "BDT Pass: 0/32\n",
      "BDT Pass: 0/9\n",
      "BDT Pass: 0/6\n",
      "BDT Pass: 0/7\n",
      "BDT Pass: 0/8\n",
      "BDT Pass: 0/24\n",
      "BDT Pass: 0/51\n",
      "BDT Pass: 0/39\n",
      "BDT Pass: 0/31\n",
      "BDT Pass: 0/23\n",
      "BDT Pass: 0/49\n",
      "BDT Pass: 0/3\n",
      "BDT Pass: 0/6\n",
      "BDT Pass: 0/9\n",
      "BDT Pass: 0/5\n",
      "BDT Pass: 0/11\n",
      "BDT Pass: 0/8\n",
      "BDT Pass: 0/42\n",
      "BDT Pass: 0/35\n",
      "BDT Pass: 0/8\n",
      "BDT Pass: 0/40\n",
      "BDT Pass: 0/35\n",
      "BDT Pass: 0/22\n",
      "BDT Pass: 0/8\n",
      "BDT Pass: 0/10\n",
      "BDT Pass: 0/8\n",
      "BDT Pass: 0/8\n",
      "BDT Pass: 0/5\n",
      "BDT Pass: 0/26\n",
      "BDT Pass: 0/41\n",
      "BDT Pass: 0/30\n",
      "BDT Pass: 0/37\n",
      "BDT Pass: 0/20\n",
      "BDT Pass: 0/12\n",
      "BDT Pass: 0/10\n",
      "BDT Pass: 0/5\n",
      "BDT Pass: 0/11\n",
      "BDT Pass: 0/10\n",
      "BDT Pass: 0/7\n",
      "BDT Pass: 0/40\n",
      "BDT Pass: 0/7\n",
      "BDT Pass: 0/40\n",
      "BDT Pass: 0/33\n",
      "BDT Pass: 0/50\n",
      "BDT Pass: 0/18\n",
      "BDT Pass: 0/23\n",
      "BDT Pass: 0/12\n",
      "BDT Pass: 0/8\n",
      "BDT Pass: 0/15\n",
      "BDT Pass: 0/7\n"
     ]
    },
    {
     "data": {
      "text/html": [
       "<pre style=\"white-space:pre;overflow-x:auto;line-height:normal;font-family:Menlo,'DejaVu Sans Mono',consolas,'Courier New',monospace\"></pre>\n"
      ],
      "text/plain": []
     },
     "metadata": {},
     "output_type": "display_data"
    },
    {
     "data": {
      "text/html": [
       "<pre style=\"white-space:pre;overflow-x:auto;line-height:normal;font-family:Menlo,'DejaVu Sans Mono',consolas,'Courier New',monospace\">\n",
       "</pre>\n"
      ],
      "text/plain": [
       "\n"
      ]
     },
     "metadata": {},
     "output_type": "display_data"
    },
    {
     "name": "stdout",
     "output_type": "stream",
     "text": [
      "Runtime: 2.42 minutes\n",
      "bkg_2018_Triboson\n"
     ]
    },
    {
     "data": {
      "application/vnd.jupyter.widget-view+json": {
       "model_id": "0a97e61e14da44f5ae20ae8f4ef6121a",
       "version_major": 2,
       "version_minor": 0
      },
      "text/plain": [
       "Output()"
      ]
     },
     "metadata": {},
     "output_type": "display_data"
    },
    {
     "data": {
      "text/html": [
       "<pre style=\"white-space:pre;overflow-x:auto;line-height:normal;font-family:Menlo,'DejaVu Sans Mono',consolas,'Courier New',monospace\"></pre>\n"
      ],
      "text/plain": []
     },
     "metadata": {},
     "output_type": "display_data"
    },
    {
     "data": {
      "text/html": [
       "<pre style=\"white-space:pre;overflow-x:auto;line-height:normal;font-family:Menlo,'DejaVu Sans Mono',consolas,'Courier New',monospace\">\n",
       "</pre>\n"
      ],
      "text/plain": [
       "\n"
      ]
     },
     "metadata": {},
     "output_type": "display_data"
    },
    {
     "data": {
      "application/vnd.jupyter.widget-view+json": {
       "model_id": "37607808636745e0975d2a83fd53a14f",
       "version_major": 2,
       "version_minor": 0
      },
      "text/plain": [
       "Output()"
      ]
     },
     "metadata": {},
     "output_type": "display_data"
    },
    {
     "name": "stdout",
     "output_type": "stream",
     "text": [
      "BDT Pass: 0/35\n",
      "BDT Pass: 0/13\n",
      "BDT Pass: 0/26\n",
      "BDT Pass: 0/18\n"
     ]
    },
    {
     "data": {
      "text/html": [
       "<pre style=\"white-space:pre;overflow-x:auto;line-height:normal;font-family:Menlo,'DejaVu Sans Mono',consolas,'Courier New',monospace\"></pre>\n"
      ],
      "text/plain": []
     },
     "metadata": {},
     "output_type": "display_data"
    },
    {
     "data": {
      "text/html": [
       "<pre style=\"white-space:pre;overflow-x:auto;line-height:normal;font-family:Menlo,'DejaVu Sans Mono',consolas,'Courier New',monospace\">\n",
       "</pre>\n"
      ],
      "text/plain": [
       "\n"
      ]
     },
     "metadata": {},
     "output_type": "display_data"
    },
    {
     "name": "stdout",
     "output_type": "stream",
     "text": [
      "Runtime: 0.16 minutes\n",
      "bkg_2018_WJets\n"
     ]
    },
    {
     "data": {
      "application/vnd.jupyter.widget-view+json": {
       "model_id": "dee6945e9add42b48f5baa770da1e02e",
       "version_major": 2,
       "version_minor": 0
      },
      "text/plain": [
       "Output()"
      ]
     },
     "metadata": {},
     "output_type": "display_data"
    },
    {
     "data": {
      "text/html": [
       "<pre style=\"white-space:pre;overflow-x:auto;line-height:normal;font-family:Menlo,'DejaVu Sans Mono',consolas,'Courier New',monospace\"></pre>\n"
      ],
      "text/plain": []
     },
     "metadata": {},
     "output_type": "display_data"
    },
    {
     "data": {
      "text/html": [
       "<pre style=\"white-space:pre;overflow-x:auto;line-height:normal;font-family:Menlo,'DejaVu Sans Mono',consolas,'Courier New',monospace\">\n",
       "</pre>\n"
      ],
      "text/plain": [
       "\n"
      ]
     },
     "metadata": {},
     "output_type": "display_data"
    },
    {
     "data": {
      "application/vnd.jupyter.widget-view+json": {
       "model_id": "8a3c92cf814143a59241dc4869f96eb3",
       "version_major": 2,
       "version_minor": 0
      },
      "text/plain": [
       "Output()"
      ]
     },
     "metadata": {},
     "output_type": "display_data"
    },
    {
     "name": "stdout",
     "output_type": "stream",
     "text": [
      "BDT Pass: 0/28\n",
      "BDT Pass: 0/151\n",
      "BDT Pass: 3/487\n",
      "\n",
      "BDT Pass: 0/255\n",
      "BDT Pass: 0/130\n",
      "BDT Pass: 0/270\n",
      "BDT Pass: 0/273\n",
      "BDT Pass: 0/280\n",
      "BDT Pass: 0/100\n",
      "BDT Pass: 0/262\n",
      "BDT Pass: 0/271\n",
      "BDT Pass: 0/137\n",
      "BDT Pass: 0/141\n",
      "BDT Pass: 0/526\n",
      "BDT Pass: 0/1160\n",
      "BDT Pass: 0/319\n",
      "BDT Pass: 1/389\n",
      "BDT Pass: 0/1086\n",
      "BDT Pass: 0/365\n",
      "BDT Pass: 0/367\n",
      "BDT Pass: 1/321\n",
      "BDT Pass: 0/346\n",
      "BDT Pass: 0/1369\n",
      "BDT Pass: 3/2248\n",
      "BDT Pass: 0/860\n",
      "BDT Pass: 5/2752\n",
      "BDT Pass: 5/2786\n",
      "BDT Pass: 1/333\n",
      "BDT Pass: 0/348\n",
      "BDT Pass: 0/355\n",
      "BDT Pass: 0/359\n",
      "BDT Pass: 1/1480\n",
      "BDT Pass: 1/236\n",
      "BDT Pass: 3/2781\n",
      "BDT Pass: 0/190\n",
      "BDT Pass: 3/2806\n",
      "BDT Pass: 1/223\n",
      "BDT Pass: 0/371\n",
      "BDT Pass: 2/333\n",
      "BDT Pass: 0/326\n",
      "BDT Pass: 0/687\n"
     ]
    },
    {
     "data": {
      "text/html": [
       "<pre style=\"white-space:pre;overflow-x:auto;line-height:normal;font-family:Menlo,'DejaVu Sans Mono',consolas,'Courier New',monospace\"></pre>\n"
      ],
      "text/plain": []
     },
     "metadata": {},
     "output_type": "display_data"
    },
    {
     "data": {
      "text/html": [
       "<pre style=\"white-space:pre;overflow-x:auto;line-height:normal;font-family:Menlo,'DejaVu Sans Mono',consolas,'Courier New',monospace\">\n",
       "</pre>\n"
      ],
      "text/plain": [
       "\n"
      ]
     },
     "metadata": {},
     "output_type": "display_data"
    },
    {
     "name": "stdout",
     "output_type": "stream",
     "text": [
      "Runtime: 1.80 minutes\n",
      "bkg_2018_ZJets\n"
     ]
    },
    {
     "data": {
      "application/vnd.jupyter.widget-view+json": {
       "model_id": "7f416d5996e54120b372ed5c40b45e82",
       "version_major": 2,
       "version_minor": 0
      },
      "text/plain": [
       "Output()"
      ]
     },
     "metadata": {},
     "output_type": "display_data"
    },
    {
     "data": {
      "text/html": [
       "<pre style=\"white-space:pre;overflow-x:auto;line-height:normal;font-family:Menlo,'DejaVu Sans Mono',consolas,'Courier New',monospace\"></pre>\n"
      ],
      "text/plain": []
     },
     "metadata": {},
     "output_type": "display_data"
    },
    {
     "data": {
      "text/html": [
       "<pre style=\"white-space:pre;overflow-x:auto;line-height:normal;font-family:Menlo,'DejaVu Sans Mono',consolas,'Courier New',monospace\">\n",
       "</pre>\n"
      ],
      "text/plain": [
       "\n"
      ]
     },
     "metadata": {},
     "output_type": "display_data"
    },
    {
     "data": {
      "application/vnd.jupyter.widget-view+json": {
       "model_id": "c27cf03c3c23411eadebad2a3e1f11e9",
       "version_major": 2,
       "version_minor": 0
      },
      "text/plain": [
       "Output()"
      ]
     },
     "metadata": {},
     "output_type": "display_data"
    },
    {
     "name": "stdout",
     "output_type": "stream",
     "text": [
      "BDT Pass: 0/42\n",
      "BDT Pass: 0/550\n",
      "\n",
      "BDT Pass: 0/393\n",
      "BDT Pass: 0/203\n",
      "BDT Pass: 1/391\n",
      "BDT Pass: 0/237\n",
      "BDT Pass: 1/2489\n",
      "BDT Pass: 1/3355\n",
      "BDT Pass: 0/5643\n",
      "BDT Pass: 4/5546\n",
      "BDT Pass: 1/4407\n",
      "BDT Pass: 0/7\n",
      "BDT Pass: 3/2605\n",
      "BDT Pass: 0/2630\n",
      "BDT Pass: 0/528\n",
      "BDT Pass: 1/2308\n",
      "BDT Pass: 0/2250\n",
      "BDT Pass: 0/1006\n",
      "BDT Pass: 3/3428\n",
      "BDT Pass: 2/2920\n",
      "BDT Pass: 2/3020\n"
     ]
    },
    {
     "data": {
      "text/html": [
       "<pre style=\"white-space:pre;overflow-x:auto;line-height:normal;font-family:Menlo,'DejaVu Sans Mono',consolas,'Courier New',monospace\"></pre>\n"
      ],
      "text/plain": []
     },
     "metadata": {},
     "output_type": "display_data"
    },
    {
     "data": {
      "text/html": [
       "<pre style=\"white-space:pre;overflow-x:auto;line-height:normal;font-family:Menlo,'DejaVu Sans Mono',consolas,'Courier New',monospace\">\n",
       "</pre>\n"
      ],
      "text/plain": [
       "\n"
      ]
     },
     "metadata": {},
     "output_type": "display_data"
    },
    {
     "name": "stdout",
     "output_type": "stream",
     "text": [
      "Runtime: 1.70 minutes\n"
     ]
    }
   ],
   "source": [
    "runAnalyzer = False\n",
    "\n",
    "for bkg in bkg_configs:\n",
    "    process = bkg.split('/')[-1].split('.json')[0].split('skimmed_')[-1]\n",
    "    print(process)\n",
    "\n",
    "    if 'TTJetsDiLept' in bkg: # currently not available ntuples\n",
    "        continue\n",
    "\n",
    "    if 'Top' in bkg:\n",
    "        runAnalyzer = True\n",
    "\n",
    "    if runAnalyzer:\n",
    "        test = Analyzer(bkg,histos_config,cuts_config) \n",
    "            \n",
    "        t1 = time.time()\n",
    "        out = test.process(execr='futures')\n",
    "        t2 = time.time()\n",
    "            \n",
    "        print(\"Runtime: {:.2f} minutes\".format((t2-t1)/60))\n",
    "        util.save(out,f\"{outdir}/{process}_SR_BDT_v5_vars_sig_v2_BestVertex.coffea\")\n",
    "        del out, test"
   ]
  }
 ],
 "metadata": {
  "kernelspec": {
   "display_name": "Python 3 (ipykernel)",
   "language": "python",
   "name": "python3"
  },
  "language_info": {
   "codemirror_mode": {
    "name": "ipython",
    "version": 3
   },
   "file_extension": ".py",
   "mimetype": "text/x-python",
   "name": "python",
   "nbconvert_exporter": "python",
   "pygments_lexer": "ipython3",
   "version": "3.8.17"
  }
 },
 "nbformat": 4,
 "nbformat_minor": 5
}

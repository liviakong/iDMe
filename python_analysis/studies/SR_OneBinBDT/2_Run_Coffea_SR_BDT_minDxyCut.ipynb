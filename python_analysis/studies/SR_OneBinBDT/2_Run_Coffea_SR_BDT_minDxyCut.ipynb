{
 "cells": [
  {
   "cell_type": "code",
   "execution_count": 20,
   "id": "e669ba8e-d8ae-45e9-bdac-9dabb1da3557",
   "metadata": {},
   "outputs": [
    {
     "name": "stdout",
     "output_type": "stream",
     "text": [
      "The autoreload extension is already loaded. To reload it, use:\n",
      "  %reload_ext autoreload\n"
     ]
    }
   ],
   "source": [
    "%load_ext autoreload\n",
    "%autoreload 2\n",
    "import numpy as np\n",
    "import matplotlib.pyplot as plt\n",
    "import awkward as ak\n",
    "import sys\n",
    "sys.path.append(\"../../analysisTools/\")\n",
    "from analysisTools import Analyzer\n",
    "from analysisTools import loadSchema\n",
    "import analysisTools as tools\n",
    "import analysisSubroutines as routines\n",
    "import importlib\n",
    "import coffea.util as util\n",
    "import time\n",
    "import json\n",
    "import os\n",
    "import glob"
   ]
  },
  {
   "cell_type": "code",
   "execution_count": 21,
   "id": "c59aff4f-6762-4e07-957a-349d22652fad",
   "metadata": {},
   "outputs": [],
   "source": [
    "outdir = \"./coffea/\"\n",
    "if not os.path.isdir(outdir):\n",
    "    os.mkdir(outdir)"
   ]
  },
  {
   "cell_type": "code",
   "execution_count": 22,
   "id": "73201266-7873-48cb-b6b9-ea70e7703e5b",
   "metadata": {},
   "outputs": [],
   "source": [
    "outdir = \"./coffea/skimmed/\"\n",
    "if not os.path.isdir(outdir):\n",
    "    os.mkdir(outdir)"
   ]
  },
  {
   "cell_type": "code",
   "execution_count": 23,
   "id": "c72681ac-a0f5-402a-8a80-d5f17505b69c",
   "metadata": {},
   "outputs": [],
   "source": [
    "cuts_config = \"./cut_configs/BDT_v5_vars_sig_v2_minDxyCut.py\"\n",
    "\n",
    "histos_config = \"./histo_configs/displacement.py\""
   ]
  },
  {
   "cell_type": "markdown",
   "id": "d248ae59-1cd0-45e3-91a1-3462012c6a27",
   "metadata": {},
   "source": [
    "### Signal"
   ]
  },
  {
   "cell_type": "code",
   "execution_count": 17,
   "id": "e0ecc4e0-151c-408b-b400-381d1e1a973e",
   "metadata": {},
   "outputs": [],
   "source": [
    "# sample_config = \"./sample_configs/skimmed_signal_v4_2018_aEM.json\"\n",
    "\n",
    "sample_config = '/uscms_data/d3/kyungmip/CMSSW_10_6_26/src/iDMe/python_analysis/configs/sample_configs/skimmed_signal/skimmed_sig_v2_mA_3m1_2018_aEM.json'"
   ]
  },
  {
   "cell_type": "code",
   "execution_count": 18,
   "id": "02537ff8-2bb2-4752-bed0-a504affad525",
   "metadata": {
    "scrolled": true
   },
   "outputs": [
    {
     "data": {
      "application/vnd.jupyter.widget-view+json": {
       "model_id": "f4bd4469c98b4d6d8d32ff845cb831b4",
       "version_major": 2,
       "version_minor": 0
      },
      "text/plain": [
       "Output()"
      ]
     },
     "metadata": {},
     "output_type": "display_data"
    },
    {
     "name": "stdout",
     "output_type": "stream",
     "text": [
      "BDT Pass: 711/817BDT Pass: 625/713\n",
      "\n",
      "BDT Pass: 1851/2269\n",
      "BDT Pass: 2280/2583\n",
      "BDT Pass: 565/630\n",
      "BDT Pass: 331/370\n",
      "BDT Pass: 1673/1886\n",
      "BDT Pass: 2116/2573\n",
      "BDT Pass: 209/239\n",
      "BDT Pass: 486/563\n",
      "BDT Pass: 528/646\n",
      "BDT Pass: 197/217\n",
      "BDT Pass: 667/737\n",
      "BDT Pass: 668/784\n",
      "BDT Pass: 180/208\n",
      "BDT Pass: 491/612\n",
      "BDT Pass: 532/588\n",
      "BDT Pass: 141/158\n",
      "BDT Pass: 492/541\n",
      "BDT Pass: 426/519\n",
      "BDT Pass: 521/565\n",
      "BDT Pass: 146/168\n",
      "BDT Pass: 10/12\n",
      "BDT Pass: 548/636\n",
      "BDT Pass: 111/135\n",
      "BDT Pass: 53/71\n",
      "BDT Pass: 21/48\n",
      "BDT Pass: 39/82\n",
      "BDT Pass: 57/103\n",
      "BDT Pass: 157/170\n",
      "BDT Pass: 226/232\n",
      "BDT Pass: 44/45\n",
      "BDT Pass: 548/603\n",
      "BDT Pass: 266/294\n",
      "BDT Pass: 194/205\n",
      "BDT Pass: 530/657\n",
      "BDT Pass: 405/445\n",
      "BDT Pass: 467/491\n",
      "BDT Pass: 254/275\n",
      "BDT Pass: 88/96\n",
      "BDT Pass: 358/412\n",
      "BDT Pass: 366/375\n",
      "BDT Pass: 406/451\n",
      "BDT Pass: 158/181\n",
      "BDT Pass: 398/438\n",
      "BDT Pass: 296/348\n",
      "BDT Pass: 87/92\n",
      "BDT Pass: 320/343\n",
      "BDT Pass: 306/334\n",
      "BDT Pass: 68/82BDT Pass: 177/199\n",
      "BDT Pass: 34/46\n",
      "BDT Pass: 254/294\n",
      "BDT Pass: 172/183\n",
      "BDT Pass: 215/243\n",
      "\n",
      "BDT Pass: 1314/1516\n",
      "BDT Pass: 1054/1340\n",
      "BDT Pass: 66/87\n",
      "BDT Pass: 163/217BDT Pass: 178/222\n",
      "\n",
      "BDT Pass: 2718/3043\n",
      "BDT Pass: 2628/3225\n"
     ]
    },
    {
     "data": {
      "text/html": [
       "<pre style=\"white-space:pre;overflow-x:auto;line-height:normal;font-family:Menlo,'DejaVu Sans Mono',consolas,'Courier New',monospace\"></pre>\n"
      ],
      "text/plain": []
     },
     "metadata": {},
     "output_type": "display_data"
    },
    {
     "data": {
      "text/html": [
       "<pre style=\"white-space:pre;overflow-x:auto;line-height:normal;font-family:Menlo,'DejaVu Sans Mono',consolas,'Courier New',monospace\">\n",
       "</pre>\n"
      ],
      "text/plain": [
       "\n"
      ]
     },
     "metadata": {},
     "output_type": "display_data"
    },
    {
     "name": "stdout",
     "output_type": "stream",
     "text": [
      "Runtime: 3.49 minutes\n"
     ]
    }
   ],
   "source": [
    "test = Analyzer(sample_config,histos_config,cuts_config, max_samples=-1) # run over all samples in the config\n",
    "\n",
    "t1 = time.time()\n",
    "out = test.process(execr='futures')\n",
    "t2 = time.time()\n",
    "\n",
    "print(\"Runtime: {:.2f} minutes\".format((t2-t1)/60))\n",
    "util.save(out,f\"{outdir}/signal_SR_BDT_v5_vars_sig_v2_minDxyCut_TrueVertex.coffea\")\n",
    "\n",
    "del out, test"
   ]
  },
  {
   "cell_type": "code",
   "execution_count": null,
   "id": "f63b4fd9-f9ba-4609-bd17-03610de4aeb9",
   "metadata": {},
   "outputs": [],
   "source": []
  },
  {
   "cell_type": "code",
   "execution_count": 19,
   "id": "11d947c4-eabb-4a2a-9d84-59e273fce335",
   "metadata": {
    "scrolled": true
   },
   "outputs": [
    {
     "data": {
      "application/vnd.jupyter.widget-view+json": {
       "model_id": "cbcf0c0dc66c497182be68c59fc3a508",
       "version_major": 2,
       "version_minor": 0
      },
      "text/plain": [
       "Output()"
      ]
     },
     "metadata": {},
     "output_type": "display_data"
    },
    {
     "name": "stdout",
     "output_type": "stream",
     "text": [
      "BDT Pass: 726/1367\n",
      "BDT Pass: 636/1303\n",
      "BDT Pass: 2316/3407\n",
      "BDT Pass: 1871/2886\n",
      "BDT Pass: 332/603\n",
      "BDT Pass: 568/808BDT Pass: 1692/2713\n",
      "BDT Pass: 2124/3645\n",
      "BDT Pass: 214/455\n",
      "BDT Pass: 493/834\n",
      "BDT Pass: 528/902\n",
      "BDT Pass: 679/1016\n",
      "BDT Pass: 676/1011\n",
      "BDT Pass: 200/379\n",
      "BDT Pass: 185/407\n",
      "BDT Pass: 145/313\n",
      "BDT Pass: 539/851\n",
      "BDT Pass: 493/931\n",
      "BDT Pass: 498/826\n",
      "BDT Pass: 147/294\n",
      "BDT Pass: 432/785\n",
      "BDT Pass: 527/746\n",
      "BDT Pass: 552/773\n",
      "BDT Pass: 11/51\n",
      "BDT Pass: 53/142\n",
      "BDT Pass: 111/198\n",
      "BDT Pass: 38/155\n",
      "BDT Pass: 22/220\n",
      "BDT Pass: 56/178\n",
      "BDT Pass: 161/314\n",
      "BDT Pass: 230/328\n",
      "BDT Pass: 45/64\n",
      "BDT Pass: 272/639\n",
      "BDT Pass: 556/944\n",
      "BDT Pass: 203/429\n",
      "BDT Pass: 535/982\n",
      "BDT Pass: 475/697\n",
      "BDT Pass: 407/633\n",
      "BDT Pass: 257/612\n",
      "BDT Pass: 416/704\n",
      "BDT Pass: 366/644\n",
      "BDT Pass: 92/211\n",
      "BDT Pass: 369/538\n",
      "BDT Pass: 403/634\n",
      "BDT Pass: 402/678\n",
      "BDT Pass: 166/499\n",
      "BDT Pass: 299/577\n",
      "BDT Pass: 92/220\n",
      "BDT Pass: 307/488BDT Pass: 325/505\n",
      "\n",
      "BDT Pass: 71/247\n",
      "BDT Pass: 181/382BDT Pass: 256/467\n",
      "BDT Pass: 178/328BDT Pass: 35/146\n",
      "BDT Pass: 218/370\n",
      "BDT Pass: 450/798\n",
      "BDT Pass: 1336/1997BDT Pass: 1069/1720\n",
      "BDT Pass: 73/307\n",
      "BDT Pass: 163/382\n",
      "\n",
      "BDT Pass: 977/1920\n",
      "BDT Pass: 2631/4459\n",
      "BDT Pass: 2769/4400\n"
     ]
    },
    {
     "data": {
      "text/html": [
       "<pre style=\"white-space:pre;overflow-x:auto;line-height:normal;font-family:Menlo,'DejaVu Sans Mono',consolas,'Courier New',monospace\"></pre>\n"
      ],
      "text/plain": []
     },
     "metadata": {},
     "output_type": "display_data"
    },
    {
     "data": {
      "text/html": [
       "<pre style=\"white-space:pre;overflow-x:auto;line-height:normal;font-family:Menlo,'DejaVu Sans Mono',consolas,'Courier New',monospace\">\n",
       "</pre>\n"
      ],
      "text/plain": [
       "\n"
      ]
     },
     "metadata": {},
     "output_type": "display_data"
    },
    {
     "name": "stdout",
     "output_type": "stream",
     "text": [
      "Runtime: 3.23 minutes\n"
     ]
    }
   ],
   "source": [
    "test = Analyzer(sample_config,histos_config,cuts_config, max_samples=-1) # run over all samples in the config\n",
    "\n",
    "t1 = time.time()\n",
    "out = test.process(execr='futures')\n",
    "t2 = time.time()\n",
    "\n",
    "print(\"Runtime: {:.2f} minutes\".format((t2-t1)/60))\n",
    "util.save(out,f\"{outdir}/signal_SR_BDT_v5_vars_sig_v2_minDxyCut_BestVertex.coffea\")\n",
    "\n",
    "del out, test"
   ]
  },
  {
   "cell_type": "markdown",
   "id": "97b2ff87-c610-4e5a-9d3d-0255d980dbe3",
   "metadata": {},
   "source": [
    "### Background"
   ]
  },
  {
   "cell_type": "code",
   "execution_count": 24,
   "id": "c65bc29b-bfda-48ed-84d4-7ea8f8eded39",
   "metadata": {},
   "outputs": [
    {
     "name": "stdout",
     "output_type": "stream",
     "text": [
      "['../../configs/sample_configs/skimmed_bkg/skimmed_bkg_2018_DY.json', '../../configs/sample_configs/skimmed_bkg/skimmed_bkg_2018_Diboson.json', '../../configs/sample_configs/skimmed_bkg/skimmed_bkg_2018_QCD_TuneCP5_PSWeights.json', '../../configs/sample_configs/skimmed_bkg/skimmed_bkg_2018_TTJetsDiLept.json', '../../configs/sample_configs/skimmed_bkg/skimmed_bkg_2018_Top.json', '../../configs/sample_configs/skimmed_bkg/skimmed_bkg_2018_Triboson.json', '../../configs/sample_configs/skimmed_bkg/skimmed_bkg_2018_WJets.json', '../../configs/sample_configs/skimmed_bkg/skimmed_bkg_2018_ZJets.json']\n"
     ]
    }
   ],
   "source": [
    "bkg_configs = glob.glob(\"../../configs/sample_configs/skimmed_bkg/skimmed_bkg*.json\")\n",
    "\n",
    "print(bkg_configs)"
   ]
  },
  {
   "cell_type": "code",
   "execution_count": 25,
   "id": "f7af452c-6938-4868-8307-bd0f6b2e330d",
   "metadata": {
    "scrolled": true
   },
   "outputs": [
    {
     "name": "stdout",
     "output_type": "stream",
     "text": [
      "bkg_2018_DY\n"
     ]
    },
    {
     "data": {
      "application/vnd.jupyter.widget-view+json": {
       "model_id": "5cfce7950ee142af93b37e3ee00572de",
       "version_major": 2,
       "version_minor": 0
      },
      "text/plain": [
       "Output()"
      ]
     },
     "metadata": {},
     "output_type": "display_data"
    },
    {
     "name": "stderr",
     "output_type": "stream",
     "text": [
      "/uscms/home/kyungmip/nobackup/miniconda3/envs/coffea/lib/python3.8/site-packages/awkward/_connect/_numpy.py:195: RuntimeWarning: invalid value encountered in divide\n",
      "  result = getattr(ufunc, method)(\n"
     ]
    },
    {
     "name": "stdout",
     "output_type": "stream",
     "text": [
      "BDT Pass: 0/1\n",
      "BDT Pass: 0/2\n"
     ]
    },
    {
     "data": {
      "text/html": [
       "<pre style=\"white-space:pre;overflow-x:auto;line-height:normal;font-family:Menlo,'DejaVu Sans Mono',consolas,'Courier New',monospace\"></pre>\n"
      ],
      "text/plain": []
     },
     "metadata": {},
     "output_type": "display_data"
    },
    {
     "data": {
      "text/html": [
       "<pre style=\"white-space:pre;overflow-x:auto;line-height:normal;font-family:Menlo,'DejaVu Sans Mono',consolas,'Courier New',monospace\">\n",
       "</pre>\n"
      ],
      "text/plain": [
       "\n"
      ]
     },
     "metadata": {},
     "output_type": "display_data"
    },
    {
     "name": "stdout",
     "output_type": "stream",
     "text": [
      "Runtime: 0.43 minutes\n",
      "bkg_2018_Diboson\n"
     ]
    },
    {
     "data": {
      "application/vnd.jupyter.widget-view+json": {
       "model_id": "80af14fc59124052bc92a2bd076a4120",
       "version_major": 2,
       "version_minor": 0
      },
      "text/plain": [
       "Output()"
      ]
     },
     "metadata": {},
     "output_type": "display_data"
    },
    {
     "name": "stdout",
     "output_type": "stream",
     "text": [
      "BDT Pass: 0/17\n",
      "BDT Pass: 0/17\n",
      "BDT Pass: 0/31\n",
      "BDT Pass: 0/22\n",
      "BDT Pass: 0/15\n",
      "BDT Pass: 0/6\n",
      "BDT Pass: 0/28\n",
      "BDT Pass: 0/13\n"
     ]
    },
    {
     "data": {
      "text/html": [
       "<pre style=\"white-space:pre;overflow-x:auto;line-height:normal;font-family:Menlo,'DejaVu Sans Mono',consolas,'Courier New',monospace\"></pre>\n"
      ],
      "text/plain": []
     },
     "metadata": {},
     "output_type": "display_data"
    },
    {
     "data": {
      "text/html": [
       "<pre style=\"white-space:pre;overflow-x:auto;line-height:normal;font-family:Menlo,'DejaVu Sans Mono',consolas,'Courier New',monospace\">\n",
       "</pre>\n"
      ],
      "text/plain": [
       "\n"
      ]
     },
     "metadata": {},
     "output_type": "display_data"
    },
    {
     "name": "stdout",
     "output_type": "stream",
     "text": [
      "Runtime: 0.31 minutes\n",
      "bkg_2018_QCD_TuneCP5_PSWeights\n"
     ]
    },
    {
     "data": {
      "application/vnd.jupyter.widget-view+json": {
       "model_id": "30c8dd6e88a44b809e07123d28ee52cd",
       "version_major": 2,
       "version_minor": 0
      },
      "text/plain": [
       "Output()"
      ]
     },
     "metadata": {},
     "output_type": "display_data"
    },
    {
     "name": "stdout",
     "output_type": "stream",
     "text": [
      "BDT Pass: 0/1\n",
      "BDT Pass: 0/1\n"
     ]
    },
    {
     "data": {
      "text/html": [
       "<pre style=\"white-space:pre;overflow-x:auto;line-height:normal;font-family:Menlo,'DejaVu Sans Mono',consolas,'Courier New',monospace\"></pre>\n"
      ],
      "text/plain": []
     },
     "metadata": {},
     "output_type": "display_data"
    },
    {
     "data": {
      "text/html": [
       "<pre style=\"white-space:pre;overflow-x:auto;line-height:normal;font-family:Menlo,'DejaVu Sans Mono',consolas,'Courier New',monospace\">\n",
       "</pre>\n"
      ],
      "text/plain": [
       "\n"
      ]
     },
     "metadata": {},
     "output_type": "display_data"
    },
    {
     "name": "stdout",
     "output_type": "stream",
     "text": [
      "Runtime: 1.43 minutes\n",
      "bkg_2018_TTJetsDiLept\n",
      "bkg_2018_Top\n"
     ]
    },
    {
     "data": {
      "application/vnd.jupyter.widget-view+json": {
       "model_id": "2bbd11919b51455ebb29b776a17e428b",
       "version_major": 2,
       "version_minor": 0
      },
      "text/plain": [
       "Output()"
      ]
     },
     "metadata": {},
     "output_type": "display_data"
    },
    {
     "name": "stdout",
     "output_type": "stream",
     "text": [
      "BDT Pass: 0/4\n",
      "BDT Pass: 0/7\n",
      "\n",
      "BDT Pass: 0/1\n",
      "BDT Pass: 0/1\n",
      "BDT Pass: 0/1\n",
      "BDT Pass: 0/5\n",
      "BDT Pass: 0/4\n",
      "BDT Pass: 0/5\n",
      "BDT Pass: 0/6\n",
      "BDT Pass: 0/6\n",
      "BDT Pass: 0/3\n",
      "BDT Pass: 0/5\n",
      "BDT Pass: 0/1\n",
      "BDT Pass: 0/4\n",
      "BDT Pass: 0/6\n",
      "BDT Pass: 0/6\n",
      "BDT Pass: 0/2\n",
      "\n",
      "BDT Pass: 0/5\n",
      "BDT Pass: 0/7\n",
      "BDT Pass: 0/2\n",
      "BDT Pass: 0/3\n",
      "BDT Pass: 0/1\n",
      "BDT Pass: 0/2\n",
      "BDT Pass: 0/2\n",
      "BDT Pass: 0/3\n",
      "BDT Pass: 0/15\n",
      "BDT Pass: 0/6\n",
      "BDT Pass: 0/9\n",
      "BDT Pass: 0/11\n",
      "BDT Pass: 0/2\n",
      "BDT Pass: 0/1\n",
      "BDT Pass: 0/4\n",
      "BDT Pass: 0/5\n",
      "BDT Pass: 0/2\n",
      "BDT Pass: 0/6\n",
      "BDT Pass: 0/8\n",
      "BDT Pass: 0/2\n",
      "BDT Pass: 0/4\n",
      "BDT Pass: 0/4\n",
      "BDT Pass: 0/2\n",
      "BDT Pass: 0/5\n",
      "BDT Pass: 0/14\n",
      "BDT Pass: 0/9\n",
      "BDT Pass: 0/3\n",
      "BDT Pass: 0/2\n",
      "BDT Pass: 0/9\n",
      "BDT Pass: 0/1\n",
      "BDT Pass: 0/2\n",
      "BDT Pass: 0/2\n",
      "BDT Pass: 0/2\n",
      "BDT Pass: 0/3\n",
      "BDT Pass: 0/6\n",
      "BDT Pass: 0/9\n",
      "BDT Pass: 0/5\n",
      "BDT Pass: 0/3\n",
      "BDT Pass: 0/2\n",
      "BDT Pass: 0/3\n",
      "BDT Pass: 0/1\n",
      "BDT Pass: 0/4\n",
      "BDT Pass: 0/7\n",
      "BDT Pass: 0/8\n",
      "BDT Pass: 0/11\n",
      "BDT Pass: 0/4\n",
      "BDT Pass: 0/3\n",
      "BDT Pass: 0/2\n",
      "BDT Pass: 0/1\n",
      "BDT Pass: 0/2\n",
      "BDT Pass: 0/2\n",
      "BDT Pass: 0/1\n",
      "BDT Pass: 0/10\n",
      "BDT Pass: 0/1\n",
      "BDT Pass: 0/6\n",
      "BDT Pass: 0/6\n",
      "BDT Pass: 0/6\n",
      "BDT Pass: 0/2\n",
      "BDT Pass: 0/3\n",
      "BDT Pass: 0/7\n"
     ]
    },
    {
     "data": {
      "text/html": [
       "<pre style=\"white-space:pre;overflow-x:auto;line-height:normal;font-family:Menlo,'DejaVu Sans Mono',consolas,'Courier New',monospace\"></pre>\n"
      ],
      "text/plain": []
     },
     "metadata": {},
     "output_type": "display_data"
    },
    {
     "data": {
      "text/html": [
       "<pre style=\"white-space:pre;overflow-x:auto;line-height:normal;font-family:Menlo,'DejaVu Sans Mono',consolas,'Courier New',monospace\">\n",
       "</pre>\n"
      ],
      "text/plain": [
       "\n"
      ]
     },
     "metadata": {},
     "output_type": "display_data"
    },
    {
     "name": "stdout",
     "output_type": "stream",
     "text": [
      "Runtime: 2.43 minutes\n",
      "bkg_2018_Triboson\n"
     ]
    },
    {
     "data": {
      "application/vnd.jupyter.widget-view+json": {
       "model_id": "0c9208347b5b4e01966f52f5498a2d1c",
       "version_major": 2,
       "version_minor": 0
      },
      "text/plain": [
       "Output()"
      ]
     },
     "metadata": {},
     "output_type": "display_data"
    },
    {
     "name": "stdout",
     "output_type": "stream",
     "text": [
      "BDT Pass: 0/5\n",
      "BDT Pass: 0/3\n",
      "BDT Pass: 0/4\n",
      "BDT Pass: 0/1\n"
     ]
    },
    {
     "data": {
      "text/html": [
       "<pre style=\"white-space:pre;overflow-x:auto;line-height:normal;font-family:Menlo,'DejaVu Sans Mono',consolas,'Courier New',monospace\"></pre>\n"
      ],
      "text/plain": []
     },
     "metadata": {},
     "output_type": "display_data"
    },
    {
     "data": {
      "text/html": [
       "<pre style=\"white-space:pre;overflow-x:auto;line-height:normal;font-family:Menlo,'DejaVu Sans Mono',consolas,'Courier New',monospace\">\n",
       "</pre>\n"
      ],
      "text/plain": [
       "\n"
      ]
     },
     "metadata": {},
     "output_type": "display_data"
    },
    {
     "name": "stdout",
     "output_type": "stream",
     "text": [
      "Runtime: 0.12 minutes\n",
      "bkg_2018_WJets\n"
     ]
    },
    {
     "data": {
      "application/vnd.jupyter.widget-view+json": {
       "model_id": "c83c4b4102fb48e2bb379a377f63e943",
       "version_major": 2,
       "version_minor": 0
      },
      "text/plain": [
       "Output()"
      ]
     },
     "metadata": {},
     "output_type": "display_data"
    },
    {
     "name": "stdout",
     "output_type": "stream",
     "text": [
      "BDT Pass: 0/6\n",
      "BDT Pass: 1/91\n",
      "BDT Pass: 0/17\n",
      "BDT Pass: 1/88\n",
      "BDT Pass: 0/15\n",
      "BDT Pass: 0/61\n",
      "BDT Pass: 0/47\n",
      "BDT Pass: 0/43\n",
      "BDT Pass: 0/40\n",
      "BDT Pass: 0/25\n",
      "BDT Pass: 0/34\n",
      "BDT Pass: 0/44\n",
      "BDT Pass: 0/16\n",
      "BDT Pass: 0/20\n",
      "BDT Pass: 1/95\n",
      "BDT Pass: 1/61\n",
      "BDT Pass: 0/183\n",
      "BDT Pass: 0/44\n",
      "BDT Pass: 1/204\n",
      "BDT Pass: 0/67\n",
      "BDT Pass: 0/56\n",
      "BDT Pass: 0/51\n",
      "BDT Pass: 0/67\n",
      "BDT Pass: 3/243\n",
      "BDT Pass: 4/400\n",
      "BDT Pass: 0/144\n",
      "BDT Pass: 5/496\n",
      "BDT Pass: 2/499\n",
      "BDT Pass: 2/62\n",
      "BDT Pass: 0/52\n",
      "BDT Pass: 0/50\n",
      "BDT Pass: 0/67\n",
      "BDT Pass: 0/249\n",
      "BDT Pass: 1/43\n",
      "BDT Pass: 2/443\n",
      "BDT Pass: 0/34\n",
      "\n",
      "BDT Pass: 1/25\n",
      "BDT Pass: 0/75\n",
      "BDT Pass: 1/47\n",
      "BDT Pass: 0/59\n",
      "BDT Pass: 1/109\n"
     ]
    },
    {
     "data": {
      "text/html": [
       "<pre style=\"white-space:pre;overflow-x:auto;line-height:normal;font-family:Menlo,'DejaVu Sans Mono',consolas,'Courier New',monospace\"></pre>\n"
      ],
      "text/plain": []
     },
     "metadata": {},
     "output_type": "display_data"
    },
    {
     "data": {
      "text/html": [
       "<pre style=\"white-space:pre;overflow-x:auto;line-height:normal;font-family:Menlo,'DejaVu Sans Mono',consolas,'Courier New',monospace\">\n",
       "</pre>\n"
      ],
      "text/plain": [
       "\n"
      ]
     },
     "metadata": {},
     "output_type": "display_data"
    },
    {
     "name": "stdout",
     "output_type": "stream",
     "text": [
      "Runtime: 1.90 minutes\n",
      "bkg_2018_ZJets\n"
     ]
    },
    {
     "data": {
      "application/vnd.jupyter.widget-view+json": {
       "model_id": "c098b88ef0fc4b6fb1cbb035ef8fe0ac",
       "version_major": 2,
       "version_minor": 0
      },
      "text/plain": [
       "Output()"
      ]
     },
     "metadata": {},
     "output_type": "display_data"
    },
    {
     "name": "stdout",
     "output_type": "stream",
     "text": [
      "BDT Pass: 0/11\n",
      "BDT Pass: 1/128\n",
      "BDT Pass: 0/129\n",
      "BDT Pass: 0/80\n",
      "BDT Pass: 0/51\n",
      "BDT Pass: 0/89\n",
      "BDT Pass: 0/62\n",
      "BDT Pass: 2/596\n",
      "BDT Pass: 2/860\n",
      "BDT Pass: 1/1428\n",
      "BDT Pass: 1/1407\n",
      "BDT Pass: 0/2\n",
      "BDT Pass: 1/1100\n",
      "BDT Pass: 3/654\n",
      "BDT Pass: 0/684\n",
      "BDT Pass: 0/126\n",
      "BDT Pass: 0/564\n",
      "BDT Pass: 1/255\n",
      "BDT Pass: 1/557\n",
      "BDT Pass: 3/867\n",
      "BDT Pass: 1/752\n",
      "BDT Pass: 2/796\n"
     ]
    },
    {
     "data": {
      "text/html": [
       "<pre style=\"white-space:pre;overflow-x:auto;line-height:normal;font-family:Menlo,'DejaVu Sans Mono',consolas,'Courier New',monospace\"></pre>\n"
      ],
      "text/plain": []
     },
     "metadata": {},
     "output_type": "display_data"
    },
    {
     "data": {
      "text/html": [
       "<pre style=\"white-space:pre;overflow-x:auto;line-height:normal;font-family:Menlo,'DejaVu Sans Mono',consolas,'Courier New',monospace\">\n",
       "</pre>\n"
      ],
      "text/plain": [
       "\n"
      ]
     },
     "metadata": {},
     "output_type": "display_data"
    },
    {
     "name": "stdout",
     "output_type": "stream",
     "text": [
      "Runtime: 1.83 minutes\n"
     ]
    }
   ],
   "source": [
    "for bkg in bkg_configs:\n",
    "    process = bkg.split('/')[-1].split('.json')[0].split('skimmed_')[-1]\n",
    "    print(process)\n",
    "\n",
    "    if 'TTJetsDiLept' in bkg: # currently not available ntuples\n",
    "        continue\n",
    "    \n",
    "    test = Analyzer(bkg,histos_config,cuts_config) \n",
    "        \n",
    "    t1 = time.time()\n",
    "    out = test.process(execr='futures')\n",
    "    t2 = time.time()\n",
    "        \n",
    "    print(\"Runtime: {:.2f} minutes\".format((t2-t1)/60))\n",
    "    util.save(out,f\"{outdir}/{process}_SR_BDT_v5_vars_sig_v2_minDxyCut_BestVertex.coffea\")\n",
    "    del out, test"
   ]
  },
  {
   "cell_type": "code",
   "execution_count": null,
   "id": "c6ff0d93-8d3e-4fa4-8297-d8bee6a34429",
   "metadata": {},
   "outputs": [],
   "source": []
  },
  {
   "cell_type": "code",
   "execution_count": null,
   "id": "fa30a166-da57-4731-bdbe-4a11f6383224",
   "metadata": {},
   "outputs": [],
   "source": []
  }
 ],
 "metadata": {
  "kernelspec": {
   "display_name": "Python 3 (ipykernel)",
   "language": "python",
   "name": "python3"
  },
  "language_info": {
   "codemirror_mode": {
    "name": "ipython",
    "version": 3
   },
   "file_extension": ".py",
   "mimetype": "text/x-python",
   "name": "python",
   "nbconvert_exporter": "python",
   "pygments_lexer": "ipython3",
   "version": "3.8.17"
  }
 },
 "nbformat": 4,
 "nbformat_minor": 5
}

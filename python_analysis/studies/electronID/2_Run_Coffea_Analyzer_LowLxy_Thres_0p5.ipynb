{
 "cells": [
  {
   "cell_type": "code",
   "execution_count": 7,
   "id": "e669ba8e-d8ae-45e9-bdac-9dabb1da3557",
   "metadata": {},
   "outputs": [
    {
     "name": "stdout",
     "output_type": "stream",
     "text": [
      "The autoreload extension is already loaded. To reload it, use:\n",
      "  %reload_ext autoreload\n"
     ]
    }
   ],
   "source": [
    "%load_ext autoreload\n",
    "%autoreload 2\n",
    "import numpy as np\n",
    "import matplotlib.pyplot as plt\n",
    "import awkward as ak\n",
    "import sys\n",
    "sys.path.append(\"../../analysisTools/\")\n",
    "from analysisTools import Analyzer\n",
    "from analysisTools import loadSchema\n",
    "import analysisTools as tools\n",
    "import analysisSubroutines as routines\n",
    "import importlib\n",
    "import coffea.util as util\n",
    "import time\n",
    "import json\n",
    "import os\n",
    "import glob"
   ]
  },
  {
   "cell_type": "code",
   "execution_count": 8,
   "id": "c59aff4f-6762-4e07-957a-349d22652fad",
   "metadata": {},
   "outputs": [],
   "source": [
    "outdir = \"./coffea/\"\n",
    "if not os.path.isdir(outdir):\n",
    "    os.mkdir(outdir)"
   ]
  },
  {
   "cell_type": "code",
   "execution_count": 9,
   "id": "73201266-7873-48cb-b6b9-ea70e7703e5b",
   "metadata": {},
   "outputs": [],
   "source": [
    "outdir = \"./coffea/skimmed/\"\n",
    "if not os.path.isdir(outdir):\n",
    "    os.mkdir(outdir)"
   ]
  },
  {
   "cell_type": "markdown",
   "id": "d90eb2c8-1882-4781-a242-44a5758376b4",
   "metadata": {},
   "source": [
    "## Low Lxy SR bin (Lxy <= 0.5)"
   ]
  },
  {
   "cell_type": "code",
   "execution_count": 10,
   "id": "c72681ac-a0f5-402a-8a80-d5f17505b69c",
   "metadata": {},
   "outputs": [],
   "source": [
    "cuts_config = \"./cut_configs/BDT_Lxy-low_SR.py\"\n",
    "histos_config = \"histoConfig.py\""
   ]
  },
  {
   "cell_type": "markdown",
   "id": "d248ae59-1cd0-45e3-91a1-3462012c6a27",
   "metadata": {},
   "source": [
    "### Signal"
   ]
  },
  {
   "cell_type": "code",
   "execution_count": 11,
   "id": "e0ecc4e0-151c-408b-b400-381d1e1a973e",
   "metadata": {},
   "outputs": [],
   "source": [
    "sample_config = \"./sample_configs/skimmed_sig_v2_mA_3m1_2018_aEM_m1_5to50.json\""
   ]
  },
  {
   "cell_type": "code",
   "execution_count": null,
   "id": "02537ff8-2bb2-4752-bed0-a504affad525",
   "metadata": {},
   "outputs": [
    {
     "data": {
      "text/html": [
       "<pre style=\"white-space:pre;overflow-x:auto;line-height:normal;font-family:Menlo,'DejaVu Sans Mono',consolas,'Courier New',monospace\">  <span style=\"color: #000080; text-decoration-color: #000080; font-weight: bold\">Preprocessing</span> <span style=\"color: #800080; text-decoration-color: #800080\">  6%</span> <span style=\"color: #f92672; text-decoration-color: #f92672\">━━━</span><span style=\"color: #3a3a3a; text-decoration-color: #3a3a3a\">╺━━━━━━━━━━━━━━━━━━━━━━━━━━━━━━━━━━━━━━━━━━━━━━━━━━</span> <span style=\"color: #000080; text-decoration-color: #000080; font-weight: bold\">2/36</span> [ <span style=\"color: #808000; text-decoration-color: #808000\">0:00:58</span> &lt; <span style=\"color: #008080; text-decoration-color: #008080\">-:--:--</span> | <span style=\"color: #800000; text-decoration-color: #800000\">?</span>   <span style=\"color: #800000; text-decoration-color: #800000\">file/s</span> ]\n",
       "<span style=\"color: #000080; text-decoration-color: #000080; font-weight: bold\">Merging (local)</span> <span style=\"color: #800080; text-decoration-color: #800080\">  0%</span> <span style=\"color: #729c1f; text-decoration-color: #729c1f\">━━━━━━━━━━━━━━━━━━━━━━━━━━━━━━━━━━━━━━━━━━━━━━━━━━━━━━</span>  <span style=\"color: #000080; text-decoration-color: #000080; font-weight: bold\">0/0</span> [ <span style=\"color: #808000; text-decoration-color: #808000\">0:00:02</span> &lt; <span style=\"color: #008080; text-decoration-color: #008080\">0:00:00</span> | <span style=\"color: #800000; text-decoration-color: #800000\">?</span> <span style=\"color: #800000; text-decoration-color: #800000\">merges/s</span> ]\n",
       "</pre>\n"
      ],
      "text/plain": [
       "  \u001b[1;34mPreprocessing\u001b[0m \u001b[35m  6%\u001b[0m \u001b[38;2;249;38;114m━━━\u001b[0m\u001b[38;5;237m╺\u001b[0m\u001b[38;5;237m━━━━━━━━━━━━━━━━━━━━━━━━━━━━━━━━━━━━━━━━━━━━━━━━━━\u001b[0m \u001b[1;34m2/36\u001b[0m [ \u001b[33m0:00:58\u001b[0m < \u001b[36m-:--:--\u001b[0m | \u001b[31m?\u001b[0m   \u001b[31mfile/s\u001b[0m ]\n",
       "\u001b[1;34mMerging (local)\u001b[0m \u001b[35m  0%\u001b[0m \u001b[38;2;114;156;31m━━━━━━━━━━━━━━━━━━━━━━━━━━━━━━━━━━━━━━━━━━━━━━━━━━━━━━\u001b[0m  \u001b[1;34m0/0\u001b[0m [ \u001b[33m0:00:02\u001b[0m < \u001b[36m0:00:00\u001b[0m | \u001b[31m?\u001b[0m \u001b[31mmerges/s\u001b[0m ]\n"
      ]
     },
     "metadata": {},
     "output_type": "display_data"
    },
    {
     "data": {
      "text/html": [
       "<pre style=\"white-space:pre;overflow-x:auto;line-height:normal;font-family:Menlo,'DejaVu Sans Mono',consolas,'Courier New',monospace\"></pre>\n"
      ],
      "text/plain": []
     },
     "metadata": {},
     "output_type": "display_data"
    },
    {
     "data": {
      "text/html": [
       "<pre style=\"white-space:pre;overflow-x:auto;line-height:normal;font-family:Menlo,'DejaVu Sans Mono',consolas,'Courier New',monospace\">\n",
       "</pre>\n"
      ],
      "text/plain": [
       "\n"
      ]
     },
     "metadata": {},
     "output_type": "display_data"
    },
    {
     "name": "stderr",
     "output_type": "stream",
     "text": [
      "concurrent.futures.process._RemoteTraceback: \n",
      "\"\"\"\n",
      "Traceback (most recent call last):\n",
      "  File \"/uscms/home/lkong/nobackup/miniconda3/envs/coffea/lib/python3.8/concurrent/futures/process.py\", line 239, in _process_worker\n",
      "    r = call_item.fn(*call_item.args, **call_item.kwargs)\n",
      "  File \"/uscms/home/lkong/nobackup/miniconda3/envs/coffea/lib/python3.8/site-packages/coffea/processor/executor.py\", line 1367, in automatic_retries\n",
      "    raise e\n",
      "  File \"/uscms/home/lkong/nobackup/miniconda3/envs/coffea/lib/python3.8/site-packages/coffea/processor/executor.py\", line 1336, in automatic_retries\n",
      "    return func(*args, **kwargs)\n",
      "  File \"/uscms/home/lkong/nobackup/miniconda3/envs/coffea/lib/python3.8/site-packages/coffea/processor/executor.py\", line 1417, in metadata_fetcher\n",
      "    with uproot.open({item.filename: None}, timeout=xrootdtimeout) as file:\n",
      "  File \"/uscms/home/lkong/nobackup/miniconda3/envs/coffea/lib/python3.8/site-packages/uproot/reading.py\", line 141, in open\n",
      "    file = ReadOnlyFile(\n",
      "  File \"/uscms/home/lkong/nobackup/miniconda3/envs/coffea/lib/python3.8/site-packages/uproot/reading.py\", line 580, in __init__\n",
      "    self._source = Source(\n",
      "  File \"/uscms/home/lkong/nobackup/miniconda3/envs/coffea/lib/python3.8/site-packages/uproot/source/xrootd.py\", line 272, in __init__\n",
      "    self._open()\n",
      "  File \"/uscms/home/lkong/nobackup/miniconda3/envs/coffea/lib/python3.8/site-packages/uproot/source/xrootd.py\", line 275, in _open\n",
      "    self._resource = XRootDResource(self._file_path, self._timeout)\n",
      "  File \"/uscms/home/lkong/nobackup/miniconda3/envs/coffea/lib/python3.8/site-packages/uproot/source/xrootd.py\", line 83, in __init__\n",
      "    self._open()\n",
      "  File \"/uscms/home/lkong/nobackup/miniconda3/envs/coffea/lib/python3.8/site-packages/uproot/source/xrootd.py\", line 92, in _open\n",
      "    self._xrd_error(status)\n",
      "  File \"/uscms/home/lkong/nobackup/miniconda3/envs/coffea/lib/python3.8/site-packages/uproot/source/xrootd.py\", line 118, in _xrd_error\n",
      "    raise OSError(\n",
      "OSError: XRootD error: [ERROR] Operation expired\n",
      "in file root://cmsxrootd.fnal.gov//store/group/lpcmetx/iDMe/skimmed_ntuples/signal/signal_v2_mA_3m1_2018_aEM_rdfSkim/output_sig_Mchi-5p5_dMchi-1p0_ct-10//ntuples_sig_Mchi-5.5_dMchi-1.0_ct-10_0.root\n",
      "\"\"\"\n",
      "\n",
      "The above exception was the direct cause of the following exception:\n",
      "\n",
      "Traceback (most recent call last):\n",
      "  File \"/uscms/home/lkong/nobackup/miniconda3/envs/coffea/lib/python3.8/site-packages/coffea/processor/executor.py\", line 786, in _processwith\n",
      "    merged = _watcher(FH, self, reducer, pool)\n",
      "  File \"/uscms/home/lkong/nobackup/miniconda3/envs/coffea/lib/python3.8/site-packages/coffea/processor/executor.py\", line 402, in _watcher\n",
      "    batch = FH.fetch(len(FH.completed))\n",
      "  File \"/uscms/home/lkong/nobackup/miniconda3/envs/coffea/lib/python3.8/site-packages/coffea/processor/executor.py\", line 286, in fetch\n",
      "    raise bad_futures[0].exception()\n",
      "OSError: XRootD error: [ERROR] Operation expired\n",
      "in file root://cmsxrootd.fnal.gov//store/group/lpcmetx/iDMe/skimmed_ntuples/signal/signal_v2_mA_3m1_2018_aEM_rdfSkim/output_sig_Mchi-5p5_dMchi-1p0_ct-10//ntuples_sig_Mchi-5.5_dMchi-1.0_ct-10_0.root\n"
     ]
    }
   ],
   "source": [
    "test = Analyzer(sample_config,histos_config,cuts_config, max_samples=-1) # run over all samples in the config\n",
    "\n",
    "t1 = time.time()\n",
    "out = test.process(execr='futures')\n",
    "t2 = time.time()\n",
    "\n",
    "print(\"Runtime: {:.2f} minutes\".format((t2-t1)/60))\n",
    "util.save(out,f\"{outdir}/signal_LxyBDT-based_LowLxy.coffea\")\n",
    "\n",
    "del out, test"
   ]
  },
  {
   "cell_type": "markdown",
   "id": "97b2ff87-c610-4e5a-9d3d-0255d980dbe3",
   "metadata": {},
   "source": [
    "### Background"
   ]
  },
  {
   "cell_type": "code",
   "execution_count": null,
   "id": "c65bc29b-bfda-48ed-84d4-7ea8f8eded39",
   "metadata": {},
   "outputs": [],
   "source": [
    "bkg_configs = glob.glob(\"../../configs/sample_configs/skimmed_bkg/skimmed_bkg*.json\")\n",
    "\n",
    "print(bkg_configs)"
   ]
  },
  {
   "cell_type": "code",
   "execution_count": null,
   "id": "f7af452c-6938-4868-8307-bd0f6b2e330d",
   "metadata": {
    "scrolled": true
   },
   "outputs": [],
   "source": [
    "for bkg in bkg_configs:\n",
    "    process = bkg.split('/')[-1].split('.json')[0].split('skimmed_')[-1]\n",
    "    print(process)\n",
    "\n",
    "    if 'TTJetsDiLept' in bkg: # currently not available ntuples\n",
    "        continue\n",
    "    \n",
    "    test = Analyzer(bkg,histos_config,cuts_config) \n",
    "        \n",
    "    t1 = time.time()\n",
    "    out = test.process(execr='futures')\n",
    "    t2 = time.time()\n",
    "        \n",
    "    print(\"Runtime: {:.2f} minutes\".format((t2-t1)/60))\n",
    "    util.save(out,f\"{outdir}/{process}_LxyBDT-based_LowLxy.coffea\")\n",
    "    del out, test"
   ]
  },
  {
   "cell_type": "code",
   "execution_count": null,
   "id": "fac8d8c8-dc33-4fff-a0e9-0d2b7fb6cd7b",
   "metadata": {},
   "outputs": [],
   "source": []
  }
 ],
 "metadata": {
  "kernelspec": {
   "display_name": "Python [conda env:coffea]",
   "language": "python",
   "name": "conda-env-coffea-py"
  },
  "language_info": {
   "codemirror_mode": {
    "name": "ipython",
    "version": 3
   },
   "file_extension": ".py",
   "mimetype": "text/x-python",
   "name": "python",
   "nbconvert_exporter": "python",
   "pygments_lexer": "ipython3",
   "version": "3.8.17"
  }
 },
 "nbformat": 4,
 "nbformat_minor": 5
}

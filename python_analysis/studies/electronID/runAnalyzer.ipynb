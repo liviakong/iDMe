{
 "cells": [
  {
   "cell_type": "code",
   "execution_count": 1,
   "id": "1cec7f8f-a3f2-48ad-a1d4-6399998fddd5",
   "metadata": {
    "tags": []
   },
   "outputs": [],
   "source": [
    "%load_ext autoreload\n",
    "%autoreload 2\n",
    "import uproot\n",
    "import numpy as np\n",
    "import matplotlib.pyplot as plt\n",
    "import awkward as ak\n",
    "import sys\n",
    "sys.path.append(\"/uscms/home/lkong/nobackup/CMSSW_10_6_26/src/iDMe/python_analysis/analysisTools/\")\n",
    "from analysisTools import Analyzer\n",
    "from analysisTools import loadSchema\n",
    "import analysisTools as tools\n",
    "import analysisSubroutines as routines\n",
    "import importlib\n",
    "import coffea.util as util\n",
    "import time\n",
    "import json\n",
    "import os"
   ]
  },
  {
   "cell_type": "code",
   "execution_count": 2,
   "id": "392337f2-b9d4-4b0b-a5a8-626ba252e183",
   "metadata": {},
   "outputs": [],
   "source": [
    "# cut and histogram configs -- make edits here\n",
    "cut_file = \"cutConfig.py\"\n",
    "hist_file = \"histoConfig.py\""
   ]
  },
  {
   "cell_type": "markdown",
   "id": "04267c27-0a91-45cc-a7c7-a42c91812f84",
   "metadata": {},
   "source": [
    "# Run over all samples"
   ]
  },
  {
   "cell_type": "code",
<<<<<<< HEAD
   "execution_count": 8,
=======
   "execution_count": null,
>>>>>>> upstream/main
   "id": "f31048f3-fcf2-461e-9098-11430edd8bd9",
   "metadata": {
    "tags": []
   },
<<<<<<< HEAD
   "outputs": [
    {
     "data": {
      "text/html": [
       "<pre style=\"white-space:pre;overflow-x:auto;line-height:normal;font-family:Menlo,'DejaVu Sans Mono',consolas,'Courier New',monospace\">     <span style=\"color: #000080; text-decoration-color: #000080; font-weight: bold\">Processing</span> <span style=\"color: #800080; text-decoration-color: #800080\">100%</span> <span style=\"color: #729c1f; text-decoration-color: #729c1f\">━━━━━━━━━━━━━━━━━━━━━━━━━━━━━━━━━━━━━━━━━━━━━━━━━━━</span> <span style=\"color: #000080; text-decoration-color: #000080; font-weight: bold\">68/68</span> [ <span style=\"color: #808000; text-decoration-color: #808000\">0:01:16</span> &lt; <span style=\"color: #008080; text-decoration-color: #008080\">0:00:00</span> | <span style=\"color: #800000; text-decoration-color: #800000\">1.1</span>  <span style=\"color: #800000; text-decoration-color: #800000\">chunk/s</span> ]\n",
       "<span style=\"color: #000080; text-decoration-color: #000080; font-weight: bold\">Merging (local)</span> <span style=\"color: #800080; text-decoration-color: #800080\">100%</span> <span style=\"color: #729c1f; text-decoration-color: #729c1f\">━━━━━━━━━━━━━━━━━━━━━━━━━━━━━━━━━━━━━━━━━━━━━━━━━━━</span> <span style=\"color: #000080; text-decoration-color: #000080; font-weight: bold\">68/68</span> [ <span style=\"color: #808000; text-decoration-color: #808000\">0:01:16</span> &lt; <span style=\"color: #008080; text-decoration-color: #008080\">0:00:00</span> | <span style=\"color: #800000; text-decoration-color: #800000\">?  </span> <span style=\"color: #800000; text-decoration-color: #800000\">merges/s</span> ]\n",
       "</pre>\n"
      ],
      "text/plain": [
       "     \u001b[1;34mProcessing\u001b[0m \u001b[35m100%\u001b[0m \u001b[38;2;114;156;31m━━━━━━━━━━━━━━━━━━━━━━━━━━━━━━━━━━━━━━━━━━━━━━━━━━━\u001b[0m \u001b[1;34m68/68\u001b[0m [ \u001b[33m0:01:16\u001b[0m < \u001b[36m0:00:00\u001b[0m | \u001b[31m1.1\u001b[0m  \u001b[31mchunk/s\u001b[0m ]\n",
       "\u001b[1;34mMerging (local)\u001b[0m \u001b[35m100%\u001b[0m \u001b[38;2;114;156;31m━━━━━━━━━━━━━━━━━━━━━━━━━━━━━━━━━━━━━━━━━━━━━━━━━━━\u001b[0m \u001b[1;34m68/68\u001b[0m [ \u001b[33m0:01:16\u001b[0m < \u001b[36m0:00:00\u001b[0m | \u001b[31m?  \u001b[0m \u001b[31mmerges/s\u001b[0m ]\n"
      ]
     },
     "metadata": {},
     "output_type": "display_data"
    },
    {
     "data": {
      "text/html": [
       "<pre style=\"white-space:pre;overflow-x:auto;line-height:normal;font-family:Menlo,'DejaVu Sans Mono',consolas,'Courier New',monospace\"></pre>\n"
      ],
      "text/plain": []
     },
     "metadata": {},
     "output_type": "display_data"
    },
    {
     "data": {
      "text/html": [
       "<pre style=\"white-space:pre;overflow-x:auto;line-height:normal;font-family:Menlo,'DejaVu Sans Mono',consolas,'Courier New',monospace\">\n",
       "</pre>\n"
      ],
      "text/plain": [
       "\n"
      ]
     },
     "metadata": {},
     "output_type": "display_data"
    },
    {
     "name": "stdout",
     "output_type": "stream",
     "text": [
      "1.286983605225881\n"
     ]
    }
   ],
=======
   "outputs": [],
>>>>>>> upstream/main
   "source": [
    "samp = \"skimmed_signal_v2_2018_aEM\"\n",
    "samp_dir = \"/uscms/home/lkong/nobackup/CMSSW_10_6_26/src/iDMe/python_analysis/configs/sample_configs/\"\n",
    "test = Analyzer(f\"{samp_dir}/{samp}.json\",hist_file,cut_file)\n",
    "t1 = time.time()\n",
    "out = test.process(execr='futures')\n",
    "t2 = time.time()\n",
    "print((t2-t1)/60)\n",
    "util.save(out,f\"{samp}.coffea\")\n",
    "del out, test"
   ]
  },
  {
   "cell_type": "code",
   "execution_count": 9,
   "id": "59cb4bff-db80-4556-81b0-d5265710addf",
   "metadata": {},
   "outputs": [
    {
     "ename": "TypeError",
     "evalue": "'NoneType' object is not iterable",
     "output_type": "error",
     "traceback": [
      "\u001b[0;31m---------------------------------------------------------------------------\u001b[0m",
      "\u001b[0;31mTypeError\u001b[0m                                 Traceback (most recent call last)",
      "Cell \u001b[0;32mIn[9], line 3\u001b[0m\n\u001b[1;32m      1\u001b[0m samp \u001b[38;5;241m=\u001b[39m \u001b[38;5;124m\"\u001b[39m\u001b[38;5;124mskimmed_bkg_2018_QCD_TuneCP5_PSWeights\u001b[39m\u001b[38;5;124m\"\u001b[39m\n\u001b[1;32m      2\u001b[0m samp_dir \u001b[38;5;241m=\u001b[39m \u001b[38;5;124m\"\u001b[39m\u001b[38;5;124m/uscms/home/lkong/nobackup/CMSSW_10_6_26/src/iDMe/python_analysis/configs/sample_configs/\u001b[39m\u001b[38;5;124m\"\u001b[39m\n\u001b[0;32m----> 3\u001b[0m test \u001b[38;5;241m=\u001b[39m \u001b[43mAnalyzer\u001b[49m\u001b[43m(\u001b[49m\u001b[38;5;124;43mf\u001b[39;49m\u001b[38;5;124;43m\"\u001b[39;49m\u001b[38;5;132;43;01m{\u001b[39;49;00m\u001b[43msamp_dir\u001b[49m\u001b[38;5;132;43;01m}\u001b[39;49;00m\u001b[38;5;124;43m/\u001b[39;49m\u001b[38;5;132;43;01m{\u001b[39;49;00m\u001b[43msamp\u001b[49m\u001b[38;5;132;43;01m}\u001b[39;49;00m\u001b[38;5;124;43m.json\u001b[39;49m\u001b[38;5;124;43m\"\u001b[39;49m\u001b[43m,\u001b[49m\u001b[43mhist_file\u001b[49m\u001b[43m,\u001b[49m\u001b[43mcut_file\u001b[49m\u001b[43m)\u001b[49m\n\u001b[1;32m      4\u001b[0m t1 \u001b[38;5;241m=\u001b[39m time\u001b[38;5;241m.\u001b[39mtime()\n\u001b[1;32m      5\u001b[0m out \u001b[38;5;241m=\u001b[39m test\u001b[38;5;241m.\u001b[39mprocess(execr\u001b[38;5;241m=\u001b[39m\u001b[38;5;124m'\u001b[39m\u001b[38;5;124mfutures\u001b[39m\u001b[38;5;124m'\u001b[39m)\n",
      "File \u001b[0;32m~/nobackup/CMSSW_10_6_26/src/iDMe/python_analysis/analysisTools/analysisTools.py:57\u001b[0m, in \u001b[0;36mAnalyzer.__init__\u001b[0;34m(self, fileList, histoList, cuts, max_samples, max_files_per_samp)\u001b[0m\n\u001b[1;32m     54\u001b[0m \u001b[38;5;28mself\u001b[39m\u001b[38;5;241m.\u001b[39mtotalEvents \u001b[38;5;241m=\u001b[39m \u001b[38;5;241m0\u001b[39m\n\u001b[1;32m     55\u001b[0m \u001b[38;5;28mself\u001b[39m\u001b[38;5;241m.\u001b[39mmode \u001b[38;5;241m=\u001b[39m \u001b[38;5;28;01mNone\u001b[39;00m\n\u001b[0;32m---> 57\u001b[0m \u001b[38;5;28;43mself\u001b[39;49m\u001b[38;5;241;43m.\u001b[39;49m\u001b[43mloadFiles\u001b[49m\u001b[43m(\u001b[49m\u001b[43m)\u001b[49m\n",
      "File \u001b[0;32m~/nobackup/CMSSW_10_6_26/src/iDMe/python_analysis/analysisTools/analysisTools.py:98\u001b[0m, in \u001b[0;36mAnalyzer.loadFiles\u001b[0;34m(self)\u001b[0m\n\u001b[1;32m     96\u001b[0m     \u001b[38;5;28;01mfor\u001b[39;00m l \u001b[38;5;129;01min\u001b[39;00m loc:\n\u001b[1;32m     97\u001b[0m         status, flist \u001b[38;5;241m=\u001b[39m xrdClient\u001b[38;5;241m.\u001b[39mdirlist(l)\n\u001b[0;32m---> 98\u001b[0m         fullList\u001b[38;5;241m.\u001b[39mextend([\u001b[38;5;124m\"\u001b[39m\u001b[38;5;124mroot://cmsxrootd.fnal.gov/\u001b[39m\u001b[38;5;124m\"\u001b[39m\u001b[38;5;241m+\u001b[39ml\u001b[38;5;241m+\u001b[39m\u001b[38;5;124m\"\u001b[39m\u001b[38;5;124m/\u001b[39m\u001b[38;5;124m\"\u001b[39m\u001b[38;5;241m+\u001b[39mitem\u001b[38;5;241m.\u001b[39mname \u001b[38;5;28;01mfor\u001b[39;00m item \u001b[38;5;129;01min\u001b[39;00m flist \u001b[38;5;28;01mif\u001b[39;00m ((\u001b[38;5;124m'\u001b[39m\u001b[38;5;124m.root\u001b[39m\u001b[38;5;124m'\u001b[39m \u001b[38;5;129;01min\u001b[39;00m item\u001b[38;5;241m.\u001b[39mname) \u001b[38;5;129;01mand\u001b[39;00m (item\u001b[38;5;241m.\u001b[39mname \u001b[38;5;129;01mnot\u001b[39;00m \u001b[38;5;129;01min\u001b[39;00m sample[\u001b[38;5;124m'\u001b[39m\u001b[38;5;124mblacklist\u001b[39m\u001b[38;5;124m'\u001b[39m]))])\n\u001b[1;32m     99\u001b[0m \u001b[38;5;28;01mif\u001b[39;00m \u001b[38;5;28mself\u001b[39m\u001b[38;5;241m.\u001b[39mmax_files_per_samp \u001b[38;5;241m>\u001b[39m \u001b[38;5;241m0\u001b[39m \u001b[38;5;129;01mand\u001b[39;00m \u001b[38;5;28mlen\u001b[39m(fullList) \u001b[38;5;241m>\u001b[39m \u001b[38;5;28mself\u001b[39m\u001b[38;5;241m.\u001b[39mmax_files_per_samp:\n\u001b[1;32m    100\u001b[0m     fullList \u001b[38;5;241m=\u001b[39m fullList[:\u001b[38;5;28mself\u001b[39m\u001b[38;5;241m.\u001b[39mmax_files_per_samp]\n",
      "\u001b[0;31mTypeError\u001b[0m: 'NoneType' object is not iterable"
     ]
    }
   ],
   "source": [
    "samp = \"skimmed_bkg_2018_QCD_TuneCP5_PSWeights\"\n",
    "samp_dir = \"/uscms/home/lkong/nobackup/CMSSW_10_6_26/src/iDMe/python_analysis/configs/sample_configs/\"\n",
    "test = Analyzer(f\"{samp_dir}/{samp}.json\",hist_file,cut_file)\n",
    "t1 = time.time()\n",
    "out = test.process(execr='futures')\n",
    "t2 = time.time()\n",
    "print((t2-t1)/60)\n",
    "util.save(out,f\"{samp}.coffea\")\n",
    "del out, test"
   ]
  },
  {
   "cell_type": "code",
<<<<<<< HEAD
   "execution_count": null,
   "id": "ea5dc930-d682-4dd0-a1d0-b631b34f6a35",
   "metadata": {},
   "outputs": [],
=======
   "execution_count": 3,
   "id": "ea5dc930-d682-4dd0-a1d0-b631b34f6a35",
   "metadata": {},
   "outputs": [
    {
     "data": {
      "text/html": [
       "<pre style=\"white-space:pre;overflow-x:auto;line-height:normal;font-family:Menlo,'DejaVu Sans Mono',consolas,'Courier New',monospace\">     <span style=\"color: #000080; text-decoration-color: #000080; font-weight: bold\">Processing</span> <span style=\"color: #800080; text-decoration-color: #800080\">100%</span> <span style=\"color: #729c1f; text-decoration-color: #729c1f\">━━━━━━━━━━━━━━━━━━━━━━━━━━━━━━━━━━━━━━━━━━━━━━━━━━━</span> <span style=\"color: #000080; text-decoration-color: #000080; font-weight: bold\">23/23</span> [ <span style=\"color: #808000; text-decoration-color: #808000\">0:00:45</span> &lt; <span style=\"color: #008080; text-decoration-color: #008080\">0:00:00</span> | <span style=\"color: #800000; text-decoration-color: #800000\">0.6</span>  <span style=\"color: #800000; text-decoration-color: #800000\">chunk/s</span> ]\n",
       "<span style=\"color: #000080; text-decoration-color: #000080; font-weight: bold\">Merging (local)</span> <span style=\"color: #800080; text-decoration-color: #800080\">100%</span> <span style=\"color: #729c1f; text-decoration-color: #729c1f\">━━━━━━━━━━━━━━━━━━━━━━━━━━━━━━━━━━━━━━━━━━━━━━━━━━━</span> <span style=\"color: #000080; text-decoration-color: #000080; font-weight: bold\">23/23</span> [ <span style=\"color: #808000; text-decoration-color: #808000\">0:00:45</span> &lt; <span style=\"color: #008080; text-decoration-color: #008080\">0:00:00</span> | <span style=\"color: #800000; text-decoration-color: #800000\">?  </span> <span style=\"color: #800000; text-decoration-color: #800000\">merges/s</span> ]\n",
       "</pre>\n"
      ],
      "text/plain": [
       "     \u001b[1;34mProcessing\u001b[0m \u001b[35m100%\u001b[0m \u001b[38;2;114;156;31m━━━━━━━━━━━━━━━━━━━━━━━━━━━━━━━━━━━━━━━━━━━━━━━━━━━\u001b[0m \u001b[1;34m23/23\u001b[0m [ \u001b[33m0:00:45\u001b[0m < \u001b[36m0:00:00\u001b[0m | \u001b[31m0.6\u001b[0m  \u001b[31mchunk/s\u001b[0m ]\n",
       "\u001b[1;34mMerging (local)\u001b[0m \u001b[35m100%\u001b[0m \u001b[38;2;114;156;31m━━━━━━━━━━━━━━━━━━━━━━━━━━━━━━━━━━━━━━━━━━━━━━━━━━━\u001b[0m \u001b[1;34m23/23\u001b[0m [ \u001b[33m0:00:45\u001b[0m < \u001b[36m0:00:00\u001b[0m | \u001b[31m?  \u001b[0m \u001b[31mmerges/s\u001b[0m ]\n"
      ]
     },
     "metadata": {},
     "output_type": "display_data"
    },
    {
     "data": {
      "text/html": [
       "<pre style=\"white-space:pre;overflow-x:auto;line-height:normal;font-family:Menlo,'DejaVu Sans Mono',consolas,'Courier New',monospace\"></pre>\n"
      ],
      "text/plain": []
     },
     "metadata": {},
     "output_type": "display_data"
    },
    {
     "data": {
      "text/html": [
       "<pre style=\"white-space:pre;overflow-x:auto;line-height:normal;font-family:Menlo,'DejaVu Sans Mono',consolas,'Courier New',monospace\">\n",
       "</pre>\n"
      ],
      "text/plain": [
       "\n"
      ]
     },
     "metadata": {},
     "output_type": "display_data"
    },
    {
     "name": "stdout",
     "output_type": "stream",
     "text": [
      "0.9871936043103536\n"
     ]
    }
   ],
>>>>>>> upstream/main
   "source": [
    "samp = \"skimmed_bkg_2018_DY\"\n",
    "samp_dir = \"/uscms/home/lkong/nobackup/CMSSW_10_6_26/src/iDMe/python_analysis/configs/sample_configs/\"\n",
    "test = Analyzer(f\"{samp_dir}/{samp}.json\",hist_file,cut_file)\n",
    "t1 = time.time()\n",
    "out = test.process(execr='futures')\n",
    "t2 = time.time()\n",
    "print((t2-t1)/60)\n",
    "util.save(out,f\"{samp}.coffea\")\n",
    "del out, test"
   ]
  },
  {
   "cell_type": "code",
   "execution_count": null,
   "id": "2fb066ed-e620-4bbc-b713-48b2e8ef33ac",
   "metadata": {},
   "outputs": [],
   "source": [
    "samp = \"skimmed_bkg_2018_Diboson\"\n",
    "samp_dir = \"/uscms/home/lkong/nobackup/CMSSW_10_6_26/src/iDMe/python_analysis/configs/sample_configs/\"\n",
    "test = Analyzer(f\"{samp_dir}/{samp}.json\",hist_file,cut_file)\n",
    "t1 = time.time()\n",
    "out = test.process(execr='futures')\n",
    "t2 = time.time()\n",
    "print((t2-t1)/60)\n",
    "util.save(out,f\"{samp}.coffea\")\n",
    "del out, test"
   ]
  },
  {
   "cell_type": "code",
   "execution_count": null,
   "id": "684fc10f-459b-49c9-b130-4093b49a82fc",
   "metadata": {},
   "outputs": [],
   "source": [
    "samp = \"skimmed_bkg_2018_Top\"\n",
    "samp_dir = \"/uscms/home/lkong/nobackup/CMSSW_10_6_26/src/iDMe/python_analysis/configs/sample_configs/\"\n",
    "test = Analyzer(f\"{samp_dir}/{samp}.json\",hist_file,cut_file)\n",
    "t1 = time.time()\n",
    "out = test.process(execr='futures')\n",
    "t2 = time.time()\n",
    "print((t2-t1)/60)\n",
    "util.save(out,f\"{samp}.coffea\")\n",
    "del out, test"
   ]
  },
  {
   "cell_type": "code",
   "execution_count": null,
   "id": "23743493-6775-4f27-bf2e-e7a51d42e8c5",
   "metadata": {},
   "outputs": [],
   "source": [
    "samp = \"skimmed_bkg_2018_Triboson\"\n",
    "samp_dir = \"/uscms/home/lkong/nobackup/CMSSW_10_6_26/src/iDMe/python_analysis/configs/sample_configs/\"\n",
    "test = Analyzer(f\"{samp_dir}/{samp}.json\",hist_file,cut_file)\n",
    "t1 = time.time()\n",
    "out = test.process(execr='futures')\n",
    "t2 = time.time()\n",
    "print((t2-t1)/60)\n",
    "util.save(out,f\"{samp}.coffea\")\n",
    "del out, test"
   ]
  },
  {
   "cell_type": "code",
   "execution_count": null,
   "id": "509fe720-ff97-4b7f-9e1e-28c19b0c8e67",
   "metadata": {},
   "outputs": [],
   "source": [
    "samp = \"skimmed_bkg_2018_WJets\"\n",
    "samp_dir = \"/uscms/home/lkong/nobackup/CMSSW_10_6_26/src/iDMe/python_analysis/configs/sample_configs/\"\n",
    "test = Analyzer(f\"{samp_dir}/{samp}.json\",hist_file,cut_file)\n",
    "t1 = time.time()\n",
    "out = test.process(execr='futures')\n",
    "t2 = time.time()\n",
    "print((t2-t1)/60)\n",
    "util.save(out,f\"{samp}.coffea\")\n",
    "del out, test"
   ]
  },
  {
   "cell_type": "code",
   "execution_count": null,
   "id": "c2941ca1-e26b-40c5-8744-47a1a9636b7a",
   "metadata": {},
   "outputs": [],
   "source": [
    "samp = \"skimmed_bkg_2018_ZJets\"\n",
    "samp_dir = \"/uscms/home/lkong/nobackup/CMSSW_10_6_26/src/iDMe/python_analysis/configs/sample_configs/\"\n",
    "test = Analyzer(f\"{samp_dir}/{samp}.json\",hist_file,cut_file)\n",
    "t1 = time.time()\n",
    "out = test.process(execr='futures')\n",
    "t2 = time.time()\n",
    "print((t2-t1)/60)\n",
    "util.save(out,f\"{samp}.coffea\")\n",
    "del out, test"
   ]
  },
  {
   "cell_type": "code",
   "execution_count": null,
   "id": "b31f6dd6-0da3-4301-a699-06986052b05c",
   "metadata": {},
   "outputs": [],
   "source": []
  }
 ],
 "metadata": {
  "kernelspec": {
   "display_name": "Python [conda env:coffea]",
   "language": "python",
   "name": "conda-env-coffea-py"
  },
  "language_info": {
   "codemirror_mode": {
    "name": "ipython",
    "version": 3
   },
   "file_extension": ".py",
   "mimetype": "text/x-python",
   "name": "python",
   "nbconvert_exporter": "python",
   "pygments_lexer": "ipython3",
   "version": "3.8.17"
  }
 },
 "nbformat": 4,
 "nbformat_minor": 5
}

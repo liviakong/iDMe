{
 "cells": [
  {
   "cell_type": "code",
   "execution_count": 2,
   "id": "49345683-8f33-4202-b42d-cd2b39d7e8f9",
   "metadata": {},
   "outputs": [],
   "source": [
    "%load_ext autoreload\n",
    "%autoreload 2\n",
    "import uproot\n",
    "import numpy as np\n",
    "import matplotlib.pyplot as plt\n",
    "import awkward as ak\n",
    "import sys\n",
    "import importlib\n",
    "import coffea.util as util\n",
    "import time\n",
    "import json\n",
    "import os\n",
    "import numba as nb\n",
    "import awkward.numba\n",
    "\n",
    "sys.path.append(\"../../analysisTools/\")\n",
    "from analysisTools import Analyzer\n",
    "from analysisTools import loadSchema\n",
    "import analysisTools as tools\n",
    "import analysisSubroutines as routines"
   ]
  },
  {
   "cell_type": "code",
   "execution_count": 3,
   "id": "aa26606e-ac35-44d7-8964-e63bd12fa490",
   "metadata": {},
   "outputs": [],
   "source": [
    "events = tools.loadNano(\"root://cmseos.fnal.gov//store/group/lpcmetx/iDMe//Samples/Ntuples/signal_v2/2018/Mchi-22p0_dMchi-4p0/ctau-10//ntuples_Mchi-22p0_dMchi-4p0_ctau-10_00.root\")"
   ]
  },
  {
   "cell_type": "code",
   "execution_count": 4,
   "id": "a1230adf-f261-4401-a565-dc39095a9d6a",
   "metadata": {},
   "outputs": [],
   "source": [
    "#################################\n",
    "#### Hard-coded basic cuts ######\n",
    "#################################\n",
    "# 1 or 2 jets in the event\n",
    "nJets = ak.count(events.PFJet.pt,axis=1)\n",
    "events = events[(nJets>0) & (nJets<3)]\n",
    "\n",
    "#################################\n",
    "## Calculating Additional Vars ##\n",
    "#################################\n",
    "routines.electronJetSeparation(events) # dR and dPhi between electrons and jets\n",
    "routines.electronIsoConePtSum(events) # for each electron, compute pT sum of any other electrons in event within dR < 0.3 of it\n",
    "routines.electronID(events) # electron kinematic/ID definition\n",
    "routines.vtxElectronConnection(events) # associate electrons to vertices\n",
    "routines.LxyID(events) # ID cut for low pT electrons in vertices with Lxy > 0.5\n",
    "routines.defineGoodVertices(events) # define \"good\" vertices based on whether associated electrons pass ID cuts"
   ]
  },
  {
   "cell_type": "code",
   "execution_count": 5,
   "id": "ae0788f8-2d88-4c15-ae5b-dbdadaec7bfc",
   "metadata": {},
   "outputs": [],
   "source": [
    "i=7052"
   ]
  },
  {
   "cell_type": "code",
   "execution_count": 349,
   "id": "2947f2d2-ffa7-4623-9f62-d1eb19ea48b2",
   "metadata": {},
   "outputs": [
    {
     "data": {
      "text/plain": [
       "<Array [1, -0.25, -0.25] type='3 * float32'>"
      ]
     },
     "execution_count": 349,
     "metadata": {},
     "output_type": "execute_result"
    }
   ],
   "source": [
    "events.vtx.e1.IDscore[i]"
   ]
  },
  {
   "cell_type": "code",
   "execution_count": 350,
   "id": "f3069308-71e2-44c6-828a-4d7adfffb42b",
   "metadata": {},
   "outputs": [
    {
     "data": {
      "text/plain": [
       "<Array ['R', 'L', 'L'] type='3 * string'>"
      ]
     },
     "execution_count": 350,
     "metadata": {},
     "output_type": "execute_result"
    }
   ],
   "source": [
    "events.vtx.e1_typ[i]"
   ]
  },
  {
   "cell_type": "code",
   "execution_count": 351,
   "id": "4f9d7b76-2aaa-40c1-87f7-0fe55d9a27fb",
   "metadata": {},
   "outputs": [
    {
     "data": {
      "text/plain": [
       "<Array [1, 1, 1] type='3 * float32'>"
      ]
     },
     "execution_count": 351,
     "metadata": {},
     "output_type": "execute_result"
    }
   ],
   "source": [
    "events.vtx.e2.IDscore[i]"
   ]
  },
  {
   "cell_type": "code",
   "execution_count": 352,
   "id": "d1d9b6d5-13b3-435f-87ce-fa4151d69138",
   "metadata": {},
   "outputs": [
    {
     "data": {
      "text/plain": [
       "<Array ['R', 'R', 'R'] type='3 * string'>"
      ]
     },
     "execution_count": 352,
     "metadata": {},
     "output_type": "execute_result"
    }
   ],
   "source": [
    "events.vtx.e2_typ[i]"
   ]
  },
  {
   "cell_type": "code",
   "execution_count": 353,
   "id": "520dc9cc-0562-4620-bd9a-eb5ff0c9506c",
   "metadata": {},
   "outputs": [
    {
     "data": {
      "text/plain": [
       "<Array [0.0428, 0.462, 0.587] type='3 * float32[parameters={\"__doc__\": \"vtx_vxy\"}]'>"
      ]
     },
     "execution_count": 353,
     "metadata": {},
     "output_type": "execute_result"
    }
   ],
   "source": [
    "events.vtx.vxy[i]"
   ]
  },
  {
   "cell_type": "code",
   "execution_count": null,
   "id": "d5288210-e773-4f36-9b4f-e36fcfe0a7df",
   "metadata": {},
   "outputs": [],
   "source": []
  },
  {
   "cell_type": "code",
   "execution_count": 354,
   "id": "0b121a5a-639e-4a1e-a45d-44636eb4221a",
   "metadata": {},
   "outputs": [
    {
     "data": {
      "text/plain": [
       "<Array [True, False, True] type='3 * bool'>"
      ]
     },
     "execution_count": 354,
     "metadata": {},
     "output_type": "execute_result"
    }
   ],
   "source": [
    "events.vtx.passLxyID1[i]"
   ]
  },
  {
   "cell_type": "code",
   "execution_count": 355,
   "id": "431770cf-33b8-46ed-8799-c68ffc4de712",
   "metadata": {},
   "outputs": [
    {
     "data": {
      "text/plain": [
       "<Array [True, True, True] type='3 * bool'>"
      ]
     },
     "execution_count": 355,
     "metadata": {},
     "output_type": "execute_result"
    }
   ],
   "source": [
    "events.vtx.passLxyID2[i]"
   ]
  },
  {
   "cell_type": "code",
   "execution_count": 356,
   "id": "157f764c-87d3-4559-a66a-47b856be63fa",
   "metadata": {},
   "outputs": [
    {
     "data": {
      "text/plain": [
       "<Array [False, True, True] type='3 * bool'>"
      ]
     },
     "execution_count": 356,
     "metadata": {},
     "output_type": "execute_result"
    }
   ],
   "source": [
    "events.vtx.e1.passID[i]"
   ]
  },
  {
   "cell_type": "code",
   "execution_count": 357,
   "id": "bbab2697-c2e4-4d3b-a78b-4eaef55cc7af",
   "metadata": {},
   "outputs": [
    {
     "data": {
      "text/plain": [
       "<Array [True, False, True] type='3 * bool'>"
      ]
     },
     "execution_count": 357,
     "metadata": {},
     "output_type": "execute_result"
    }
   ],
   "source": [
    "events.vtx.e2.passID[i]"
   ]
  },
  {
   "cell_type": "code",
   "execution_count": null,
   "id": "4768ec9d-e433-4f05-8544-490147e48d3c",
   "metadata": {},
   "outputs": [],
   "source": []
  },
  {
   "cell_type": "code",
   "execution_count": null,
   "id": "ed6f0a84-2ffd-4007-82dc-2b00d6c911ea",
   "metadata": {},
   "outputs": [],
   "source": []
  },
  {
   "cell_type": "code",
   "execution_count": 363,
   "id": "ddae6666-1b36-4364-a2bf-5b74118d32da",
   "metadata": {},
   "outputs": [
    {
     "data": {
      "text/plain": [
       "(<Array [3, 6, 8, 16, ... 17623, 17625, 17628] type='2135 * int64'>,)"
      ]
     },
     "execution_count": 363,
     "metadata": {},
     "output_type": "execute_result"
    }
   ],
   "source": [
    "np.where(np.concatenate(events.LptElectron.IDscore) < 0)"
   ]
  },
  {
   "cell_type": "code",
   "execution_count": null,
   "id": "422b9d94-5a1a-4acf-9b14-cd3d98178cf5",
   "metadata": {},
   "outputs": [],
   "source": [
    "l=0\n",
    "j=0\n",
    "while l < 4202:\n",
    "    while j < len(events.LptElectron.IDscore):\n",
    "        if l == 4201:\n",
    "            print(j)\n",
    "        j += 1\n",
    "        if len(events.LptElectron.IDscore[j]) > 0:\n",
    "            for k in range(len(events.LptElectron.IDscore[j])):\n",
    "                l += 1"
   ]
  },
  {
   "cell_type": "code",
   "execution_count": null,
   "id": "8a16681e-81f8-437a-b7ae-6eab6d453893",
   "metadata": {},
   "outputs": [],
   "source": []
  },
  {
   "cell_type": "code",
   "execution_count": 239,
   "id": "f3dc04b3-b9d4-447b-95ee-b4f2481428e9",
   "metadata": {},
   "outputs": [
    {
     "data": {
      "text/plain": [
       "<Array [0, 0] type='2 * float32[parameters={\"__doc__\": \"Electron_IDmvaLoose\"}]'>"
      ]
     },
     "execution_count": 239,
     "metadata": {},
     "output_type": "execute_result"
    }
   ],
   "source": [
    "events.Electron.IDscore[i]"
   ]
  },
  {
   "cell_type": "code",
   "execution_count": 240,
   "id": "331e1a15-1369-4749-bbd1-a0ffb470fb62",
   "metadata": {},
   "outputs": [
    {
     "data": {
      "text/plain": [
       "<Array [0.282, 0.814] type='2 * float32[parameters={\"__doc__\": \"LptElectron_ID\"}]'>"
      ]
     },
     "execution_count": 240,
     "metadata": {},
     "output_type": "execute_result"
    }
   ],
   "source": [
    "events.LptElectron.IDscore[i]"
   ]
  },
  {
   "cell_type": "code",
   "execution_count": 125,
   "id": "121e36ca-d79b-4d05-82a0-2b1c19feecc6",
   "metadata": {},
   "outputs": [
    {
     "data": {
      "text/plain": [
       "<Array [Electron, ... passID: True}] type='3 * union[electron, struct[[\"pt\", \"et...'>"
      ]
     },
     "execution_count": 125,
     "metadata": {},
     "output_type": "execute_result"
    }
   ],
   "source": [
    "events.vtx.e1[5]"
   ]
  },
  {
   "cell_type": "code",
   "execution_count": 126,
   "id": "24989ff0-67eb-482a-bab5-236b7086be8a",
   "metadata": {},
   "outputs": [
    {
     "data": {
      "text/plain": [
       "<Array [Electron, Electron, Electron] type='3 * union[electron, struct[[\"pt\", \"e...'>"
      ]
     },
     "execution_count": 126,
     "metadata": {},
     "output_type": "execute_result"
    }
   ],
   "source": [
    "events.vtx.e2[5]"
   ]
  },
  {
   "cell_type": "code",
   "execution_count": 243,
   "id": "03f1fea3-481a-44e9-b3e2-589a66c5832d",
   "metadata": {},
   "outputs": [
    {
     "data": {
      "text/plain": [
       "<NanoCollectionArray [{pt: 27.1, ... passID: False}] type='2 * struct[[\"pt\", \"et...'>"
      ]
     },
     "execution_count": 243,
     "metadata": {},
     "output_type": "execute_result"
    }
   ],
   "source": [
    "events.LptElectron[i]"
   ]
  },
  {
   "cell_type": "code",
   "execution_count": 244,
   "id": "a915f223-850e-4748-9107-9598e41f7dae",
   "metadata": {},
   "outputs": [
    {
     "data": {
      "text/plain": [
       "<ElectronArray [Electron, Electron] type='2 * electron'>"
      ]
     },
     "execution_count": 244,
     "metadata": {},
     "output_type": "execute_result"
    }
   ],
   "source": [
    "events.Electron[i]"
   ]
  }
 ],
 "metadata": {
  "kernelspec": {
   "display_name": "Python [conda env:coffea]",
   "language": "python",
   "name": "conda-env-coffea-py"
  },
  "language_info": {
   "codemirror_mode": {
    "name": "ipython",
    "version": 3
   },
   "file_extension": ".py",
   "mimetype": "text/x-python",
   "name": "python",
   "nbconvert_exporter": "python",
   "pygments_lexer": "ipython3",
   "version": "3.8.17"
  }
 },
 "nbformat": 4,
 "nbformat_minor": 5
}

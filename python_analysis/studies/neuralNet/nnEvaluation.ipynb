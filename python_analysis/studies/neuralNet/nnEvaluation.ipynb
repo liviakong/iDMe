{
 "cells": [
  {
   "cell_type": "code",
   "execution_count": 2,
   "id": "0ff0368d-3e48-4af9-a207-ec2f9ae2772f",
   "metadata": {},
   "outputs": [
    {
     "name": "stdout",
     "output_type": "stream",
     "text": [
      "The autoreload extension is already loaded. To reload it, use:\n",
      "  %reload_ext autoreload\n"
     ]
    }
   ],
   "source": [
    "%load_ext autoreload\n",
    "%autoreload 2\n",
    "import torch\n",
    "import torch.nn as nn\n",
    "import numpy as np\n",
    "import matplotlib.pyplot as plt\n",
    "import h5py\n",
    "import sys\n",
    "import json\n",
    "import pandas as pd\n",
    "from tqdm import tqdm\n",
    "sys.path.append('./utils/')\n",
    "\n",
    "device = torch.device(\"cuda:0\" if torch.cuda.is_available() else \"cpu\")\n",
    "torch.set_default_tensor_type('torch.cuda.FloatTensor') if torch.cuda.is_available() else print ('cpu')"
   ]
  },
  {
   "cell_type": "code",
   "execution_count": 3,
   "id": "7aaa4af8-7099-4463-b38e-8712ef80c30d",
   "metadata": {},
   "outputs": [],
   "source": [
    "sig = h5py.File(\"h5s/signal_noTruthMatch.h5\",\"r\")\n",
    "bkg = h5py.File(\"h5s/bkg.h5\",\"r\")\n",
    "\n",
    "dfs = pd.DataFrame({s:sig[s][()] for s in sig.keys() if s != 'sample'})\n",
    "dfb = pd.DataFrame({s:bkg[s][()] for s in bkg.keys() if s != 'sample'})\n",
    "dfs['samp'] = np.char.decode(sig['sample'][()])\n",
    "dfb['samp'] = np.char.decode(bkg['sample'][()])\n",
    "\n",
    "sigNames = list(set(dfs.samp))\n",
    "bkgNames = list(set(dfb.samp))\n",
    "\n",
    "sig.close()\n",
    "bkg.close()"
   ]
  },
  {
   "cell_type": "code",
   "execution_count": 4,
   "id": "74cede74-a9aa-40e6-b0c4-ca2e9cc0aa63",
   "metadata": {},
   "outputs": [],
   "source": [
    "train_vars = ['MET','jetMETdPhi','lead_jet_btag', 'lead_jet_eta', 'lead_jet_pt',\n",
    "              'met_leadPt_ratio', 'minJetMETdPhi', 'sel_e1_PFRelIso',\n",
    "               'sel_e1_calRelIso', 'sel_e1_dxy', 'sel_e1_dxySignif', 'sel_e1_eta',\n",
    "               'sel_e1_numTrackerHits', 'sel_e1_pt', 'sel_e1_trkChi2',\n",
    "               'sel_e1_trkProb', 'sel_e1_trkRelIso', 'sel_e2_PFRelIso',\n",
    "               'sel_e2_calRelIso', 'sel_e2_dxy', 'sel_e2_dxySignif', 'sel_e2_eta',\n",
    "               'sel_e2_numTrackerHits', 'sel_e2_pt', 'sel_e2_trkChi2',\n",
    "               'sel_e2_trkProb', 'sel_e2_trkRelIso', 'sel_vtx_METdPhi', 'sel_vtx_chi2',\n",
    "               'sel_vtx_dR', 'sel_vtx_m', 'sel_vtx_minDxy',\n",
    "               'vxy', 'vxy_signif']\n",
    "\n",
    "sig_np = np.concatenate([dfs[v].to_numpy().reshape(-1,1) for v in train_vars],axis=-1)\n",
    "bkg_np = np.concatenate([dfb[v].to_numpy().reshape(-1,1) for v in train_vars],axis=-1)\n",
    "\n",
    "mean = np.load('models/mean_bkg.npy')\n",
    "std = np.load('models/std_bkg.npy')\n",
    "sig_np = (sig_np - mean)/std\n",
    "bkg_np = (bkg_np - mean)/std\n",
    "\n",
    "def eval_batched(net,x,bs=10000):\n",
    "    net.eval()\n",
    "    nev = x.shape[0]\n",
    "    batches = np.array_split(np.arange(nev),nev//bs)\n",
    "    output = []\n",
    "    for b in tqdm(batches):\n",
    "        with torch.no_grad():\n",
    "            output.append(net(torch.tensor(x[b],dtype=torch.float32,device='cpu')).detach().cpu().numpy()[:,0])\n",
    "    output = np.concatenate(output,axis=0)\n",
    "    return output"
   ]
  },
  {
   "cell_type": "code",
   "execution_count": 5,
   "id": "a79c74bd-98f4-4898-a057-0a510dadd85c",
   "metadata": {},
   "outputs": [
    {
     "name": "stderr",
     "output_type": "stream",
     "text": [
      "100%|██████████| 18/18 [00:14<00:00,  1.22it/s]\n",
      "100%|██████████| 21/21 [00:17<00:00,  1.18it/s]\n"
     ]
    }
   ],
   "source": [
    "net = torch.load(\"models/neuralNet_allInputs.pt\").to('cpu')\n",
    "bkg_preds = eval_batched(net,bkg_np,bs=10000)\n",
    "sig_preds = eval_batched(net,sig_np,bs=10000)\n",
    "\n",
    "dfs['nnScore'] = sig_preds\n",
    "dfb['nnScore'] = bkg_preds\n",
    "\n",
    "del net"
   ]
  },
  {
   "cell_type": "code",
   "execution_count": 7,
   "id": "8816e504-579e-419c-8012-a7e46d2dcbff",
   "metadata": {},
   "outputs": [],
   "source": [
    "with h5py.File('h5s/signal_noTruthMatch.h5','a') as fout:\n",
    "    if 'nnScore' in fout.keys():\n",
    "        del fout['nnScore']\n",
    "    fout.create_dataset('nnScore',data=dfs['nnScore'])\n",
    "\n",
    "with h5py.File('h5s/bkg.h5','a') as fout:\n",
    "    if 'nnScore' in fout.keys():\n",
    "        del fout['nnScore']\n",
    "    fout.create_dataset('nnScore',data=dfb['nnScore'])"
   ]
  },
  {
   "cell_type": "code",
   "execution_count": null,
   "id": "d7bd5ef9-af84-429d-9422-2410eb7bbaf2",
   "metadata": {},
   "outputs": [],
   "source": []
  }
 ],
 "metadata": {
  "kernelspec": {
   "display_name": "Python [conda env:coffea2]",
   "language": "python",
   "name": "conda-env-coffea2-py"
  },
  "language_info": {
   "codemirror_mode": {
    "name": "ipython",
    "version": 3
   },
   "file_extension": ".py",
   "mimetype": "text/x-python",
   "name": "python",
   "nbconvert_exporter": "python",
   "pygments_lexer": "ipython3",
   "version": "3.8.17"
  }
 },
 "nbformat": 4,
 "nbformat_minor": 5
}

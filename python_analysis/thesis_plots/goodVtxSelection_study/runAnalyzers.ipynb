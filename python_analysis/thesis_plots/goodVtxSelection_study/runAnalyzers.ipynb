{
 "cells": [
  {
   "cell_type": "code",
   "execution_count": 1,
   "id": "ff0d6e4a-afac-4f2c-bfb6-256cb15351fe",
   "metadata": {
    "editable": true,
    "slideshow": {
     "slide_type": ""
    },
    "tags": []
   },
   "outputs": [],
   "source": [
    "%load_ext autoreload\n",
    "%autoreload 2\n",
    "import numpy as np\n",
    "import matplotlib.pyplot as plt\n",
    "import sys\n",
    "sys.path.append(\"../../analysisTools/\")\n",
    "from analysisTools import Analyzer\n",
    "from analysisTools import loadSchema\n",
    "import analysisSubroutines as routines\n",
    "import coffea.util as util\n",
    "import time\n",
    "import json\n",
    "import os\n",
    "import awkward as ak\n",
    "from coffea.processor import accumulate"
   ]
  },
  {
   "cell_type": "markdown",
   "id": "b1bcf7bb-9887-463a-90d8-764745ef98ec",
   "metadata": {
    "tags": []
   },
   "source": [
    "# skimmed signal"
   ]
  },
  {
   "cell_type": "code",
   "execution_count": 2,
   "id": "d43db7bb-9a4b-4b0c-bf70-ac57fb789aed",
   "metadata": {
    "tags": []
   },
   "outputs": [],
   "source": [
    "cut_file = \"cut_configs/cuts_vtxStudy.py\"\n",
    "hist_file = \"histo_configs/histos.py\"\n",
    "samp_file = \"../../configs/sample_configs/skimmed_signal/skimmed_signal_v9_miniAOD_2018_aEM.json\""
   ]
  },
  {
   "cell_type": "code",
   "execution_count": 3,
   "id": "d467908b-c38d-41ba-95ce-a715f3932b6a",
   "metadata": {
    "tags": []
   },
   "outputs": [
    {
     "data": {
      "application/vnd.jupyter.widget-view+json": {
       "model_id": "94a05ac06f7548079a5e9dd17608963a",
       "version_major": 2,
       "version_minor": 0
      },
      "text/plain": [
       "Output()"
      ]
     },
     "metadata": {},
     "output_type": "display_data"
    },
    {
     "data": {
      "text/html": [
       "<pre style=\"white-space:pre;overflow-x:auto;line-height:normal;font-family:Menlo,'DejaVu Sans Mono',consolas,'Courier New',monospace\"></pre>\n"
      ],
      "text/plain": []
     },
     "metadata": {},
     "output_type": "display_data"
    },
    {
     "data": {
      "text/html": [
       "<pre style=\"white-space:pre;overflow-x:auto;line-height:normal;font-family:Menlo,'DejaVu Sans Mono',consolas,'Courier New',monospace\">\n",
       "</pre>\n"
      ],
      "text/plain": [
       "\n"
      ]
     },
     "metadata": {},
     "output_type": "display_data"
    },
    {
     "data": {
      "application/vnd.jupyter.widget-view+json": {
       "model_id": "0dc9a090117241469c8543353a8adace",
       "version_major": 2,
       "version_minor": 0
      },
      "text/plain": [
       "Output()"
      ]
     },
     "metadata": {},
     "output_type": "display_data"
    },
    {
     "data": {
      "text/html": [
       "<pre style=\"white-space:pre;overflow-x:auto;line-height:normal;font-family:Menlo,'DejaVu Sans Mono',consolas,'Courier New',monospace\"></pre>\n"
      ],
      "text/plain": []
     },
     "metadata": {},
     "output_type": "display_data"
    },
    {
     "data": {
      "text/html": [
       "<pre style=\"white-space:pre;overflow-x:auto;line-height:normal;font-family:Menlo,'DejaVu Sans Mono',consolas,'Courier New',monospace\">\n",
       "</pre>\n"
      ],
      "text/plain": [
       "\n"
      ]
     },
     "metadata": {},
     "output_type": "display_data"
    }
   ],
   "source": [
    "hname = hist_file.split(\"/\")[-1].split(\".\")[0]\n",
    "test = Analyzer(samp_file,hist_file,cut_file)\n",
    "out = test.process(execr='futures',workers=80)\n",
    "util.save(out,f\"skimmed_signal_{hname}_vtxStudy.coffea\")\n",
    "del test, out"
   ]
  },
  {
   "cell_type": "code",
   "execution_count": 2,
   "id": "6c5f4416-3004-4141-a443-9a391828eeee",
   "metadata": {
    "tags": []
   },
   "outputs": [],
   "source": [
    "cut_file = \"cut_configs/cuts_vtxStudy_IDBasic.py\"\n",
    "hist_file = \"histo_configs/histos.py\"\n",
    "samp_file = \"../../configs/sample_configs/skimmed_signal/skimmed_signal_v9_miniAOD_2018_aEM.json\""
   ]
  },
  {
   "cell_type": "code",
   "execution_count": 3,
   "id": "b8c3d62b-b4d8-4129-a76c-f15e7c4c9ba7",
   "metadata": {
    "tags": []
   },
   "outputs": [
    {
     "name": "stdout",
     "output_type": "stream",
     "text": [
      "Registering extra input useBaseID = True\n"
     ]
    },
    {
     "data": {
      "application/vnd.jupyter.widget-view+json": {
       "model_id": "2a5cf2acb7974eb0ad668303a36761d5",
       "version_major": 2,
       "version_minor": 0
      },
      "text/plain": [
       "Output()"
      ]
     },
     "metadata": {},
     "output_type": "display_data"
    },
    {
     "data": {
      "text/html": [
       "<pre style=\"white-space:pre;overflow-x:auto;line-height:normal;font-family:Menlo,'DejaVu Sans Mono',consolas,'Courier New',monospace\"></pre>\n"
      ],
      "text/plain": []
     },
     "metadata": {},
     "output_type": "display_data"
    },
    {
     "data": {
      "text/html": [
       "<pre style=\"white-space:pre;overflow-x:auto;line-height:normal;font-family:Menlo,'DejaVu Sans Mono',consolas,'Courier New',monospace\">\n",
       "</pre>\n"
      ],
      "text/plain": [
       "\n"
      ]
     },
     "metadata": {},
     "output_type": "display_data"
    },
    {
     "data": {
      "application/vnd.jupyter.widget-view+json": {
       "model_id": "fa792b2ef4754c6ea14c78af68f9a0f6",
       "version_major": 2,
       "version_minor": 0
      },
      "text/plain": [
       "Output()"
      ]
     },
     "metadata": {},
     "output_type": "display_data"
    },
    {
     "data": {
      "text/html": [
       "<pre style=\"white-space:pre;overflow-x:auto;line-height:normal;font-family:Menlo,'DejaVu Sans Mono',consolas,'Courier New',monospace\"></pre>\n"
      ],
      "text/plain": []
     },
     "metadata": {},
     "output_type": "display_data"
    },
    {
     "data": {
      "text/html": [
       "<pre style=\"white-space:pre;overflow-x:auto;line-height:normal;font-family:Menlo,'DejaVu Sans Mono',consolas,'Courier New',monospace\">\n",
       "</pre>\n"
      ],
      "text/plain": [
       "\n"
      ]
     },
     "metadata": {},
     "output_type": "display_data"
    }
   ],
   "source": [
    "hname = hist_file.split(\"/\")[-1].split(\".\")[0]\n",
    "test = Analyzer(samp_file,hist_file,cut_file)\n",
    "out = test.process(execr='futures',workers=80,useBaseID=True)\n",
    "util.save(out,f\"skimmed_signal_{hname}_vtxStudy_IDBasic.coffea\")\n",
    "del test, out"
   ]
  },
  {
   "cell_type": "markdown",
   "id": "2ba1a2a2-9515-445f-8696-741b4e772a95",
   "metadata": {},
   "source": [
    "# skimmed bkg"
   ]
  },
  {
   "cell_type": "code",
   "execution_count": 4,
   "id": "550686c7-8f85-40de-b471-b56128b6063a",
   "metadata": {},
   "outputs": [],
   "source": [
    "cut_file = \"cut_configs/cuts_vtxStudy.py\"\n",
    "hist_file = \"histo_configs/histos.py\"\n",
    "samp_file = \"../../configs/sample_configs/skimmed_bkg/skimmed_bkg_2018_v7_miniAOD.json\""
   ]
  },
  {
   "cell_type": "code",
   "execution_count": 5,
   "id": "02a21af1-a121-414e-b0f5-b36b826ebcd2",
   "metadata": {},
   "outputs": [
    {
     "data": {
      "application/vnd.jupyter.widget-view+json": {
       "model_id": "dcfeac99d97548628efeec0aea8a5465",
       "version_major": 2,
       "version_minor": 0
      },
      "text/plain": [
       "Output()"
      ]
     },
     "metadata": {},
     "output_type": "display_data"
    },
    {
     "data": {
      "text/html": [
       "<pre style=\"white-space:pre;overflow-x:auto;line-height:normal;font-family:Menlo,'DejaVu Sans Mono',consolas,'Courier New',monospace\"></pre>\n"
      ],
      "text/plain": []
     },
     "metadata": {},
     "output_type": "display_data"
    },
    {
     "data": {
      "text/html": [
       "<pre style=\"white-space:pre;overflow-x:auto;line-height:normal;font-family:Menlo,'DejaVu Sans Mono',consolas,'Courier New',monospace\">\n",
       "</pre>\n"
      ],
      "text/plain": [
       "\n"
      ]
     },
     "metadata": {},
     "output_type": "display_data"
    },
    {
     "data": {
      "application/vnd.jupyter.widget-view+json": {
       "model_id": "0c8f641c568d4629a2f99f0f4b7d6aa8",
       "version_major": 2,
       "version_minor": 0
      },
      "text/plain": [
       "Output()"
      ]
     },
     "metadata": {},
     "output_type": "display_data"
    },
    {
     "data": {
      "text/html": [
       "<pre style=\"white-space:pre;overflow-x:auto;line-height:normal;font-family:Menlo,'DejaVu Sans Mono',consolas,'Courier New',monospace\"></pre>\n"
      ],
      "text/plain": []
     },
     "metadata": {},
     "output_type": "display_data"
    },
    {
     "data": {
      "text/html": [
       "<pre style=\"white-space:pre;overflow-x:auto;line-height:normal;font-family:Menlo,'DejaVu Sans Mono',consolas,'Courier New',monospace\">\n",
       "</pre>\n"
      ],
      "text/plain": [
       "\n"
      ]
     },
     "metadata": {},
     "output_type": "display_data"
    }
   ],
   "source": [
    "hname = hist_file.split(\"/\")[-1].split(\".\")[0]\n",
    "test = Analyzer(samp_file,hist_file,cut_file)\n",
    "out = test.process(execr='futures',workers=80)\n",
    "util.save(out,f\"skimmed_bkg_{hname}_vtxStudy.coffea\")\n",
    "del test, out"
   ]
  },
  {
   "cell_type": "code",
   "execution_count": 4,
   "id": "a9de2248-e487-408b-a5e3-dd23fa6060d4",
   "metadata": {
    "tags": []
   },
   "outputs": [],
   "source": [
    "cut_file = \"cut_configs/cuts_vtxStudy_IDBasic.py\"\n",
    "hist_file = \"histo_configs/histos.py\"\n",
    "samp_file = \"../../configs/sample_configs/skimmed_bkg/skimmed_bkg_2018_v7_miniAOD.json\""
   ]
  },
  {
   "cell_type": "code",
   "execution_count": 5,
   "id": "3ff3cd82-552f-46d2-868c-46ae7e0c3a83",
   "metadata": {
    "tags": []
   },
   "outputs": [
    {
     "name": "stdout",
     "output_type": "stream",
     "text": [
      "Registering extra input useBaseID = True\n"
     ]
    },
    {
     "data": {
      "application/vnd.jupyter.widget-view+json": {
       "model_id": "a98b7240dcb346c58357a6e7604d057d",
       "version_major": 2,
       "version_minor": 0
      },
      "text/plain": [
       "Output()"
      ]
     },
     "metadata": {},
     "output_type": "display_data"
    },
    {
     "data": {
      "text/html": [
       "<pre style=\"white-space:pre;overflow-x:auto;line-height:normal;font-family:Menlo,'DejaVu Sans Mono',consolas,'Courier New',monospace\"></pre>\n"
      ],
      "text/plain": []
     },
     "metadata": {},
     "output_type": "display_data"
    },
    {
     "data": {
      "text/html": [
       "<pre style=\"white-space:pre;overflow-x:auto;line-height:normal;font-family:Menlo,'DejaVu Sans Mono',consolas,'Courier New',monospace\">\n",
       "</pre>\n"
      ],
      "text/plain": [
       "\n"
      ]
     },
     "metadata": {},
     "output_type": "display_data"
    },
    {
     "data": {
      "application/vnd.jupyter.widget-view+json": {
       "model_id": "ee63ff28355f40dcb1ed4561ab54c887",
       "version_major": 2,
       "version_minor": 0
      },
      "text/plain": [
       "Output()"
      ]
     },
     "metadata": {},
     "output_type": "display_data"
    },
    {
     "data": {
      "text/html": [
       "<pre style=\"white-space:pre;overflow-x:auto;line-height:normal;font-family:Menlo,'DejaVu Sans Mono',consolas,'Courier New',monospace\"></pre>\n"
      ],
      "text/plain": []
     },
     "metadata": {},
     "output_type": "display_data"
    },
    {
     "data": {
      "text/html": [
       "<pre style=\"white-space:pre;overflow-x:auto;line-height:normal;font-family:Menlo,'DejaVu Sans Mono',consolas,'Courier New',monospace\">\n",
       "</pre>\n"
      ],
      "text/plain": [
       "\n"
      ]
     },
     "metadata": {},
     "output_type": "display_data"
    }
   ],
   "source": [
    "hname = hist_file.split(\"/\")[-1].split(\".\")[0]\n",
    "test = Analyzer(samp_file,hist_file,cut_file)\n",
    "out = test.process(execr='futures',workers=80,useBaseID=True)\n",
    "util.save(out,f\"skimmed_bkg_{hname}_vtxStudy_IDBasic.coffea\")\n",
    "del test, out"
   ]
  },
  {
   "cell_type": "markdown",
   "id": "ec1ef916-b255-41c9-934a-8430566ea61b",
   "metadata": {
    "jp-MarkdownHeadingCollapsed": true,
    "tags": []
   },
   "source": [
    "# Full samples, just for gen met"
   ]
  },
  {
   "cell_type": "markdown",
   "id": "d46a7623-93e9-4f25-8b4a-2c3227c390ee",
   "metadata": {},
   "source": [
    "## signal"
   ]
  },
  {
   "cell_type": "code",
   "execution_count": 2,
   "id": "e33c8bf9-1b88-47e9-b4b7-e92b794d436a",
   "metadata": {
    "tags": []
   },
   "outputs": [],
   "source": [
    "cut_file = \"cut_configs/cuts.py\"\n",
    "hist_file = \"histo_configs/histos.py\"\n",
    "samp_file = \"../../configs/sample_configs/signal/signal_v5_xcleanStudy_noCustomMiniAOD_2018_aEM.json\""
   ]
  },
  {
   "cell_type": "code",
   "execution_count": 3,
   "id": "9b1bb89a-9338-428e-ba6e-f562ed214cfb",
   "metadata": {
    "tags": []
   },
   "outputs": [
    {
     "name": "stdout",
     "output_type": "stream",
     "text": [
      "Chunk 1\n"
     ]
    },
    {
     "data": {
      "application/vnd.jupyter.widget-view+json": {
       "model_id": "610fe095a8064b499f63017ae96aba65",
       "version_major": 2,
       "version_minor": 0
      },
      "text/plain": [
       "Output()"
      ]
     },
     "metadata": {},
     "output_type": "display_data"
    },
    {
     "data": {
      "text/html": [
       "<pre style=\"white-space:pre;overflow-x:auto;line-height:normal;font-family:Menlo,'DejaVu Sans Mono',consolas,'Courier New',monospace\"></pre>\n"
      ],
      "text/plain": []
     },
     "metadata": {},
     "output_type": "display_data"
    },
    {
     "data": {
      "text/html": [
       "<pre style=\"white-space:pre;overflow-x:auto;line-height:normal;font-family:Menlo,'DejaVu Sans Mono',consolas,'Courier New',monospace\">\n",
       "</pre>\n"
      ],
      "text/plain": [
       "\n"
      ]
     },
     "metadata": {},
     "output_type": "display_data"
    },
    {
     "data": {
      "application/vnd.jupyter.widget-view+json": {
       "model_id": "85bf2bd97ec74208807a994d2cb2c21e",
       "version_major": 2,
       "version_minor": 0
      },
      "text/plain": [
       "Output()"
      ]
     },
     "metadata": {},
     "output_type": "display_data"
    },
    {
     "name": "stderr",
     "output_type": "stream",
     "text": [
      "/uscms_data/d3/sbrightt/iDM/iDMe_analysis/CMSSW_10_6_26/src/iDMe/python_analysis/thesis_plots/explore_variables/../../analysisTools/analysisTools.py:325: RuntimeWarning: invalid value encountered in float_scalars\n",
      "  cutflow_vtx_matched_genEEreconstructed[cutName] += ak.sum(vtx_matched_events_genEEreconstructed.genWgt)/ak.sum(has_gen_matched_reco_ee_events.genWgt)\n"
     ]
    },
    {
     "data": {
      "text/html": [
       "<pre style=\"white-space:pre;overflow-x:auto;line-height:normal;font-family:Menlo,'DejaVu Sans Mono',consolas,'Courier New',monospace\"></pre>\n"
      ],
      "text/plain": []
     },
     "metadata": {},
     "output_type": "display_data"
    },
    {
     "data": {
      "text/html": [
       "<pre style=\"white-space:pre;overflow-x:auto;line-height:normal;font-family:Menlo,'DejaVu Sans Mono',consolas,'Courier New',monospace\">\n",
       "</pre>\n"
      ],
      "text/plain": [
       "\n"
      ]
     },
     "metadata": {},
     "output_type": "display_data"
    },
    {
     "name": "stdout",
     "output_type": "stream",
     "text": [
      "Chunk 2\n"
     ]
    },
    {
     "data": {
      "application/vnd.jupyter.widget-view+json": {
       "model_id": "ee3c8173b65d4b04ae02f769e3d90b60",
       "version_major": 2,
       "version_minor": 0
      },
      "text/plain": [
       "Output()"
      ]
     },
     "metadata": {},
     "output_type": "display_data"
    },
    {
     "data": {
      "text/html": [
       "<pre style=\"white-space:pre;overflow-x:auto;line-height:normal;font-family:Menlo,'DejaVu Sans Mono',consolas,'Courier New',monospace\"></pre>\n"
      ],
      "text/plain": []
     },
     "metadata": {},
     "output_type": "display_data"
    },
    {
     "data": {
      "text/html": [
       "<pre style=\"white-space:pre;overflow-x:auto;line-height:normal;font-family:Menlo,'DejaVu Sans Mono',consolas,'Courier New',monospace\">\n",
       "</pre>\n"
      ],
      "text/plain": [
       "\n"
      ]
     },
     "metadata": {},
     "output_type": "display_data"
    },
    {
     "data": {
      "application/vnd.jupyter.widget-view+json": {
       "model_id": "27b521fab9e44b1e82005233c253abdb",
       "version_major": 2,
       "version_minor": 0
      },
      "text/plain": [
       "Output()"
      ]
     },
     "metadata": {},
     "output_type": "display_data"
    },
    {
     "data": {
      "text/html": [
       "<pre style=\"white-space:pre;overflow-x:auto;line-height:normal;font-family:Menlo,'DejaVu Sans Mono',consolas,'Courier New',monospace\"></pre>\n"
      ],
      "text/plain": []
     },
     "metadata": {},
     "output_type": "display_data"
    },
    {
     "data": {
      "text/html": [
       "<pre style=\"white-space:pre;overflow-x:auto;line-height:normal;font-family:Menlo,'DejaVu Sans Mono',consolas,'Courier New',monospace\">\n",
       "</pre>\n"
      ],
      "text/plain": [
       "\n"
      ]
     },
     "metadata": {},
     "output_type": "display_data"
    },
    {
     "name": "stdout",
     "output_type": "stream",
     "text": [
      "Chunk 3\n"
     ]
    },
    {
     "data": {
      "application/vnd.jupyter.widget-view+json": {
       "model_id": "101a6a22a5a14d1e9af008242368cae5",
       "version_major": 2,
       "version_minor": 0
      },
      "text/plain": [
       "Output()"
      ]
     },
     "metadata": {},
     "output_type": "display_data"
    },
    {
     "data": {
      "text/html": [
       "<pre style=\"white-space:pre;overflow-x:auto;line-height:normal;font-family:Menlo,'DejaVu Sans Mono',consolas,'Courier New',monospace\"></pre>\n"
      ],
      "text/plain": []
     },
     "metadata": {},
     "output_type": "display_data"
    },
    {
     "data": {
      "text/html": [
       "<pre style=\"white-space:pre;overflow-x:auto;line-height:normal;font-family:Menlo,'DejaVu Sans Mono',consolas,'Courier New',monospace\">\n",
       "</pre>\n"
      ],
      "text/plain": [
       "\n"
      ]
     },
     "metadata": {},
     "output_type": "display_data"
    },
    {
     "data": {
      "application/vnd.jupyter.widget-view+json": {
       "model_id": "7413fd794e664037ae5233301bf0ab00",
       "version_major": 2,
       "version_minor": 0
      },
      "text/plain": [
       "Output()"
      ]
     },
     "metadata": {},
     "output_type": "display_data"
    },
    {
     "data": {
      "text/html": [
       "<pre style=\"white-space:pre;overflow-x:auto;line-height:normal;font-family:Menlo,'DejaVu Sans Mono',consolas,'Courier New',monospace\"></pre>\n"
      ],
      "text/plain": []
     },
     "metadata": {},
     "output_type": "display_data"
    },
    {
     "data": {
      "text/html": [
       "<pre style=\"white-space:pre;overflow-x:auto;line-height:normal;font-family:Menlo,'DejaVu Sans Mono',consolas,'Courier New',monospace\">\n",
       "</pre>\n"
      ],
      "text/plain": [
       "\n"
      ]
     },
     "metadata": {},
     "output_type": "display_data"
    }
   ],
   "source": [
    "with open(samp_file,'r') as fin:\n",
    "    a = json.load(fin)\n",
    "num_chunks = 3\n",
    "inds = np.array_split(np.arange(len(a)),num_chunks)\n",
    "hname = hist_file.split(\"/\")[-1].split(\".\")[0]\n",
    "for nc,ichunk in enumerate(inds):\n",
    "    print(\"Chunk\",nc+1)\n",
    "    samps = [a[i] for i in ichunk]\n",
    "    with open(f\"chunk{nc+1}.json\",\"w\") as fout:\n",
    "        json.dump(samps,fout)\n",
    "    test = Analyzer(f\"chunk{nc+1}.json\",hist_file,cut_file)\n",
    "    out = test.process(execr='futures',workers=80)\n",
    "    del test\n",
    "    util.save(out,f\"signal_{hname}_chunk{nc+1}.coffea\")\n",
    "    del out\n",
    "    os.remove(f\"chunk{nc+1}.json\")\n",
    "\n",
    "histos = accumulate([util.load(f'signal_{hname}_chunk{nc+1}.coffea')[0] for nc in range(num_chunks)])\n",
    "util.save(histos,f'signal_{hname}.coffea')\n",
    "for nc in range(num_chunks):\n",
    "    os.remove(f'signal_{hname}_chunk{nc+1}.coffea')"
   ]
  },
  {
   "cell_type": "markdown",
   "id": "65cec398-f6b9-4543-82e0-5e1fbd212c45",
   "metadata": {},
   "source": [
    "## background"
   ]
  },
  {
   "cell_type": "code",
   "execution_count": 2,
   "id": "1bd9f7bb-b1e6-41c8-a7e2-ea10a78c7927",
   "metadata": {
    "tags": []
   },
   "outputs": [],
   "source": [
    "cut_file = \"cut_configs/cuts.py\"\n",
    "hist_file = \"histo_configs/histos.py\"\n",
    "samp_file = \"../../configs/sample_configs/bkg/bkg_2018_v4_miniAOD.json\""
   ]
  },
  {
   "cell_type": "code",
   "execution_count": 3,
   "id": "939defb9-d3ae-45ab-ae99-a963ae7575f4",
   "metadata": {
    "tags": []
   },
   "outputs": [
    {
     "data": {
      "application/vnd.jupyter.widget-view+json": {
       "model_id": "094cb202f17843ac978ff85494e109fc",
       "version_major": 2,
       "version_minor": 0
      },
      "text/plain": [
       "Output()"
      ]
     },
     "metadata": {},
     "output_type": "display_data"
    },
    {
     "data": {
      "text/html": [
       "<pre style=\"white-space:pre;overflow-x:auto;line-height:normal;font-family:Menlo,'DejaVu Sans Mono',consolas,'Courier New',monospace\"></pre>\n"
      ],
      "text/plain": []
     },
     "metadata": {},
     "output_type": "display_data"
    },
    {
     "data": {
      "text/html": [
       "<pre style=\"white-space:pre;overflow-x:auto;line-height:normal;font-family:Menlo,'DejaVu Sans Mono',consolas,'Courier New',monospace\">\n",
       "</pre>\n"
      ],
      "text/plain": [
       "\n"
      ]
     },
     "metadata": {},
     "output_type": "display_data"
    },
    {
     "data": {
      "application/vnd.jupyter.widget-view+json": {
       "model_id": "e6ba81ba4aff424aab22daa8b2c061c0",
       "version_major": 2,
       "version_minor": 0
      },
      "text/plain": [
       "Output()"
      ]
     },
     "metadata": {},
     "output_type": "display_data"
    },
    {
     "data": {
      "text/html": [
       "<pre style=\"white-space:pre;overflow-x:auto;line-height:normal;font-family:Menlo,'DejaVu Sans Mono',consolas,'Courier New',monospace\"></pre>\n"
      ],
      "text/plain": []
     },
     "metadata": {},
     "output_type": "display_data"
    },
    {
     "data": {
      "text/html": [
       "<pre style=\"white-space:pre;overflow-x:auto;line-height:normal;font-family:Menlo,'DejaVu Sans Mono',consolas,'Courier New',monospace\">\n",
       "</pre>\n"
      ],
      "text/plain": [
       "\n"
      ]
     },
     "metadata": {},
     "output_type": "display_data"
    }
   ],
   "source": [
    "hname = hist_file.split(\"/\")[-1].split(\".\")[0]\n",
    "test = Analyzer(samp_file,hist_file,cut_file)\n",
    "out = test.process(execr='futures',workers=80)\n",
    "util.save(out,f\"bkg_{hname}.coffea\")\n",
    "del test, out"
   ]
  },
  {
   "cell_type": "code",
   "execution_count": null,
   "id": "04240c3f-58e1-47f3-8e0c-872b05177e08",
   "metadata": {},
   "outputs": [],
   "source": []
  }
 ],
 "metadata": {
  "kernelspec": {
   "display_name": "Python 3 (ipykernel)",
   "language": "python",
   "name": "py3-preamble"
  },
  "language_info": {
   "codemirror_mode": {
    "name": "ipython",
    "version": 3
   },
   "file_extension": ".py",
   "mimetype": "text/x-python",
   "name": "python",
   "nbconvert_exporter": "python",
   "pygments_lexer": "ipython3",
   "version": "3.9.15"
  }
 },
 "nbformat": 4,
 "nbformat_minor": 5
}

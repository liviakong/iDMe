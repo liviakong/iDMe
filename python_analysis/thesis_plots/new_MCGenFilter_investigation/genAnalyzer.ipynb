{
 "cells": [
  {
   "cell_type": "code",
   "execution_count": 1,
   "id": "ff0d6e4a-afac-4f2c-bfb6-256cb15351fe",
   "metadata": {
    "tags": []
   },
   "outputs": [],
   "source": [
    "%load_ext autoreload\n",
    "%autoreload 2\n",
    "import numpy as np\n",
    "import matplotlib.pyplot as plt\n",
    "import sys\n",
    "sys.path.append(\"../../analysisTools/\")\n",
    "from analysisTools import Analyzer\n",
    "from analysisTools import loadSchema\n",
    "import coffea.util as util\n",
    "import time\n",
    "import json\n",
    "import os"
   ]
  },
  {
   "cell_type": "markdown",
   "id": "ec1ef916-b255-41c9-934a-8430566ea61b",
   "metadata": {
    "tags": []
   },
   "source": [
    "## full samples, just for gen met"
   ]
  },
  {
   "cell_type": "code",
   "execution_count": 2,
   "id": "501f7766-f822-471b-8d98-cd57b3d8e6a4",
   "metadata": {
    "tags": []
   },
   "outputs": [],
   "source": [
    "cut_file = \"cuts.py\"\n",
    "hist_file = \"histos_noSkim.py\"\n",
    "samp_file = \"../../configs/sample_configs/signal/signal_v4_2018_aEM.json\""
   ]
  },
  {
   "cell_type": "code",
   "execution_count": 3,
   "id": "8465950a-a65a-4fd3-9ef4-d87190259706",
   "metadata": {
    "tags": []
   },
   "outputs": [
    {
     "data": {
      "text/html": [
       "<pre style=\"white-space:pre;overflow-x:auto;line-height:normal;font-family:Menlo,'DejaVu Sans Mono',consolas,'Courier New',monospace\">     <span style=\"color: #000080; text-decoration-color: #000080; font-weight: bold\">Processing</span> <span style=\"color: #800080; text-decoration-color: #800080\">100%</span> <span style=\"color: #729c1f; text-decoration-color: #729c1f\">━━━━━━━━━━━━━━━━━━━━━━━━━━━━━━━━━━━━━━━━━━━━━━━━━</span> <span style=\"color: #000080; text-decoration-color: #000080; font-weight: bold\">632/632</span> [ <span style=\"color: #808000; text-decoration-color: #808000\">1:15:08</span> &lt; <span style=\"color: #008080; text-decoration-color: #008080\">0:00:00</span> | <span style=\"color: #800000; text-decoration-color: #800000\">0.1</span>  <span style=\"color: #800000; text-decoration-color: #800000\">chunk/s</span> ]\n",
       "<span style=\"color: #000080; text-decoration-color: #000080; font-weight: bold\">Merging (local)</span> <span style=\"color: #800080; text-decoration-color: #800080\">100%</span> <span style=\"color: #729c1f; text-decoration-color: #729c1f\">━━━━━━━━━━━━━━━━━━━━━━━━━━━━━━━━━━━━━━━━━━━━━━━━━</span> <span style=\"color: #000080; text-decoration-color: #000080; font-weight: bold\">632/632</span> [ <span style=\"color: #808000; text-decoration-color: #808000\">1:15:10</span> &lt; <span style=\"color: #008080; text-decoration-color: #008080\">0:00:00</span> | <span style=\"color: #800000; text-decoration-color: #800000\">?  </span> <span style=\"color: #800000; text-decoration-color: #800000\">merges/s</span> ]\n",
       "</pre>\n"
      ],
      "text/plain": [
       "     \u001b[1;34mProcessing\u001b[0m \u001b[35m100%\u001b[0m \u001b[38;2;114;156;31m━━━━━━━━━━━━━━━━━━━━━━━━━━━━━━━━━━━━━━━━━━━━━━━━━\u001b[0m \u001b[1;34m632/632\u001b[0m [ \u001b[33m1:15:08\u001b[0m < \u001b[36m0:00:00\u001b[0m | \u001b[31m0.1\u001b[0m  \u001b[31mchunk/s\u001b[0m ]\n",
       "\u001b[1;34mMerging (local)\u001b[0m \u001b[35m100%\u001b[0m \u001b[38;2;114;156;31m━━━━━━━━━━━━━━━━━━━━━━━━━━━━━━━━━━━━━━━━━━━━━━━━━\u001b[0m \u001b[1;34m632/632\u001b[0m [ \u001b[33m1:15:10\u001b[0m < \u001b[36m0:00:00\u001b[0m | \u001b[31m?  \u001b[0m \u001b[31mmerges/s\u001b[0m ]\n"
      ]
     },
     "metadata": {},
     "output_type": "display_data"
    },
    {
     "data": {
      "text/html": [
       "<pre style=\"white-space:pre;overflow-x:auto;line-height:normal;font-family:Menlo,'DejaVu Sans Mono',consolas,'Courier New',monospace\"></pre>\n"
      ],
      "text/plain": []
     },
     "metadata": {},
     "output_type": "display_data"
    },
    {
     "data": {
      "text/html": [
       "<pre style=\"white-space:pre;overflow-x:auto;line-height:normal;font-family:Menlo,'DejaVu Sans Mono',consolas,'Courier New',monospace\">\n",
       "</pre>\n"
      ],
      "text/plain": [
       "\n"
      ]
     },
     "metadata": {},
     "output_type": "display_data"
    },
    {
     "name": "stdout",
     "output_type": "stream",
     "text": [
      "76.8114201227824\n"
     ]
    }
   ],
   "source": [
    "test = Analyzer(samp_file,hist_file,cut_file)\n",
    "t1 = time.time()\n",
    "out = test.process(execr='futures',gen=True)\n",
    "#out = test.process(execr='dask',dask_client=client)\n",
    "t2 = time.time()\n",
    "print((t2-t1)/60)\n",
    "del test\n",
    "\n",
    "util.save(out,'genMET.coffea')\n",
    "del out"
   ]
  },
  {
   "cell_type": "code",
   "execution_count": 4,
   "id": "75f916b6-c9c7-4a9f-96c9-3ffdc768add5",
   "metadata": {},
   "outputs": [],
   "source": [
    "util.save(out,'genMET.coffea')"
   ]
  },
  {
   "cell_type": "code",
   "execution_count": 5,
   "id": "a58a6aa2-26e0-4ecc-b604-a5942a4f4d40",
   "metadata": {},
   "outputs": [],
   "source": [
    "del out"
   ]
  },
  {
   "cell_type": "markdown",
   "id": "3ac94e34-31d4-4bbb-8da9-d5ac19630369",
   "metadata": {
    "tags": []
   },
   "source": [
    "## Run over skimmed"
   ]
  },
  {
   "cell_type": "code",
   "execution_count": 2,
   "id": "8560daa1-82a2-4ed9-ac9a-74349b2ea853",
   "metadata": {},
   "outputs": [],
   "source": [
    "cut_file = \"cuts.py\"\n",
    "hist_file = \"histos.py\"\n",
    "samp_file = \"../configs/sample_configs/skimmed_signal/skimmed_signal_v3_2018_aEM.json\""
   ]
  },
  {
   "cell_type": "code",
   "execution_count": null,
   "id": "7c10324f-22b1-493a-a5c6-a12856509ccd",
   "metadata": {},
   "outputs": [
    {
     "data": {
      "text/html": [
       "<pre style=\"white-space:pre;overflow-x:auto;line-height:normal;font-family:Menlo,'DejaVu Sans Mono',consolas,'Courier New',monospace\">     <span style=\"color: #000080; text-decoration-color: #000080; font-weight: bold\">Processing</span> <span style=\"color: #800080; text-decoration-color: #800080\"> 55%</span> <span style=\"color: #f92672; text-decoration-color: #f92672\">━━━━━━━━━━━━━━━━━━━━━━━━━━━━</span><span style=\"color: #3a3a3a; text-decoration-color: #3a3a3a\">╺━━━━━━━━━━━━━━━━━━━━━━</span> <span style=\"color: #000080; text-decoration-color: #000080; font-weight: bold\">36/65</span> [ <span style=\"color: #808000; text-decoration-color: #808000\">0:01:05</span> &lt; <span style=\"color: #008080; text-decoration-color: #008080\">0:00:32</span> | <span style=\"color: #800000; text-decoration-color: #800000\">0.9</span>  <span style=\"color: #800000; text-decoration-color: #800000\">chunk/s</span> ]\n",
       "<span style=\"color: #000080; text-decoration-color: #000080; font-weight: bold\">Merging (local)</span> <span style=\"color: #800080; text-decoration-color: #800080\">100%</span> <span style=\"color: #729c1f; text-decoration-color: #729c1f\">━━━━━━━━━━━━━━━━━━━━━━━━━━━━━━━━━━━━━━━━━━━━━━━━━━━</span> <span style=\"color: #000080; text-decoration-color: #000080; font-weight: bold\">36/36</span> [ <span style=\"color: #808000; text-decoration-color: #808000\">0:01:03</span> &lt; <span style=\"color: #008080; text-decoration-color: #008080\">0:00:00</span> | <span style=\"color: #800000; text-decoration-color: #800000\">?  </span> <span style=\"color: #800000; text-decoration-color: #800000\">merges/s</span> ]\n",
       "</pre>\n"
      ],
      "text/plain": [
       "     \u001b[1;34mProcessing\u001b[0m \u001b[35m 55%\u001b[0m \u001b[38;2;249;38;114m━━━━━━━━━━━━━━━━━━━━━━━━━━━━\u001b[0m\u001b[38;5;237m╺\u001b[0m\u001b[38;5;237m━━━━━━━━━━━━━━━━━━━━━━\u001b[0m \u001b[1;34m36/65\u001b[0m [ \u001b[33m0:01:05\u001b[0m < \u001b[36m0:00:32\u001b[0m | \u001b[31m0.9\u001b[0m  \u001b[31mchunk/s\u001b[0m ]\n",
       "\u001b[1;34mMerging (local)\u001b[0m \u001b[35m100%\u001b[0m \u001b[38;2;114;156;31m━━━━━━━━━━━━━━━━━━━━━━━━━━━━━━━━━━━━━━━━━━━━━━━━━━━\u001b[0m \u001b[1;34m36/36\u001b[0m [ \u001b[33m0:01:03\u001b[0m < \u001b[36m0:00:00\u001b[0m | \u001b[31m?  \u001b[0m \u001b[31mmerges/s\u001b[0m ]\n"
      ]
     },
     "metadata": {},
     "output_type": "display_data"
    }
   ],
   "source": [
    "test = Analyzer(samp_file,hist_file,cut_file)\n",
    "t1 = time.time()\n",
    "out = test.process(execr='futures',gen=True)\n",
    "#out = test.process(execr='dask',dask_client=client)\n",
    "t2 = time.time()\n",
    "print((t2-t1)/60)\n",
    "del test"
   ]
  },
  {
   "cell_type": "code",
   "execution_count": null,
   "id": "90732378-690b-4bd9-9aa9-00aaf7d7973a",
   "metadata": {},
   "outputs": [],
   "source": [
    "util.save(out,'plots_postSkim.coffea')"
   ]
  },
  {
   "cell_type": "code",
   "execution_count": null,
   "id": "486ebf7e-d78e-4a30-a9a1-2ecbe7338df0",
   "metadata": {},
   "outputs": [],
   "source": [
    "del out"
   ]
  }
 ],
 "metadata": {
  "kernelspec": {
   "display_name": "Python [conda env:coffea2]",
   "language": "python",
   "name": "conda-env-coffea2-py"
  },
  "language_info": {
   "codemirror_mode": {
    "name": "ipython",
    "version": 3
   },
   "file_extension": ".py",
   "mimetype": "text/x-python",
   "name": "python",
   "nbconvert_exporter": "python",
   "pygments_lexer": "ipython3",
   "version": "3.8.17"
  }
 },
 "nbformat": 4,
 "nbformat_minor": 5
}
